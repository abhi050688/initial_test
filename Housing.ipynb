{
 "cells": [
  {
   "cell_type": "code",
   "execution_count": 27,
   "metadata": {},
   "outputs": [],
   "source": [
    "import tensorflow as tf\n",
    "import pandas as pd\n",
    "import numpy as np\n",
    "import os\n",
    "from sklearn.preprocessing import MinMaxScaler\n",
    "from sklearn.model_selection import train_test_split\n",
    "from sklearn.metrics import r2_score"
   ]
  },
  {
   "cell_type": "code",
   "execution_count": 2,
   "metadata": {},
   "outputs": [],
   "source": [
    "import matplotlib.pyplot as plt\n",
    "%matplotlib inline"
   ]
  },
  {
   "cell_type": "code",
   "execution_count": null,
   "metadata": {},
   "outputs": [],
   "source": []
  },
  {
   "cell_type": "code",
   "execution_count": 3,
   "metadata": {},
   "outputs": [
    {
     "data": {
      "text/plain": [
       "'/Users/abhisheksahu'"
      ]
     },
     "execution_count": 3,
     "metadata": {},
     "output_type": "execute_result"
    }
   ],
   "source": [
    "os.getcwd()"
   ]
  },
  {
   "cell_type": "code",
   "execution_count": 4,
   "metadata": {},
   "outputs": [],
   "source": [
    "os.chdir(\"/Users/abhisheksahu/Documents/Datasets/Housing\")"
   ]
  },
  {
   "cell_type": "code",
   "execution_count": 5,
   "metadata": {},
   "outputs": [],
   "source": [
    "housing=pd.read_csv(\"cal_housing_clean.csv\")"
   ]
  },
  {
   "cell_type": "code",
   "execution_count": 6,
   "metadata": {},
   "outputs": [
    {
     "name": "stdout",
     "output_type": "stream",
     "text": [
      "<class 'pandas.core.frame.DataFrame'>\n",
      "RangeIndex: 20640 entries, 0 to 20639\n",
      "Data columns (total 7 columns):\n",
      "housingMedianAge    20640 non-null float64\n",
      "totalRooms          20640 non-null float64\n",
      "totalBedrooms       20640 non-null float64\n",
      "population          20640 non-null float64\n",
      "households          20640 non-null float64\n",
      "medianIncome        20640 non-null float64\n",
      "medianHouseValue    20640 non-null float64\n",
      "dtypes: float64(7)\n",
      "memory usage: 1.1 MB\n",
      "None\n"
     ]
    }
   ],
   "source": [
    "print(housing.info())"
   ]
  },
  {
   "cell_type": "code",
   "execution_count": 7,
   "metadata": {},
   "outputs": [
    {
     "data": {
      "text/html": [
       "<div>\n",
       "<style scoped>\n",
       "    .dataframe tbody tr th:only-of-type {\n",
       "        vertical-align: middle;\n",
       "    }\n",
       "\n",
       "    .dataframe tbody tr th {\n",
       "        vertical-align: top;\n",
       "    }\n",
       "\n",
       "    .dataframe thead th {\n",
       "        text-align: right;\n",
       "    }\n",
       "</style>\n",
       "<table border=\"1\" class=\"dataframe\">\n",
       "  <thead>\n",
       "    <tr style=\"text-align: right;\">\n",
       "      <th></th>\n",
       "      <th>housingMedianAge</th>\n",
       "      <th>totalRooms</th>\n",
       "      <th>totalBedrooms</th>\n",
       "      <th>population</th>\n",
       "      <th>households</th>\n",
       "      <th>medianIncome</th>\n",
       "      <th>medianHouseValue</th>\n",
       "    </tr>\n",
       "  </thead>\n",
       "  <tbody>\n",
       "    <tr>\n",
       "      <th>0</th>\n",
       "      <td>41.0</td>\n",
       "      <td>880.0</td>\n",
       "      <td>129.0</td>\n",
       "      <td>322.0</td>\n",
       "      <td>126.0</td>\n",
       "      <td>8.3252</td>\n",
       "      <td>452600.0</td>\n",
       "    </tr>\n",
       "    <tr>\n",
       "      <th>1</th>\n",
       "      <td>21.0</td>\n",
       "      <td>7099.0</td>\n",
       "      <td>1106.0</td>\n",
       "      <td>2401.0</td>\n",
       "      <td>1138.0</td>\n",
       "      <td>8.3014</td>\n",
       "      <td>358500.0</td>\n",
       "    </tr>\n",
       "    <tr>\n",
       "      <th>2</th>\n",
       "      <td>52.0</td>\n",
       "      <td>1467.0</td>\n",
       "      <td>190.0</td>\n",
       "      <td>496.0</td>\n",
       "      <td>177.0</td>\n",
       "      <td>7.2574</td>\n",
       "      <td>352100.0</td>\n",
       "    </tr>\n",
       "    <tr>\n",
       "      <th>3</th>\n",
       "      <td>52.0</td>\n",
       "      <td>1274.0</td>\n",
       "      <td>235.0</td>\n",
       "      <td>558.0</td>\n",
       "      <td>219.0</td>\n",
       "      <td>5.6431</td>\n",
       "      <td>341300.0</td>\n",
       "    </tr>\n",
       "    <tr>\n",
       "      <th>4</th>\n",
       "      <td>52.0</td>\n",
       "      <td>1627.0</td>\n",
       "      <td>280.0</td>\n",
       "      <td>565.0</td>\n",
       "      <td>259.0</td>\n",
       "      <td>3.8462</td>\n",
       "      <td>342200.0</td>\n",
       "    </tr>\n",
       "  </tbody>\n",
       "</table>\n",
       "</div>"
      ],
      "text/plain": [
       "   housingMedianAge  totalRooms  totalBedrooms  population  households  \\\n",
       "0              41.0       880.0          129.0       322.0       126.0   \n",
       "1              21.0      7099.0         1106.0      2401.0      1138.0   \n",
       "2              52.0      1467.0          190.0       496.0       177.0   \n",
       "3              52.0      1274.0          235.0       558.0       219.0   \n",
       "4              52.0      1627.0          280.0       565.0       259.0   \n",
       "\n",
       "   medianIncome  medianHouseValue  \n",
       "0        8.3252          452600.0  \n",
       "1        8.3014          358500.0  \n",
       "2        7.2574          352100.0  \n",
       "3        5.6431          341300.0  \n",
       "4        3.8462          342200.0  "
      ]
     },
     "execution_count": 7,
     "metadata": {},
     "output_type": "execute_result"
    }
   ],
   "source": [
    "housing.head()"
   ]
  },
  {
   "cell_type": "code",
   "execution_count": 8,
   "metadata": {},
   "outputs": [],
   "source": [
    "y=housing[['medianHouseValue']]\n",
    "x=housing.drop('medianHouseValue',axis=1)"
   ]
  },
  {
   "cell_type": "code",
   "execution_count": 9,
   "metadata": {},
   "outputs": [
    {
     "data": {
      "text/plain": [
       "Index(['housingMedianAge', 'totalRooms', 'totalBedrooms', 'population',\n",
       "       'households', 'medianIncome'],\n",
       "      dtype='object')"
      ]
     },
     "execution_count": 9,
     "metadata": {},
     "output_type": "execute_result"
    }
   ],
   "source": [
    "housing.columns[:housing.shape[1]-1]"
   ]
  },
  {
   "cell_type": "code",
   "execution_count": 10,
   "metadata": {},
   "outputs": [],
   "source": [
    "train_x,test_x,train_y,test_y=train_test_split(x,y,test_size=0.3,random_state=1002)\n",
    "mm=MinMaxScaler()\n",
    "mm.fit(train_x)\n",
    "tr_x=mm.fit_transform(train_x)\n",
    "tst_x=mm.fit_transform(test_x)\n",
    "tr_x=pd.DataFrame(data=tr_x,index=None,columns=housing.columns[:housing.shape[1]-1])\n",
    "tst_x=pd.DataFrame(data=tst_x,index=None,columns=housing.columns[:housing.shape[1]-1])\n",
    "tr_y=pd.DataFrame(data=train_y,index=None,columns=[housing.columns[-1]])\n",
    "tr_y.reset_index(inplace=True,drop=True)\n",
    "tst_y=pd.DataFrame(data=test_y,index=None,columns=[housing.columns[-1]])\n",
    "tst_y.reset_index(inplace=True,drop=True)"
   ]
  },
  {
   "cell_type": "code",
   "execution_count": 11,
   "metadata": {},
   "outputs": [
    {
     "name": "stdout",
     "output_type": "stream",
     "text": [
      "   housingMedianAge  totalRooms  totalBedrooms  population  households  \\\n",
      "0          0.509804    0.244708       0.251397    0.031727    0.067259   \n",
      "1          0.490196    0.046738       0.045624    0.028056    0.052952   \n",
      "2          0.176471    0.009569       0.015673    0.003840    0.007893   \n",
      "3          0.156863    0.149809       0.223619    0.105664    0.205394   \n",
      "4          0.372549    0.002452       0.001862    0.000785    0.002302   \n",
      "\n",
      "   medianIncome  \n",
      "0      0.141012  \n",
      "1      0.350657  \n",
      "2      0.089447  \n",
      "3      0.175356  \n",
      "4      0.134102  \n",
      "   medianHouseValue\n",
      "0          135200.0\n",
      "1          251700.0\n",
      "2           37500.0\n",
      "3          129900.0\n",
      "4          475000.0\n"
     ]
    }
   ],
   "source": [
    "print(tr_x.head())\n",
    "print(tr_y.head())"
   ]
  },
  {
   "cell_type": "code",
   "execution_count": 12,
   "metadata": {},
   "outputs": [
    {
     "data": {
      "text/html": [
       "<div>\n",
       "<style scoped>\n",
       "    .dataframe tbody tr th:only-of-type {\n",
       "        vertical-align: middle;\n",
       "    }\n",
       "\n",
       "    .dataframe tbody tr th {\n",
       "        vertical-align: top;\n",
       "    }\n",
       "\n",
       "    .dataframe thead th {\n",
       "        text-align: right;\n",
       "    }\n",
       "</style>\n",
       "<table border=\"1\" class=\"dataframe\">\n",
       "  <thead>\n",
       "    <tr style=\"text-align: right;\">\n",
       "      <th></th>\n",
       "      <th>housingMedianAge</th>\n",
       "      <th>totalRooms</th>\n",
       "      <th>totalBedrooms</th>\n",
       "      <th>population</th>\n",
       "      <th>households</th>\n",
       "      <th>medianIncome</th>\n",
       "    </tr>\n",
       "  </thead>\n",
       "  <tbody>\n",
       "    <tr>\n",
       "      <th>count</th>\n",
       "      <td>14448.000000</td>\n",
       "      <td>14448.000000</td>\n",
       "      <td>14448.000000</td>\n",
       "      <td>14448.000000</td>\n",
       "      <td>14448.000000</td>\n",
       "      <td>14448.000000</td>\n",
       "    </tr>\n",
       "    <tr>\n",
       "      <th>mean</th>\n",
       "      <td>0.540832</td>\n",
       "      <td>0.069227</td>\n",
       "      <td>0.083124</td>\n",
       "      <td>0.039760</td>\n",
       "      <td>0.081741</td>\n",
       "      <td>0.232808</td>\n",
       "    </tr>\n",
       "    <tr>\n",
       "      <th>std</th>\n",
       "      <td>0.247042</td>\n",
       "      <td>0.057391</td>\n",
       "      <td>0.065588</td>\n",
       "      <td>0.032011</td>\n",
       "      <td>0.062850</td>\n",
       "      <td>0.131305</td>\n",
       "    </tr>\n",
       "    <tr>\n",
       "      <th>min</th>\n",
       "      <td>0.000000</td>\n",
       "      <td>0.000000</td>\n",
       "      <td>0.000000</td>\n",
       "      <td>0.000000</td>\n",
       "      <td>0.000000</td>\n",
       "      <td>0.000000</td>\n",
       "    </tr>\n",
       "    <tr>\n",
       "      <th>25%</th>\n",
       "      <td>0.333333</td>\n",
       "      <td>0.038012</td>\n",
       "      <td>0.045469</td>\n",
       "      <td>0.021834</td>\n",
       "      <td>0.045552</td>\n",
       "      <td>0.142615</td>\n",
       "    </tr>\n",
       "    <tr>\n",
       "      <th>50%</th>\n",
       "      <td>0.549020</td>\n",
       "      <td>0.055806</td>\n",
       "      <td>0.067194</td>\n",
       "      <td>0.032484</td>\n",
       "      <td>0.066930</td>\n",
       "      <td>0.210218</td>\n",
       "    </tr>\n",
       "    <tr>\n",
       "      <th>75%</th>\n",
       "      <td>0.705882</td>\n",
       "      <td>0.082641</td>\n",
       "      <td>0.100093</td>\n",
       "      <td>0.048271</td>\n",
       "      <td>0.098997</td>\n",
       "      <td>0.293448</td>\n",
       "    </tr>\n",
       "    <tr>\n",
       "      <th>max</th>\n",
       "      <td>1.000000</td>\n",
       "      <td>1.000000</td>\n",
       "      <td>1.000000</td>\n",
       "      <td>1.000000</td>\n",
       "      <td>1.000000</td>\n",
       "      <td>1.000000</td>\n",
       "    </tr>\n",
       "  </tbody>\n",
       "</table>\n",
       "</div>"
      ],
      "text/plain": [
       "       housingMedianAge    totalRooms  totalBedrooms    population  \\\n",
       "count      14448.000000  14448.000000   14448.000000  14448.000000   \n",
       "mean           0.540832      0.069227       0.083124      0.039760   \n",
       "std            0.247042      0.057391       0.065588      0.032011   \n",
       "min            0.000000      0.000000       0.000000      0.000000   \n",
       "25%            0.333333      0.038012       0.045469      0.021834   \n",
       "50%            0.549020      0.055806       0.067194      0.032484   \n",
       "75%            0.705882      0.082641       0.100093      0.048271   \n",
       "max            1.000000      1.000000       1.000000      1.000000   \n",
       "\n",
       "         households  medianIncome  \n",
       "count  14448.000000  14448.000000  \n",
       "mean       0.081741      0.232808  \n",
       "std        0.062850      0.131305  \n",
       "min        0.000000      0.000000  \n",
       "25%        0.045552      0.142615  \n",
       "50%        0.066930      0.210218  \n",
       "75%        0.098997      0.293448  \n",
       "max        1.000000      1.000000  "
      ]
     },
     "execution_count": 12,
     "metadata": {},
     "output_type": "execute_result"
    }
   ],
   "source": [
    "tr_x.describe()"
   ]
  },
  {
   "cell_type": "code",
   "execution_count": 13,
   "metadata": {},
   "outputs": [
    {
     "data": {
      "text/plain": [
       "<matplotlib.axes._subplots.AxesSubplot at 0x1a2200c208>"
      ]
     },
     "execution_count": 13,
     "metadata": {},
     "output_type": "execute_result"
    },
    {
     "data": {
      "image/png": "[encoded data removed]",
      "text/plain": [
       "<Figure size 432x288 with 1 Axes>"
      ]
     },
     "metadata": {},
     "output_type": "display_data"
    }
   ],
   "source": [
    "tr_x.plot(kind='density',y='housingMedianAge')"
   ]
  },
  {
   "cell_type": "code",
   "execution_count": 14,
   "metadata": {},
   "outputs": [
    {
     "data": {
      "text/plain": [
       "<matplotlib.axes._subplots.AxesSubplot at 0x1a2e8c1c50>"
      ]
     },
     "execution_count": 14,
     "metadata": {},
     "output_type": "execute_result"
    },
    {
     "data": {
      "image/png": "[encoded data removed]",
      "text/plain": [
       "<Figure size 432x288 with 1 Axes>"
      ]
     },
     "metadata": {},
     "output_type": "display_data"
    }
   ],
   "source": [
    "tr_x.plot(kind=\"hist\",y='totalRooms')"
   ]
  },
  {
   "cell_type": "code",
   "execution_count": 15,
   "metadata": {},
   "outputs": [
    {
     "data": {
      "text/plain": [
       "<matplotlib.axes._subplots.AxesSubplot at 0x1a2e8959b0>"
      ]
     },
     "execution_count": 15,
     "metadata": {},
     "output_type": "execute_result"
    },
    {
     "data": {
      "image/png": "[encoded data removed]",
      "text/plain": [
       "<Figure size 432x288 with 1 Axes>"
      ]
     },
     "metadata": {},
     "output_type": "display_data"
    }
   ],
   "source": [
    "tr_x.plot(kind='density',y='medianIncome')"
   ]
  },
  {
   "cell_type": "code",
   "execution_count": 16,
   "metadata": {},
   "outputs": [],
   "source": [
    "tf.reset_default_graph()"
   ]
  },
  {
   "cell_type": "code",
   "execution_count": 17,
   "metadata": {},
   "outputs": [],
   "source": [
    "my_features=[]\n",
    "for feat in tr_x.columns:\n",
    "    my_features.append(tf.feature_column.numeric_column(feat))\n"
   ]
  },
  {
   "cell_type": "code",
   "execution_count": 40,
   "metadata": {},
   "outputs": [],
   "source": [
    "train_input_fn=tf.estimator.inputs.pandas_input_fn(x=tr_x,y=tr_y.medianHouseValue,batch_size=128,shuffle=True,num_epochs=1000)\n",
    "test_input_fn=tf.estimator.inputs.pandas_input_fn(x=tst_x,y=tst_y.medianHouseValue,batch_size=128,num_epochs=1,shuffle=False)"
   ]
  },
  {
   "cell_type": "code",
   "execution_count": 41,
   "metadata": {},
   "outputs": [
    {
     "name": "stdout",
     "output_type": "stream",
     "text": [
      "   housingMedianAge  totalRooms  totalBedrooms  population  households  \\\n",
      "0          0.509804    0.244708       0.251397    0.031727    0.067259   \n",
      "1          0.490196    0.046738       0.045624    0.028056    0.052952   \n",
      "2          0.176471    0.009569       0.015673    0.003840    0.007893   \n",
      "3          0.156863    0.149809       0.223619    0.105664    0.205394   \n",
      "4          0.372549    0.002452       0.001862    0.000785    0.002302   \n",
      "\n",
      "   medianIncome  \n",
      "0      0.141012  \n",
      "1      0.350657  \n",
      "2      0.089447  \n",
      "3      0.175356  \n",
      "4      0.134102  \n",
      "   medianHouseValue\n",
      "0          135200.0\n",
      "1          251700.0\n",
      "2           37500.0\n",
      "3          129900.0\n",
      "4          475000.0\n",
      "Total records in x 14448 and in y 14448\n"
     ]
    }
   ],
   "source": [
    "print(tr_x.head())\n",
    "print(tr_y.head())\n",
    "print(\"Total records in x {} and in y {}\".format(tr_x.shape[0],tr_y.shape[0]))"
   ]
  },
  {
   "cell_type": "code",
   "execution_count": 42,
   "metadata": {},
   "outputs": [
    {
     "name": "stdout",
     "output_type": "stream",
     "text": [
      "INFO:tensorflow:Using default config.\n",
      "INFO:tensorflow:Using config: {'_model_dir': '.', '_tf_random_seed': None, '_save_summary_steps': 100, '_save_checkpoints_steps': None, '_save_checkpoints_secs': 600, '_session_config': None, '_keep_checkpoint_max': 5, '_keep_checkpoint_every_n_hours': 10000, '_log_step_count_steps': 100, '_train_distribute': None, '_device_fn': None, '_service': None, '_cluster_spec': <tensorflow.python.training.server_lib.ClusterSpec object at 0x1a2f52eeb8>, '_task_type': 'worker', '_task_id': 0, '_global_id_in_cluster': 0, '_master': '', '_evaluation_master': '', '_is_chief': True, '_num_ps_replicas': 0, '_num_worker_replicas': 1}\n"
     ]
    }
   ],
   "source": [
    "model=tf.estimator.LinearRegressor(my_features,model_dir=\".\")"
   ]
  },
  {
   "cell_type": "code",
   "execution_count": 43,
   "metadata": {},
   "outputs": [
    {
     "name": "stdout",
     "output_type": "stream",
     "text": [
      "INFO:tensorflow:Calling model_fn.\n",
      "INFO:tensorflow:Done calling model_fn.\n",
      "INFO:tensorflow:Create CheckpointSaverHook.\n",
      "INFO:tensorflow:Graph was finalized.\n",
      "INFO:tensorflow:Running local_init_op.\n",
      "INFO:tensorflow:Done running local_init_op.\n",
      "INFO:tensorflow:Saving checkpoints for 0 into ./model.ckpt.\n",
      "INFO:tensorflow:loss = 7139392000000.0, step = 1\n",
      "INFO:tensorflow:global_step/sec: 412.819\n",
      "INFO:tensorflow:loss = 7692214000000.0, step = 101 (0.244 sec)\n",
      "INFO:tensorflow:global_step/sec: 408.153\n",
      "INFO:tensorflow:loss = 6694465700000.0, step = 201 (0.246 sec)\n",
      "INFO:tensorflow:global_step/sec: 496.322\n",
      "INFO:tensorflow:loss = 5880601000000.0, step = 301 (0.202 sec)\n",
      "INFO:tensorflow:global_step/sec: 509.331\n",
      "INFO:tensorflow:loss = 6768721700000.0, step = 401 (0.197 sec)\n",
      "INFO:tensorflow:global_step/sec: 535.477\n",
      "INFO:tensorflow:loss = 8079650300000.0, step = 501 (0.187 sec)\n",
      "INFO:tensorflow:global_step/sec: 526.291\n",
      "INFO:tensorflow:loss = 6730884000000.0, step = 601 (0.190 sec)\n",
      "INFO:tensorflow:global_step/sec: 536.311\n",
      "INFO:tensorflow:loss = 7492654000000.0, step = 701 (0.186 sec)\n",
      "INFO:tensorflow:global_step/sec: 430.291\n",
      "INFO:tensorflow:loss = 8021855000000.0, step = 801 (0.231 sec)\n",
      "INFO:tensorflow:global_step/sec: 539.351\n",
      "INFO:tensorflow:loss = 7473031300000.0, step = 901 (0.186 sec)\n",
      "INFO:tensorflow:global_step/sec: 485.996\n",
      "INFO:tensorflow:loss = 8590938000000.0, step = 1001 (0.205 sec)\n",
      "INFO:tensorflow:global_step/sec: 490.201\n",
      "INFO:tensorflow:loss = 8385913000000.0, step = 1101 (0.205 sec)\n",
      "INFO:tensorflow:global_step/sec: 526.498\n",
      "INFO:tensorflow:loss = 8138344400000.0, step = 1201 (0.190 sec)\n",
      "INFO:tensorflow:global_step/sec: 528.978\n",
      "INFO:tensorflow:loss = 8146255000000.0, step = 1301 (0.188 sec)\n",
      "INFO:tensorflow:global_step/sec: 480.268\n",
      "INFO:tensorflow:loss = 7840909500000.0, step = 1401 (0.209 sec)\n",
      "INFO:tensorflow:global_step/sec: 489.024\n",
      "INFO:tensorflow:loss = 6813067500000.0, step = 1501 (0.202 sec)\n",
      "INFO:tensorflow:global_step/sec: 521.111\n",
      "INFO:tensorflow:loss = 8103073400000.0, step = 1601 (0.193 sec)\n",
      "INFO:tensorflow:global_step/sec: 404.711\n",
      "INFO:tensorflow:loss = 8063774400000.0, step = 1701 (0.247 sec)\n",
      "INFO:tensorflow:global_step/sec: 425.833\n",
      "INFO:tensorflow:loss = 8541614600000.0, step = 1801 (0.236 sec)\n",
      "INFO:tensorflow:global_step/sec: 459.931\n",
      "INFO:tensorflow:loss = 6887282000000.0, step = 1901 (0.218 sec)\n",
      "INFO:tensorflow:global_step/sec: 439.126\n",
      "INFO:tensorflow:loss = 7784290600000.0, step = 2001 (0.225 sec)\n",
      "INFO:tensorflow:global_step/sec: 369.452\n",
      "INFO:tensorflow:loss = 6375105600000.0, step = 2101 (0.273 sec)\n",
      "INFO:tensorflow:global_step/sec: 393.864\n",
      "INFO:tensorflow:loss = 7303569300000.0, step = 2201 (0.253 sec)\n",
      "INFO:tensorflow:global_step/sec: 435.94\n",
      "INFO:tensorflow:loss = 7940609000000.0, step = 2301 (0.229 sec)\n",
      "INFO:tensorflow:global_step/sec: 523.454\n",
      "INFO:tensorflow:loss = 8250184000000.0, step = 2401 (0.191 sec)\n",
      "INFO:tensorflow:global_step/sec: 521.92\n",
      "INFO:tensorflow:loss = 7867351400000.0, step = 2501 (0.193 sec)\n",
      "INFO:tensorflow:global_step/sec: 494.071\n",
      "INFO:tensorflow:loss = 7515239600000.0, step = 2601 (0.202 sec)\n",
      "INFO:tensorflow:global_step/sec: 512.275\n",
      "INFO:tensorflow:loss = 7763504700000.0, step = 2701 (0.196 sec)\n",
      "INFO:tensorflow:global_step/sec: 509.445\n",
      "INFO:tensorflow:loss = 6722358000000.0, step = 2801 (0.193 sec)\n",
      "INFO:tensorflow:global_step/sec: 544.624\n",
      "INFO:tensorflow:loss = 7066845400000.0, step = 2901 (0.184 sec)\n",
      "INFO:tensorflow:global_step/sec: 405.951\n",
      "INFO:tensorflow:loss = 6900202600000.0, step = 3001 (0.247 sec)\n",
      "INFO:tensorflow:global_step/sec: 411.736\n",
      "INFO:tensorflow:loss = 6719331000000.0, step = 3101 (0.245 sec)\n",
      "INFO:tensorflow:global_step/sec: 366.42\n",
      "INFO:tensorflow:loss = 6508194000000.0, step = 3201 (0.270 sec)\n",
      "INFO:tensorflow:global_step/sec: 444.342\n",
      "INFO:tensorflow:loss = 6634295300000.0, step = 3301 (0.225 sec)\n",
      "INFO:tensorflow:global_step/sec: 493.532\n",
      "INFO:tensorflow:loss = 7105014000000.0, step = 3401 (0.202 sec)\n",
      "INFO:tensorflow:global_step/sec: 408.172\n",
      "INFO:tensorflow:loss = 7557463700000.0, step = 3501 (0.246 sec)\n",
      "INFO:tensorflow:global_step/sec: 426.807\n",
      "INFO:tensorflow:loss = 7503987300000.0, step = 3601 (0.235 sec)\n",
      "INFO:tensorflow:global_step/sec: 354.536\n",
      "INFO:tensorflow:loss = 6715174000000.0, step = 3701 (0.281 sec)\n",
      "INFO:tensorflow:global_step/sec: 434.241\n",
      "INFO:tensorflow:loss = 7426440000000.0, step = 3801 (0.230 sec)\n",
      "INFO:tensorflow:global_step/sec: 541.25\n",
      "INFO:tensorflow:loss = 7341006000000.0, step = 3901 (0.185 sec)\n",
      "INFO:tensorflow:global_step/sec: 515.675\n",
      "INFO:tensorflow:loss = 7824694300000.0, step = 4001 (0.193 sec)\n",
      "INFO:tensorflow:global_step/sec: 535.251\n",
      "INFO:tensorflow:loss = 6940088300000.0, step = 4101 (0.187 sec)\n",
      "INFO:tensorflow:global_step/sec: 475.685\n",
      "INFO:tensorflow:loss = 8410511000000.0, step = 4201 (0.213 sec)\n",
      "INFO:tensorflow:global_step/sec: 468.88\n",
      "INFO:tensorflow:loss = 7556440000000.0, step = 4301 (0.211 sec)\n",
      "INFO:tensorflow:global_step/sec: 521.091\n",
      "INFO:tensorflow:loss = 6459122000000.0, step = 4401 (0.191 sec)\n",
      "INFO:tensorflow:global_step/sec: 514.39\n",
      "INFO:tensorflow:loss = 8051183600000.0, step = 4501 (0.195 sec)\n",
      "INFO:tensorflow:global_step/sec: 469.715\n",
      "INFO:tensorflow:loss = 6868175000000.0, step = 4601 (0.212 sec)\n",
      "INFO:tensorflow:global_step/sec: 516.983\n",
      "INFO:tensorflow:loss = 7634090500000.0, step = 4701 (0.194 sec)\n",
      "INFO:tensorflow:global_step/sec: 547.381\n",
      "INFO:tensorflow:loss = 7549492400000.0, step = 4801 (0.183 sec)\n",
      "INFO:tensorflow:global_step/sec: 515.759\n",
      "INFO:tensorflow:loss = 6852486600000.0, step = 4901 (0.194 sec)\n",
      "INFO:tensorflow:global_step/sec: 437.137\n",
      "INFO:tensorflow:loss = 7769891000000.0, step = 5001 (0.229 sec)\n",
      "INFO:tensorflow:global_step/sec: 551.357\n",
      "INFO:tensorflow:loss = 7225508600000.0, step = 5101 (0.182 sec)\n",
      "INFO:tensorflow:global_step/sec: 542.27\n",
      "INFO:tensorflow:loss = 5591799000000.0, step = 5201 (0.183 sec)\n",
      "INFO:tensorflow:global_step/sec: 520.866\n",
      "INFO:tensorflow:loss = 6376559500000.0, step = 5301 (0.192 sec)\n",
      "INFO:tensorflow:global_step/sec: 470.186\n",
      "INFO:tensorflow:loss = 6443904300000.0, step = 5401 (0.214 sec)\n",
      "INFO:tensorflow:global_step/sec: 515.791\n",
      "INFO:tensorflow:loss = 6932795500000.0, step = 5501 (0.194 sec)\n",
      "INFO:tensorflow:global_step/sec: 419.861\n",
      "INFO:tensorflow:loss = 6200641500000.0, step = 5601 (0.236 sec)\n",
      "INFO:tensorflow:global_step/sec: 408.694\n",
      "INFO:tensorflow:loss = 7600539000000.0, step = 5701 (0.245 sec)\n",
      "INFO:tensorflow:global_step/sec: 453.548\n",
      "INFO:tensorflow:loss = 7202614000000.0, step = 5801 (0.220 sec)\n",
      "INFO:tensorflow:global_step/sec: 452.36\n",
      "INFO:tensorflow:loss = 8005128000000.0, step = 5901 (0.225 sec)\n",
      "INFO:tensorflow:global_step/sec: 491.657\n",
      "INFO:tensorflow:loss = 7942482000000.0, step = 6001 (0.201 sec)\n",
      "INFO:tensorflow:global_step/sec: 531.839\n",
      "INFO:tensorflow:loss = 6118607700000.0, step = 6101 (0.188 sec)\n",
      "INFO:tensorflow:global_step/sec: 506.014\n",
      "INFO:tensorflow:loss = 7948801000000.0, step = 6201 (0.197 sec)\n",
      "INFO:tensorflow:global_step/sec: 494.755\n",
      "INFO:tensorflow:loss = 6230093300000.0, step = 6301 (0.203 sec)\n",
      "INFO:tensorflow:global_step/sec: 468.412\n",
      "INFO:tensorflow:loss = 7903571000000.0, step = 6401 (0.212 sec)\n",
      "INFO:tensorflow:global_step/sec: 532.779\n",
      "INFO:tensorflow:loss = 7171410000000.0, step = 6501 (0.189 sec)\n",
      "INFO:tensorflow:global_step/sec: 519.986\n",
      "INFO:tensorflow:loss = 6595757500000.0, step = 6601 (0.193 sec)\n",
      "INFO:tensorflow:global_step/sec: 511.049\n",
      "INFO:tensorflow:loss = 6884602000000.0, step = 6701 (0.195 sec)\n",
      "INFO:tensorflow:global_step/sec: 473.979\n",
      "INFO:tensorflow:loss = 7374967400000.0, step = 6801 (0.210 sec)\n",
      "INFO:tensorflow:global_step/sec: 532.957\n",
      "INFO:tensorflow:loss = 5912499000000.0, step = 6901 (0.189 sec)\n",
      "INFO:tensorflow:global_step/sec: 526.563\n",
      "INFO:tensorflow:loss = 8404651000000.0, step = 7001 (0.188 sec)\n",
      "INFO:tensorflow:global_step/sec: 513.031\n",
      "INFO:tensorflow:loss = 6498631500000.0, step = 7101 (0.195 sec)\n",
      "INFO:tensorflow:global_step/sec: 393.839\n",
      "INFO:tensorflow:loss = 5658705400000.0, step = 7201 (0.256 sec)\n",
      "INFO:tensorflow:global_step/sec: 513.759\n",
      "INFO:tensorflow:loss = 7953286400000.0, step = 7301 (0.194 sec)\n",
      "INFO:tensorflow:global_step/sec: 613.745\n",
      "INFO:tensorflow:loss = 6519237000000.0, step = 7401 (0.164 sec)\n",
      "INFO:tensorflow:global_step/sec: 599.665\n",
      "INFO:tensorflow:loss = 8722835300000.0, step = 7501 (0.167 sec)\n"
     ]
    },
    {
     "name": "stdout",
     "output_type": "stream",
     "text": [
      "INFO:tensorflow:global_step/sec: 610.138\n",
      "INFO:tensorflow:loss = 6148357000000.0, step = 7601 (0.164 sec)\n",
      "INFO:tensorflow:global_step/sec: 513.058\n",
      "INFO:tensorflow:loss = 7287210500000.0, step = 7701 (0.194 sec)\n",
      "INFO:tensorflow:global_step/sec: 571.008\n",
      "INFO:tensorflow:loss = 8226215000000.0, step = 7801 (0.177 sec)\n",
      "INFO:tensorflow:global_step/sec: 575.566\n",
      "INFO:tensorflow:loss = 8098080000000.0, step = 7901 (0.172 sec)\n",
      "INFO:tensorflow:global_step/sec: 530.375\n",
      "INFO:tensorflow:loss = 6249545500000.0, step = 8001 (0.188 sec)\n",
      "INFO:tensorflow:global_step/sec: 452.597\n",
      "INFO:tensorflow:loss = 6573937000000.0, step = 8101 (0.221 sec)\n",
      "INFO:tensorflow:global_step/sec: 532.592\n",
      "INFO:tensorflow:loss = 7569933300000.0, step = 8201 (0.188 sec)\n",
      "INFO:tensorflow:global_step/sec: 493.859\n",
      "INFO:tensorflow:loss = 6523226000000.0, step = 8301 (0.203 sec)\n",
      "INFO:tensorflow:global_step/sec: 504.131\n",
      "INFO:tensorflow:loss = 8015566600000.0, step = 8401 (0.198 sec)\n",
      "INFO:tensorflow:global_step/sec: 435.644\n",
      "INFO:tensorflow:loss = 7243343000000.0, step = 8501 (0.229 sec)\n",
      "INFO:tensorflow:global_step/sec: 495.874\n",
      "INFO:tensorflow:loss = 7801996300000.0, step = 8601 (0.202 sec)\n",
      "INFO:tensorflow:global_step/sec: 549.919\n",
      "INFO:tensorflow:loss = 7306597000000.0, step = 8701 (0.182 sec)\n",
      "INFO:tensorflow:global_step/sec: 551.45\n",
      "INFO:tensorflow:loss = 7353662400000.0, step = 8801 (0.180 sec)\n",
      "INFO:tensorflow:global_step/sec: 478.3\n",
      "INFO:tensorflow:loss = 5850186400000.0, step = 8901 (0.210 sec)\n",
      "INFO:tensorflow:global_step/sec: 472.246\n",
      "INFO:tensorflow:loss = 6759270000000.0, step = 9001 (0.214 sec)\n",
      "INFO:tensorflow:global_step/sec: 514.285\n",
      "INFO:tensorflow:loss = 6386487400000.0, step = 9101 (0.193 sec)\n",
      "INFO:tensorflow:global_step/sec: 535.685\n",
      "INFO:tensorflow:loss = 7370676600000.0, step = 9201 (0.187 sec)\n",
      "INFO:tensorflow:global_step/sec: 509.699\n",
      "INFO:tensorflow:loss = 7899417000000.0, step = 9301 (0.196 sec)\n",
      "INFO:tensorflow:global_step/sec: 484.75\n",
      "INFO:tensorflow:loss = 6075940600000.0, step = 9401 (0.207 sec)\n",
      "INFO:tensorflow:global_step/sec: 457.396\n",
      "INFO:tensorflow:loss = 6695183000000.0, step = 9501 (0.218 sec)\n",
      "INFO:tensorflow:global_step/sec: 483.272\n",
      "INFO:tensorflow:loss = 6679302000000.0, step = 9601 (0.208 sec)\n",
      "INFO:tensorflow:global_step/sec: 507.153\n",
      "INFO:tensorflow:loss = 7465984000000.0, step = 9701 (0.197 sec)\n",
      "INFO:tensorflow:global_step/sec: 481.361\n",
      "INFO:tensorflow:loss = 7914794000000.0, step = 9801 (0.207 sec)\n",
      "INFO:tensorflow:global_step/sec: 447.018\n",
      "INFO:tensorflow:loss = 6454182400000.0, step = 9901 (0.225 sec)\n",
      "INFO:tensorflow:Saving checkpoints for 10000 into ./model.ckpt.\n",
      "INFO:tensorflow:Loss for final step: 6581579700000.0.\n"
     ]
    },
    {
     "data": {
      "text/plain": [
       "<tensorflow.python.estimator.canned.linear.LinearRegressor at 0x10c75efd0>"
      ]
     },
     "execution_count": 43,
     "metadata": {},
     "output_type": "execute_result"
    }
   ],
   "source": [
    "model.train(train_input_fn,steps=10000)"
   ]
  },
  {
   "cell_type": "code",
   "execution_count": 44,
   "metadata": {},
   "outputs": [
    {
     "name": "stdout",
     "output_type": "stream",
     "text": [
      "INFO:tensorflow:Calling model_fn.\n",
      "INFO:tensorflow:Done calling model_fn.\n",
      "INFO:tensorflow:Starting evaluation at 2018-10-03-11:28:11\n",
      "INFO:tensorflow:Graph was finalized.\n",
      "INFO:tensorflow:Restoring parameters from ./model.ckpt-10000\n",
      "INFO:tensorflow:Running local_init_op.\n",
      "INFO:tensorflow:Done running local_init_op.\n",
      "INFO:tensorflow:Evaluation [1/1]\n",
      "INFO:tensorflow:Finished evaluation at 2018-10-03-11:28:11\n",
      "INFO:tensorflow:Saving dict for global step 10000: average_loss = 70686835000.0, global_step = 10000, label/mean = 235433.69, loss = 9047915000000.0, prediction/mean = 82.70022\n",
      "INFO:tensorflow:Saving 'checkpoint_path' summary for global step 10000: ./model.ckpt-10000\n"
     ]
    }
   ],
   "source": [
    "results=model.evaluate(train_input_fn,steps=1)"
   ]
  },
  {
   "cell_type": "code",
   "execution_count": 50,
   "metadata": {},
   "outputs": [
    {
     "name": "stdout",
     "output_type": "stream",
     "text": [
      "{'average_loss': 70686835000.0, 'label/mean': 235433.69, 'loss': 9047915000000.0, 'prediction/mean': 82.70022, 'global_step': 10000}\n"
     ]
    }
   ],
   "source": [
    "print(results)\n",
    "predict_input_fn=tf.estimator.inputs.pandas_input_fn(x=tr_x,shuffle=False,batch_size=128)"
   ]
  },
  {
   "cell_type": "code",
   "execution_count": 51,
   "metadata": {},
   "outputs": [
    {
     "name": "stdout",
     "output_type": "stream",
     "text": [
      "INFO:tensorflow:Calling model_fn.\n",
      "INFO:tensorflow:Done calling model_fn.\n",
      "INFO:tensorflow:Graph was finalized.\n",
      "INFO:tensorflow:Restoring parameters from ./model.ckpt-10000\n",
      "INFO:tensorflow:Running local_init_op.\n",
      "INFO:tensorflow:Done running local_init_op.\n",
      "{'predictions': array([88.959915], dtype=float32)}\n"
     ]
    }
   ],
   "source": [
    "prediction=model.predict(predict_input_fn)\n",
    "print(next(prediction))\n",
    "#predictions=np.array([pre['predictions'] for pre in prediction])"
   ]
  },
  {
   "cell_type": "code",
   "execution_count": 57,
   "metadata": {},
   "outputs": [
    {
     "data": {
      "text/plain": [
       "{'predictions': array([81.531876], dtype=float32)}"
      ]
     },
     "execution_count": 57,
     "metadata": {},
     "output_type": "execute_result"
    }
   ],
   "source": [
    "next(prediction)"
   ]
  },
  {
   "cell_type": "code",
   "execution_count": 33,
   "metadata": {},
   "outputs": [
    {
     "data": {
      "text/plain": [
       "array([61.352905, 59.46376 , 55.05333 , ..., 72.40735 , 50.84472 ,\n",
       "       63.154   ], dtype=float32)"
      ]
     },
     "execution_count": 33,
     "metadata": {},
     "output_type": "execute_result"
    }
   ],
   "source": [
    "predictions.flatten()"
   ]
  },
  {
   "cell_type": "code",
   "execution_count": 25,
   "metadata": {},
   "outputs": [],
   "source": [
    "#actual=tr_y.medianHouseValue.values\n",
    "#r2=1- np.sum(np.square(actual-pre))/np.sum(np.square(actual -np.mean(actual)))\n",
    "#print(r2)"
   ]
  },
  {
   "cell_type": "code",
   "execution_count": 28,
   "metadata": {},
   "outputs": [
    {
     "ename": "ValueError",
     "evalue": "Found input variables with inconsistent numbers of samples: [14448, 722400]",
     "output_type": "error",
     "traceback": [
      "\u001b[0;31m---------------------------------------------------------------------------\u001b[0m",
      "\u001b[0;31mValueError\u001b[0m                                Traceback (most recent call last)",
      "\u001b[0;32m<ipython-input-28-3c1faca7b97a>\u001b[0m in \u001b[0;36m<module>\u001b[0;34m()\u001b[0m\n\u001b[0;32m----> 1\u001b[0;31m \u001b[0mprint\u001b[0m\u001b[0;34m(\u001b[0m\u001b[0mr2_score\u001b[0m\u001b[0;34m(\u001b[0m\u001b[0mtr_y\u001b[0m\u001b[0;34m.\u001b[0m\u001b[0mmedianHouseValue\u001b[0m\u001b[0;34m.\u001b[0m\u001b[0mvalues\u001b[0m\u001b[0;34m,\u001b[0m\u001b[0mpredictions\u001b[0m\u001b[0;34m)\u001b[0m\u001b[0;34m)\u001b[0m\u001b[0;34m\u001b[0m\u001b[0m\n\u001b[0m",
      "\u001b[0;32m/anaconda3/envs/py36/lib/python3.6/site-packages/sklearn/metrics/regression.py\u001b[0m in \u001b[0;36mr2_score\u001b[0;34m(y_true, y_pred, sample_weight, multioutput)\u001b[0m\n\u001b[1;32m    528\u001b[0m     \"\"\"\n\u001b[1;32m    529\u001b[0m     y_type, y_true, y_pred, multioutput = _check_reg_targets(\n\u001b[0;32m--> 530\u001b[0;31m         y_true, y_pred, multioutput)\n\u001b[0m\u001b[1;32m    531\u001b[0m \u001b[0;34m\u001b[0m\u001b[0m\n\u001b[1;32m    532\u001b[0m     \u001b[0;32mif\u001b[0m \u001b[0msample_weight\u001b[0m \u001b[0;32mis\u001b[0m \u001b[0;32mnot\u001b[0m \u001b[0;32mNone\u001b[0m\u001b[0;34m:\u001b[0m\u001b[0;34m\u001b[0m\u001b[0m\n",
      "\u001b[0;32m/anaconda3/envs/py36/lib/python3.6/site-packages/sklearn/metrics/regression.py\u001b[0m in \u001b[0;36m_check_reg_targets\u001b[0;34m(y_true, y_pred, multioutput)\u001b[0m\n\u001b[1;32m     73\u001b[0m \u001b[0;34m\u001b[0m\u001b[0m\n\u001b[1;32m     74\u001b[0m     \"\"\"\n\u001b[0;32m---> 75\u001b[0;31m     \u001b[0mcheck_consistent_length\u001b[0m\u001b[0;34m(\u001b[0m\u001b[0my_true\u001b[0m\u001b[0;34m,\u001b[0m \u001b[0my_pred\u001b[0m\u001b[0;34m)\u001b[0m\u001b[0;34m\u001b[0m\u001b[0m\n\u001b[0m\u001b[1;32m     76\u001b[0m     \u001b[0my_true\u001b[0m \u001b[0;34m=\u001b[0m \u001b[0mcheck_array\u001b[0m\u001b[0;34m(\u001b[0m\u001b[0my_true\u001b[0m\u001b[0;34m,\u001b[0m \u001b[0mensure_2d\u001b[0m\u001b[0;34m=\u001b[0m\u001b[0;32mFalse\u001b[0m\u001b[0;34m)\u001b[0m\u001b[0;34m\u001b[0m\u001b[0m\n\u001b[1;32m     77\u001b[0m     \u001b[0my_pred\u001b[0m \u001b[0;34m=\u001b[0m \u001b[0mcheck_array\u001b[0m\u001b[0;34m(\u001b[0m\u001b[0my_pred\u001b[0m\u001b[0;34m,\u001b[0m \u001b[0mensure_2d\u001b[0m\u001b[0;34m=\u001b[0m\u001b[0;32mFalse\u001b[0m\u001b[0;34m)\u001b[0m\u001b[0;34m\u001b[0m\u001b[0m\n",
      "\u001b[0;32m/anaconda3/envs/py36/lib/python3.6/site-packages/sklearn/utils/validation.py\u001b[0m in \u001b[0;36mcheck_consistent_length\u001b[0;34m(*arrays)\u001b[0m\n\u001b[1;32m    202\u001b[0m     \u001b[0;32mif\u001b[0m \u001b[0mlen\u001b[0m\u001b[0;34m(\u001b[0m\u001b[0muniques\u001b[0m\u001b[0;34m)\u001b[0m \u001b[0;34m>\u001b[0m \u001b[0;36m1\u001b[0m\u001b[0;34m:\u001b[0m\u001b[0;34m\u001b[0m\u001b[0m\n\u001b[1;32m    203\u001b[0m         raise ValueError(\"Found input variables with inconsistent numbers of\"\n\u001b[0;32m--> 204\u001b[0;31m                          \" samples: %r\" % [int(l) for l in lengths])\n\u001b[0m\u001b[1;32m    205\u001b[0m \u001b[0;34m\u001b[0m\u001b[0m\n\u001b[1;32m    206\u001b[0m \u001b[0;34m\u001b[0m\u001b[0m\n",
      "\u001b[0;31mValueError\u001b[0m: Found input variables with inconsistent numbers of samples: [14448, 722400]"
     ]
    }
   ],
   "source": [
    "print(r2_score(tr_y.medianHouseValue.values,predictions))"
   ]
  },
  {
   "cell_type": "code",
   "execution_count": null,
   "metadata": {},
   "outputs": [],
   "source": []
  },
  {
   "cell_type": "code",
   "execution_count": null,
   "metadata": {},
   "outputs": [],
   "source": [
    "print(tf.VERSION)"
   ]
  },
  {
   "cell_type": "code",
   "execution_count": null,
   "metadata": {},
   "outputs": [],
   "source": []
  }
 ],
 "metadata": {
  "kernelspec": {
   "display_name": "Python 3",
   "language": "python",
   "name": "python3"
  },
  "language_info": {
   "codemirror_mode": {
    "name": "ipython",
    "version": 3
   },
   "file_extension": ".py",
   "mimetype": "text/x-python",
   "name": "python",
   "nbconvert_exporter": "python",
   "pygments_lexer": "ipython3",
   "version": "3.6.5"
  }
 },
 "nbformat": 4,
 "nbformat_minor": 2
}
