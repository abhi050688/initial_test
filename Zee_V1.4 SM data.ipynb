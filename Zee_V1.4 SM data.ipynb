{
 "cells": [
  {
   "cell_type": "code",
   "execution_count": 50,
   "metadata": {},
   "outputs": [],
   "source": [
    "import pandas as pd\n",
    "import numpy as np\n",
    "import os\n",
    "import datetime as dt\n",
    "import pytz\n",
    "import gensim\n",
    "from nltk.tokenize import TweetTokenizer\n",
    "from keras.preprocessing.text import Tokenizer\n",
    "import gc\n",
    "import string\n",
    "from gensim.models import Word2Vec\n",
    "from sklearn.cluster import KMeans\n",
    "from collections import Counter\n",
    "import pickle\n",
    "import seaborn as sns\n",
    "from sklearn.neighbors import NearestNeighbors\n",
    "sns.set_style(style='darkgrid')\n",
    "import matplotlib.pyplot as plt\n",
    "from sklearn import mixture\n",
    "import re\n",
    "from sklearn.metrics.pairwise import euclidean_distances,cosine_distances\n",
    "%matplotlib inline\n",
    "os.chdir(r\"F:\\ScoreData\\Zee TV\")\n",
    "pd.options.display.max_columns=None"
   ]
  },
  {
   "cell_type": "code",
   "execution_count": 2,
   "metadata": {},
   "outputs": [],
   "source": [
    "cols=['Source','Host','Link','LocalTime','Authority','Gender','Country','Location','Sentiment','Alexa Rank','Alexa Reach','Title','Snippet','Content','Unique ID','Language','Followers','Following','Summary']\n",
    "\n",
    "# mm=pd.read_csv('MAYAVI MALING-Mentions.csv',skiprows=13,encoding='utf-8',header=None,parse_dates=[6])\n",
    "# mm=mm.iloc[:,[1,2,3,6,11,12,13,14,15,16,17,20,21,23,25,26,27,28,29,30,32,33]]\n",
    "# mm.columns=['Source','Host','Link','LocalTime','Authority','Followers','Following','Age','Gender','Language','Country','Location','Sentiment','Classifications','Alexa Rank','Alexa Reach','Title','Snippet','Content','Summary','Unique ID','Post Source']\n",
    "# mm.drop(index=mm[mm.Source=='Source'].index,inplace=True)\n",
    "# mm.head()\n",
    "\n",
    "# data=pd.read_csv('CHANDRASHEKAR-Mentions.csv',skiprows=13,encoding='utf-8',header=None,parse_dates=[6])\n",
    "\n",
    "all_files=os.listdir('./new')\n",
    "print(all_files[:5])\n",
    "\n",
    "gcd=os.getcwd()\n",
    "os.chdir('./new')\n",
    "all_files=os.listdir()\n",
    "mentions=[_ for _ in all_files if _.__contains__(\"Mentions\")]\n",
    "shows=pd.DataFrame()\n",
    "nf=0\n",
    "for filename in mentions:\n",
    "    try:\n",
    "        data=pd.read_csv(filename,skiprows=5,parse_dates=[3],usecols=cols)\n",
    "        data['showname']=filename.split(\".\")[0]\n",
    "        shows=pd.concat([shows,data],axis=0)\n",
    "#         print(\".............{} is done.......\".format(filename))\n",
    "    except Exception as  e:\n",
    "        print(\"filename {} with exception {}\".format(filename,e))\n",
    "#         print(\"Parsing {}...../n\".format(filename))\n",
    "        continue\n",
    "        nf+=1\n",
    "        try:\n",
    "            data=pd.read_csv(filename,skiprows=13,encoding='utf-8',header=None,parse_dates=[6])\n",
    "            data=data.iloc[:,[1,2,3,6,11,12,13,14,15,16,17,20,21,23,25,26,27,28,29,30,32,33]]\n",
    "            data.columns=['Source','Host','Link','LocalTime','Authority','Followers','Following','Age','Gender','Language','Country','Location','Sentiment','Classifications','Alexa Rank','Alexa Reach','Title','Snippet','Content','Summary','Unique ID','Post Source']\n",
    "            data.drop(index=mm[mm.Source=='Source'].index,inplace=True)\n",
    "            data=data[cols]\n",
    "            data['showname']=filename.split(\".\")[0]\n",
    "            shows=pd.concat([shows,data],axis=0)\n",
    "        except Exception as e:\n",
    "            print(\"Encountered second  exception for {}/n\".format(filename,e))\n",
    "            continue\n",
    "        continue\n",
    "print(\"\\n \\n Total not found shows {:d}\".format(nf))\n",
    "os.chdir(gcd)\n",
    "\n",
    "shwlst=shows.showname.unique()\n",
    "\n",
    "pattern=re.compile(\"(\\d|\\s)\")\n",
    "nname={sname:pattern.sub('',sname) for sname in shwlst}\n",
    "\n",
    "shows['nname']=shows['showname'].replace(to_replace=nname)"
   ]
  },
  {
   "cell_type": "code",
   "execution_count": 16,
   "metadata": {},
   "outputs": [],
   "source": [
    "# showcount=shows.groupby('nname')['Unique ID'].nunique().to_frame()\n",
    "# train=pd.DataFrame.sample(showcount,frac=0.8,random_state=101)\n",
    "# test=showcount[~showcount.index.isin(train.index)]\n",
    "# train.shape,test.shape\n",
    "\n",
    "# train=pd.read_csv(r'F:\\ScoreData\\Zee TV\\train_showname_ratings.csv')\n",
    "# train=train.groupby('Showname').max()\n",
    "# train.to_csv('train_showname_ratings_max.csv')"
   ]
  },
  {
   "cell_type": "code",
   "execution_count": 8,
   "metadata": {},
   "outputs": [],
   "source": [
    "with open(\"read_files\",'wb') as rf:\n",
    "    pickle.dump(shows,rf)"
   ]
  },
  {
   "cell_type": "markdown",
   "metadata": {},
   "source": [
    "Crime patrol and Big boss had a long break between telecast, so  the first initial rating was removed"
   ]
  },
  {
   "cell_type": "code",
   "execution_count": 26,
   "metadata": {},
   "outputs": [],
   "source": [
    "def create_subset_by_days(df,days=30):\n",
    "    dt_min=df.groupby('nname')['LocalTime'].min().to_frame().reset_index()\n",
    "    dt_min['max_dt']=dt_min['LocalTime'].apply(lambda x: x + dt.timedelta(days=days))\n",
    "    df=df.merge(dt_min[['nname','max_dt']],on='nname',how='left')\n",
    "    df=df[df.LocalTime<=df.max_dt].copy()\n",
    "    print(df.groupby('nname')['LocalTime'].apply(lambda x:max(x)-min(x)))\n",
    "    return df"
   ]
  },
  {
   "cell_type": "code",
   "execution_count": 5,
   "metadata": {},
   "outputs": [],
   "source": [
    "with open(r\"F:\\ScoreData\\Zee TV\\read_files\",'rb') as rf:\n",
    "    shows=pickle.load(rf)"
   ]
  },
  {
   "cell_type": "code",
   "execution_count": 3,
   "metadata": {},
   "outputs": [],
   "source": [
    "def tokens(tokenizer,tweets):\n",
    "    tweets=tweets.lower()\n",
    "    tokens=tokenizer.tokenize(tweets)\n",
    "    tokens=filter(lambda x:not x.startswith('http'),tokens)\n",
    "    return list(tokens)\n",
    "\n",
    "def create_embeddings(unique_tweets,size,tweets_tokens,keyed):\n",
    "    embeddings=np.zeros(shape=(len(unique_tweets),size))\n",
    "    for i,tweet in enumerate(tweets_tokens):\n",
    "        sm=0\n",
    "        for word in tweet:\n",
    "            try:\n",
    "                embeddings[i]+=keyed[word]\n",
    "            except KeyError as e:\n",
    "                print(\"KeyError occurred\")\n",
    "                print(tweet)\n",
    "        embeddings[i]=embeddings[i]/len(tweet)\n",
    "    return embeddings\n",
    "\n",
    "def fit_clusters(clf,embeddings):\n",
    "    clus={}\n",
    "    clf.fit(embeddings)\n",
    "    clus['labels']=pd.Series(clf.labels_)\n",
    "    clus['score']=clf.inertia_\n",
    "#     clus['cls']=clf\n",
    "    clus['centroids']=clf.cluster_centers_\n",
    "    return clus\n",
    "\n",
    "def create_clusters(rng,embeddings,unique_tweets):\n",
    "    cluster_file=pd.DataFrame({'tweets':unique_tweets})\n",
    "    scores=[]\n",
    "    centers=[]\n",
    "    for i in rng:\n",
    "        km=KMeans(n_clusters=i,n_jobs=-1,random_state=101)\n",
    "        clus=fit_clusters(km,embeddings)\n",
    "        scores.append(clus['score'])\n",
    "        cluster_file['cluster_{}'.format(i)]=clus['labels']\n",
    "        centers.append(clus['centroids'])\n",
    "        del km\n",
    "        del clus\n",
    "        gc.collect()\n",
    "    return cluster_file,scores,centers\n",
    "def plot_homogeinity(scores,rng):\n",
    "    fig,ax=plt.subplots()\n",
    "    sns.scatterplot(x=rng,y=scores,ax=ax)\n",
    "    ax.set(title=\"Homogeneity\",xlabel=\"Clusters\",ylabel=\"total rss\")\n",
    "    plt.plot()\n",
    "\n",
    "def clustering(unique_tweets,model_name,rng_cluster,size=100,overwrite=False):\n",
    "    cdr=os.getcwd()\n",
    "    os.chdir(\"./cache\")\n",
    "    unique_tweets=list(filter(lambda x:len(x)!=0,unique_tweets))\n",
    "    tokenizer=TweetTokenizer()\n",
    "    tweets_tokens=[tokens(tokenizer,x) for x in unique_tweets ]\n",
    "    if overwrite:\n",
    "        model=Word2Vec(tweets_tokens,size=size,min_count=1)\n",
    "        model.train(tweets_tokens,total_examples=len(tweets_tokens),epochs=10)\n",
    "        model.save(\"{}.model\".format(model_name))\n",
    "        keyed=model.wv\n",
    "        del model\n",
    "    else:\n",
    "        try:\n",
    "            model=Word2Vec.load(\"{}.model\".format(model_name))\n",
    "            keyed=model.wv\n",
    "            del model\n",
    "        except Exception as e:\n",
    "            print(\"............Exception occurred...........\\n{}\".format(e))\n",
    "    if os.path.isfile(\"{}.embed\".format(model_name)) & ~overwrite:\n",
    "        with open(\"{}.embed\".format(model_name),\"rb\") as eb:\n",
    "            embeddings=pickle.load(eb)\n",
    "    else:\n",
    "        embeddings=create_embeddings(unique_tweets,size,tweets_tokens,keyed)\n",
    "        with open(\"{}.embed\".format(model_name),\"wb\") as we:\n",
    "            pickle.dump(embeddings,we)\n",
    "    cluster_file,scores,centers=create_clusters(rng_cluster,embeddings,unique_tweets)\n",
    "    plot_homogeinity(scores,rng_cluster)\n",
    "    cluster_file.to_csv(\"{}.csv\".format(model_name))\n",
    "    return cluster_file,scores,centers\n",
    "    \n",
    "    "
   ]
  },
  {
   "cell_type": "code",
   "execution_count": 6,
   "metadata": {},
   "outputs": [
    {
     "data": {
      "text/html": [
       "<div>\n",
       "<style scoped>\n",
       "    .dataframe tbody tr th:only-of-type {\n",
       "        vertical-align: middle;\n",
       "    }\n",
       "\n",
       "    .dataframe tbody tr th {\n",
       "        vertical-align: top;\n",
       "    }\n",
       "\n",
       "    .dataframe thead th {\n",
       "        text-align: right;\n",
       "    }\n",
       "</style>\n",
       "<table border=\"1\" class=\"dataframe\">\n",
       "  <thead>\n",
       "    <tr style=\"text-align: right;\">\n",
       "      <th></th>\n",
       "      <th>Source</th>\n",
       "      <th>Host</th>\n",
       "      <th>Link</th>\n",
       "      <th>LocalTime</th>\n",
       "      <th>Authority</th>\n",
       "      <th>Gender</th>\n",
       "      <th>Country</th>\n",
       "      <th>Location</th>\n",
       "      <th>Sentiment</th>\n",
       "      <th>Alexa Rank</th>\n",
       "      <th>Alexa Reach</th>\n",
       "      <th>Title</th>\n",
       "      <th>Snippet</th>\n",
       "      <th>Content</th>\n",
       "      <th>Unique ID</th>\n",
       "      <th>Language</th>\n",
       "      <th>Followers</th>\n",
       "      <th>Following</th>\n",
       "      <th>Summary</th>\n",
       "      <th>showname</th>\n",
       "      <th>nname</th>\n",
       "    </tr>\n",
       "  </thead>\n",
       "  <tbody>\n",
       "    <tr>\n",
       "      <th>0</th>\n",
       "      <td>TWITTER</td>\n",
       "      <td>http://twitter.com/ASHWANI11345063/</td>\n",
       "      <td>http://twitter.com/ASHWANI11345063/statuses/10...</td>\n",
       "      <td>2018-10-25 23:29:56</td>\n",
       "      <td>0</td>\n",
       "      <td>Male</td>\n",
       "      <td>NaN</td>\n",
       "      <td>NaN</td>\n",
       "      <td>None</td>\n",
       "      <td>0</td>\n",
       "      <td>0</td>\n",
       "      <td>@ASHWANI11345063</td>\n",
       "      <td>@AndTVOfficial YE JO PERFECT PATI KA SHOW HAI ...</td>\n",
       "      <td>@AndTVOfficial YE JO PERFECT PATI KA SHOW HAI ...</td>\n",
       "      <td>23723083</td>\n",
       "      <td>TL</td>\n",
       "      <td>1</td>\n",
       "      <td>8</td>\n",
       "      <td>NaN</td>\n",
       "      <td>andtv-show-perfect-pati-Mentions</td>\n",
       "      <td>andtv-show-perfect-pati-Mentions</td>\n",
       "    </tr>\n",
       "    <tr>\n",
       "      <th>1</th>\n",
       "      <td>INSTAGRAM</td>\n",
       "      <td>http://instagram.com/dabh_big_fan_bulgaria</td>\n",
       "      <td>https://www.instagram.com/p/BpXjXNVC03A/</td>\n",
       "      <td>2018-10-25 15:34:56</td>\n",
       "      <td>0</td>\n",
       "      <td>NaN</td>\n",
       "      <td>BG</td>\n",
       "      <td>Sofia;-42;-Bulgaria</td>\n",
       "      <td>Positive</td>\n",
       "      <td>0</td>\n",
       "      <td>0</td>\n",
       "      <td>dabh_big_fan_bulgaria</td>\n",
       "      <td>Ayush Anand in ,,Perfect Pati\" 25/10/18 Episod...</td>\n",
       "      <td>Ayush Anand in ,,Perfect Pati\" 25/10/18 Episod...</td>\n",
       "      <td>23709925</td>\n",
       "      <td>EN</td>\n",
       "      <td>0</td>\n",
       "      <td>0</td>\n",
       "      <td>NaN</td>\n",
       "      <td>andtv-show-perfect-pati-Mentions</td>\n",
       "      <td>andtv-show-perfect-pati-Mentions</td>\n",
       "    </tr>\n",
       "  </tbody>\n",
       "</table>\n",
       "</div>"
      ],
      "text/plain": [
       "      Source                                        Host  \\\n",
       "0    TWITTER         http://twitter.com/ASHWANI11345063/   \n",
       "1  INSTAGRAM  http://instagram.com/dabh_big_fan_bulgaria   \n",
       "\n",
       "                                                Link           LocalTime  \\\n",
       "0  http://twitter.com/ASHWANI11345063/statuses/10... 2018-10-25 23:29:56   \n",
       "1           https://www.instagram.com/p/BpXjXNVC03A/ 2018-10-25 15:34:56   \n",
       "\n",
       "   Authority Gender Country             Location Sentiment  Alexa Rank  \\\n",
       "0          0   Male     NaN                  NaN      None           0   \n",
       "1          0    NaN      BG  Sofia;-42;-Bulgaria  Positive           0   \n",
       "\n",
       "   Alexa Reach                  Title  \\\n",
       "0            0       @ASHWANI11345063   \n",
       "1            0  dabh_big_fan_bulgaria   \n",
       "\n",
       "                                             Snippet  \\\n",
       "0  @AndTVOfficial YE JO PERFECT PATI KA SHOW HAI ...   \n",
       "1  Ayush Anand in ,,Perfect Pati\" 25/10/18 Episod...   \n",
       "\n",
       "                                             Content  Unique ID Language  \\\n",
       "0  @AndTVOfficial YE JO PERFECT PATI KA SHOW HAI ...   23723083       TL   \n",
       "1  Ayush Anand in ,,Perfect Pati\" 25/10/18 Episod...   23709925       EN   \n",
       "\n",
       "   Followers  Following Summary                          showname  \\\n",
       "0          1          8     NaN  andtv-show-perfect-pati-Mentions   \n",
       "1          0          0     NaN  andtv-show-perfect-pati-Mentions   \n",
       "\n",
       "                              nname  \n",
       "0  andtv-show-perfect-pati-Mentions  \n",
       "1  andtv-show-perfect-pati-Mentions  "
      ]
     },
     "execution_count": 6,
     "metadata": {},
     "output_type": "execute_result"
    }
   ],
   "source": [
    "shows.head(2)"
   ]
  },
  {
   "cell_type": "code",
   "execution_count": 10,
   "metadata": {},
   "outputs": [],
   "source": [
    "show.groupby(['Source','nname'])['Unique ID'].nunique().to_frame().to_csv('source_show_count.csv')"
   ]
  },
  {
   "cell_type": "code",
   "execution_count": 9,
   "metadata": {},
   "outputs": [],
   "source": [
    "def get_unique_tweets(show,shwnm=None,host=None):\n",
    "    if (shwnm is None) | (host is None):\n",
    "        df=show[(show.Source==\"TWITTER\")].copy()\n",
    "    else:\n",
    "        df=show[(show.Source==\"TWITTER\")& (show.nname==shwnm)& ~(show.Host==host)].copy()\n",
    "    df['original']=~df.Content.str.startswith((\"RT\",\"QT\"))\n",
    "    print(\"Total tweets for {2} {1:d} and unique tweets w/o processing {0:d}\".format(df.loc[df.original,'Unique ID'].nunique(),df['Unique ID'].nunique(),shwnm))\n",
    "    df['cleanContent']=df.Content.str.replace(r\"http.*[\\s\\n]\",\"\")\n",
    "    df.drop_duplicates('cleanContent',keep='first',inplace=True)\n",
    "    df['length']=df.cleanContent.apply(lambda x:len(x))\n",
    "    df=df.loc[(df.length>0) & (df.original),['Unique ID','Content','nname','cleanContent']].copy()\n",
    "    print(\"unique tweets with processing\",df.shape[0])\n",
    "    return df\n"
   ]
  },
  {
   "cell_type": "code",
   "execution_count": 6,
   "metadata": {},
   "outputs": [
    {
     "name": "stdout",
     "output_type": "stream",
     "text": [
      "Total tweets for Ishq 12256 and unique tweets 7470\n",
      "unique tweets 6452\n"
     ]
    },
    {
     "name": "stderr",
     "output_type": "stream",
     "text": [
      "S:\\Anaconda\\envs\\py36\\lib\\site-packages\\ipykernel_launcher.py:2: SettingWithCopyWarning: \n",
      "A value is trying to be set on a copy of a slice from a DataFrame.\n",
      "Try using .loc[row_indexer,col_indexer] = value instead\n",
      "\n",
      "See the caveats in the documentation: http://pandas.pydata.org/pandas-docs/stable/indexing.html#indexing-view-versus-copy\n",
      "  \n",
      "S:\\Anaconda\\envs\\py36\\lib\\site-packages\\ipykernel_launcher.py:5: SettingWithCopyWarning: \n",
      "A value is trying to be set on a copy of a slice from a DataFrame.\n",
      "Try using .loc[row_indexer,col_indexer] = value instead\n",
      "\n",
      "See the caveats in the documentation: http://pandas.pydata.org/pandas-docs/stable/indexing.html#indexing-view-versus-copy\n",
      "  \"\"\"\n"
     ]
    }
   ],
   "source": [
    "ishq=show[(show.Source==\"TWITTER\")& (show.nname==\"zee-tv---show---ishq-subhan-allah-Mentions\")& ~(show.Host==\"http://twitter.com/ZeeTV/\")]\n",
    "ishq['original']=~ishq.Content.str.startswith((\"RT\",\"QT\"))\n",
    "print(\"Total tweets for Ishq {1:d} and unique tweets {0:d}\".format(ishq.loc[ishq.original,'Unique ID'].nunique(),ishq['Unique ID'].nunique()))\n",
    "\n",
    "ishq['cleanContent']=ishq.Content.str.replace(r\"http.*[\\s\\n]\",\"\")\n",
    "unique_tweets=ishq.loc[ishq.original,\"cleanContent\"].unique()\n",
    "print(\"unique tweets\",len(unique_tweets))\n"
   ]
  },
  {
   "cell_type": "code",
   "execution_count": 40,
   "metadata": {},
   "outputs": [
    {
     "data": {
      "text/plain": [
       "array(['Ishq Subhan Allah - इश्क़ सुभान अल्लाह - Episode 38 - May 04, 2018 - Best Scene via ',\n",
       "       'Ishq Subhan Allah – इश्क़ सुभान अल्लाह – Episode 38 – May 04, 2018 – Best Scene ',\n",
       "       'Most watched Indian television shows: Kundali Bhagya and Ishq Subhan Allah top the BARC charts.. ',\n",
       "       'Ishq Subhan Allah 4th May 2018 Episode 37 #EishaSingh #AdnanKhan #Zabir #Zara #Kabir #IshqSubhanAllah #ZeeTV ~PART 11~ PRECAP~ ',\n",
       "       'Ishq Subhan Allah 4th May 2018 Episode 37 #EishaSingh #AdnanKhan #Zabir #Zara #Kabir #IshqSubhanAllah #ZeeTV ~PART 10~ PRECAP '],\n",
       "      dtype=object)"
      ]
     },
     "execution_count": 40,
     "metadata": {},
     "output_type": "execute_result"
    }
   ],
   "source": [
    "unique_tweets[:5]"
   ]
  },
  {
   "cell_type": "code",
   "execution_count": 8,
   "metadata": {},
   "outputs": [
    {
     "data": {
      "image/png": "[encoded data removed]",
      "text/plain": [
       "<Figure size 432x288 with 1 Axes>"
      ]
     },
     "metadata": {},
     "output_type": "display_data"
    }
   ],
   "source": [
    "os.chdir(r\"F:\\ScoreData\\Zee TV\")\n",
    "cluster_file,scores,centers=clustering(unique_tweets[:],\"ishq\",rng_cluster=np.arange(2,14),size=50,overwrite=True)"
   ]
  },
  {
   "cell_type": "code",
   "execution_count": 8,
   "metadata": {},
   "outputs": [
    {
     "data": {
      "text/plain": [
       "71"
      ]
     },
     "execution_count": 8,
     "metadata": {},
     "output_type": "execute_result"
    }
   ],
   "source": [
    "def top5comments(centers,nbrs,cluster_tweet,embed,filename=None):\n",
    "    nn=NearestNeighbors(n_neighbors=nbrs,algorithm='auto')\n",
    "    with open(\"{}.embed\".format(embed),'rb') as rf:\n",
    "        embeddings=pickle.load(rf)\n",
    "    nn.fit(embeddings)\n",
    "    _,nearest=nn.kneighbors(centers)\n",
    "    cluster=centers.shape[0]\n",
    "    df=cluster_tweet[['tweets','cluster_{}'.format(int(cluster))]]\n",
    "    df=df.iloc[nearest.ravel(),:]\n",
    "    if filename is not None:\n",
    "        df.to_csv(\"{}.csv\".format(filename),index=False,encoding='utf-8')\n",
    "    return df,nearest\n",
    "gc.collect()"
   ]
  },
  {
   "cell_type": "code",
   "execution_count": 15,
   "metadata": {},
   "outputs": [],
   "source": [
    "df,nearest=top5comments(centers[4],15,cluster_file,\"Ishq_cluster_6\")"
   ]
  },
  {
   "cell_type": "code",
   "execution_count": 19,
   "metadata": {},
   "outputs": [
    {
     "data": {
      "text/plain": [
       "Counter({0.0: 1975,\n",
       "         1.0: 165,\n",
       "         2.0: 2170,\n",
       "         3.0: 587,\n",
       "         4.0: 255,\n",
       "         5.0: 1299,\n",
       "         nan: 1})"
      ]
     },
     "execution_count": 19,
     "metadata": {},
     "output_type": "execute_result"
    }
   ],
   "source": [
    "Counter(cluster_file.cluster_6)"
   ]
  },
  {
   "cell_type": "markdown",
   "metadata": {},
   "source": [
    "### Cluster for juzzbatt"
   ]
  },
  {
   "cell_type": "code",
   "execution_count": 27,
   "metadata": {},
   "outputs": [
    {
     "name": "stdout",
     "output_type": "stream",
     "text": [
      "nname\n",
      "BIGGBOSS-Mentions                                          30 days 00:00:00\n",
      "DILHITOHAI-Mentions                                        29 days 23:56:45\n",
      "HARSHAAKHPEULLUBAITHAAHAI-Mentions                         29 days 22:47:28\n",
      "JIJAJICHHATPARHAIN-Mentions                                29 days 23:58:05\n",
      "KHICHDI-Mentions                                           29 days 17:11:18\n",
      "KRISHNACHALILONDON-Mentions                                29 days 23:22:06\n",
      "NAZAR-Mentions                                             29 days 23:07:11\n",
      "andtv-show-perfect-pati-Mentions                           29 days 13:49:53\n",
      "andtvofficial-show-bitti-businesswali-Mentions             29 days 21:33:02\n",
      "andtvofficial-show-high-fever-Mentions                     29 days 20:46:04\n",
      "andtvofficial-show-laal-ishq-Mentions                      29 days 07:23:12\n",
      "andtvofficial-show-love-me-india-Mentions                  29 days 23:59:25\n",
      "andtvofficial-show-mitegi-lakshmanrekha-Mentions           29 days 23:34:51\n",
      "andtvofficial-show-vikram-betaal-Mentions                  29 days 23:57:35\n",
      "colors-tv---show--dance-deewane-Mentions                   29 days 23:27:53\n",
      "colors-tv-show-dastan-e-mohabbat-Mentions                  29 days 22:58:59\n",
      "colors-tv-show-naagin-Mentions                             29 days 23:57:27\n",
      "colors-tv-show-rising-star-Mentions                        29 days 22:11:49\n",
      "colorstv-show-belan-wali-bahu-Mentions                     29 days 19:14:51\n",
      "colorstv-show-bepannaah-Mentions                           29 days 04:40:43\n",
      "colorstv-show-dev-Mentions                                 29 days 23:18:32\n",
      "colorstv-show-internet-wala-love-Mentions                  29 days 23:59:12\n",
      "colorstv-show-kasam-Mentions                               29 days 23:57:07\n",
      "colorstv-show-kaun-hai-Mentions                            29 days 20:05:08\n",
      "colorstv-show-roop-mard-ka-naya-swaroop-Mentions           29 days 23:49:37\n",
      "colorstv-show-savitri-devi-college-and-hospital-Mentions   29 days 17:55:19\n",
      "colorstv-show-silsila-badalte-rishton-ka-Mentions          29 days 23:41:48\n",
      "sony-tv--show---cid-Mentions                               29 days 22:09:15\n",
      "sony-tv-show-dus-ka-dum-Mentions                           29 days 23:58:04\n",
      "sony-tv-show-indian-idol-Mentions                          29 days 23:59:04\n",
      "sonysab-show-namune-Mentions                               29 days 21:31:35\n",
      "sonysab-show-shriman-shrimati-phir-se-Mentions             28 days 19:36:14\n",
      "sonysab-show-supersister-Mentions                          29 days 16:35:58\n",
      "sonytv-show-crime-patrol-Mentions                          29 days 23:39:15\n",
      "sonytv-show-prithvi-vallabh-Mentions                       29 days 23:44:56\n",
      "sonytv-show-zindagikecrossroads-Mentions                   29 days 10:55:17\n",
      "sonytv-shows-yeh-pyaar-nahi-tho-kya-hai-Mentions           29 days 21:00:46\n",
      "star-plus-show-dil-hai-hindustani--Mentions                29 days 23:59:54\n",
      "starplus-show-kasautii-zindagi-kay-Mentions                29 days 23:59:52\n",
      "starplus-show-kulfi-kumar-bajewala-Mentions                29 days 23:07:41\n",
      "starplus-show-mariam-khan-reporting-live-Mentions          29 days 21:42:31\n",
      "starplus-show-qayamat-ki-raat-Mentions                     26 days 17:37:03\n",
      "starplus-show-sabse-smart-kaun-Mentions                    29 days 23:53:23\n",
      "zee-tv---show---ishq-subhan-allah-Mentions                 29 days 23:24:07\n",
      "zee-tv---show---juzzbaaat-Mentions                         29 days 23:55:43\n",
      "zee-tv-shows-fear-files-Mentions                           29 days 15:25:45\n",
      "zeetv---show---kaleerein-Mentions                          29 days 23:09:04\n",
      "zeetv-show-aap-ke-aa-jane-se-Mentions                      29 days 23:16:41\n",
      "zeetv-show-did-lil-masters-Mentions                        29 days 23:43:27\n",
      "zeetv-show-ye-teri-galiyan-Mentions                        29 days 20:09:08\n",
      "zeetv-shows-india-best-dramebaaz-Mentions                  29 days 22:51:50\n",
      "zeetv-shows-maggie-kitchen-journeys-Mentions               25 days 12:32:43\n",
      "zeetv-shows-tujhse-hai-rabta-Mentions                      29 days 21:53:51\n",
      "Name: LocalTime, dtype: timedelta64[ns]\n"
     ]
    }
   ],
   "source": [
    "data30=create_subset_by_days(shows.copy(),days=30)"
   ]
  },
  {
   "cell_type": "code",
   "execution_count": 28,
   "metadata": {},
   "outputs": [
    {
     "name": "stdout",
     "output_type": "stream",
     "text": [
      "Total tweets for zee-tv---show---juzzbaaat-Mentions 47531 and unique tweets 8709\n",
      "unique tweets 7968\n"
     ]
    }
   ],
   "source": [
    "ut_juzz=get_unique_tweets(data30.copy(),shwnm=\"zee-tv---show---juzzbaaat-Mentions\",host=\"http://twitter.com/ZeeTV/\")"
   ]
  },
  {
   "cell_type": "code",
   "execution_count": 31,
   "metadata": {},
   "outputs": [
    {
     "data": {
      "image/png": "[encoded data removed]",
      "text/plain": [
       "<Figure size 432x288 with 1 Axes>"
      ]
     },
     "metadata": {},
     "output_type": "display_data"
    }
   ],
   "source": [
    "os.chdir(r\"F:\\ScoreData\\Zee TV\")\n",
    "cluster_juzz,scores_juzz,centers_juzz=clustering(ut_juzz[:],\"juzzbatt\",rng_cluster=np.arange(2,14),size=50,overwrite=True)"
   ]
  },
  {
   "cell_type": "code",
   "execution_count": 43,
   "metadata": {},
   "outputs": [],
   "source": [
    "def tweets_cluster(showname,host,size,embed,filename):\n",
    "    ut_juzz=get_unique_tweets(data30.copy(),shwnm=showname,host=host)\n",
    "    os.chdir(r\"F:\\ScoreData\\Zee TV\")\n",
    "    cluster_juzz,scores_juzz,centers_juzz=clustering(ut_juzz[:],embed,rng_cluster=np.arange(2,14),size=size,overwrite=True)\n",
    "    print(Counter(cluster_juzz.cluster_6))\n",
    "    _,_=top5comments(centers_juzz[4],15,cluster_juzz,embed,filename)"
   ]
  },
  {
   "cell_type": "code",
   "execution_count": 44,
   "metadata": {},
   "outputs": [
    {
     "name": "stdout",
     "output_type": "stream",
     "text": [
      "Total tweets for BIGGBOSS-Mentions 144448 and unique tweets 18799\n",
      "unique tweets 18054\n",
      "Counter({1: 7010, 3: 4012, 5: 3521, 0: 1805, 4: 1089, 2: 616})\n"
     ]
    },
    {
     "data": {
      "image/png": "[encoded data removed]",
      "text/plain": [
       "<Figure size 432x288 with 1 Axes>"
      ]
     },
     "metadata": {},
     "output_type": "display_data"
    }
   ],
   "source": [
    "tweets_cluster(\"BIGGBOSS-Mentions\",\"http://twitter.com/ColorsTV/\",100,\"bb\",\"bb_closest\")"
   ]
  },
  {
   "cell_type": "code",
   "execution_count": 45,
   "metadata": {},
   "outputs": [
    {
     "name": "stdout",
     "output_type": "stream",
     "text": [
      "Total tweets for zee-tv---show---juzzbaaat-Mentions 47531 and unique tweets 8709\n",
      "unique tweets 7968\n",
      "Counter({0: 2951, 1: 2494, 3: 1007, 5: 910, 2: 509, 4: 96})\n"
     ]
    },
    {
     "data": {
      "image/png": "[encoded data removed]",
      "text/plain": [
       "<Figure size 432x288 with 1 Axes>"
      ]
     },
     "metadata": {},
     "output_type": "display_data"
    }
   ],
   "source": [
    "tweets_cluster(\"zee-tv---show---juzzbaaat-Mentions\",\"http://twitter.com/ZeeTV/\",100,\"juzzbatt\",\"juzz_closest\")"
   ]
  },
  {
   "cell_type": "markdown",
   "metadata": {},
   "source": [
    "### Create word2vec on whole set yet creating clusters based on input showname"
   ]
  },
  {
   "cell_type": "code",
   "execution_count": 52,
   "metadata": {},
   "outputs": [],
   "source": [
    "os.chdir(r\"F:\\ScoreData\\Zee TV\\cache\")\n",
    "def create_model(df_subset,model_name,size=100,epochs=10,overwrite=False):\n",
    "    ut_original=df_subset.cleanContent.values\n",
    "    df_subset=df_subset.sample(frac=1,random_state=1,replace=False)\n",
    "    unique_tweets=df_subset.cleanContent.values\n",
    "    del df_subset\n",
    "    tokenizer=TweetTokenizer()\n",
    "    tweets_tokens=[tokens(tokenizer,x) for x in unique_tweets ]\n",
    "    model=Word2Vec(tweets_tokens,size=size,min_count=1)\n",
    "    model.train(tweets_tokens,total_examples=len(tweets_tokens),epochs=epochs)\n",
    "    model.save(\"{}.model\".format(model_name))\n",
    "    del tweets_tokens\n",
    "    del model\n",
    "    gc.collect()\n",
    "    \n",
    "def create_show_embedding(ut_original,model_name,showname,size=100):\n",
    "    tokenizer=TweetTokenizer()\n",
    "    tweets_tokens=[tokens(tokenizer,x) for x in ut_original ]\n",
    "    model=Word2Vec.load(\"{}.model\".format(model_name))\n",
    "    embeddings=create_embeddings(ut_original,size,tweets_tokens,model.wv)\n",
    "    with open(\"{}.embed\".format(showname),\"wb\") as we:\n",
    "        pickle.dump(embeddings,we)\n",
    "    del model\n",
    "    print(\"The shape of embeddings \",embeddings.shape)\n",
    "    return embeddings\n",
    "    \n",
    "def create_show_embedding_on_whole(df,showname,model_name,rng_cluster):\n",
    "    os.chdir(r\"F:\\ScoreData\\Zee TV\\cache\")\n",
    "    with open(\"{}.embed\".format(model_name),\"rb\") as we:\n",
    "        embeddings=pickle.load(we)\n",
    "    unique_tweets=df.loc[df.nname==showname,'cleanContent']\n",
    "    showindex=unique_tweets.index\n",
    "    showembeddings=embeddings[showindex,:]\n",
    "    cluster_file,scores,centers=create_clusters(rng_cluster,showembeddings,unique_tweets.values)\n",
    "    plot_homogeinity(scores,rng_cluster)\n",
    "    cluster_file.to_csv(\"{}.csv\".format(showname))\n",
    "    return cluster_file,scores,centers\n",
    "\n",
    "def create_top_comments(df,showname,centers,nbrs,cluster_tweet,model_name,filename=None):\n",
    "    os.chdir(r\"F:\\ScoreData\\Zee TV\\cache\")\n",
    "    nn=NearestNeighbors(n_neighbors=nbrs,algorithm='auto')\n",
    "    with open(\"{}.embed\".format(model_name),'rb') as rf:\n",
    "        embeddings=pickle.load(rf)\n",
    "    unique_tweets=df.loc[df.nname==showname,'cleanContent']\n",
    "    showindex=unique_tweets.index\n",
    "    showembeddings=embeddings[showindex,:]\n",
    "    nn.fit(showembeddings)\n",
    "    _,nearest=nn.kneighbors(centers)\n",
    "    cluster=centers.shape[0]\n",
    "    df=cluster_tweet[['tweets','cluster_{}'.format(int(cluster))]]\n",
    "    df=df.iloc[nearest.ravel(),:]\n",
    "    if filename is not None:\n",
    "        df.to_csv(\"{}.csv\".format(filename),index=False,encoding='utf-8')\n",
    "    return df,nearest"
   ]
  },
  {
   "cell_type": "code",
   "execution_count": 10,
   "metadata": {},
   "outputs": [
    {
     "name": "stdout",
     "output_type": "stream",
     "text": [
      "Total tweets for None 1299243 and unique tweets w/o processing 274005\n",
      "unique tweets with processing 238795\n"
     ]
    }
   ],
   "source": [
    "df=get_unique_tweets(shows,shwnm=None,host=None)"
   ]
  },
  {
   "cell_type": "code",
   "execution_count": 11,
   "metadata": {},
   "outputs": [
    {
     "data": {
      "text/html": [
       "<div>\n",
       "<style scoped>\n",
       "    .dataframe tbody tr th:only-of-type {\n",
       "        vertical-align: middle;\n",
       "    }\n",
       "\n",
       "    .dataframe tbody tr th {\n",
       "        vertical-align: top;\n",
       "    }\n",
       "\n",
       "    .dataframe thead th {\n",
       "        text-align: right;\n",
       "    }\n",
       "</style>\n",
       "<table border=\"1\" class=\"dataframe\">\n",
       "  <thead>\n",
       "    <tr style=\"text-align: right;\">\n",
       "      <th></th>\n",
       "      <th>Unique ID</th>\n",
       "      <th>Content</th>\n",
       "      <th>nname</th>\n",
       "      <th>cleanContent</th>\n",
       "    </tr>\n",
       "  </thead>\n",
       "  <tbody>\n",
       "    <tr>\n",
       "      <th>0</th>\n",
       "      <td>23723083</td>\n",
       "      <td>@AndTVOfficial YE JO PERFECT PATI KA SHOW HAI ...</td>\n",
       "      <td>andtv-show-perfect-pati-Mentions</td>\n",
       "      <td>@AndTVOfficial YE JO PERFECT PATI KA SHOW HAI ...</td>\n",
       "    </tr>\n",
       "    <tr>\n",
       "      <th>9</th>\n",
       "      <td>23658245</td>\n",
       "      <td>#SuperExclusive #TRP #TRPDay @AndTVOfficial Al...</td>\n",
       "      <td>andtv-show-perfect-pati-Mentions</td>\n",
       "      <td>#SuperExclusive #TRP #TRPDay @AndTVOfficial Al...</td>\n",
       "    </tr>\n",
       "    <tr>\n",
       "      <th>10</th>\n",
       "      <td>23657707</td>\n",
       "      <td>#AndTV: #Agnifera 0.2, #VikramBetaal 0.4, #Par...</td>\n",
       "      <td>andtv-show-perfect-pati-Mentions</td>\n",
       "      <td>#AndTV: #Agnifera 0.2, #VikramBetaal 0.4, #Par...</td>\n",
       "    </tr>\n",
       "    <tr>\n",
       "      <th>29</th>\n",
       "      <td>23173705</td>\n",
       "      <td>@AndTVOfficial your show *perfect pati* is abs...</td>\n",
       "      <td>andtv-show-perfect-pati-Mentions</td>\n",
       "      <td>@AndTVOfficial your show *perfect pati* is abs...</td>\n",
       "    </tr>\n",
       "    <tr>\n",
       "      <th>39</th>\n",
       "      <td>23069813</td>\n",
       "      <td>#AndTV: #Agnifera 0.3, #ParamavatarShriKrishna...</td>\n",
       "      <td>andtv-show-perfect-pati-Mentions</td>\n",
       "      <td>#AndTV: #Agnifera 0.3, #ParamavatarShriKrishna...</td>\n",
       "    </tr>\n",
       "  </tbody>\n",
       "</table>\n",
       "</div>"
      ],
      "text/plain": [
       "    Unique ID                                            Content  \\\n",
       "0    23723083  @AndTVOfficial YE JO PERFECT PATI KA SHOW HAI ...   \n",
       "9    23658245  #SuperExclusive #TRP #TRPDay @AndTVOfficial Al...   \n",
       "10   23657707  #AndTV: #Agnifera 0.2, #VikramBetaal 0.4, #Par...   \n",
       "29   23173705  @AndTVOfficial your show *perfect pati* is abs...   \n",
       "39   23069813  #AndTV: #Agnifera 0.3, #ParamavatarShriKrishna...   \n",
       "\n",
       "                               nname  \\\n",
       "0   andtv-show-perfect-pati-Mentions   \n",
       "9   andtv-show-perfect-pati-Mentions   \n",
       "10  andtv-show-perfect-pati-Mentions   \n",
       "29  andtv-show-perfect-pati-Mentions   \n",
       "39  andtv-show-perfect-pati-Mentions   \n",
       "\n",
       "                                         cleanContent  \n",
       "0   @AndTVOfficial YE JO PERFECT PATI KA SHOW HAI ...  \n",
       "9   #SuperExclusive #TRP #TRPDay @AndTVOfficial Al...  \n",
       "10  #AndTV: #Agnifera 0.2, #VikramBetaal 0.4, #Par...  \n",
       "29  @AndTVOfficial your show *perfect pati* is abs...  \n",
       "39  #AndTV: #Agnifera 0.3, #ParamavatarShriKrishna...  "
      ]
     },
     "execution_count": 11,
     "metadata": {},
     "output_type": "execute_result"
    }
   ],
   "source": [
    "df.head()"
   ]
  },
  {
   "cell_type": "code",
   "execution_count": 12,
   "metadata": {},
   "outputs": [
    {
     "name": "stdout",
     "output_type": "stream",
     "text": [
      "The shape of embeddings  (238795, 100)\n"
     ]
    }
   ],
   "source": [
    "create_model(df.copy(),'combined',size=100,epochs=10,overwrite=False)"
   ]
  },
  {
   "cell_type": "code",
   "execution_count": 50,
   "metadata": {},
   "outputs": [
    {
     "name": "stdout",
     "output_type": "stream",
     "text": [
      "Total tweets for BIGGBOSS-Mentions 175315 and unique tweets w/o processing 23841\n",
      "unique tweets with processing 22806\n",
      "The shape of embeddings  (22806, 100)\n",
      "Counter({3: 6522, 4: 5397, 1: 4535, 2: 3318, 5: 2256, 0: 778})\n"
     ]
    },
    {
     "ename": "TypeError",
     "evalue": "'NoneType' object is not iterable",
     "output_type": "error",
     "traceback": [
      "\u001b[1;31m---------------------------------------------------------------------------\u001b[0m",
      "\u001b[1;31mTypeError\u001b[0m                                 Traceback (most recent call last)",
      "\u001b[1;32m<ipython-input-50-2e80d683aef2>\u001b[0m in \u001b[0;36m<module>\u001b[1;34m()\u001b[0m\n\u001b[1;32m----> 1\u001b[1;33m \u001b[0mcluster_file_bb\u001b[0m\u001b[1;33m,\u001b[0m\u001b[0mscores_bb\u001b[0m\u001b[1;33m,\u001b[0m\u001b[0mcenters_bb\u001b[0m\u001b[1;33m=\u001b[0m\u001b[0mshow_cluster_combined_model\u001b[0m\u001b[1;33m(\u001b[0m\u001b[0mshows\u001b[0m\u001b[1;33m.\u001b[0m\u001b[0mcopy\u001b[0m\u001b[1;33m(\u001b[0m\u001b[1;33m)\u001b[0m\u001b[1;33m,\u001b[0m\u001b[1;34m\"BIGGBOSS-Mentions\"\u001b[0m\u001b[1;33m,\u001b[0m\u001b[1;34m\"http://twitter.com/ColorsTV/\"\u001b[0m\u001b[1;33m,\u001b[0m\u001b[1;34m\"combined\"\u001b[0m\u001b[1;33m)\u001b[0m\u001b[1;33m\u001b[0m\u001b[0m\n\u001b[0m",
      "\u001b[1;31mTypeError\u001b[0m: 'NoneType' object is not iterable"
     ]
    },
    {
     "data": {
      "image/png": "[encoded data removed]",
      "text/plain": [
       "<Figure size 432x288 with 1 Axes>"
      ]
     },
     "metadata": {},
     "output_type": "display_data"
    }
   ],
   "source": [
    "cluster_file_bb,scores_bb,centers_bb=show_cluster_combined_model(shows.copy(),\"BIGGBOSS-Mentions\",\"http://twitter.com/ColorsTV/\",\"combined\")"
   ]
  },
  {
   "cell_type": "code",
   "execution_count": 52,
   "metadata": {},
   "outputs": [
    {
     "name": "stdout",
     "output_type": "stream",
     "text": [
      "Total tweets for zee-tv---show---juzzbaaat-Mentions 63207 and unique tweets w/o processing 11401\n",
      "unique tweets with processing 10463\n",
      "The shape of embeddings  (10463, 100)\n",
      "Counter({4: 3970, 2: 2664, 1: 1604, 3: 1271, 0: 829, 5: 125})\n"
     ]
    },
    {
     "data": {
      "image/png": "[encoded data removed]",
      "text/plain": [
       "<Figure size 432x288 with 1 Axes>"
      ]
     },
     "metadata": {},
     "output_type": "display_data"
    }
   ],
   "source": [
    "cluster_file_bb,scores_bb,centers_bb=show_cluster_combined_model(shows.copy(),\"zee-tv---show---juzzbaaat-Mentions\",\"http://twitter.com/ZeeTV/\",\"combined\",clstr=8)"
   ]
  },
  {
   "cell_type": "code",
   "execution_count": 55,
   "metadata": {},
   "outputs": [
    {
     "name": "stdout",
     "output_type": "stream",
     "text": [
      "Total tweets for HARSHAAKHPEULLUBAITHAAHAI-Mentions 43258 and unique tweets w/o processing 6668\n",
      "unique tweets with processing 4614\n",
      "The shape of embeddings  (4614, 100)\n",
      "Counter({1: 1294, 0: 1284, 4: 679, 3: 629, 5: 531, 2: 197})\n"
     ]
    },
    {
     "data": {
      "image/png": "[encoded data removed]",
      "text/plain": [
       "<Figure size 432x288 with 1 Axes>"
      ]
     },
     "metadata": {},
     "output_type": "display_data"
    }
   ],
   "source": [
    "cluster_file_bb,scores_bb,centers_bb=show_cluster_combined_model(shows.copy(),\"HARSHAAKHPEULLUBAITHAAHAI-Mentions\",\"http://twitter.com/StarPlus/\",\"combined\",clstr=8)"
   ]
  },
  {
   "cell_type": "code",
   "execution_count": 58,
   "metadata": {},
   "outputs": [
    {
     "name": "stdout",
     "output_type": "stream",
     "text": [
      "Total tweets for zeetv-show-did-lil-masters-Mentions 14061 and unique tweets w/o processing 6766\n",
      "unique tweets with processing 6091\n",
      "The shape of embeddings  (6091, 100)\n",
      "Counter({1: 1928, 2: 1894, 3: 1449, 5: 373, 0: 357, 4: 90})\n"
     ]
    },
    {
     "data": {
      "image/png": "[encoded data removed]",
      "text/plain": [
       "<Figure size 432x288 with 1 Axes>"
      ]
     },
     "metadata": {},
     "output_type": "display_data"
    }
   ],
   "source": [
    "cluster_file_bb,scores_bb,centers_bb=show_cluster_combined_model(shows.copy(),\"zeetv-show-did-lil-masters-Mentions\",\"http://twitter.com/ZeeTV/\",\"combined\",clstr=6)"
   ]
  },
  {
   "cell_type": "code",
   "execution_count": 38,
   "metadata": {},
   "outputs": [],
   "source": [
    "os.chdir(r\"F:\\ScoreData\\Zee TV\\cache\")\n",
    "official_handle=[\"http://twitter.com/AndTVOfficial/\",\"http://twitter.com/ColorsTV/\",\"http://twitter.com/SonySABTV/\",\"http://twitter.com/SonyTV/\",\"http://twitter.com/StarPlus/\",\"http://twitter.com/ZeeTV/\"]\n",
    "def create_model(df_subset,model_name,size=100,epochs=10,overwrite=False):\n",
    "    ut_original=df_subset.cleanContent.values\n",
    "    df_subset=df_subset.sample(frac=1,random_state=1,replace=False)\n",
    "    unique_tweets=df_subset.cleanContent.values\n",
    "    del df_subset\n",
    "    tokenizer=TweetTokenizer()\n",
    "    tweets_tokens=[tokens(tokenizer,x) for x in unique_tweets ]\n",
    "    model=Word2Vec(tweets_tokens,size=size,min_count=1)\n",
    "    model.train(tweets_tokens,total_examples=len(tweets_tokens),epochs=epochs)\n",
    "    model.save(\"{}.model\".format(model_name))\n",
    "    del tweets_tokens\n",
    "    del model\n",
    "    gc.collect()\n",
    "\n",
    "def get_unique_tweets(show,shwnm=None):\n",
    "    if (shwnm is None):\n",
    "        df=show[(show.Source==\"TWITTER\") & ~(show.Host.isin(official_handle))].copy()\n",
    "    else:\n",
    "        df=show[(show.Source==\"TWITTER\")& (show.nname==shwnm)& ~(show.Host.isin(official_handle))].copy()\n",
    "    df['original']=~df.Content.str.startswith((\"RT\",\"QT\"))\n",
    "    print(\"Total tweets for {2} {1:d} and unique tweets w/o processing {0:d}\".format(df.loc[df.original,'Unique ID'].nunique(),df['Unique ID'].nunique(),shwnm))\n",
    "    df['cleanContent']=df.Content.str.replace(r\"http.*[\\s\\n]\",\"\")\n",
    "    df.drop_duplicates('cleanContent',keep='first',inplace=True)\n",
    "    df['length']=df.cleanContent.apply(lambda x:len(x))\n",
    "    df=df.loc[(df.length>0) & (df.original),['Unique ID','Content','nname','cleanContent']].copy()\n",
    "    print(\"unique tweets with processing\",df.shape[0])\n",
    "    return df\n",
    "\n",
    "def tokens(tokenizer,tweets):\n",
    "    tweets=tweets.lower()\n",
    "    tokens=tokenizer.tokenize(tweets)\n",
    "    tokens=filter(lambda x:not x.startswith('http'),tokens)\n",
    "    return list(tokens)\n",
    "\n",
    "def create_embeddings(unique_tweets,size,tweets_tokens,keyed):\n",
    "    embeddings=np.zeros(shape=(len(unique_tweets),size))\n",
    "    for i,tweet in enumerate(tweets_tokens):\n",
    "        sm=0\n",
    "        for word in tweet:\n",
    "            try:\n",
    "                embeddings[i]+=keyed[word]\n",
    "            except KeyError as e:\n",
    "                print(\"KeyError occurred\")\n",
    "                print(tweet)\n",
    "        embeddings[i]=embeddings[i]/len(tweet)\n",
    "    return embeddings\n",
    "\n",
    "def create_show_embedding(ut_original,model_name,showname=None,size=100):\n",
    "    tokenizer=TweetTokenizer()\n",
    "    tweets_tokens=[tokens(tokenizer,x) for x in ut_original ]\n",
    "    model=Word2Vec.load(\"{}.model\".format(model_name))\n",
    "    embeddings=create_embeddings(ut_original,size,tweets_tokens,model.wv)\n",
    "    with open(\"{}.embed\".format(showname),\"wb\") as we:\n",
    "        pickle.dump(embeddings,we)\n",
    "    del model\n",
    "    print(\"The shape of embeddings \",embeddings.shape)\n",
    "    return embeddings\n",
    "\n",
    "def fit_clusters(clf,embeddings):\n",
    "    clus={}\n",
    "    clf.fit(embeddings)\n",
    "    clus['labels']=pd.Series(clf.labels_)\n",
    "    clus['score']=clf.inertia_\n",
    "#     clus['cls']=clf\n",
    "    clus['centroids']=clf.cluster_centers_\n",
    "    return clus\n",
    "\n",
    "def create_clusters(rng,embeddings,unique_tweets):\n",
    "    cluster_file=pd.DataFrame({'tweets':unique_tweets})\n",
    "    scores=[]\n",
    "    centers=[]\n",
    "    for i in rng:\n",
    "        km=KMeans(n_clusters=i,n_jobs=-1,random_state=101)\n",
    "        clus=fit_clusters(km,embeddings)\n",
    "        scores.append(clus['score'])\n",
    "        cluster_file['cluster_{}'.format(i)]=clus['labels']\n",
    "        centers.append(clus['centroids'])\n",
    "        del km\n",
    "        del clus\n",
    "        gc.collect()\n",
    "    return cluster_file,scores,centers\n",
    "\n",
    "def plot_homogeinity(scores,rng):\n",
    "    fig,ax=plt.subplots()\n",
    "    sns.scatterplot(x=rng,y=scores,ax=ax)\n",
    "    ax.set(title=\"Homogeneity\",xlabel=\"Clusters\",ylabel=\"total rss\")\n",
    "    plt.plot()\n",
    "\n",
    "def top5comments(centers,nbrs,cluster_tweet,embed,filename=None):\n",
    "    nn=NearestNeighbors(n_neighbors=nbrs,algorithm='auto')\n",
    "    with open(\"{}.embed\".format(embed),'rb') as rf:\n",
    "        embeddings=pickle.load(rf)\n",
    "    nn.fit(embeddings)\n",
    "    _,nearest=nn.kneighbors(centers)\n",
    "    cluster=centers.shape[0]\n",
    "    df=cluster_tweet[['tweets','cluster_{}'.format(int(cluster))]]\n",
    "    df=df.iloc[nearest.ravel(),:]\n",
    "    if filename is not None:\n",
    "        df.to_csv(\"{}.csv\".format(filename),index=False,encoding='utf-8')\n",
    "    return df,nearest\n",
    "\n",
    "def show_cluster_combined_model(shows,shwnm,model_name,clstr=6,rng_cluster=np.arange(2,14)):\n",
    "    kalerein_mentions=get_unique_tweets(shows.copy(),shwnm=shwnm)\n",
    "    embeddings=create_show_embedding(kalerein_mentions.cleanContent.values,model_name,shwnm)\n",
    "    cluster_file,scores,centers=create_clusters(rng_cluster,embeddings,kalerein_mentions.cleanContent.values)\n",
    "    cluster_file.to_csv(\"{}_clustered.csv\".format(shwnm))\n",
    "    plot_homogeinity(scores,rng_cluster)\n",
    "    _,_=top5comments(centers[clstr-rng_cluster[0]],15,cluster_file,shwnm,\"{}_nearest\".format(shwnm))\n",
    "    print(Counter(cluster_file[\"cluster_{}\".format(clstr)]))\n",
    "    return cluster_file,scores,centers\n",
    "\n",
    "def create_subclusters(ut,model_name,subClusterFilename,clstr=6,rng_cluster=np.arange(2,14)):\n",
    "    embeddings=create_show_embedding(ut,model_name,subClusterFilename)\n",
    "    cluster_file,scores,centers=create_clusters(rng_cluster,embeddings,ut)\n",
    "    cluster_file.to_csv(\"{}_clustered.csv\".format(subClusterFilename))\n",
    "    plot_homogeinity(scores,rng_cluster)\n",
    "    _,_=top5comments(centers[clstr-rng_cluster[0]],15,cluster_file,subClusterFilename,\"{}_nearest\".format(subClusterFilename))\n",
    "    print(Counter(cluster_file[\"cluster_{}\".format(clstr)]))\n",
    "    return cluster_file,scores,centers\n"
   ]
  },
  {
   "cell_type": "code",
   "execution_count": 11,
   "metadata": {},
   "outputs": [
    {
     "name": "stdout",
     "output_type": "stream",
     "text": [
      "Total tweets for zeetv---show---kaleerein-Mentions 77701 and unique tweets w/o processing 35669\n",
      "unique tweets with processing 30656\n",
      "The shape of embeddings  (30656, 100)\n",
      "Counter({5: 9734, 3: 8274, 1: 5329, 2: 5033, 0: 1783, 4: 503})\n"
     ]
    },
    {
     "data": {
      "image/png": "[encoded data removed]",
      "text/plain": [
       "<Figure size 432x288 with 1 Axes>"
      ]
     },
     "metadata": {},
     "output_type": "display_data"
    }
   ],
   "source": [
    "cluster_file,scores,centers=show_cluster_combined_model(shows.copy(),\"zeetv---show---kaleerein-Mentions\",\"combined\")"
   ]
  },
  {
   "cell_type": "code",
   "execution_count": 29,
   "metadata": {},
   "outputs": [],
   "source": [
    "shwnm=\"zeetv---show---kaleerein-Mentions\"\n",
    "_,_=top5comments(centers[13-2],15,cluster_file,shwnm,\"{}_nearest\".format(shwnm))"
   ]
  },
  {
   "cell_type": "code",
   "execution_count": 30,
   "metadata": {},
   "outputs": [
    {
     "data": {
      "text/plain": [
       "Counter({0: 2849,\n",
       "         1: 318,\n",
       "         2: 3942,\n",
       "         3: 3574,\n",
       "         4: 503,\n",
       "         5: 1318,\n",
       "         6: 4556,\n",
       "         7: 2749,\n",
       "         8: 3021,\n",
       "         9: 3998,\n",
       "         10: 657,\n",
       "         11: 261,\n",
       "         12: 2910})"
      ]
     },
     "execution_count": 30,
     "metadata": {},
     "output_type": "execute_result"
    }
   ],
   "source": [
    "Counter(cluster_file.cluster_13)"
   ]
  },
  {
   "cell_type": "code",
   "execution_count": 27,
   "metadata": {},
   "outputs": [
    {
     "name": "stdout",
     "output_type": "stream",
     "text": [
      "The shape of embeddings  (1783, 100)\n",
      "Counter({1: 1214, 2: 311, 0: 258})\n"
     ]
    },
    {
     "data": {
      "image/png": "[encoded data removed]",
      "text/plain": [
       "<Figure size 432x288 with 1 Axes>"
      ]
     },
     "metadata": {},
     "output_type": "display_data"
    }
   ],
   "source": [
    "kal_6=cluster_file.loc[cluster_file.cluster_6.isin([0,1,3]),[\"tweets\",\"cluster_6\"]].copy()\n",
    "kal_6_0,_,_=create_subclusters(kal_6.loc[kal_6.cluster_6==0,\"tweets\"].values,\"combined\",\"kaliren_6_0_\",clstr=3)"
   ]
  },
  {
   "cell_type": "code",
   "execution_count": 28,
   "metadata": {},
   "outputs": [
    {
     "name": "stdout",
     "output_type": "stream",
     "text": [
      "The shape of embeddings  (1783, 100)\n",
      "Counter({1: 475, 4: 318, 2: 260, 0: 259, 3: 240, 5: 231})\n"
     ]
    },
    {
     "data": {
      "image/png": "[encoded data removed]",
      "text/plain": [
       "<Figure size 432x288 with 1 Axes>"
      ]
     },
     "metadata": {},
     "output_type": "display_data"
    }
   ],
   "source": [
    "kal_6_0_6,_,_=create_subclusters(kal_6.loc[kal_6.cluster_6==0,\"tweets\"].values,\"combined\",\"kaliren_6_0_6\",clstr=6)"
   ]
  },
  {
   "cell_type": "code",
   "execution_count": 31,
   "metadata": {},
   "outputs": [
    {
     "name": "stdout",
     "output_type": "stream",
     "text": [
      "Total tweets for HARSHAAKHPEULLUBAITHAAHAI-Mentions 43258 and unique tweets w/o processing 6668\n",
      "unique tweets with processing 4614\n",
      "The shape of embeddings  (4614, 100)\n",
      "Counter({0: 1047, 11: 713, 4: 521, 2: 407, 6: 358, 1: 332, 3: 305, 10: 263, 12: 251, 7: 169, 9: 155, 8: 51, 5: 42})\n"
     ]
    },
    {
     "data": {
      "image/png": "[encoded data removed]",
      "text/plain": [
       "<Figure size 432x288 with 1 Axes>"
      ]
     },
     "metadata": {},
     "output_type": "display_data"
    }
   ],
   "source": [
    "cluster_file,scores,centers=show_cluster_combined_model(shows.copy(),\"HARSHAAKHPEULLUBAITHAAHAI-Mentions\",\"combined\",clstr=13)"
   ]
  },
  {
   "cell_type": "code",
   "execution_count": 32,
   "metadata": {},
   "outputs": [
    {
     "name": "stdout",
     "output_type": "stream",
     "text": [
      "Total tweets for colorstv-show-bepannaah-Mentions 187314 and unique tweets w/o processing 31539\n",
      "unique tweets with processing 26893\n",
      "The shape of embeddings  (26893, 100)\n",
      "Counter({1: 5385, 4: 4230, 6: 3378, 12: 3204, 2: 2106, 8: 1974, 3: 1601, 0: 1448, 7: 1395, 11: 842, 5: 621, 9: 574, 10: 135})\n"
     ]
    },
    {
     "data": {
      "image/png": "[encoded data removed]",
      "text/plain": [
       "<Figure size 432x288 with 1 Axes>"
      ]
     },
     "metadata": {},
     "output_type": "display_data"
    }
   ],
   "source": [
    "cluster_file,scores,centers=show_cluster_combined_model(shows.copy(),\"colorstv-show-bepannaah-Mentions\",\"combined\",clstr=13)"
   ]
  },
  {
   "cell_type": "code",
   "execution_count": 39,
   "metadata": {},
   "outputs": [
    {
     "name": "stdout",
     "output_type": "stream",
     "text": [
      "Total tweets for sony-tv-show-dus-ka-dum-Mentions 102423 and unique tweets w/o processing 10271\n",
      "unique tweets with processing 8762\n",
      "The shape of embeddings  (8762, 100)\n",
      "Counter({1: 1558, 8: 1054, 4: 959, 0: 947, 9: 838, 7: 693, 5: 559, 2: 501, 3: 447, 12: 399, 11: 391, 6: 254, 10: 162})\n"
     ]
    },
    {
     "data": {
      "image/png": "[encoded data removed]",
      "text/plain": [
       "<Figure size 432x288 with 1 Axes>"
      ]
     },
     "metadata": {},
     "output_type": "display_data"
    }
   ],
   "source": [
    "cluster_file_dkd,scores_dkd,centers_dkd=show_cluster_combined_model(shows.copy(),\"sony-tv-show-dus-ka-dum-Mentions\",\"combined\",clstr=13)"
   ]
  },
  {
   "cell_type": "code",
   "execution_count": 35,
   "metadata": {},
   "outputs": [
    {
     "name": "stdout",
     "output_type": "stream",
     "text": [
      "Total tweets for starplus-show-kasautii-zindagi-kay-Mentions 190294 and unique tweets w/o processing 19894\n",
      "unique tweets with processing 18170\n",
      "The shape of embeddings  (18170, 100)\n",
      "Counter({11: 3697, 3: 2779, 0: 2308, 10: 1842, 2: 1580, 9: 1435, 6: 924, 4: 921, 7: 848, 12: 710, 5: 525, 8: 476, 1: 125})\n"
     ]
    },
    {
     "data": {
      "image/png": "[encoded data removed]",
      "text/plain": [
       "<Figure size 432x288 with 1 Axes>"
      ]
     },
     "metadata": {},
     "output_type": "display_data"
    }
   ],
   "source": [
    "cluster_file,scores,centers=show_cluster_combined_model(shows.copy(),\"starplus-show-kasautii-zindagi-kay-Mentions\",\"combined\",clstr=13)"
   ]
  },
  {
   "cell_type": "code",
   "execution_count": 59,
   "metadata": {},
   "outputs": [
    {
     "name": "stdout",
     "output_type": "stream",
     "text": [
      "Total tweets for zee-tv---show---ishq-subhan-allah-Mentions 12256 and unique tweets w/o processing 7470\n",
      "unique tweets with processing 6451\n",
      "The shape of embeddings  (6451, 100)\n",
      "Counter({6: 1126, 1: 1005, 3: 913, 12: 738, 5: 554, 4: 435, 11: 370, 10: 267, 0: 264, 8: 243, 9: 230, 2: 165, 7: 141})\n"
     ]
    },
    {
     "data": {
      "image/png": "[encoded data removed]",
      "text/plain": [
       "<Figure size 432x288 with 1 Axes>"
      ]
     },
     "metadata": {},
     "output_type": "display_data"
    }
   ],
   "source": [
    "cluster_file_i,scores_i,centers_i=show_cluster_combined_model(shows.copy(),\"zee-tv---show---ishq-subhan-allah-Mentions\",\"combined\",clstr=13)"
   ]
  },
  {
   "cell_type": "code",
   "execution_count": 60,
   "metadata": {},
   "outputs": [
    {
     "name": "stdout",
     "output_type": "stream",
     "text": [
      "[[ 7.2732395   4.93515719 17.9859747  10.9248664   6.52224294 10.15261624\n",
      "  10.47578726  6.16167221  9.49280014  6.89709684 12.8753988   9.48339863\n",
      "   9.93147295]\n",
      " [15.59195675 16.71957452  0.94608599 16.15634464 14.38595339 12.50598383\n",
      "  12.98520974 16.69392305 14.47990181 16.11059024 16.93440086 14.19306773\n",
      "  15.02863879]\n",
      " [ 7.6225701   6.850019   16.11391355 10.66871453  6.03147996  8.01773413\n",
      "   9.04945734  7.58067234  8.0962256   7.6959314  12.89647023  8.51125776\n",
      "   8.85739385]\n",
      " [ 5.39068226  3.28213743 16.04195132  9.50316043  3.6147654   7.58158263\n",
      "   8.25579419  5.25615898  6.96879969  5.28665966 11.96291404  7.55341728\n",
      "   7.94175212]\n",
      " [ 8.98355568  8.28888316 17.26754478 11.5673411   8.0598561  10.00193008\n",
      "  10.73642166  8.42645512  9.74629164  9.19842825 13.7502982   9.91002584\n",
      "  10.21297685]\n",
      " [10.4949877  10.18124459 17.39003764 12.81836181  8.9674959   9.25509005\n",
      "  11.42920837 10.67792382  9.86938078 10.86036813 15.33560248 10.61474876\n",
      "  11.02748795]\n",
      " [10.51554973  9.79013778 18.63386309 12.76884484  9.83686088 11.81263454\n",
      "  12.23853503 10.07683512 11.3436111  10.70028127 14.57051177 11.58715376\n",
      "  11.69578281]\n",
      " [ 6.62211049  6.47227177 13.91638546  9.7892235   3.94215804  5.08977865\n",
      "   6.84086103  7.29492278  6.17658928  6.71429777 12.0838955   6.68705997\n",
      "   7.31887245]\n",
      " [ 7.55075587  7.14190751 15.37109352 10.39394808  6.10397456  7.79606601\n",
      "   9.04564735  7.48120756  7.89454771  7.86722842 12.40318855  8.00561362\n",
      "   8.57494794]\n",
      " [ 7.24569977  7.7921332  15.12263742  9.51562952  5.64125657  6.90214475\n",
      "   8.26315746  8.55293665  3.41930891  8.56574041 12.99687077  8.17753916\n",
      "   7.63204907]\n",
      " [ 5.99835743  3.32071464 17.60986993 10.18242549  5.35458438  9.70687054\n",
      "   9.21598705  4.72331711  9.01214921  4.98628406 12.15681559  8.6434574\n",
      "   8.8304375 ]\n",
      " [ 6.36030285  2.64693386 17.74856704 10.61478893  5.46299915  9.77333396\n",
      "  10.03127385  5.3769169   9.15907239  5.64626418 12.63963312  9.12346525\n",
      "   9.61130327]\n",
      " [ 8.61762899  7.63289632 18.0652253  11.37632077  7.99233197 10.61261696\n",
      "  11.02427948  7.60009691  9.92124445  8.68054565 13.32684395  9.97747139\n",
      "  10.40273871]]\n"
     ]
    },
    {
     "data": {
      "text/plain": [
       "array([1, 2, 1, 1, 7, 1, 1, 4, 7, 8, 1, 1, 7], dtype=int64)"
      ]
     },
     "execution_count": 60,
     "metadata": {},
     "output_type": "execute_result"
    }
   ],
   "source": [
    "distance=euclidean_distances(centers[11],centers_dkd[11])\n",
    "\n",
    "print(distance)\n",
    "\n",
    "distance.argmin(axis=1)\n",
    "\n",
    "cd=cosine_distances(centers[11],centers_dkd[11])\n",
    "\n",
    "cd.argmin(axis=1)"
   ]
  },
  {
   "cell_type": "markdown",
   "metadata": {},
   "source": [
    "#### Trying EMmodelfor clustering"
   ]
  },
  {
   "cell_type": "code",
   "execution_count": 53,
   "metadata": {},
   "outputs": [],
   "source": [
    "with open(\"starplus-show-kasautii-zindagi-kay-Mentions.embed\",'rb') as rf:\n",
    "    embeddings=pickle.load(rf)\n",
    "em=mixture.GaussianMixture(n_components=13,covariance_type='full',random_state=101)\n",
    "em.fit(embeddings)\n",
    "labels=em.predict(embeddings)"
   ]
  },
  {
   "cell_type": "code",
   "execution_count": 57,
   "metadata": {},
   "outputs": [],
   "source": [
    "cluster_file['em']=labels\n",
    "cluster_file.to_csv(\"em_kas.csv\")"
   ]
  },
  {
   "cell_type": "code",
   "execution_count": 58,
   "metadata": {},
   "outputs": [
    {
     "data": {
      "text/plain": [
       "Counter({0: 3939,\n",
       "         1: 1300,\n",
       "         2: 1225,\n",
       "         3: 619,\n",
       "         4: 2259,\n",
       "         5: 1855,\n",
       "         6: 513,\n",
       "         7: 1057,\n",
       "         8: 1600,\n",
       "         9: 2220,\n",
       "         10: 126,\n",
       "         11: 727,\n",
       "         12: 730})"
      ]
     },
     "execution_count": 58,
     "metadata": {},
     "output_type": "execute_result"
    }
   ],
   "source": [
    "Counter(labels)"
   ]
  }
 ],
 "metadata": {
  "kernelspec": {
   "display_name": "Python 3",
   "language": "python",
   "name": "python3"
  },
  "language_info": {
   "codemirror_mode": {
    "name": "ipython",
    "version": 3
   },
   "file_extension": ".py",
   "mimetype": "text/x-python",
   "name": "python",
   "nbconvert_exporter": "python",
   "pygments_lexer": "ipython3",
   "version": "3.6.8"
  }
 },
 "nbformat": 4,
 "nbformat_minor": 2
}
