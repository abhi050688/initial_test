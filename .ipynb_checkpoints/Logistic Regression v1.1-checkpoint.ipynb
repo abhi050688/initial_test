{
 "cells": [
  {
   "cell_type": "markdown",
   "metadata": {},
   "source": [
    "## Logistic Regression"
   ]
  },
  {
   "cell_type": "markdown",
   "metadata": {},
   "source": [
    "### The objective of the notebook is to identify customer who would churn in the future."
   ]
  },
  {
   "cell_type": "markdown",
   "metadata": {},
   "source": [
    "#### We will start with importing major libraries required for building and validating the model.\n",
    "Along with sklearn for linear models and matplotlib for plotting the features, we have an additional library of scorefast (scorefastlib) for importing data from the ScoreFast platform as well as deploying the model on ScoreFast platform. "
   ]
  },
  {
   "cell_type": "code",
   "execution_count": 1,
   "metadata": {},
   "outputs": [],
   "source": [
    "import numpy as np\n",
    "import pandas as pd\n",
    "import os\n",
    "import matplotlib.pyplot as plt\n",
    "from sklearn.preprocessing import StandardScaler\n",
    "from sklearn.model_selection import train_test_split\n",
    "from collections import Counter\n",
    "from sklearn.linear_model import LogisticRegression\n",
    "from sklearn.metrics import roc_auc_score,roc_curve\n",
    "from io import StringIO\n",
    "from scorefastlib.utils import read_dataset\n",
    "import seaborn as sns\n",
    "from sklearn.metrics import classification_report\n",
    "from scorefastlib.utils import deploy_model\n",
    "import pickle\n",
    "from sklearn.exceptions import DataConversionWarning\n",
    "%matplotlib inline"
   ]
  },
  {
   "cell_type": "markdown",
   "metadata": {},
   "source": [
    "To load data stored in the platform, we call read_dataset along with the id of the dataset and AUTH_TOKEN.\n",
    "The features of the dataset are annonymised and the target variable \"churn/not churned\" is called variable \"P\". 1 indicates churned while 0 indicates not churned."
   ]
  },
  {
   "cell_type": "code",
   "execution_count": 2,
   "metadata": {},
   "outputs": [
    {
     "data": {
      "text/html": [
       "<div>\n",
       "<style scoped>\n",
       "    .dataframe tbody tr th:only-of-type {\n",
       "        vertical-align: middle;\n",
       "    }\n",
       "\n",
       "    .dataframe tbody tr th {\n",
       "        vertical-align: top;\n",
       "    }\n",
       "\n",
       "    .dataframe thead th {\n",
       "        text-align: right;\n",
       "    }\n",
       "</style>\n",
       "<table border=\"1\" class=\"dataframe\">\n",
       "  <thead>\n",
       "    <tr style=\"text-align: right;\">\n",
       "      <th></th>\n",
       "      <th>A</th>\n",
       "      <th>B</th>\n",
       "      <th>C</th>\n",
       "      <th>D</th>\n",
       "      <th>E</th>\n",
       "      <th>F</th>\n",
       "      <th>G</th>\n",
       "      <th>H</th>\n",
       "      <th>I</th>\n",
       "      <th>J</th>\n",
       "      <th>K</th>\n",
       "      <th>L</th>\n",
       "      <th>M</th>\n",
       "      <th>N</th>\n",
       "      <th>O</th>\n",
       "      <th>P</th>\n",
       "    </tr>\n",
       "    <tr>\n",
       "      <th>id</th>\n",
       "      <th></th>\n",
       "      <th></th>\n",
       "      <th></th>\n",
       "      <th></th>\n",
       "      <th></th>\n",
       "      <th></th>\n",
       "      <th></th>\n",
       "      <th></th>\n",
       "      <th></th>\n",
       "      <th></th>\n",
       "      <th></th>\n",
       "      <th></th>\n",
       "      <th></th>\n",
       "      <th></th>\n",
       "      <th></th>\n",
       "      <th></th>\n",
       "    </tr>\n",
       "  </thead>\n",
       "  <tbody>\n",
       "    <tr>\n",
       "      <th>1</th>\n",
       "      <td>b</td>\n",
       "      <td>18.42</td>\n",
       "      <td>10.415</td>\n",
       "      <td>y</td>\n",
       "      <td>p</td>\n",
       "      <td>aa</td>\n",
       "      <td>v</td>\n",
       "      <td>0.125</td>\n",
       "      <td>t</td>\n",
       "      <td>f</td>\n",
       "      <td>0</td>\n",
       "      <td>f</td>\n",
       "      <td>g</td>\n",
       "      <td>120.0</td>\n",
       "      <td>375</td>\n",
       "      <td>1</td>\n",
       "    </tr>\n",
       "    <tr>\n",
       "      <th>2</th>\n",
       "      <td>a</td>\n",
       "      <td>21.75</td>\n",
       "      <td>11.750</td>\n",
       "      <td>u</td>\n",
       "      <td>g</td>\n",
       "      <td>c</td>\n",
       "      <td>v</td>\n",
       "      <td>0.250</td>\n",
       "      <td>f</td>\n",
       "      <td>f</td>\n",
       "      <td>0</td>\n",
       "      <td>t</td>\n",
       "      <td>g</td>\n",
       "      <td>180.0</td>\n",
       "      <td>0</td>\n",
       "      <td>1</td>\n",
       "    </tr>\n",
       "    <tr>\n",
       "      <th>3</th>\n",
       "      <td>b</td>\n",
       "      <td>30.17</td>\n",
       "      <td>1.085</td>\n",
       "      <td>y</td>\n",
       "      <td>p</td>\n",
       "      <td>c</td>\n",
       "      <td>v</td>\n",
       "      <td>0.040</td>\n",
       "      <td>f</td>\n",
       "      <td>f</td>\n",
       "      <td>0</td>\n",
       "      <td>f</td>\n",
       "      <td>g</td>\n",
       "      <td>170.0</td>\n",
       "      <td>179</td>\n",
       "      <td>1</td>\n",
       "    </tr>\n",
       "    <tr>\n",
       "      <th>4</th>\n",
       "      <td>b</td>\n",
       "      <td>22.67</td>\n",
       "      <td>2.540</td>\n",
       "      <td>y</td>\n",
       "      <td>p</td>\n",
       "      <td>c</td>\n",
       "      <td>h</td>\n",
       "      <td>2.585</td>\n",
       "      <td>t</td>\n",
       "      <td>f</td>\n",
       "      <td>0</td>\n",
       "      <td>f</td>\n",
       "      <td>g</td>\n",
       "      <td>0.0</td>\n",
       "      <td>0</td>\n",
       "      <td>0</td>\n",
       "    </tr>\n",
       "    <tr>\n",
       "      <th>5</th>\n",
       "      <td>a</td>\n",
       "      <td>36.00</td>\n",
       "      <td>1.000</td>\n",
       "      <td>u</td>\n",
       "      <td>g</td>\n",
       "      <td>c</td>\n",
       "      <td>v</td>\n",
       "      <td>2.000</td>\n",
       "      <td>t</td>\n",
       "      <td>t</td>\n",
       "      <td>11</td>\n",
       "      <td>f</td>\n",
       "      <td>g</td>\n",
       "      <td>0.0</td>\n",
       "      <td>456</td>\n",
       "      <td>0</td>\n",
       "    </tr>\n",
       "  </tbody>\n",
       "</table>\n",
       "</div>"
      ],
      "text/plain": [
       "    A      B       C  D  E   F  G      H  I  J   K  L  M      N    O  P\n",
       "id                                                                     \n",
       "1   b  18.42  10.415  y  p  aa  v  0.125  t  f   0  f  g  120.0  375  1\n",
       "2   a  21.75  11.750  u  g   c  v  0.250  f  f   0  t  g  180.0    0  1\n",
       "3   b  30.17   1.085  y  p   c  v  0.040  f  f   0  f  g  170.0  179  1\n",
       "4   b  22.67   2.540  y  p   c  h  2.585  t  f   0  f  g    0.0    0  0\n",
       "5   a  36.00   1.000  u  g   c  v  2.000  t  t  11  f  g    0.0  456  0"
      ]
     },
     "execution_count": 2,
     "metadata": {},
     "output_type": "execute_result"
    }
   ],
   "source": [
    "%env AUTH_TOKEN=58bc8714afbabfc792891ecc3df11e8794818801\n",
    "dataset = read_dataset(\"1638\")\n",
    "train = pd.read_csv(StringIO(dataset))\n",
    "train=pd.read_csv(\"train.csv\")\n",
    "train.set_index('id',inplace=True)\n",
    "target='P'\n",
    "train.head()"
   ]
  },
  {
   "cell_type": "markdown",
   "metadata": {},
   "source": [
    "Splitting the dataset before any feature engineering into new_train (ntrain) and new_test (ntest)."
   ]
  },
  {
   "cell_type": "code",
   "execution_count": 3,
   "metadata": {},
   "outputs": [
    {
     "name": "stdout",
     "output_type": "stream",
     "text": [
      "Training data size (414, 16)  and Test data size (138, 16)\n"
     ]
    }
   ],
   "source": [
    "x_train,x_test,y_train,y_test=train_test_split(train.drop(columns=['P'],axis=1),train.P,test_size=.25,random_state=101)\n",
    "ntrain=pd.concat([x_train,y_train],axis=1)\n",
    "ntest=pd.concat([x_test,y_test],axis=1)\n",
    "print(\"Training data size {}  and Test data size {}\".format(ntrain.shape,ntest.shape))\n",
    "del train"
   ]
  },
  {
   "cell_type": "markdown",
   "metadata": {},
   "source": [
    "### Churn rate distribution"
   ]
  },
  {
   "cell_type": "markdown",
   "metadata": {},
   "source": [
    "Based on the distribution of the churn rate, the data is fairly balanced with the churn rate = 56.04%"
   ]
  },
  {
   "cell_type": "code",
   "execution_count": 4,
   "metadata": {},
   "outputs": [
    {
     "data": {
      "image/png": "[encoded data removed]",
      "text/plain": [
       "<Figure size 360x432 with 1 Axes>"
      ]
     },
     "metadata": {},
     "output_type": "display_data"
    }
   ],
   "source": [
    "plt.figure(figsize=(5,6))\n",
    "sns.countplot(data=ntrain,x=\"P\")\n",
    "plt.title(\"churn rate = {:.2f}%\".format(ntrain.P.value_counts()[1]*100/ntrain.shape[0]))\n",
    "plt.xlabel(\"Churn\")\n",
    "plt.show()"
   ]
  },
  {
   "cell_type": "markdown",
   "metadata": {},
   "source": [
    "### Exploratory analysis to identify features which could explain the churn rate for customers."
   ]
  },
  {
   "cell_type": "markdown",
   "metadata": {},
   "source": [
    "Based on the below result, dataset contains null values"
   ]
  },
  {
   "cell_type": "code",
   "execution_count": 5,
   "metadata": {},
   "outputs": [
    {
     "name": "stdout",
     "output_type": "stream",
     "text": [
      "<class 'pandas.core.frame.DataFrame'>\n",
      "Int64Index: 414 entries, 407 to 524\n",
      "Data columns (total 16 columns):\n",
      "A    406 non-null object\n",
      "B    410 non-null float64\n",
      "C    414 non-null float64\n",
      "D    410 non-null object\n",
      "E    410 non-null object\n",
      "F    408 non-null object\n",
      "G    408 non-null object\n",
      "H    414 non-null float64\n",
      "I    414 non-null object\n",
      "J    414 non-null object\n",
      "K    414 non-null int64\n",
      "L    414 non-null object\n",
      "M    414 non-null object\n",
      "N    407 non-null float64\n",
      "O    414 non-null int64\n",
      "P    414 non-null int64\n",
      "dtypes: float64(4), int64(3), object(9)\n",
      "memory usage: 75.0+ KB\n"
     ]
    }
   ],
   "source": [
    "ntrain.info()"
   ]
  },
  {
   "cell_type": "markdown",
   "metadata": {},
   "source": [
    "Variable \"D\" and \"E\" are perfectly correlated based on the below cross-tabulation so removing \"E\" from both ntrain and ntest"
   ]
  },
  {
   "cell_type": "code",
   "execution_count": 6,
   "metadata": {},
   "outputs": [
    {
     "name": "stdout",
     "output_type": "stream",
     "text": [
      "E    g  gg   p\n",
      "D             \n",
      "l    0   1   0\n",
      "u  310   0   0\n",
      "y    0   0  99\n"
     ]
    }
   ],
   "source": [
    "d_v_e=pd.crosstab(ntrain.D,ntrain.E)\n",
    "print(d_v_e)\n",
    "del ntrain['E']\n",
    "del ntest['E']\n",
    "ntrain.loc[ntrain.D==\"l\",\"D\"]=\"u\""
   ]
  },
  {
   "cell_type": "markdown",
   "metadata": {},
   "source": [
    "Summarising numeric columns to check their distributions"
   ]
  },
  {
   "cell_type": "code",
   "execution_count": 7,
   "metadata": {},
   "outputs": [
    {
     "data": {
      "text/html": [
       "<div>\n",
       "<style scoped>\n",
       "    .dataframe tbody tr th:only-of-type {\n",
       "        vertical-align: middle;\n",
       "    }\n",
       "\n",
       "    .dataframe tbody tr th {\n",
       "        vertical-align: top;\n",
       "    }\n",
       "\n",
       "    .dataframe thead th {\n",
       "        text-align: right;\n",
       "    }\n",
       "</style>\n",
       "<table border=\"1\" class=\"dataframe\">\n",
       "  <thead>\n",
       "    <tr style=\"text-align: right;\">\n",
       "      <th></th>\n",
       "      <th>B</th>\n",
       "      <th>C</th>\n",
       "      <th>H</th>\n",
       "      <th>K</th>\n",
       "      <th>N</th>\n",
       "      <th>O</th>\n",
       "      <th>P</th>\n",
       "    </tr>\n",
       "  </thead>\n",
       "  <tbody>\n",
       "    <tr>\n",
       "      <th>count</th>\n",
       "      <td>410.000000</td>\n",
       "      <td>414.000000</td>\n",
       "      <td>414.000000</td>\n",
       "      <td>414.000000</td>\n",
       "      <td>407.000000</td>\n",
       "      <td>414.000000</td>\n",
       "      <td>414.000000</td>\n",
       "    </tr>\n",
       "    <tr>\n",
       "      <th>mean</th>\n",
       "      <td>31.539878</td>\n",
       "      <td>4.779940</td>\n",
       "      <td>2.294771</td>\n",
       "      <td>2.347826</td>\n",
       "      <td>172.552826</td>\n",
       "      <td>1054.678744</td>\n",
       "      <td>0.557971</td>\n",
       "    </tr>\n",
       "    <tr>\n",
       "      <th>std</th>\n",
       "      <td>12.016014</td>\n",
       "      <td>5.021112</td>\n",
       "      <td>3.535105</td>\n",
       "      <td>4.369693</td>\n",
       "      <td>158.963984</td>\n",
       "      <td>4472.603043</td>\n",
       "      <td>0.497229</td>\n",
       "    </tr>\n",
       "    <tr>\n",
       "      <th>min</th>\n",
       "      <td>13.750000</td>\n",
       "      <td>0.000000</td>\n",
       "      <td>0.000000</td>\n",
       "      <td>0.000000</td>\n",
       "      <td>0.000000</td>\n",
       "      <td>0.000000</td>\n",
       "      <td>0.000000</td>\n",
       "    </tr>\n",
       "    <tr>\n",
       "      <th>25%</th>\n",
       "      <td>22.500000</td>\n",
       "      <td>0.875000</td>\n",
       "      <td>0.210000</td>\n",
       "      <td>0.000000</td>\n",
       "      <td>54.000000</td>\n",
       "      <td>0.000000</td>\n",
       "      <td>0.000000</td>\n",
       "    </tr>\n",
       "    <tr>\n",
       "      <th>50%</th>\n",
       "      <td>28.250000</td>\n",
       "      <td>2.710000</td>\n",
       "      <td>1.000000</td>\n",
       "      <td>0.000000</td>\n",
       "      <td>144.000000</td>\n",
       "      <td>5.000000</td>\n",
       "      <td>1.000000</td>\n",
       "    </tr>\n",
       "    <tr>\n",
       "      <th>75%</th>\n",
       "      <td>38.772500</td>\n",
       "      <td>7.593750</td>\n",
       "      <td>2.750000</td>\n",
       "      <td>3.000000</td>\n",
       "      <td>260.000000</td>\n",
       "      <td>347.500000</td>\n",
       "      <td>1.000000</td>\n",
       "    </tr>\n",
       "    <tr>\n",
       "      <th>max</th>\n",
       "      <td>80.250000</td>\n",
       "      <td>28.000000</td>\n",
       "      <td>28.500000</td>\n",
       "      <td>40.000000</td>\n",
       "      <td>1160.000000</td>\n",
       "      <td>51100.000000</td>\n",
       "      <td>1.000000</td>\n",
       "    </tr>\n",
       "  </tbody>\n",
       "</table>\n",
       "</div>"
      ],
      "text/plain": [
       "                B           C           H           K            N  \\\n",
       "count  410.000000  414.000000  414.000000  414.000000   407.000000   \n",
       "mean    31.539878    4.779940    2.294771    2.347826   172.552826   \n",
       "std     12.016014    5.021112    3.535105    4.369693   158.963984   \n",
       "min     13.750000    0.000000    0.000000    0.000000     0.000000   \n",
       "25%     22.500000    0.875000    0.210000    0.000000    54.000000   \n",
       "50%     28.250000    2.710000    1.000000    0.000000   144.000000   \n",
       "75%     38.772500    7.593750    2.750000    3.000000   260.000000   \n",
       "max     80.250000   28.000000   28.500000   40.000000  1160.000000   \n",
       "\n",
       "                  O           P  \n",
       "count    414.000000  414.000000  \n",
       "mean    1054.678744    0.557971  \n",
       "std     4472.603043    0.497229  \n",
       "min        0.000000    0.000000  \n",
       "25%        0.000000    0.000000  \n",
       "50%        5.000000    1.000000  \n",
       "75%      347.500000    1.000000  \n",
       "max    51100.000000    1.000000  "
      ]
     },
     "execution_count": 7,
     "metadata": {},
     "output_type": "execute_result"
    }
   ],
   "source": [
    "ntrain.describe()"
   ]
  },
  {
   "cell_type": "code",
   "execution_count": 8,
   "metadata": {},
   "outputs": [
    {
     "data": {
      "text/plain": [
       "<matplotlib.axes._subplots.AxesSubplot at 0x1a22a95fd0>"
      ]
     },
     "execution_count": 8,
     "metadata": {},
     "output_type": "execute_result"
    },
    {
     "data": {
      "image/png": "[encoded data removed]",
      "text/plain": [
       "<Figure size 1152x360 with 3 Axes>"
      ]
     },
     "metadata": {},
     "output_type": "display_data"
    }
   ],
   "source": [
    "fig=plt.figure(figsize=(16,5))\n",
    "ax1=fig.add_subplot(131)\n",
    "ax2=fig.add_subplot(132)\n",
    "ax3=fig.add_subplot(133)\n",
    "sns.boxplot(\"P\",\"B\",data=ntrain,ax=ax1)\n",
    "sns.boxplot(\"P\",\"C\",data=ntrain,ax=ax2)\n",
    "sns.boxplot(\"P\",\"H\",data=ntrain,ax=ax3)"
   ]
  },
  {
   "cell_type": "code",
   "execution_count": 9,
   "metadata": {},
   "outputs": [
    {
     "data": {
      "text/plain": [
       "<matplotlib.axes._subplots.AxesSubplot at 0x1a22d6aef0>"
      ]
     },
     "execution_count": 9,
     "metadata": {},
     "output_type": "execute_result"
    },
    {
     "data": {
      "image/png": "[encoded data removed]",
      "text/plain": [
       "<Figure size 1152x360 with 3 Axes>"
      ]
     },
     "metadata": {},
     "output_type": "display_data"
    }
   ],
   "source": [
    "fig=plt.figure(figsize=(16,5))\n",
    "ax1=fig.add_subplot(131)\n",
    "ax2=fig.add_subplot(132)\n",
    "ax3=fig.add_subplot(133)\n",
    "sns.boxplot(\"P\",\"K\",data=ntrain,ax=ax1)\n",
    "sns.boxplot(\"P\",\"N\",data=ntrain,ax=ax2)\n",
    "sns.boxplot(\"P\",\"O\",data=ntrain,ax=ax3)"
   ]
  },
  {
   "cell_type": "markdown",
   "metadata": {},
   "source": [
    "Below are graphs to identify which of the Categorical variables explains churn of customers."
   ]
  },
  {
   "cell_type": "code",
   "execution_count": 10,
   "metadata": {},
   "outputs": [
    {
     "data": {
      "text/plain": [
       "<matplotlib.axes._subplots.AxesSubplot at 0x1a15dff4a8>"
      ]
     },
     "execution_count": 10,
     "metadata": {},
     "output_type": "execute_result"
    },
    {
     "data": {
      "image/png": "[encoded data removed]",
      "text/plain": [
       "<Figure size 1152x360 with 3 Axes>"
      ]
     },
     "metadata": {},
     "output_type": "display_data"
    }
   ],
   "source": [
    "fig=plt.figure(figsize=(16,5))\n",
    "ax1=fig.add_subplot(131)\n",
    "ax2=fig.add_subplot(132)\n",
    "ax3=fig.add_subplot(133)\n",
    "ax1.set(title=\"Churn Frequency by Column A\")\n",
    "ax2.set(title=\"Churn Frequency by Column D\")\n",
    "ax3.set(title=\"Churn Frequency by Column F\")\n",
    "#fig,ax=plt.subplots(ncols=3)\n",
    "sns.countplot(x=\"A\", hue=\"P\",edgecolor=\".6\",data=ntrain,ax=ax1)\n",
    "sns.countplot(x=\"D\", hue=\"P\",edgecolor=\".6\",data=ntrain,ax=ax2)\n",
    "sns.countplot(x=\"F\", hue=\"P\",edgecolor=\".6\",data=ntrain,ax=ax3)"
   ]
  },
  {
   "cell_type": "code",
   "execution_count": 11,
   "metadata": {},
   "outputs": [
    {
     "data": {
      "text/plain": [
       "<matplotlib.axes._subplots.AxesSubplot at 0x1a230b9c50>"
      ]
     },
     "execution_count": 11,
     "metadata": {},
     "output_type": "execute_result"
    },
    {
     "data": {
      "image/png": "[encoded data removed]",
      "text/plain": [
       "<Figure size 1152x360 with 3 Axes>"
      ]
     },
     "metadata": {},
     "output_type": "display_data"
    }
   ],
   "source": [
    "fig=plt.figure(figsize=(16,5))\n",
    "ax1=fig.add_subplot(131)\n",
    "ax2=fig.add_subplot(132)\n",
    "ax3=fig.add_subplot(133)\n",
    "ax1.set(title=\"Churn Frequency by Column G\")\n",
    "ax2.set(title=\"Churn Frequency by Column I\")\n",
    "ax3.set(title=\"Churn Frequency by Column J\")\n",
    "#fig,ax=plt.subplots(ncols=3)\n",
    "sns.countplot(x=\"G\", hue=\"P\",edgecolor=\".6\",data=ntrain,ax=ax1)\n",
    "sns.countplot(x=\"I\", hue=\"P\",edgecolor=\".6\",data=ntrain,ax=ax2)\n",
    "sns.countplot(x=\"J\", hue=\"P\",edgecolor=\".6\",data=ntrain,ax=ax3)"
   ]
  },
  {
   "cell_type": "code",
   "execution_count": 12,
   "metadata": {},
   "outputs": [
    {
     "data": {
      "text/plain": [
       "<matplotlib.axes._subplots.AxesSubplot at 0x1a232c80f0>"
      ]
     },
     "execution_count": 12,
     "metadata": {},
     "output_type": "execute_result"
    },
    {
     "data": {
      "image/png": "[encoded data removed]",
      "text/plain": [
       "<Figure size 1152x360 with 2 Axes>"
      ]
     },
     "metadata": {},
     "output_type": "display_data"
    }
   ],
   "source": [
    "fig=plt.figure(figsize=(16,5))\n",
    "ax1=fig.add_subplot(121)\n",
    "ax2=fig.add_subplot(122)\n",
    "ax1.set(title=\"Churn Frequency by Column G\")\n",
    "ax2.set(title=\"Churn Frequency by Column I\")\n",
    "ax3.set(title=\"Churn Frequency by Column J\")\n",
    "#fig,ax=plt.subplots(ncols=3)\n",
    "sns.countplot(x=\"L\", hue=\"P\",edgecolor=\".6\",data=ntrain,ax=ax1)\n",
    "sns.countplot(x=\"M\", hue=\"P\",edgecolor=\".6\",data=ntrain,ax=ax2)"
   ]
  },
  {
   "cell_type": "markdown",
   "metadata": {},
   "source": [
    "### Feature Engineering based on the above exploratory analysis"
   ]
  },
  {
   "cell_type": "markdown",
   "metadata": {},
   "source": [
    "Since there are missing values in the dataset, we need to treat it before applying logistic regression.The treatment steps are as follows:\n",
    "\n",
    "-> Fill median value in Column B and column N using only ntrain data (both are numeric features).\n",
    "\n",
    "-> Fill categorical value based on their distributions.\n",
    "\n",
    "-> Replace column F and column G with their respective categorical means. "
   ]
  },
  {
   "cell_type": "code",
   "execution_count": 13,
   "metadata": {},
   "outputs": [],
   "source": [
    "mn_b=np.nanmedian(ntrain.B)\n",
    "mn_n=np.nanmedian(ntrain.N)\n",
    "fill_dict={'A':'b','D':'u','F':'NA','G':'NA','B':mn_b,'N':mn_n}\n",
    "ntrain=ntrain.fillna(fill_dict)\n",
    "ntrain.loc[ntrain.F.isin(['NA','r','j']),'F']='new'\n",
    "ntrain.loc[~ntrain.G.isin(['v','h','ff','bb']),\"G\"]=\"other\"\n",
    "f_mean=ntrain.groupby('F')[target].mean().to_frame()\n",
    "f_mean.reset_index(inplace=True)\n",
    "g_mean=ntrain.groupby('G')[target].mean().to_frame()\n",
    "g_mean.reset_index(inplace=True)"
   ]
  },
  {
   "cell_type": "code",
   "execution_count": 14,
   "metadata": {},
   "outputs": [],
   "source": [
    "def set_data(trn,fill_dict,f_mean,g_mean):\n",
    "    trn=trn.fillna(fill_dict)\n",
    "    trn.loc[~trn.G.isin(['v','h','ff','bb']),\"G\"]=\"other\"\n",
    "    trn.loc[trn.F.isin(['NA','r','j']),'F']='new'\n",
    "    trn=trn.merge(f_mean,how='left',on='F')\n",
    "    trn=trn.merge(g_mean,how='left',on='G')\n",
    "    trn.rename(columns={\"P\":\"P_G\",\"P_x\":\"P\",\"P_y\":\"P_F\"},inplace=True)\n",
    "    trn.drop(columns=['F','G'],axis=1,inplace=True)\n",
    "    return(trn)"
   ]
  },
  {
   "cell_type": "markdown",
   "metadata": {},
   "source": [
    "Processing ntrain and ntest data in the same fashion to maintain symmetry."
   ]
  },
  {
   "cell_type": "code",
   "execution_count": 15,
   "metadata": {},
   "outputs": [],
   "source": [
    "ntrain_model=set_data(ntrain.copy(),fill_dict,f_mean,g_mean)\n",
    "ntest_model=set_data(ntest.copy(),fill_dict,f_mean,g_mean)"
   ]
  },
  {
   "cell_type": "markdown",
   "metadata": {},
   "source": [
    "Checking for missing values now"
   ]
  },
  {
   "cell_type": "code",
   "execution_count": 16,
   "metadata": {},
   "outputs": [
    {
     "name": "stdout",
     "output_type": "stream",
     "text": [
      "The number is missing values in ntrain = 0 and ntest = 0\n"
     ]
    }
   ],
   "source": [
    "print(\"The number is missing values in ntrain = {} and ntest = {}\".format(int(ntrain_model.isnull().values.any()),int(ntest_model.isnull().values.any())))"
   ]
  },
  {
   "cell_type": "markdown",
   "metadata": {},
   "source": [
    "Logistic regression takes only numeric features, so the categorical data needs to be converted into numeric data via dummy variables. Further the dataset is broken down into features and target."
   ]
  },
  {
   "cell_type": "code",
   "execution_count": 17,
   "metadata": {},
   "outputs": [],
   "source": [
    "cat=list(ntrain_model.columns[ntrain_model.dtypes==np.object])\n",
    "ntrain_model=pd.get_dummies(ntrain_model,prefix=cat,prefix_sep='_')\n",
    "ntest_model=pd.get_dummies(ntest_model,prefix=cat,prefix_sep='_')\n",
    "ntest_model=ntest_model[ntrain_model.columns]\n",
    "y=ntrain_model.P\n",
    "x=ntrain_model.drop('P',axis=1)\n",
    "x_test=ntest_model.drop('P',axis=1)\n",
    "y_test=ntest_model.P"
   ]
  },
  {
   "cell_type": "code",
   "execution_count": 18,
   "metadata": {},
   "outputs": [
    {
     "name": "stdout",
     "output_type": "stream",
     "text": [
      "Training data size (414, 21)  and Test data size (138, 21)\n"
     ]
    }
   ],
   "source": [
    "print(\"Training data size {}  and Test data size {}\".format(x.shape,x_test.shape))"
   ]
  },
  {
   "cell_type": "markdown",
   "metadata": {},
   "source": [
    "Scale both ntrain and ntest data and fit a logistic regression model."
   ]
  },
  {
   "cell_type": "code",
   "execution_count": 19,
   "metadata": {},
   "outputs": [
    {
     "name": "stderr",
     "output_type": "stream",
     "text": [
      "/anaconda3/envs/py36/lib/python3.6/site-packages/sklearn/preprocessing/data.py:617: DataConversionWarning: Data with input dtype uint8, int64, float64 were all converted to float64 by StandardScaler.\n",
      "  return self.partial_fit(X, y)\n",
      "/anaconda3/envs/py36/lib/python3.6/site-packages/sklearn/base.py:462: DataConversionWarning: Data with input dtype uint8, int64, float64 were all converted to float64 by StandardScaler.\n",
      "  return self.fit(X, **fit_params).transform(X)\n",
      "/anaconda3/envs/py36/lib/python3.6/site-packages/sklearn/linear_model/logistic.py:432: FutureWarning: Default solver will be changed to 'lbfgs' in 0.22. Specify a solver to silence this warning.\n",
      "  FutureWarning)\n",
      "/anaconda3/envs/py36/lib/python3.6/site-packages/ipykernel_launcher.py:5: DataConversionWarning: Data with input dtype uint8, int64, float64 were all converted to float64 by StandardScaler.\n",
      "  \"\"\"\n"
     ]
    }
   ],
   "source": [
    "scl=StandardScaler()\n",
    "x=scl.fit_transform(x)\n",
    "regr=LogisticRegression()\n",
    "regr.fit(x,y)\n",
    "x_test=scl.transform(x_test)"
   ]
  },
  {
   "cell_type": "markdown",
   "metadata": {},
   "source": [
    "#### AUC or Area under the curve measures the classification power of the model"
   ]
  },
  {
   "cell_type": "code",
   "execution_count": 20,
   "metadata": {},
   "outputs": [
    {
     "name": "stdout",
     "output_type": "stream",
     "text": [
      "Using AUC as a measure to calcuate predictive power of the model\n",
      "The AUC for train data = 0.89\n",
      "The AUC for test data  = 0.83\n"
     ]
    }
   ],
   "source": [
    "print(\"Using AUC as a measure to calcuate predictive power of the model\")\n",
    "y_pred_train=regr.predict(x)\n",
    "y_pred_test=regr.predict(x_test)\n",
    "print(\"The AUC for train data = {:.2f}\".format(roc_auc_score(y_true=y,y_score=y_pred_train)))\n",
    "print(\"The AUC for test data  = {:.2f}\".format(roc_auc_score(y_true=y_test,y_score=y_pred_test)))"
   ]
  },
  {
   "cell_type": "code",
   "execution_count": 21,
   "metadata": {},
   "outputs": [
    {
     "data": {
      "image/png": "[encoded data removed]",
      "text/plain": [
       "<Figure size 432x288 with 1 Axes>"
      ]
     },
     "metadata": {},
     "output_type": "display_data"
    }
   ],
   "source": [
    "auc_test=roc_auc_score(y_true=y_test,y_score=y_pred_test)\n",
    "fpr, tpr, thresholds = roc_curve(y_test, regr.predict_proba(x_test)[:,1])\n",
    "plt.plot(fpr, tpr, label='Logistic Regression (area = {:0.2f})'.format(auc_test))\n",
    "plt.plot([0, 1], [0, 1],'r--')\n",
    "plt.xlim([0.0, 1.05])\n",
    "plt.ylim([0.0, 1.05])\n",
    "plt.xlabel('False Positive Rate')\n",
    "plt.ylabel('True Positive Rate')\n",
    "plt.title('Receiver operating characteristic')\n",
    "plt.legend(loc=\"lower right\")\n",
    "plt.show()"
   ]
  },
  {
   "cell_type": "markdown",
   "metadata": {},
   "source": [
    "#### Classification report and the Accuracy for the test data"
   ]
  },
  {
   "cell_type": "code",
   "execution_count": 22,
   "metadata": {},
   "outputs": [
    {
     "name": "stdout",
     "output_type": "stream",
     "text": [
      "Classification report for the test data :\n",
      "              precision    recall  f1-score   support\n",
      "\n",
      "           0       0.82      0.83      0.82        64\n",
      "           1       0.85      0.84      0.84        74\n",
      "\n",
      "   micro avg       0.83      0.83      0.83       138\n",
      "   macro avg       0.83      0.83      0.83       138\n",
      "weighted avg       0.83      0.83      0.83       138\n",
      "\n"
     ]
    }
   ],
   "source": [
    "print(\"Classification report for the test data :\")\n",
    "print(classification_report(y_test,y_pred_test))"
   ]
  },
  {
   "cell_type": "code",
   "execution_count": 23,
   "metadata": {},
   "outputs": [
    {
     "name": "stdout",
     "output_type": "stream",
     "text": [
      "The accuracy of the model on the test data: 83.33%\n"
     ]
    }
   ],
   "source": [
    "print(\"The accuracy of the model on the test data: {:.2f}%\".format(regr.score(x_test,y_test)*100))"
   ]
  },
  {
   "cell_type": "code",
   "execution_count": 24,
   "metadata": {},
   "outputs": [],
   "source": [
    "#deploy_model(model=regr, name=\"churn_model\", dataset_id=\"1638\", algorithm=\"LogisticRegression\")"
   ]
  }
 ],
 "metadata": {
  "kernelspec": {
   "display_name": "Python 3",
   "language": "python",
   "name": "python3"
  },
  "language_info": {
   "codemirror_mode": {
    "name": "ipython",
    "version": 3
   },
   "file_extension": ".py",
   "mimetype": "text/x-python",
   "name": "python",
   "nbconvert_exporter": "python",
   "pygments_lexer": "ipython3",
   "version": "3.6.4"
  }
 },
 "nbformat": 4,
 "nbformat_minor": 2
}
