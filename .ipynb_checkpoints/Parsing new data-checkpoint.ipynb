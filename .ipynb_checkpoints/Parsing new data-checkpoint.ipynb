{
 "cells": [
  {
   "cell_type": "code",
   "execution_count": 1,
   "metadata": {},
   "outputs": [
    {
     "name": "stderr",
     "output_type": "stream",
     "text": [
      "S:\\Anaconda\\envs\\py36\\lib\\site-packages\\gensim\\utils.py:1197: UserWarning:\n",
      "\n",
      "detected Windows; aliasing chunkize to chunkize_serial\n",
      "\n"
     ]
    },
    {
     "data": {
      "text/html": [
       "<script type=\"text/javascript\">window.PlotlyConfig = {MathJaxConfig: 'local'};</script><script type=\"text/javascript\">if (window.MathJax) {MathJax.Hub.Config({SVG: {font: \"STIX-Web\"}});}</script><script>requirejs.config({paths: { 'plotly': ['https://cdn.plot.ly/plotly-latest.min']},});if(!window._Plotly) {require(['plotly'],function(plotly) {window._Plotly=plotly;});}</script>"
      ],
      "text/vnd.plotly.v1+html": [
       "<script type=\"text/javascript\">window.PlotlyConfig = {MathJaxConfig: 'local'};</script><script type=\"text/javascript\">if (window.MathJax) {MathJax.Hub.Config({SVG: {font: \"STIX-Web\"}});}</script><script>requirejs.config({paths: { 'plotly': ['https://cdn.plot.ly/plotly-latest.min']},});if(!window._Plotly) {require(['plotly'],function(plotly) {window._Plotly=plotly;});}</script>"
      ]
     },
     "metadata": {},
     "output_type": "display_data"
    }
   ],
   "source": [
    "import pandas as pd\n",
    "import numpy as np\n",
    "import os\n",
    "import plotly.plotly as py\n",
    "import plotly.graph_objs as go\n",
    "import gc\n",
    "pd.options.display.max_columns=None\n",
    "import traceback\n",
    "from sklearn.model_selection import train_test_split\n",
    "import pickle\n",
    "import datetime as dt\n",
    "from nltk.tokenize import TweetTokenizer\n",
    "from gensim.models import Word2Vec\n",
    "from sklearn.linear_model import LogisticRegression\n",
    "from sklearn.metrics import confusion_matrix\n",
    "from sklearn.cluster import KMeans\n",
    "from sklearn.neighbors import NearestNeighbors\n",
    "from sklearn.metrics import accuracy_score,classification_report\n",
    "import matplotlib.pyplot as plt\n",
    "import seaborn as sns\n",
    "import plotly.graph_objs as go \n",
    "from collections import Counter\n",
    "import plotly.plotly as py\n",
    "import textblob\n",
    "from plotly.offline import download_plotlyjs, iplot,init_notebook_mode,plot\n",
    "sns.set_style(style='darkgrid')\n",
    "import re\n",
    "import string\n",
    "import nltk\n",
    "init_notebook_mode(connected=True)"
   ]
  },
  {
   "cell_type": "code",
   "execution_count": 147,
   "metadata": {},
   "outputs": [
    {
     "name": "stdout",
     "output_type": "stream",
     "text": [
      "[nltk_data] Downloading package brown to C:\\Users\\Abhishek\n",
      "[nltk_data]     S\\AppData\\Roaming\\nltk_data...\n",
      "[nltk_data]   Unzipping corpora\\brown.zip.\n"
     ]
    },
    {
     "data": {
      "text/plain": [
       "True"
      ]
     },
     "execution_count": 147,
     "metadata": {},
     "output_type": "execute_result"
    }
   ],
   "source": [
    "nltk.download('brown')"
   ]
  },
  {
   "cell_type": "markdown",
   "metadata": {},
   "source": [
    "## Reading all the data"
   ]
  },
  {
   "cell_type": "code",
   "execution_count": 77,
   "metadata": {},
   "outputs": [],
   "source": [
    "zee=\"F:\\ScoreData\\Zee TV\\Data_from_search_envn\"\n",
    "# zee=\"/Users/abhisheksahu/Documents/ZeeTv/Data_from_search_envn/data\"\n",
    "os.chdir(zee)"
   ]
  },
  {
   "cell_type": "code",
   "execution_count": 3,
   "metadata": {},
   "outputs": [
    {
     "name": "stdout",
     "output_type": "stream",
     "text": [
      "['Day 1', 'Day 2', 'Day 2.zip', 'Day 3', 'Day 3.zip', 'Day 4', 'Day 4.rar', 'Day 5', 'Day 5.rar', 'Day1.rar', 'max_ratings.csv', 'ratings.csv', 'search_data_all.model', 'Show queries.xlsx', 'sm_data', 'sony-tv-show-dus-ka-dum-Mentions.xls']\n"
     ]
    }
   ],
   "source": [
    "ldr=os.listdir()\n",
    "print(ldr)"
   ]
  },
  {
   "cell_type": "code",
   "execution_count": 52,
   "metadata": {},
   "outputs": [
    {
     "name": "stdout",
     "output_type": "stream",
     "text": [
      "Directory:  Day 1\n",
      "ALADDIN NAAM TOH SUNA HOGA-Mentions.csv file done\n",
      "andtvofficial-show-bitti-businesswali-Mentions.csv file done\n",
      "andtvofficial-show-high-fever-Mentions.csv file done\n",
      "BEECHWALE BAPU DEKH RAHA HAI-Mentions.csv file done\n",
      "BIGGBOSS 1-Mentions.csv file done\n",
      "BIGGBOSS 2-Mentions.csv file done\n",
      "BIGGBOSS 3-Mentions.csv file done\n",
      "BIGGBOSS 4-Mentions.csv file done\n",
      "colors-tv---show--dance-deewane-Mentions.csv file done\n",
      "colors-tv-show-dastan-e-mohabbat-Mentions.csv file done\n",
      "colorstv-show-belan-wali-bahu-Mentions.csv file done\n",
      "colorstv-show-bepannaah-Mentions.csv file done\n",
      "colorstv-show-dev-Mentions.csv file done\n",
      "colorstv-show-internet-wala-love-Mentions.csv file done\n",
      "ENTERTAINMENT KI RAAT-Mentions.csv file done\n",
      "sony-tv--show---cid-Mentions.csv file done\n"
     ]
    },
    {
     "name": "stderr",
     "output_type": "stream",
     "text": [
      "b'Skipping line 20260: expected 52 fields, saw 54\\n'\n"
     ]
    },
    {
     "name": "stdout",
     "output_type": "stream",
     "text": [
      "sony-tv-show-dus-ka-dum-Mentions.csv file done\n",
      "sony-tv-show-indian-idol-Mentions.csv file done\n",
      "sonytv-show-crime-patrol-Mentions.csv file done\n",
      "sonytv-show-zindagikecrossroads-Mentions.csv file done\n",
      "zee-tv---show---ishq-subhan-allah-Mentions.csv file done\n",
      "zee-tv---show---juzzbaaat-Mentions.csv file done\n",
      "zee-tv-shows-fear-files-Mentions.csv file done\n",
      "zeetv-show-aap-ke-aa-jane-se-Mentions.csv file done\n",
      "zeetv-show-did-lil-masters-Mentions.csv file done\n",
      "zeetv-shows-india-best-dramebaaz-Mentions.csv file done\n",
      "Directory:  Day 2\n",
      "HARSHAAKHPEULLUBAITHAAHAI-Mentions.csv file done\n",
      "INDIA KE MAST KALANDAR-Mentions.csv file done\n",
      "JIJAJICHHATPARHAIN-Mentions.csv file done\n",
      "KHICHDI-Mentions.csv file done\n",
      "KRISHNACHALILONDON-Mentions.csv file done\n",
      "NAZAR-Mentions.csv file done\n",
      "sonysab-show-namune-Mentions.csv file done\n",
      "sonysab-show-saat-phero-ki-hera-pherie-Mentions.csv file done\n",
      "sonysab-show-shriman-shrimati-phir-se-Mentions.csv file done\n",
      "sonysab-show-supersister-Mentions.csv file done\n",
      "star-plus-show-danceplus-Mentions.csv file done\n",
      "star-plus-show-dil-hai-hindustani--Mentions.csv file done\n",
      "starplus-show-kasautii-zindagi-kay 1-Mentions.csv file done\n",
      "starplus-show-kasautii-zindagi-kay 10-Mentions.csv file done\n",
      "starplus-show-kasautii-zindagi-kay 11-Mentions.csv file done\n",
      "starplus-show-kasautii-zindagi-kay 2-Mentions.csv file done\n",
      "starplus-show-kasautii-zindagi-kay 3-Mentions.csv file done\n",
      "starplus-show-kasautii-zindagi-kay 4-Mentions.csv file done\n",
      "starplus-show-kasautii-zindagi-kay 5-Mentions.csv file done\n",
      "Too many columns specified: expected 52 and found 25\n",
      "starplus-show-kasautii-zindagi-kay 6-Mentions.csv issue in this file-------------------------------------------------\n",
      "starplus-show-kasautii-zindagi-kay 7-Mentions.csv file done\n",
      "starplus-show-kasautii-zindagi-kay 8-Mentions.csv file done\n",
      "starplus-show-kasautii-zindagi-kay 9-Mentions.csv file done\n",
      "starplus-show-kulfi-kumar-bajewala-Mentions.csv file done\n",
      "starplus-show-mariam-khan-reporting-live-Mentions.csv file done\n",
      "starplus-show-qayamat-ki-raat-Mentions.csv file done\n",
      "starplus-show-sabse-smart-kaun-Mentions.csv file done\n",
      "Directory:  Day 2.zip\n",
      "Directory:  Day 3\n",
      "andtv-show-perfect-pati-Mentions.csv file done\n",
      "andtvofficial-show-laal-ishq-Mentions.csv file done\n",
      "andtvofficial-show-love-me-india-Mentions.csv file done\n",
      "andtvofficial-show-mitegi-lakshmanrekha-Mentions.csv file done\n",
      "andtvofficial-show-vikram-betaal-Mentions.csv file done\n",
      "colors-tv-show-naagin-Mentions.csv file done\n",
      "colors-tv-show-rising-star-Mentions.csv file done\n",
      "colorstv-show-kasam-Mentions.csv file done\n",
      "colorstv-show-kaun-hai-Mentions.csv file done\n",
      "colorstv-show-roop-mard-ka-naya-swaroop-Mentions.csv file done\n",
      "colorstv-show-savitri-devi-college-and-hospital-Mentions.csv file done\n",
      "colorstv-show-silsila-badalte-rishton-ka-Mentions.csv file done\n",
      "sonytv-show-prithvi-vallabh-Mentions.csv file done\n",
      "sonytv-shows-yeh-pyaar-nahi-tho-kya-hai-Mentions.csv file done\n",
      "THE VOICE INDIA KIDS-Mentions.csv file done\n",
      "zeetv---show---kaleerein-Mentions.csv file done\n",
      "zeetv-show-ye-teri-galiyan-Mentions.csv file done\n",
      "zeetv-shows-maggie-kitchen-journeys-Mentions.csv file done\n",
      "zeetv-shows-sa-re-ga-ma-pa-Mentions.csv file done\n",
      "Directory:  Day 3.zip\n",
      "Directory:  Day 4\n",
      "CHANDRASHEKAR-Mentions.csv file done\n",
      "COMEDY CIRCUS-Mentions.csv file done\n",
      "DetectiveDidi-Mentions.csv file done\n",
      "DIL HI TO HAI -Mentions.csv file done\n",
      "Guddan-Mentions.csv file done\n"
     ]
    },
    {
     "name": "stderr",
     "output_type": "stream",
     "text": [
      "b'Skipping line 960: expected 52 fields, saw 53\\n'\n"
     ]
    },
    {
     "name": "stdout",
     "output_type": "stream",
     "text": [
      "IndiasGotTalent-Mentions.csv file done\n",
      "JIO DHAN DHANA DHAN LIVE-Mentions.csv file done\n",
      "KAUN BANEGA CROREPATI 1-Mentions.csv file done\n"
     ]
    },
    {
     "name": "stderr",
     "output_type": "stream",
     "text": [
      "b'Skipping line 2774: expected 52 fields, saw 53\\nSkipping line 4188: expected 52 fields, saw 53\\n'\n"
     ]
    },
    {
     "name": "stdout",
     "output_type": "stream",
     "text": [
      "KAUN BANEGA CROREPATI 2-Mentions.csv file done\n",
      "KAUN BANEGA CROREPATI 3-Mentions.csv file done\n",
      "MAIN MAIKE CHALI JAUNGI-Mentions.csv file done\n",
      "MAYAVI MALING-Mentions.csv file done\n",
      "PAPA BY CHANCE-Mentions.csv file done\n",
      "RADHAKRISHN-Mentions.csv file done\n",
      "Directory:  Day 4.rar\n",
      "Directory:  Day 5\n",
      "DEVON KE DEV MAHADEV-Mentions.csv file done\n",
      "INDIAS NEXT SUPERSTARS-Mentions.csv file done\n",
      "KARNSANGINI-Mentions.csv file done\n",
      "MAHABHARAT-Mentions.csv file done\n",
      "MUSKAAN-Mentions.csv file done\n",
      "SAVDHAAN INDIA-INDIA FIGHTS BACK-Mentions.csv file done\n",
      "SIYA KE RAM-Mentions.csv file done\n",
      "TEDTALKSINDIANAYISOCH 1-Mentions.csv file done\n",
      "TEDTALKSINDIANAYISOCH 2-Mentions.csv file done\n",
      "zeetv-shows-tujhse-hai-rabta-Mentions.csv file done\n",
      "Directory:  Day 5.rar\n",
      "Directory:  Day1.rar\n",
      "Directory:  max_ratings.csv\n",
      "Directory:  ratings.csv\n",
      "Directory:  Show queries.xlsx\n",
      "Directory:  sm_data\n",
      "Directory:  sony-tv-show-dus-ka-dum-Mentions.xls\n",
      "Directory:  ~$Show queries.xlsx\n"
     ]
    }
   ],
   "source": [
    "news_ln=['No','Source','Host','Link','Date(ET)','Time(ET)','LocalTime','Category','Author ID','Author Name','Author URL','Authority','Followers','Following','Age','Gender','Language','Country','Province/State','City','Location','Sentiment','Themes','Classifications','Entities','Alexa Rank','Alexa Reach','Title','Snippet','Contents','Summary','Bio','Unique ID','Post Source']\n",
    "blogs_ln=['No','Source','Host','Link','Date(ET)','Time(ET)','LocalTime','Category','Author ID','Author Name','Author URL','Authority','Followers','Following','Age','Gender','Language','Country','Province/State','City','Location','Sentiment','Themes','Classifications','Entities','Alexa Rank','Alexa Reach','Title','Snippet','Contents','Summary','Bio','Unique ID','Post Source']\n",
    "tumbler_ln=['No','Source','Host','Link','Date(ET)','Time(ET)','LocalTime','Category','Author ID','Author Name','Author URL','Authority','Followers','Following','Age','Gender','Language','Country','Province/State','City','Location','Sentiment','Themes','Classifications','Entities','Alexa Rank','Alexa Reach','Title','Snippet','Contents','Summary','Bio','Unique ID','Post Source']\n",
    "instagram_ln=['No','Source','Link','Date(ET)','Time(ET)','Author ID','Author Name','Language','Location','Contents','HashTags','Likes','Comments','Attachments','Brand Images','Object Images','Food Images','Scene Images','Selfie','Sentiment','Themes','Classifications','Entities','Unique ID']\n",
    "twitter_ln=['No','Source','Host','Link','Date(ET)','Time(ET)','LocalTime','Category','Author ID','Author Name','Author URL','Authority','Followers','Following','Age','Gender','Language','Country','Province/State','City','Location','Sentiment','Themes','Classifications','Entities','Alexa Rank','Alexa Reach','Title','Snippet','Contents','Summary','Bio','Unique ID','Post Source']\n",
    "forum_ln=['No','Source','Host','Link','Date(ET)','Time(ET)','LocalTime','Category','Author ID','Author Name','Author URL','Authority','Followers','Following','Age','Gender','Language','Country','Province/State','City','Location','Sentiment','Themes','Classifications','Entities','Alexa Rank','Alexa Reach','Title','Snippet','Contents','Summary','Bio','Unique ID','Post Source']\n",
    "sm_dict={'NEWS':news_ln,\n",
    "        'TUMBLR':tumbler_ln,\n",
    "        'BLOGS':blogs_ln,\n",
    "        'INSTAGRAM':instagram_ln,\n",
    "        'TWITTER':twitter_ln,\n",
    "        'FORUMS':forum_ln}\n",
    "sm_pd_dict={'NEWS':pd.DataFrame(),\n",
    "        'TUMBLR':pd.DataFrame(),\n",
    "        'BLOGS':pd.DataFrame(),\n",
    "        'INSTAGRAM':pd.DataFrame(),\n",
    "        'TWITTER':pd.DataFrame(),\n",
    "        'FORUMS':pd.DataFrame()}\n",
    "bad_files=list()\n",
    "k=0\n",
    "for dr in ldr:\n",
    "    print(\"Directory: \",dr)\n",
    "    while os.path.isdir(dr):\n",
    "        os.chdir(os.path.join(zee,dr))\n",
    "        lst=os.listdir()\n",
    "        for fle in lst:\n",
    "            if k>1e10:\n",
    "                break\n",
    "            k+=1\n",
    "            try:\n",
    "                data=pd.read_csv(fle,skiprows=13,header=None,error_bad_lines=False,dtype=str)\n",
    "                for kys in sm_dict.keys():\n",
    "                    news=data[data[1]==kys]\n",
    "                    news=news.iloc[:,:len(sm_dict[kys])]\n",
    "                    news.columns=sm_dict[kys]\n",
    "                    sname=fle.split(\".\")[0]\n",
    "                    pattern=re.compile(r\"(\\d|\\s)\")\n",
    "                    nname=pattern.sub(\"\",sname)\n",
    "                    news['showname']=sname\n",
    "                    news['nname']=nname\n",
    "                    if kys=='INSTAGRAM':\n",
    "                        news['LocalTime']=pd.to_datetime(news['Date(ET)']+' '+news['Time(ET)'])\n",
    "                    else:\n",
    "                        news['LocalTime']=pd.to_datetime(news['LocalTime'])\n",
    "                    sm_pd_dict[kys]=pd.concat([sm_pd_dict[kys],news],axis=0)\n",
    "                    del news\n",
    "                gc.collect()\n",
    "                print(\"{} file done\".format(fle))\n",
    "            except Exception as e:\n",
    "                print(e)\n",
    "                bad_files.append(fle)\n",
    "                print(\"{} issue in this file-------------------------------------------------\".format(fle))\n",
    "#                 traceback.print_exc()\n",
    "                continue\n",
    "    os.chdir(zee)\n",
    "for dt in sm_pd_dict.values():\n",
    "    dt.dropna(axis='columns',how='all',inplace=True)\n",
    "    dt.reset_index(drop=True,inplace=True)"
   ]
  },
  {
   "cell_type": "code",
   "execution_count": 53,
   "metadata": {},
   "outputs": [
    {
     "name": "stdout",
     "output_type": "stream",
     "text": [
      "<class 'pandas.core.frame.DataFrame'>\n",
      "RangeIndex: 1229489 entries, 0 to 1229488\n",
      "Data columns (total 31 columns):\n",
      "No                 1229489 non-null object\n",
      "Source             1229489 non-null object\n",
      "Host               1229489 non-null object\n",
      "Link               1229489 non-null object\n",
      "Date(ET)           1229489 non-null object\n",
      "Time(ET)           1229489 non-null object\n",
      "LocalTime          1229489 non-null datetime64[ns]\n",
      "Author ID          1229354 non-null object\n",
      "Author Name        1229163 non-null object\n",
      "Author URL         1229354 non-null object\n",
      "Authority          1229354 non-null object\n",
      "Followers          1229354 non-null object\n",
      "Following          1229354 non-null object\n",
      "Gender             843985 non-null object\n",
      "Language           1229489 non-null object\n",
      "Country            730074 non-null object\n",
      "Province/State     369242 non-null object\n",
      "City               362661 non-null object\n",
      "Location           960351 non-null object\n",
      "Sentiment          1229489 non-null object\n",
      "Themes             601368 non-null object\n",
      "Classifications    665431 non-null object\n",
      "Entities           665444 non-null object\n",
      "Snippet            1229489 non-null object\n",
      "Contents           1229489 non-null object\n",
      "Summary            1055930 non-null object\n",
      "Bio                1033594 non-null object\n",
      "Unique ID          1229489 non-null object\n",
      "Post Source        1229489 non-null object\n",
      "showname           1229489 non-null object\n",
      "nname              1229489 non-null object\n",
      "dtypes: datetime64[ns](1), object(30)\n",
      "memory usage: 290.8+ MB\n"
     ]
    }
   ],
   "source": [
    "sm_pd_dict['TWITTER'].info()"
   ]
  },
  {
   "cell_type": "code",
   "execution_count": 54,
   "metadata": {},
   "outputs": [],
   "source": [
    "with open('sm_data','wb') as sm:\n",
    "    pickle.dump(sm_pd_dict,sm)"
   ]
  },
  {
   "cell_type": "markdown",
   "metadata": {},
   "source": [
    "## Reading saved data object. Skip the above steps if all files have been read. "
   ]
  },
  {
   "cell_type": "code",
   "execution_count": 2,
   "metadata": {},
   "outputs": [],
   "source": [
    "zee=\"F:\\ScoreData\\Zee TV\\Data_from_search_envn\"\n",
    "# zee=\"/Users/abhisheksahu/Documents/ZeeTv/Data_from_search_envn/data\"\n",
    "os.chdir(zee)\n",
    "with open('sm_data','rb') as sm:\n",
    "    sm_pd_dict=pickle.load(sm)"
   ]
  },
  {
   "cell_type": "code",
   "execution_count": 3,
   "metadata": {},
   "outputs": [],
   "source": [
    "twitter=sm_pd_dict['TWITTER'].copy()\n",
    "twitter.Contents=twitter.Contents.str.lower()\n",
    "twitter['original']=~twitter.Contents.str.startswith(('rt','qt'))"
   ]
  },
  {
   "cell_type": "markdown",
   "metadata": {},
   "source": [
    "### Ratings"
   ]
  },
  {
   "cell_type": "code",
   "execution_count": 4,
   "metadata": {},
   "outputs": [],
   "source": [
    "# ratings=pd.read_csv(\"ratings.csv\")\n",
    "# ratings.groupby('Showname').max().to_csv(\"max_ratings.csv\")"
   ]
  },
  {
   "cell_type": "code",
   "execution_count": 6,
   "metadata": {},
   "outputs": [],
   "source": [
    "ratings=pd.read_csv(\"Show_ratings.csv\")\n",
    "train,test=train_test_split(ratings,test_size=0.3,random_state=211)"
   ]
  },
  {
   "cell_type": "code",
   "execution_count": 7,
   "metadata": {},
   "outputs": [
    {
     "data": {
      "text/plain": [
       "((56, 46), (24, 46))"
      ]
     },
     "execution_count": 7,
     "metadata": {},
     "output_type": "execute_result"
    }
   ],
   "source": [
    "train.shape,test.shape"
   ]
  },
  {
   "cell_type": "code",
   "execution_count": 8,
   "metadata": {},
   "outputs": [
    {
     "data": {
      "text/html": [
       "<div>\n",
       "<style scoped>\n",
       "    .dataframe tbody tr th:only-of-type {\n",
       "        vertical-align: middle;\n",
       "    }\n",
       "\n",
       "    .dataframe tbody tr th {\n",
       "        vertical-align: top;\n",
       "    }\n",
       "\n",
       "    .dataframe thead th {\n",
       "        text-align: right;\n",
       "    }\n",
       "</style>\n",
       "<table border=\"1\" class=\"dataframe\">\n",
       "  <thead>\n",
       "    <tr style=\"text-align: right;\">\n",
       "      <th></th>\n",
       "      <th>Showname</th>\n",
       "      <th>W1</th>\n",
       "      <th>W2</th>\n",
       "      <th>W3</th>\n",
       "      <th>W4</th>\n",
       "      <th>W5</th>\n",
       "      <th>W6</th>\n",
       "      <th>W7</th>\n",
       "      <th>W8</th>\n",
       "      <th>W9</th>\n",
       "      <th>W10</th>\n",
       "      <th>W11</th>\n",
       "      <th>W12</th>\n",
       "      <th>W13</th>\n",
       "      <th>W14</th>\n",
       "      <th>W15</th>\n",
       "      <th>W16</th>\n",
       "      <th>W17</th>\n",
       "      <th>W18</th>\n",
       "      <th>W19</th>\n",
       "      <th>W20</th>\n",
       "      <th>W21</th>\n",
       "      <th>W22</th>\n",
       "      <th>W23</th>\n",
       "      <th>W24</th>\n",
       "      <th>W25</th>\n",
       "      <th>W26</th>\n",
       "      <th>W27</th>\n",
       "      <th>W28</th>\n",
       "      <th>W29</th>\n",
       "      <th>W30</th>\n",
       "      <th>W31</th>\n",
       "      <th>W32</th>\n",
       "      <th>W33</th>\n",
       "      <th>W34</th>\n",
       "      <th>W35</th>\n",
       "      <th>W36</th>\n",
       "      <th>W37</th>\n",
       "      <th>W38</th>\n",
       "      <th>W39</th>\n",
       "      <th>W40</th>\n",
       "      <th>W41</th>\n",
       "      <th>W42</th>\n",
       "      <th>W43</th>\n",
       "      <th>W44</th>\n",
       "      <th>W45</th>\n",
       "    </tr>\n",
       "  </thead>\n",
       "  <tbody>\n",
       "    <tr>\n",
       "      <th>5</th>\n",
       "      <td>DEVONKEDEVMAHADEV-Mentions</td>\n",
       "      <td>0.71</td>\n",
       "      <td>0.75</td>\n",
       "      <td>0.71</td>\n",
       "      <td>0.62</td>\n",
       "      <td>0.73</td>\n",
       "      <td>0.66</td>\n",
       "      <td>0.65</td>\n",
       "      <td>0.50</td>\n",
       "      <td>0.73</td>\n",
       "      <td>1.08</td>\n",
       "      <td>0.93</td>\n",
       "      <td>0.78</td>\n",
       "      <td>0.77</td>\n",
       "      <td>0.58</td>\n",
       "      <td>NaN</td>\n",
       "      <td>NaN</td>\n",
       "      <td>NaN</td>\n",
       "      <td>NaN</td>\n",
       "      <td>NaN</td>\n",
       "      <td>NaN</td>\n",
       "      <td>NaN</td>\n",
       "      <td>NaN</td>\n",
       "      <td>NaN</td>\n",
       "      <td>NaN</td>\n",
       "      <td>NaN</td>\n",
       "      <td>NaN</td>\n",
       "      <td>NaN</td>\n",
       "      <td>NaN</td>\n",
       "      <td>NaN</td>\n",
       "      <td>NaN</td>\n",
       "      <td>NaN</td>\n",
       "      <td>NaN</td>\n",
       "      <td>NaN</td>\n",
       "      <td>NaN</td>\n",
       "      <td>NaN</td>\n",
       "      <td>NaN</td>\n",
       "      <td>NaN</td>\n",
       "      <td>NaN</td>\n",
       "      <td>NaN</td>\n",
       "      <td>NaN</td>\n",
       "      <td>NaN</td>\n",
       "      <td>NaN</td>\n",
       "      <td>NaN</td>\n",
       "      <td>NaN</td>\n",
       "      <td>NaN</td>\n",
       "    </tr>\n",
       "    <tr>\n",
       "      <th>78</th>\n",
       "      <td>zeetv-shows-sa-re-ga-ma-pa-Mentions</td>\n",
       "      <td>1.17</td>\n",
       "      <td>0.97</td>\n",
       "      <td>1.06</td>\n",
       "      <td>0.81</td>\n",
       "      <td>NaN</td>\n",
       "      <td>NaN</td>\n",
       "      <td>NaN</td>\n",
       "      <td>NaN</td>\n",
       "      <td>NaN</td>\n",
       "      <td>NaN</td>\n",
       "      <td>NaN</td>\n",
       "      <td>NaN</td>\n",
       "      <td>NaN</td>\n",
       "      <td>NaN</td>\n",
       "      <td>NaN</td>\n",
       "      <td>NaN</td>\n",
       "      <td>NaN</td>\n",
       "      <td>NaN</td>\n",
       "      <td>NaN</td>\n",
       "      <td>NaN</td>\n",
       "      <td>NaN</td>\n",
       "      <td>NaN</td>\n",
       "      <td>NaN</td>\n",
       "      <td>NaN</td>\n",
       "      <td>NaN</td>\n",
       "      <td>NaN</td>\n",
       "      <td>NaN</td>\n",
       "      <td>NaN</td>\n",
       "      <td>NaN</td>\n",
       "      <td>NaN</td>\n",
       "      <td>NaN</td>\n",
       "      <td>NaN</td>\n",
       "      <td>NaN</td>\n",
       "      <td>NaN</td>\n",
       "      <td>NaN</td>\n",
       "      <td>NaN</td>\n",
       "      <td>NaN</td>\n",
       "      <td>NaN</td>\n",
       "      <td>NaN</td>\n",
       "      <td>NaN</td>\n",
       "      <td>NaN</td>\n",
       "      <td>NaN</td>\n",
       "      <td>NaN</td>\n",
       "      <td>NaN</td>\n",
       "      <td>NaN</td>\n",
       "    </tr>\n",
       "    <tr>\n",
       "      <th>59</th>\n",
       "      <td>sonytv-show-prithvi-vallabh-Mentions</td>\n",
       "      <td>0.95</td>\n",
       "      <td>0.73</td>\n",
       "      <td>0.74</td>\n",
       "      <td>0.66</td>\n",
       "      <td>0.60</td>\n",
       "      <td>0.63</td>\n",
       "      <td>0.56</td>\n",
       "      <td>0.56</td>\n",
       "      <td>0.45</td>\n",
       "      <td>0.32</td>\n",
       "      <td>0.27</td>\n",
       "      <td>0.27</td>\n",
       "      <td>0.28</td>\n",
       "      <td>0.31</td>\n",
       "      <td>0.33</td>\n",
       "      <td>0.29</td>\n",
       "      <td>0.27</td>\n",
       "      <td>0.29</td>\n",
       "      <td>0.31</td>\n",
       "      <td>0.29</td>\n",
       "      <td>0.23</td>\n",
       "      <td>NaN</td>\n",
       "      <td>NaN</td>\n",
       "      <td>NaN</td>\n",
       "      <td>NaN</td>\n",
       "      <td>NaN</td>\n",
       "      <td>NaN</td>\n",
       "      <td>NaN</td>\n",
       "      <td>NaN</td>\n",
       "      <td>NaN</td>\n",
       "      <td>NaN</td>\n",
       "      <td>NaN</td>\n",
       "      <td>NaN</td>\n",
       "      <td>NaN</td>\n",
       "      <td>NaN</td>\n",
       "      <td>NaN</td>\n",
       "      <td>NaN</td>\n",
       "      <td>NaN</td>\n",
       "      <td>NaN</td>\n",
       "      <td>NaN</td>\n",
       "      <td>NaN</td>\n",
       "      <td>NaN</td>\n",
       "      <td>NaN</td>\n",
       "      <td>NaN</td>\n",
       "      <td>NaN</td>\n",
       "    </tr>\n",
       "    <tr>\n",
       "      <th>0</th>\n",
       "      <td>ALADDINNAAMTOHSUNAHOGA-Mentions</td>\n",
       "      <td>1.99</td>\n",
       "      <td>2.29</td>\n",
       "      <td>1.96</td>\n",
       "      <td>1.80</td>\n",
       "      <td>1.63</td>\n",
       "      <td>1.55</td>\n",
       "      <td>1.58</td>\n",
       "      <td>1.27</td>\n",
       "      <td>1.24</td>\n",
       "      <td>1.23</td>\n",
       "      <td>1.13</td>\n",
       "      <td>0.94</td>\n",
       "      <td>NaN</td>\n",
       "      <td>NaN</td>\n",
       "      <td>NaN</td>\n",
       "      <td>NaN</td>\n",
       "      <td>NaN</td>\n",
       "      <td>NaN</td>\n",
       "      <td>NaN</td>\n",
       "      <td>NaN</td>\n",
       "      <td>NaN</td>\n",
       "      <td>NaN</td>\n",
       "      <td>NaN</td>\n",
       "      <td>NaN</td>\n",
       "      <td>NaN</td>\n",
       "      <td>NaN</td>\n",
       "      <td>NaN</td>\n",
       "      <td>NaN</td>\n",
       "      <td>NaN</td>\n",
       "      <td>NaN</td>\n",
       "      <td>NaN</td>\n",
       "      <td>NaN</td>\n",
       "      <td>NaN</td>\n",
       "      <td>NaN</td>\n",
       "      <td>NaN</td>\n",
       "      <td>NaN</td>\n",
       "      <td>NaN</td>\n",
       "      <td>NaN</td>\n",
       "      <td>NaN</td>\n",
       "      <td>NaN</td>\n",
       "      <td>NaN</td>\n",
       "      <td>NaN</td>\n",
       "      <td>NaN</td>\n",
       "      <td>NaN</td>\n",
       "      <td>NaN</td>\n",
       "    </tr>\n",
       "    <tr>\n",
       "      <th>1</th>\n",
       "      <td>BEECHWALEBAPUDEKHRAHAHAI-Mentions</td>\n",
       "      <td>0.53</td>\n",
       "      <td>0.39</td>\n",
       "      <td>0.37</td>\n",
       "      <td>0.42</td>\n",
       "      <td>0.39</td>\n",
       "      <td>0.34</td>\n",
       "      <td>NaN</td>\n",
       "      <td>NaN</td>\n",
       "      <td>NaN</td>\n",
       "      <td>NaN</td>\n",
       "      <td>NaN</td>\n",
       "      <td>NaN</td>\n",
       "      <td>NaN</td>\n",
       "      <td>NaN</td>\n",
       "      <td>NaN</td>\n",
       "      <td>NaN</td>\n",
       "      <td>NaN</td>\n",
       "      <td>NaN</td>\n",
       "      <td>NaN</td>\n",
       "      <td>NaN</td>\n",
       "      <td>NaN</td>\n",
       "      <td>NaN</td>\n",
       "      <td>NaN</td>\n",
       "      <td>NaN</td>\n",
       "      <td>NaN</td>\n",
       "      <td>NaN</td>\n",
       "      <td>NaN</td>\n",
       "      <td>NaN</td>\n",
       "      <td>NaN</td>\n",
       "      <td>NaN</td>\n",
       "      <td>NaN</td>\n",
       "      <td>NaN</td>\n",
       "      <td>NaN</td>\n",
       "      <td>NaN</td>\n",
       "      <td>NaN</td>\n",
       "      <td>NaN</td>\n",
       "      <td>NaN</td>\n",
       "      <td>NaN</td>\n",
       "      <td>NaN</td>\n",
       "      <td>NaN</td>\n",
       "      <td>NaN</td>\n",
       "      <td>NaN</td>\n",
       "      <td>NaN</td>\n",
       "      <td>NaN</td>\n",
       "      <td>NaN</td>\n",
       "    </tr>\n",
       "  </tbody>\n",
       "</table>\n",
       "</div>"
      ],
      "text/plain": [
       "                                Showname    W1    W2    W3    W4    W5    W6  \\\n",
       "5             DEVONKEDEVMAHADEV-Mentions  0.71  0.75  0.71  0.62  0.73  0.66   \n",
       "78   zeetv-shows-sa-re-ga-ma-pa-Mentions  1.17  0.97  1.06  0.81   NaN   NaN   \n",
       "59  sonytv-show-prithvi-vallabh-Mentions  0.95  0.73  0.74  0.66  0.60  0.63   \n",
       "0        ALADDINNAAMTOHSUNAHOGA-Mentions  1.99  2.29  1.96  1.80  1.63  1.55   \n",
       "1      BEECHWALEBAPUDEKHRAHAHAI-Mentions  0.53  0.39  0.37  0.42  0.39  0.34   \n",
       "\n",
       "      W7    W8    W9   W10   W11   W12   W13   W14   W15   W16   W17   W18  \\\n",
       "5   0.65  0.50  0.73  1.08  0.93  0.78  0.77  0.58   NaN   NaN   NaN   NaN   \n",
       "78   NaN   NaN   NaN   NaN   NaN   NaN   NaN   NaN   NaN   NaN   NaN   NaN   \n",
       "59  0.56  0.56  0.45  0.32  0.27  0.27  0.28  0.31  0.33  0.29  0.27  0.29   \n",
       "0   1.58  1.27  1.24  1.23  1.13  0.94   NaN   NaN   NaN   NaN   NaN   NaN   \n",
       "1    NaN   NaN   NaN   NaN   NaN   NaN   NaN   NaN   NaN   NaN   NaN   NaN   \n",
       "\n",
       "     W19   W20   W21  W22  W23  W24  W25  W26  W27  W28  W29  W30  W31  W32  \\\n",
       "5    NaN   NaN   NaN  NaN  NaN  NaN  NaN  NaN  NaN  NaN  NaN  NaN  NaN  NaN   \n",
       "78   NaN   NaN   NaN  NaN  NaN  NaN  NaN  NaN  NaN  NaN  NaN  NaN  NaN  NaN   \n",
       "59  0.31  0.29  0.23  NaN  NaN  NaN  NaN  NaN  NaN  NaN  NaN  NaN  NaN  NaN   \n",
       "0    NaN   NaN   NaN  NaN  NaN  NaN  NaN  NaN  NaN  NaN  NaN  NaN  NaN  NaN   \n",
       "1    NaN   NaN   NaN  NaN  NaN  NaN  NaN  NaN  NaN  NaN  NaN  NaN  NaN  NaN   \n",
       "\n",
       "    W33  W34  W35  W36  W37  W38  W39  W40  W41  W42  W43  W44  W45  \n",
       "5   NaN  NaN  NaN  NaN  NaN  NaN  NaN  NaN  NaN  NaN  NaN  NaN  NaN  \n",
       "78  NaN  NaN  NaN  NaN  NaN  NaN  NaN  NaN  NaN  NaN  NaN  NaN  NaN  \n",
       "59  NaN  NaN  NaN  NaN  NaN  NaN  NaN  NaN  NaN  NaN  NaN  NaN  NaN  \n",
       "0   NaN  NaN  NaN  NaN  NaN  NaN  NaN  NaN  NaN  NaN  NaN  NaN  NaN  \n",
       "1   NaN  NaN  NaN  NaN  NaN  NaN  NaN  NaN  NaN  NaN  NaN  NaN  NaN  "
      ]
     },
     "execution_count": 8,
     "metadata": {},
     "output_type": "execute_result"
    }
   ],
   "source": [
    "train.head()"
   ]
  },
  {
   "cell_type": "markdown",
   "metadata": {},
   "source": [
    "### Helper functions for calculating averages of ratings."
   ]
  },
  {
   "cell_type": "code",
   "execution_count": 9,
   "metadata": {},
   "outputs": [],
   "source": [
    "official_handle=[\"http://twitter.com/AndTVOfficial/\",\"http://twitter.com/ColorsTV/\",\"http://twitter.com/SonySABTV/\",\"http://twitter.com/SonyTV/\",\"http://twitter.com/StarPlus/\",\"http://twitter.com/ZeeTV/\"]\n",
    "def get_data_by_days(shows,verbose=False):\n",
    "    a=shows.Link.str.contains('http://twitter.com/AndTVOfficial/|http://twitter.com/ColorsTV/|http://twitter.com/SonySABTV/|http://twitter.com/SonyTV/|http://twitter.com/StarPlus/|http://twitter.com/ZeeTV/',regex=True)\n",
    "    twitter=shows[~a].copy()\n",
    "    twitter.reset_index(drop=True,inplace=True)\n",
    "    twitter['clean_content']=twitter.Contents.str.replace(r\"http.*[\\s\\n]\",\"\")\n",
    "    dt_min=twitter.groupby('nname')['LocalTime'].min().to_frame().reset_index()\n",
    "    dt_min['0_7_date']=dt_min['LocalTime'].apply(lambda x: x + dt.timedelta(days=7))\n",
    "    dt_min['7_14_date']=dt_min['LocalTime'].apply(lambda x: x + dt.timedelta(days=14))\n",
    "    dt_min['14_21_date']=dt_min['LocalTime'].apply(lambda x: x + dt.timedelta(days=21))\n",
    "    dt_min['max_dt']=dt_min['LocalTime'].apply(lambda x: x + dt.timedelta(days=30))\n",
    "    twitter2=twitter.merge(dt_min.drop('LocalTime',axis=1),on='nname',how='left')\n",
    "    twitter2=twitter2[twitter2['LocalTime']<=twitter2.max_dt].copy()\n",
    "    if verbose:\n",
    "        print(twitter2.groupby('nname')['LocalTime'].apply(lambda x:max(x)-min(x)))\n",
    "    return twitter2\n",
    "\n",
    "nrows=train.shape[0]\n",
    "brkup=(20,50,30)\n",
    "first=round(nrows*brkup[0]/100.0)\n",
    "second=round(nrows*brkup[1]/100.0)\n",
    "thresholds=[0,first,first+second]\n",
    "def avg_ratings(train):\n",
    "    avg_train=pd.DataFrame()\n",
    "    avg_train['first']=train.iloc[:,1:2].mean(skipna=True,axis=1)\n",
    "    avg_train['first2']=train.iloc[:,1:3].mean(skipna=True,axis=1)\n",
    "    avg_train['first3']=train.iloc[:,1:4].mean(skipna=True,axis=1)\n",
    "    avg_train['first4']=train.iloc[:,1:5].mean(skipna=True,axis=1)\n",
    "    avg_train['next_2_5']=train.iloc[:,2:6].mean(skipna=True,axis=1)\n",
    "    avg_train['next_2_7']=train.iloc[:,2:8].mean(skipna=True,axis=1)\n",
    "    avg_train['next_3_6']=train.iloc[:,3:7].mean(skipna=True,axis=1)\n",
    "    avg_train['next_3_8']=train.iloc[:,3:9].mean(skipna=True,axis=1)\n",
    "    avg_train['next_4_7']=train.iloc[:,4:8].mean(skipna=True,axis=1)\n",
    "    avg_train['next_4_9']=train.iloc[:,4:10].mean(skipna=True,axis=1)\n",
    "    avg_train['next_5_8']=train.iloc[:,5:9].mean(skipna=True,axis=1)\n",
    "    avg_train['next_5_10']=train.iloc[:,5:11].mean(skipna=True,axis=1)\n",
    "    avg_train['first4_ex1']=train.iloc[:,2:5].mean(skipna=True,axis=1)\n",
    "    avg_train.index=train.Showname\n",
    "    return avg_train\n",
    "\n",
    "def cal_threshold(series):\n",
    "    cutoff={}\n",
    "    cutoff['first_cutoff']=np.min(series.values[:first])\n",
    "    cutoff['second_cutoff']=np.min(series.values[first:first+second])\n",
    "    return cutoff\n",
    "\n",
    "def create_rank(series,cutoff):\n",
    "    temp=series.copy()\n",
    "    temp[:]=1\n",
    "    temp[(series>=cutoff['second_cutoff']) & (series<cutoff['first_cutoff']) ]=2\n",
    "    temp[series>=cutoff['first_cutoff']]=1\n",
    "    temp[series<cutoff['second_cutoff']]=3\n",
    "    return temp\n",
    "    \n",
    "\n",
    "def cal_err(train,srt=\"first4\"):\n",
    "    train_ranked=avg_ratings(train.copy())\n",
    "    train_ranked.sort_values(srt,ascending=False,inplace=True)\n",
    "    cutoff=cal_threshold(train_ranked[srt])\n",
    "    print(cutoff)\n",
    "    train_ranked2=train_ranked.apply(lambda series:create_rank(series,cutoff),axis='columns')\n",
    "#     print(\"--------------------------------\")\n",
    "#     print(\"\\n\")\n",
    "#     print(pd.crosstab(index=train[srt],columns=train.next4))\n",
    "#     print(\"--------------------------------\")\n",
    "#     print(\"\\n\")\n",
    "#     print(pd.crosstab(index=train[srt],columns=train.next6))\n",
    "    return train_ranked,train_ranked2\n",
    "#     return train_ranked"
   ]
  },
  {
   "cell_type": "code",
   "execution_count": 10,
   "metadata": {},
   "outputs": [
    {
     "name": "stdout",
     "output_type": "stream",
     "text": [
      "{'first_cutoff': 1.92, 'second_cutoff': 0.73}\n"
     ]
    }
   ],
   "source": [
    "train_ratings,train_ratings_ranked=cal_err(train,srt='first')"
   ]
  },
  {
   "cell_type": "code",
   "execution_count": 11,
   "metadata": {},
   "outputs": [
    {
     "data": {
      "text/html": [
       "<div>\n",
       "<style scoped>\n",
       "    .dataframe tbody tr th:only-of-type {\n",
       "        vertical-align: middle;\n",
       "    }\n",
       "\n",
       "    .dataframe tbody tr th {\n",
       "        vertical-align: top;\n",
       "    }\n",
       "\n",
       "    .dataframe thead th {\n",
       "        text-align: right;\n",
       "    }\n",
       "</style>\n",
       "<table border=\"1\" class=\"dataframe\">\n",
       "  <thead>\n",
       "    <tr style=\"text-align: right;\">\n",
       "      <th></th>\n",
       "      <th>nname</th>\n",
       "      <th>first</th>\n",
       "      <th>first2</th>\n",
       "      <th>first3</th>\n",
       "      <th>first4</th>\n",
       "      <th>next_2_5</th>\n",
       "      <th>next_2_7</th>\n",
       "      <th>next_3_6</th>\n",
       "      <th>next_3_8</th>\n",
       "      <th>next_4_7</th>\n",
       "      <th>next_4_9</th>\n",
       "      <th>next_5_8</th>\n",
       "      <th>next_5_10</th>\n",
       "      <th>first4_ex1</th>\n",
       "    </tr>\n",
       "  </thead>\n",
       "  <tbody>\n",
       "    <tr>\n",
       "      <th>0</th>\n",
       "      <td>colors-tv---show--dance-deewane-Mentions</td>\n",
       "      <td>3.05</td>\n",
       "      <td>2.790</td>\n",
       "      <td>2.700000</td>\n",
       "      <td>2.7150</td>\n",
       "      <td>2.6375</td>\n",
       "      <td>2.578333</td>\n",
       "      <td>2.6125</td>\n",
       "      <td>2.623333</td>\n",
       "      <td>2.605000</td>\n",
       "      <td>2.703333</td>\n",
       "      <td>2.615</td>\n",
       "      <td>2.723333</td>\n",
       "      <td>2.603333</td>\n",
       "    </tr>\n",
       "    <tr>\n",
       "      <th>1</th>\n",
       "      <td>RADHAKRISHN-Mentions</td>\n",
       "      <td>2.51</td>\n",
       "      <td>2.315</td>\n",
       "      <td>2.103333</td>\n",
       "      <td>2.0375</td>\n",
       "      <td>1.9150</td>\n",
       "      <td>1.892000</td>\n",
       "      <td>1.8350</td>\n",
       "      <td>1.835000</td>\n",
       "      <td>1.886667</td>\n",
       "      <td>1.886667</td>\n",
       "      <td>1.910</td>\n",
       "      <td>1.910000</td>\n",
       "      <td>1.880000</td>\n",
       "    </tr>\n",
       "  </tbody>\n",
       "</table>\n",
       "</div>"
      ],
      "text/plain": [
       "                                      nname  first  first2    first3  first4  \\\n",
       "0  colors-tv---show--dance-deewane-Mentions   3.05   2.790  2.700000  2.7150   \n",
       "1                      RADHAKRISHN-Mentions   2.51   2.315  2.103333  2.0375   \n",
       "\n",
       "   next_2_5  next_2_7  next_3_6  next_3_8  next_4_7  next_4_9  next_5_8  \\\n",
       "0    2.6375  2.578333    2.6125  2.623333  2.605000  2.703333     2.615   \n",
       "1    1.9150  1.892000    1.8350  1.835000  1.886667  1.886667     1.910   \n",
       "\n",
       "   next_5_10  first4_ex1  \n",
       "0   2.723333    2.603333  \n",
       "1   1.910000    1.880000  "
      ]
     },
     "execution_count": 11,
     "metadata": {},
     "output_type": "execute_result"
    }
   ],
   "source": [
    "train_ratings.reset_index(inplace=True)\n",
    "train_ratings.rename(columns={'Showname':'nname'},inplace=True)\n",
    "train_ratings_ranked.reset_index(inplace=True)\n",
    "train_ratings_ranked.rename(columns={'Showname':'nname'},inplace=True)\n",
    "train_ratings.head(2)"
   ]
  },
  {
   "cell_type": "code",
   "execution_count": 12,
   "metadata": {},
   "outputs": [
    {
     "data": {
      "text/html": [
       "<div>\n",
       "<style scoped>\n",
       "    .dataframe tbody tr th:only-of-type {\n",
       "        vertical-align: middle;\n",
       "    }\n",
       "\n",
       "    .dataframe tbody tr th {\n",
       "        vertical-align: top;\n",
       "    }\n",
       "\n",
       "    .dataframe thead th {\n",
       "        text-align: right;\n",
       "    }\n",
       "</style>\n",
       "<table border=\"1\" class=\"dataframe\">\n",
       "  <thead>\n",
       "    <tr style=\"text-align: right;\">\n",
       "      <th></th>\n",
       "      <th>nname</th>\n",
       "      <th>first</th>\n",
       "      <th>first2</th>\n",
       "      <th>first3</th>\n",
       "      <th>first4</th>\n",
       "      <th>next_2_5</th>\n",
       "      <th>next_2_7</th>\n",
       "      <th>next_3_6</th>\n",
       "      <th>next_3_8</th>\n",
       "      <th>next_4_7</th>\n",
       "      <th>next_4_9</th>\n",
       "      <th>next_5_8</th>\n",
       "      <th>next_5_10</th>\n",
       "      <th>first4_ex1</th>\n",
       "    </tr>\n",
       "  </thead>\n",
       "  <tbody>\n",
       "    <tr>\n",
       "      <th>0</th>\n",
       "      <td>colors-tv---show--dance-deewane-Mentions</td>\n",
       "      <td>1.0</td>\n",
       "      <td>1.0</td>\n",
       "      <td>1.0</td>\n",
       "      <td>1.0</td>\n",
       "      <td>1.0</td>\n",
       "      <td>1.0</td>\n",
       "      <td>1.0</td>\n",
       "      <td>1.0</td>\n",
       "      <td>1.0</td>\n",
       "      <td>1.0</td>\n",
       "      <td>1.0</td>\n",
       "      <td>1.0</td>\n",
       "      <td>1.0</td>\n",
       "    </tr>\n",
       "    <tr>\n",
       "      <th>1</th>\n",
       "      <td>RADHAKRISHN-Mentions</td>\n",
       "      <td>1.0</td>\n",
       "      <td>1.0</td>\n",
       "      <td>1.0</td>\n",
       "      <td>1.0</td>\n",
       "      <td>2.0</td>\n",
       "      <td>2.0</td>\n",
       "      <td>2.0</td>\n",
       "      <td>2.0</td>\n",
       "      <td>2.0</td>\n",
       "      <td>2.0</td>\n",
       "      <td>2.0</td>\n",
       "      <td>2.0</td>\n",
       "      <td>2.0</td>\n",
       "    </tr>\n",
       "  </tbody>\n",
       "</table>\n",
       "</div>"
      ],
      "text/plain": [
       "                                      nname  first  first2  first3  first4  \\\n",
       "0  colors-tv---show--dance-deewane-Mentions    1.0     1.0     1.0     1.0   \n",
       "1                      RADHAKRISHN-Mentions    1.0     1.0     1.0     1.0   \n",
       "\n",
       "   next_2_5  next_2_7  next_3_6  next_3_8  next_4_7  next_4_9  next_5_8  \\\n",
       "0       1.0       1.0       1.0       1.0       1.0       1.0       1.0   \n",
       "1       2.0       2.0       2.0       2.0       2.0       2.0       2.0   \n",
       "\n",
       "   next_5_10  first4_ex1  \n",
       "0        1.0         1.0  \n",
       "1        2.0         2.0  "
      ]
     },
     "execution_count": 12,
     "metadata": {},
     "output_type": "execute_result"
    }
   ],
   "source": [
    "train_ratings_ranked.head(2)"
   ]
  },
  {
   "cell_type": "markdown",
   "metadata": {},
   "source": [
    "#### Here we are  comparing state in first week to state based on next 4 ratings average."
   ]
  },
  {
   "cell_type": "code",
   "execution_count": 13,
   "metadata": {},
   "outputs": [
    {
     "data": {
      "text/html": [
       "<div>\n",
       "<style scoped>\n",
       "    .dataframe tbody tr th:only-of-type {\n",
       "        vertical-align: middle;\n",
       "    }\n",
       "\n",
       "    .dataframe tbody tr th {\n",
       "        vertical-align: top;\n",
       "    }\n",
       "\n",
       "    .dataframe thead th {\n",
       "        text-align: right;\n",
       "    }\n",
       "</style>\n",
       "<table border=\"1\" class=\"dataframe\">\n",
       "  <thead>\n",
       "    <tr style=\"text-align: right;\">\n",
       "      <th>next_2_5</th>\n",
       "      <th>1.0</th>\n",
       "      <th>2.0</th>\n",
       "      <th>3.0</th>\n",
       "    </tr>\n",
       "    <tr>\n",
       "      <th>first</th>\n",
       "      <th></th>\n",
       "      <th></th>\n",
       "      <th></th>\n",
       "    </tr>\n",
       "  </thead>\n",
       "  <tbody>\n",
       "    <tr>\n",
       "      <th>1.0</th>\n",
       "      <td>5</td>\n",
       "      <td>6</td>\n",
       "      <td>0</td>\n",
       "    </tr>\n",
       "    <tr>\n",
       "      <th>2.0</th>\n",
       "      <td>0</td>\n",
       "      <td>20</td>\n",
       "      <td>8</td>\n",
       "    </tr>\n",
       "    <tr>\n",
       "      <th>3.0</th>\n",
       "      <td>0</td>\n",
       "      <td>0</td>\n",
       "      <td>17</td>\n",
       "    </tr>\n",
       "  </tbody>\n",
       "</table>\n",
       "</div>"
      ],
      "text/plain": [
       "next_2_5  1.0  2.0  3.0\n",
       "first                  \n",
       "1.0         5    6    0\n",
       "2.0         0   20    8\n",
       "3.0         0    0   17"
      ]
     },
     "execution_count": 13,
     "metadata": {},
     "output_type": "execute_result"
    }
   ],
   "source": [
    "pd.crosstab(train_ratings_ranked['first'],train_ratings_ranked.next_2_5)"
   ]
  },
  {
   "cell_type": "markdown",
   "metadata": {},
   "source": [
    "### This means 5+20+17=42 shows remained in same state which is 75% of total 56 shows."
   ]
  },
  {
   "cell_type": "markdown",
   "metadata": {},
   "source": [
    "## Create set of base features to use"
   ]
  },
  {
   "cell_type": "markdown",
   "metadata": {},
   "source": [
    "Below ncnt_t2 will give you total number of original tweets and cnt_t2 will give you total number of tweets"
   ]
  },
  {
   "cell_type": "code",
   "execution_count": 14,
   "metadata": {},
   "outputs": [
    {
     "name": "stdout",
     "output_type": "stream",
     "text": [
      "nname\n",
      "ALADDINNAAMTOHSUNAHOGA-Mentions                     29 days 23:51:32\n",
      "BEECHWALEBAPUDEKHRAHAHAI-Mentions                   28 days 14:52:01\n",
      "BIGGBOSS-Mentions                                   29 days 23:59:53\n",
      "CHANDRASHEKAR-Mentions                              29 days 22:11:20\n",
      "COMEDYCIRCUS-Mentions                               29 days 23:40:50\n",
      "DEVONKEDEVMAHADEV-Mentions                          25 days 18:21:28\n",
      "DILHITOHAI-Mentions                                 29 days 23:34:05\n",
      "DetectiveDidi-Mentions                              29 days 19:47:54\n",
      "ENTERTAINMENTKIRAAT-Mentions                        29 days 23:27:45\n",
      "Guddan-Mentions                                     27 days 22:06:14\n",
      "HARSHAAKHPEULLUBAITHAAHAI-Mentions                  29 days 05:37:18\n",
      "INDIAKEMASTKALANDAR-Mentions                        29 days 23:06:02\n",
      "INDIASNEXTSUPERSTARS-Mentions                       29 days 23:17:41\n",
      "IndiasGotTalent-Mentions                            29 days 23:24:39\n",
      "JIJAJICHHATPARHAIN-Mentions                         29 days 23:50:55\n",
      "JIODHANDHANADHANLIVE-Mentions                       29 days 23:58:24\n",
      "KARNSANGINI-Mentions                                29 days 23:57:55\n",
      "KAUNBANEGACROREPATI-Mentions                        29 days 23:50:53\n",
      "KHICHDI-Mentions                                    29 days 11:43:19\n",
      "KRISHNACHALILONDON-Mentions                         29 days 23:22:30\n",
      "MAHABHARAT-Mentions                                 29 days 12:58:16\n",
      "MAINMAIKECHALIJAUNGI-Mentions                       29 days 23:44:09\n",
      "MAYAVIMALING-Mentions                               29 days 15:34:44\n",
      "MUSKAAN-Mentions                                    27 days 02:37:09\n",
      "NAZAR-Mentions                                      29 days 22:51:26\n",
      "PAPABYCHANCE-Mentions                               29 days 16:49:22\n",
      "RADHAKRISHN-Mentions                                29 days 23:55:17\n",
      "SAVDHAANINDIA-INDIAFIGHTSBACK-Mentions              29 days 04:37:51\n",
      "SIYAKERAM-Mentions                                  25 days 13:35:16\n",
      "TEDTALKSINDIANAYISOCH-Mentions                      29 days 23:59:56\n",
      "                                                          ...       \n",
      "colorstv-show-silsila-badalte-rishton-ka-Mentions   29 days 17:18:01\n",
      "sony-tv--show---cid-Mentions                        29 days 23:50:47\n",
      "sony-tv-show-dus-ka-dum-Mentions                    29 days 23:59:53\n",
      "sony-tv-show-indian-idol-Mentions                   30 days 00:00:00\n",
      "sonysab-show-namune-Mentions                        29 days 17:09:34\n",
      "sonysab-show-saat-phero-ki-hera-pherie-Mentions     29 days 23:55:54\n",
      "sonysab-show-shriman-shrimati-phir-se-Mentions      27 days 07:32:25\n",
      "sonysab-show-supersister-Mentions                   28 days 07:17:48\n",
      "sonytv-show-crime-patrol-Mentions                   29 days 16:33:48\n",
      "sonytv-show-prithvi-vallabh-Mentions                29 days 23:59:13\n",
      "sonytv-show-zindagikecrossroads-Mentions            29 days 23:37:54\n",
      "sonytv-shows-yeh-pyaar-nahi-tho-kya-hai-Mentions    29 days 23:49:57\n",
      "star-plus-show-danceplus-Mentions                   29 days 23:42:35\n",
      "star-plus-show-dil-hai-hindustani--Mentions         29 days 23:36:05\n",
      "starplus-show-kasautii-zindagi-kay-Mentions         29 days 23:59:52\n",
      "starplus-show-kulfi-kumar-bajewala-Mentions         28 days 08:25:40\n",
      "starplus-show-mariam-khan-reporting-live-Mentions   29 days 21:27:06\n",
      "starplus-show-qayamat-ki-raat-Mentions              29 days 22:20:33\n",
      "starplus-show-sabse-smart-kaun-Mentions             29 days 22:12:55\n",
      "zee-tv---show---ishq-subhan-allah-Mentions          29 days 23:58:51\n",
      "zee-tv---show---juzzbaaat-Mentions                  29 days 23:57:42\n",
      "zee-tv-shows-fear-files-Mentions                    29 days 12:16:21\n",
      "zeetv---show---kaleerein-Mentions                   29 days 20:47:57\n",
      "zeetv-show-aap-ke-aa-jane-se-Mentions               29 days 15:13:01\n",
      "zeetv-show-did-lil-masters-Mentions                 29 days 21:41:59\n",
      "zeetv-show-ye-teri-galiyan-Mentions                 29 days 03:51:04\n",
      "zeetv-shows-india-best-dramebaaz-Mentions           29 days 22:11:36\n",
      "zeetv-shows-maggie-kitchen-journeys-Mentions         8 days 22:42:40\n",
      "zeetv-shows-sa-re-ga-ma-pa-Mentions                 29 days 23:55:39\n",
      "zeetv-shows-tujhse-hai-rabta-Mentions               29 days 23:36:36\n",
      "Name: LocalTime, Length: 80, dtype: timedelta64[ns]\n"
     ]
    }
   ],
   "source": [
    "twitter2=get_data_by_days(twitter,True)\n",
    "ncnt_t2=twitter2[twitter2.original].groupby('nname')['Unique ID'].nunique().to_frame().reset_index()\n",
    "\n",
    "cnt_t2=twitter2.groupby('nname')['Unique ID'].nunique().to_frame().reset_index()\n",
    "cnt_t2.rename(columns={'Unique ID':'all_tweets'},inplace=True)\n",
    "ncnt_t2.rename(columns={'Unique ID':'uniq_tweets'},inplace=True)"
   ]
  },
  {
   "cell_type": "markdown",
   "metadata": {},
   "source": [
    "We take unique count of tweets by show and total Likes and total comments"
   ]
  },
  {
   "cell_type": "code",
   "execution_count": 15,
   "metadata": {},
   "outputs": [
    {
     "name": "stdout",
     "output_type": "stream",
     "text": [
      "With duplicates (97207, 24)\n",
      "WO duplicates (96000, 24)\n",
      "\n"
     ]
    }
   ],
   "source": [
    "instagram=sm_pd_dict['INSTAGRAM'].copy()\n",
    "print(\"With duplicates\",instagram.shape)\n",
    "instagram.drop_duplicates('Unique ID',keep='first',inplace=True)\n",
    "print(\"WO duplicates\",instagram.shape)\n",
    "print()\n",
    "instagram['Likes']=instagram.Likes.astype(int)\n",
    "instagram['Comments']=instagram.Comments.astype(int)\n",
    "\n",
    "instagram_subset=get_data_by_days(instagram)\n",
    "\n",
    "insta_cnt=instagram_subset.groupby('nname')['Unique ID','Likes','Comments'].agg({'Unique ID':'count','Likes':'sum','Comments':'sum'}).reset_index()\n",
    "insta_cnt.rename(columns={'Unique ID':'insta_cnt'},inplace=True)"
   ]
  },
  {
   "cell_type": "markdown",
   "metadata": {},
   "source": [
    "Unique count of news by shows"
   ]
  },
  {
   "cell_type": "code",
   "execution_count": 16,
   "metadata": {},
   "outputs": [],
   "source": [
    "news=sm_pd_dict['NEWS']\n",
    "news=get_data_by_days(news)\n",
    "# print(news.head(2))\n",
    "news_cnt=news.groupby('nname')['Link'].nunique().to_frame().reset_index()\n",
    "news_cnt.rename(columns={'Link':'news_count'},inplace=True)"
   ]
  },
  {
   "cell_type": "code",
   "execution_count": 17,
   "metadata": {},
   "outputs": [],
   "source": [
    "tumblr=sm_pd_dict['TUMBLR']\n",
    "tumblr=get_data_by_days(tumblr)\n",
    "# print(tumblr.head(2))\n",
    "tumblr_cnt=tumblr.groupby('nname')['Unique ID'].nunique().to_frame().reset_index()\n",
    "tumblr_cnt.rename(columns={'Unique ID':'tumblr_count'},inplace=True)"
   ]
  },
  {
   "cell_type": "code",
   "execution_count": 18,
   "metadata": {},
   "outputs": [],
   "source": [
    "blogs=sm_pd_dict['BLOGS']\n",
    "blogs=get_data_by_days(blogs)\n",
    "# print(blogs.head(2))\n",
    "blogs_cnt=blogs.groupby('nname')['Link'].nunique().to_frame().reset_index()\n",
    "blogs_cnt.rename(columns={'Link':'blogs_count'},inplace=True)"
   ]
  },
  {
   "cell_type": "code",
   "execution_count": 19,
   "metadata": {},
   "outputs": [],
   "source": [
    "forum=sm_pd_dict['FORUMS']\n",
    "forum=get_data_by_days(forum)\n",
    "forum_cnt=forum.groupby('nname')['Link'].nunique().to_frame().reset_index()\n",
    "forum_cnt.rename(columns={'Link':'forum_count'},inplace=True)\n"
   ]
  },
  {
   "cell_type": "code",
   "execution_count": 20,
   "metadata": {},
   "outputs": [
    {
     "data": {
      "text/html": [
       "<div>\n",
       "<style scoped>\n",
       "    .dataframe tbody tr th:only-of-type {\n",
       "        vertical-align: middle;\n",
       "    }\n",
       "\n",
       "    .dataframe tbody tr th {\n",
       "        vertical-align: top;\n",
       "    }\n",
       "\n",
       "    .dataframe thead th {\n",
       "        text-align: right;\n",
       "    }\n",
       "</style>\n",
       "<table border=\"1\" class=\"dataframe\">\n",
       "  <thead>\n",
       "    <tr style=\"text-align: right;\">\n",
       "      <th></th>\n",
       "      <th>nname</th>\n",
       "      <th>first</th>\n",
       "      <th>first2</th>\n",
       "      <th>first3</th>\n",
       "      <th>first4</th>\n",
       "      <th>next_2_5</th>\n",
       "      <th>next_2_7</th>\n",
       "      <th>next_3_6</th>\n",
       "      <th>next_3_8</th>\n",
       "      <th>next_4_7</th>\n",
       "      <th>next_4_9</th>\n",
       "      <th>next_5_8</th>\n",
       "      <th>next_5_10</th>\n",
       "      <th>first4_ex1</th>\n",
       "      <th>uniq_tweets</th>\n",
       "      <th>all_tweets</th>\n",
       "      <th>insta_cnt</th>\n",
       "      <th>Likes</th>\n",
       "      <th>Comments</th>\n",
       "      <th>news_count</th>\n",
       "      <th>tumblr_count</th>\n",
       "      <th>blogs_count</th>\n",
       "      <th>forum_count</th>\n",
       "    </tr>\n",
       "  </thead>\n",
       "  <tbody>\n",
       "    <tr>\n",
       "      <th>0</th>\n",
       "      <td>colors-tv---show--dance-deewane-Mentions</td>\n",
       "      <td>1.0</td>\n",
       "      <td>1.0</td>\n",
       "      <td>1.0</td>\n",
       "      <td>1.0</td>\n",
       "      <td>1.0</td>\n",
       "      <td>1.0</td>\n",
       "      <td>1.0</td>\n",
       "      <td>1.0</td>\n",
       "      <td>1.0</td>\n",
       "      <td>1.0</td>\n",
       "      <td>1.0</td>\n",
       "      <td>1.0</td>\n",
       "      <td>1.0</td>\n",
       "      <td>6361</td>\n",
       "      <td>32637</td>\n",
       "      <td>804</td>\n",
       "      <td>28161</td>\n",
       "      <td>636</td>\n",
       "      <td>31.0</td>\n",
       "      <td>12.0</td>\n",
       "      <td>396</td>\n",
       "      <td>3.0</td>\n",
       "    </tr>\n",
       "    <tr>\n",
       "      <th>1</th>\n",
       "      <td>RADHAKRISHN-Mentions</td>\n",
       "      <td>1.0</td>\n",
       "      <td>1.0</td>\n",
       "      <td>1.0</td>\n",
       "      <td>1.0</td>\n",
       "      <td>2.0</td>\n",
       "      <td>2.0</td>\n",
       "      <td>2.0</td>\n",
       "      <td>2.0</td>\n",
       "      <td>2.0</td>\n",
       "      <td>2.0</td>\n",
       "      <td>2.0</td>\n",
       "      <td>2.0</td>\n",
       "      <td>2.0</td>\n",
       "      <td>1610</td>\n",
       "      <td>6604</td>\n",
       "      <td>1742</td>\n",
       "      <td>16960</td>\n",
       "      <td>479</td>\n",
       "      <td>25.0</td>\n",
       "      <td>14.0</td>\n",
       "      <td>46</td>\n",
       "      <td>15.0</td>\n",
       "    </tr>\n",
       "    <tr>\n",
       "      <th>2</th>\n",
       "      <td>colorstv-show-bepannaah-Mentions</td>\n",
       "      <td>1.0</td>\n",
       "      <td>1.0</td>\n",
       "      <td>1.0</td>\n",
       "      <td>2.0</td>\n",
       "      <td>2.0</td>\n",
       "      <td>2.0</td>\n",
       "      <td>2.0</td>\n",
       "      <td>2.0</td>\n",
       "      <td>2.0</td>\n",
       "      <td>2.0</td>\n",
       "      <td>2.0</td>\n",
       "      <td>2.0</td>\n",
       "      <td>2.0</td>\n",
       "      <td>3305</td>\n",
       "      <td>42872</td>\n",
       "      <td>1602</td>\n",
       "      <td>513653</td>\n",
       "      <td>5304</td>\n",
       "      <td>24.0</td>\n",
       "      <td>78.0</td>\n",
       "      <td>409</td>\n",
       "      <td>5.0</td>\n",
       "    </tr>\n",
       "    <tr>\n",
       "      <th>3</th>\n",
       "      <td>KAUNBANEGACROREPATI-Mentions</td>\n",
       "      <td>1.0</td>\n",
       "      <td>1.0</td>\n",
       "      <td>1.0</td>\n",
       "      <td>1.0</td>\n",
       "      <td>1.0</td>\n",
       "      <td>1.0</td>\n",
       "      <td>1.0</td>\n",
       "      <td>1.0</td>\n",
       "      <td>1.0</td>\n",
       "      <td>1.0</td>\n",
       "      <td>1.0</td>\n",
       "      <td>1.0</td>\n",
       "      <td>1.0</td>\n",
       "      <td>11273</td>\n",
       "      <td>41832</td>\n",
       "      <td>530</td>\n",
       "      <td>14230</td>\n",
       "      <td>381</td>\n",
       "      <td>918.0</td>\n",
       "      <td>345.0</td>\n",
       "      <td>1054</td>\n",
       "      <td>48.0</td>\n",
       "    </tr>\n",
       "    <tr>\n",
       "      <th>4</th>\n",
       "      <td>starplus-show-qayamat-ki-raat-Mentions</td>\n",
       "      <td>1.0</td>\n",
       "      <td>1.0</td>\n",
       "      <td>2.0</td>\n",
       "      <td>2.0</td>\n",
       "      <td>2.0</td>\n",
       "      <td>2.0</td>\n",
       "      <td>2.0</td>\n",
       "      <td>2.0</td>\n",
       "      <td>2.0</td>\n",
       "      <td>2.0</td>\n",
       "      <td>2.0</td>\n",
       "      <td>2.0</td>\n",
       "      <td>2.0</td>\n",
       "      <td>2114</td>\n",
       "      <td>5026</td>\n",
       "      <td>148</td>\n",
       "      <td>3936</td>\n",
       "      <td>115</td>\n",
       "      <td>101.0</td>\n",
       "      <td>29.0</td>\n",
       "      <td>355</td>\n",
       "      <td>18.0</td>\n",
       "    </tr>\n",
       "  </tbody>\n",
       "</table>\n",
       "</div>"
      ],
      "text/plain": [
       "                                      nname  first  first2  first3  first4  \\\n",
       "0  colors-tv---show--dance-deewane-Mentions    1.0     1.0     1.0     1.0   \n",
       "1                      RADHAKRISHN-Mentions    1.0     1.0     1.0     1.0   \n",
       "2          colorstv-show-bepannaah-Mentions    1.0     1.0     1.0     2.0   \n",
       "3              KAUNBANEGACROREPATI-Mentions    1.0     1.0     1.0     1.0   \n",
       "4    starplus-show-qayamat-ki-raat-Mentions    1.0     1.0     2.0     2.0   \n",
       "\n",
       "   next_2_5  next_2_7  next_3_6  next_3_8  next_4_7  next_4_9  next_5_8  \\\n",
       "0       1.0       1.0       1.0       1.0       1.0       1.0       1.0   \n",
       "1       2.0       2.0       2.0       2.0       2.0       2.0       2.0   \n",
       "2       2.0       2.0       2.0       2.0       2.0       2.0       2.0   \n",
       "3       1.0       1.0       1.0       1.0       1.0       1.0       1.0   \n",
       "4       2.0       2.0       2.0       2.0       2.0       2.0       2.0   \n",
       "\n",
       "   next_5_10  first4_ex1  uniq_tweets  all_tweets  insta_cnt   Likes  \\\n",
       "0        1.0         1.0         6361       32637        804   28161   \n",
       "1        2.0         2.0         1610        6604       1742   16960   \n",
       "2        2.0         2.0         3305       42872       1602  513653   \n",
       "3        1.0         1.0        11273       41832        530   14230   \n",
       "4        2.0         2.0         2114        5026        148    3936   \n",
       "\n",
       "   Comments  news_count  tumblr_count  blogs_count  forum_count  \n",
       "0       636        31.0          12.0          396          3.0  \n",
       "1       479        25.0          14.0           46         15.0  \n",
       "2      5304        24.0          78.0          409          5.0  \n",
       "3       381       918.0         345.0         1054         48.0  \n",
       "4       115       101.0          29.0          355         18.0  "
      ]
     },
     "execution_count": 20,
     "metadata": {},
     "output_type": "execute_result"
    }
   ],
   "source": [
    "train_data=train_ratings_ranked.merge(ncnt_t2,on='nname',how='left').merge(cnt_t2,on='nname',how='left').merge(insta_cnt,on='nname',how='left').merge(news_cnt,on='nname',how='left').merge(tumblr_cnt,on='nname',how='left').merge(blogs_cnt,on='nname',how='left').merge(forum_cnt,on='nname',how='left')\n",
    "train_data.head()"
   ]
  },
  {
   "cell_type": "code",
   "execution_count": 21,
   "metadata": {},
   "outputs": [
    {
     "data": {
      "text/html": [
       "<div>\n",
       "<style scoped>\n",
       "    .dataframe tbody tr th:only-of-type {\n",
       "        vertical-align: middle;\n",
       "    }\n",
       "\n",
       "    .dataframe tbody tr th {\n",
       "        vertical-align: top;\n",
       "    }\n",
       "\n",
       "    .dataframe thead th {\n",
       "        text-align: right;\n",
       "    }\n",
       "</style>\n",
       "<table border=\"1\" class=\"dataframe\">\n",
       "  <thead>\n",
       "    <tr style=\"text-align: right;\">\n",
       "      <th></th>\n",
       "      <th>nname</th>\n",
       "      <th>first</th>\n",
       "      <th>first2</th>\n",
       "      <th>first3</th>\n",
       "      <th>first4</th>\n",
       "      <th>next_2_5</th>\n",
       "      <th>next_2_7</th>\n",
       "      <th>next_3_6</th>\n",
       "      <th>next_3_8</th>\n",
       "      <th>next_4_7</th>\n",
       "      <th>next_4_9</th>\n",
       "      <th>next_5_8</th>\n",
       "      <th>next_5_10</th>\n",
       "      <th>first4_ex1</th>\n",
       "      <th>uniq_tweets</th>\n",
       "      <th>all_tweets</th>\n",
       "      <th>insta_cnt</th>\n",
       "      <th>Likes</th>\n",
       "      <th>Comments</th>\n",
       "      <th>news_count</th>\n",
       "      <th>tumblr_count</th>\n",
       "      <th>blogs_count</th>\n",
       "      <th>forum_count</th>\n",
       "    </tr>\n",
       "  </thead>\n",
       "  <tbody>\n",
       "    <tr>\n",
       "      <th>46</th>\n",
       "      <td>BEECHWALEBAPUDEKHRAHAHAI-Mentions</td>\n",
       "      <td>3.0</td>\n",
       "      <td>3.0</td>\n",
       "      <td>3.0</td>\n",
       "      <td>3.0</td>\n",
       "      <td>3.0</td>\n",
       "      <td>3.0</td>\n",
       "      <td>3.0</td>\n",
       "      <td>3.0</td>\n",
       "      <td>3.0</td>\n",
       "      <td>3.0</td>\n",
       "      <td>3.0</td>\n",
       "      <td>3.0</td>\n",
       "      <td>3.0</td>\n",
       "      <td>1861</td>\n",
       "      <td>5793</td>\n",
       "      <td>273</td>\n",
       "      <td>2535</td>\n",
       "      <td>57</td>\n",
       "      <td>NaN</td>\n",
       "      <td>NaN</td>\n",
       "      <td>6</td>\n",
       "      <td>NaN</td>\n",
       "    </tr>\n",
       "    <tr>\n",
       "      <th>47</th>\n",
       "      <td>sonysab-show-namune-Mentions</td>\n",
       "      <td>3.0</td>\n",
       "      <td>3.0</td>\n",
       "      <td>3.0</td>\n",
       "      <td>3.0</td>\n",
       "      <td>3.0</td>\n",
       "      <td>3.0</td>\n",
       "      <td>3.0</td>\n",
       "      <td>3.0</td>\n",
       "      <td>3.0</td>\n",
       "      <td>3.0</td>\n",
       "      <td>3.0</td>\n",
       "      <td>3.0</td>\n",
       "      <td>3.0</td>\n",
       "      <td>959</td>\n",
       "      <td>1891</td>\n",
       "      <td>86</td>\n",
       "      <td>1974</td>\n",
       "      <td>46</td>\n",
       "      <td>2.0</td>\n",
       "      <td>NaN</td>\n",
       "      <td>1</td>\n",
       "      <td>NaN</td>\n",
       "    </tr>\n",
       "    <tr>\n",
       "      <th>48</th>\n",
       "      <td>sonytv-show-crime-patrol-Mentions</td>\n",
       "      <td>3.0</td>\n",
       "      <td>3.0</td>\n",
       "      <td>3.0</td>\n",
       "      <td>3.0</td>\n",
       "      <td>3.0</td>\n",
       "      <td>3.0</td>\n",
       "      <td>3.0</td>\n",
       "      <td>3.0</td>\n",
       "      <td>3.0</td>\n",
       "      <td>3.0</td>\n",
       "      <td>3.0</td>\n",
       "      <td>3.0</td>\n",
       "      <td>3.0</td>\n",
       "      <td>98</td>\n",
       "      <td>360</td>\n",
       "      <td>26</td>\n",
       "      <td>1073</td>\n",
       "      <td>75</td>\n",
       "      <td>1.0</td>\n",
       "      <td>33.0</td>\n",
       "      <td>655</td>\n",
       "      <td>8.0</td>\n",
       "    </tr>\n",
       "    <tr>\n",
       "      <th>49</th>\n",
       "      <td>sonysab-show-shriman-shrimati-phir-se-Mentions</td>\n",
       "      <td>3.0</td>\n",
       "      <td>3.0</td>\n",
       "      <td>3.0</td>\n",
       "      <td>3.0</td>\n",
       "      <td>3.0</td>\n",
       "      <td>3.0</td>\n",
       "      <td>3.0</td>\n",
       "      <td>3.0</td>\n",
       "      <td>3.0</td>\n",
       "      <td>3.0</td>\n",
       "      <td>3.0</td>\n",
       "      <td>3.0</td>\n",
       "      <td>3.0</td>\n",
       "      <td>141</td>\n",
       "      <td>353</td>\n",
       "      <td>6</td>\n",
       "      <td>625</td>\n",
       "      <td>22</td>\n",
       "      <td>23.0</td>\n",
       "      <td>13.0</td>\n",
       "      <td>29</td>\n",
       "      <td>2.0</td>\n",
       "    </tr>\n",
       "    <tr>\n",
       "      <th>50</th>\n",
       "      <td>TEDTALKSINDIANAYISOCH-Mentions</td>\n",
       "      <td>3.0</td>\n",
       "      <td>3.0</td>\n",
       "      <td>3.0</td>\n",
       "      <td>3.0</td>\n",
       "      <td>3.0</td>\n",
       "      <td>3.0</td>\n",
       "      <td>3.0</td>\n",
       "      <td>3.0</td>\n",
       "      <td>3.0</td>\n",
       "      <td>3.0</td>\n",
       "      <td>1.0</td>\n",
       "      <td>1.0</td>\n",
       "      <td>3.0</td>\n",
       "      <td>2925</td>\n",
       "      <td>75336</td>\n",
       "      <td>96</td>\n",
       "      <td>11331</td>\n",
       "      <td>55</td>\n",
       "      <td>79.0</td>\n",
       "      <td>30.0</td>\n",
       "      <td>14</td>\n",
       "      <td>10.0</td>\n",
       "    </tr>\n",
       "    <tr>\n",
       "      <th>51</th>\n",
       "      <td>DILHITOHAI-Mentions</td>\n",
       "      <td>3.0</td>\n",
       "      <td>3.0</td>\n",
       "      <td>3.0</td>\n",
       "      <td>3.0</td>\n",
       "      <td>3.0</td>\n",
       "      <td>3.0</td>\n",
       "      <td>3.0</td>\n",
       "      <td>3.0</td>\n",
       "      <td>3.0</td>\n",
       "      <td>3.0</td>\n",
       "      <td>3.0</td>\n",
       "      <td>3.0</td>\n",
       "      <td>3.0</td>\n",
       "      <td>1003</td>\n",
       "      <td>5196</td>\n",
       "      <td>355</td>\n",
       "      <td>12000</td>\n",
       "      <td>266</td>\n",
       "      <td>78.0</td>\n",
       "      <td>48.0</td>\n",
       "      <td>393</td>\n",
       "      <td>73.0</td>\n",
       "    </tr>\n",
       "    <tr>\n",
       "      <th>52</th>\n",
       "      <td>JIODHANDHANADHANLIVE-Mentions</td>\n",
       "      <td>3.0</td>\n",
       "      <td>3.0</td>\n",
       "      <td>3.0</td>\n",
       "      <td>3.0</td>\n",
       "      <td>3.0</td>\n",
       "      <td>3.0</td>\n",
       "      <td>3.0</td>\n",
       "      <td>3.0</td>\n",
       "      <td>3.0</td>\n",
       "      <td>3.0</td>\n",
       "      <td>3.0</td>\n",
       "      <td>3.0</td>\n",
       "      <td>3.0</td>\n",
       "      <td>285</td>\n",
       "      <td>7148</td>\n",
       "      <td>56</td>\n",
       "      <td>6865</td>\n",
       "      <td>212</td>\n",
       "      <td>25.0</td>\n",
       "      <td>7.0</td>\n",
       "      <td>26</td>\n",
       "      <td>NaN</td>\n",
       "    </tr>\n",
       "    <tr>\n",
       "      <th>53</th>\n",
       "      <td>zee-tv---show---juzzbaaat-Mentions</td>\n",
       "      <td>3.0</td>\n",
       "      <td>3.0</td>\n",
       "      <td>3.0</td>\n",
       "      <td>3.0</td>\n",
       "      <td>3.0</td>\n",
       "      <td>3.0</td>\n",
       "      <td>3.0</td>\n",
       "      <td>3.0</td>\n",
       "      <td>3.0</td>\n",
       "      <td>3.0</td>\n",
       "      <td>3.0</td>\n",
       "      <td>3.0</td>\n",
       "      <td>3.0</td>\n",
       "      <td>4988</td>\n",
       "      <td>21262</td>\n",
       "      <td>1004</td>\n",
       "      <td>92382</td>\n",
       "      <td>1055</td>\n",
       "      <td>79.0</td>\n",
       "      <td>361.0</td>\n",
       "      <td>120</td>\n",
       "      <td>10.0</td>\n",
       "    </tr>\n",
       "    <tr>\n",
       "      <th>54</th>\n",
       "      <td>andtvofficial-show-mitegi-lakshmanrekha-Mentions</td>\n",
       "      <td>3.0</td>\n",
       "      <td>3.0</td>\n",
       "      <td>3.0</td>\n",
       "      <td>3.0</td>\n",
       "      <td>3.0</td>\n",
       "      <td>3.0</td>\n",
       "      <td>3.0</td>\n",
       "      <td>3.0</td>\n",
       "      <td>3.0</td>\n",
       "      <td>3.0</td>\n",
       "      <td>3.0</td>\n",
       "      <td>3.0</td>\n",
       "      <td>3.0</td>\n",
       "      <td>58</td>\n",
       "      <td>323</td>\n",
       "      <td>40</td>\n",
       "      <td>287</td>\n",
       "      <td>13</td>\n",
       "      <td>3.0</td>\n",
       "      <td>NaN</td>\n",
       "      <td>61</td>\n",
       "      <td>NaN</td>\n",
       "    </tr>\n",
       "    <tr>\n",
       "      <th>55</th>\n",
       "      <td>andtvofficial-show-bitti-businesswali-Mentions</td>\n",
       "      <td>3.0</td>\n",
       "      <td>3.0</td>\n",
       "      <td>3.0</td>\n",
       "      <td>3.0</td>\n",
       "      <td>3.0</td>\n",
       "      <td>3.0</td>\n",
       "      <td>3.0</td>\n",
       "      <td>3.0</td>\n",
       "      <td>3.0</td>\n",
       "      <td>3.0</td>\n",
       "      <td>3.0</td>\n",
       "      <td>3.0</td>\n",
       "      <td>3.0</td>\n",
       "      <td>65</td>\n",
       "      <td>141</td>\n",
       "      <td>12</td>\n",
       "      <td>1338</td>\n",
       "      <td>18</td>\n",
       "      <td>9.0</td>\n",
       "      <td>6.0</td>\n",
       "      <td>42</td>\n",
       "      <td>NaN</td>\n",
       "    </tr>\n",
       "  </tbody>\n",
       "</table>\n",
       "</div>"
      ],
      "text/plain": [
       "                                               nname  first  first2  first3  \\\n",
       "46                 BEECHWALEBAPUDEKHRAHAHAI-Mentions    3.0     3.0     3.0   \n",
       "47                      sonysab-show-namune-Mentions    3.0     3.0     3.0   \n",
       "48                 sonytv-show-crime-patrol-Mentions    3.0     3.0     3.0   \n",
       "49    sonysab-show-shriman-shrimati-phir-se-Mentions    3.0     3.0     3.0   \n",
       "50                    TEDTALKSINDIANAYISOCH-Mentions    3.0     3.0     3.0   \n",
       "51                               DILHITOHAI-Mentions    3.0     3.0     3.0   \n",
       "52                     JIODHANDHANADHANLIVE-Mentions    3.0     3.0     3.0   \n",
       "53                zee-tv---show---juzzbaaat-Mentions    3.0     3.0     3.0   \n",
       "54  andtvofficial-show-mitegi-lakshmanrekha-Mentions    3.0     3.0     3.0   \n",
       "55    andtvofficial-show-bitti-businesswali-Mentions    3.0     3.0     3.0   \n",
       "\n",
       "    first4  next_2_5  next_2_7  next_3_6  next_3_8  next_4_7  next_4_9  \\\n",
       "46     3.0       3.0       3.0       3.0       3.0       3.0       3.0   \n",
       "47     3.0       3.0       3.0       3.0       3.0       3.0       3.0   \n",
       "48     3.0       3.0       3.0       3.0       3.0       3.0       3.0   \n",
       "49     3.0       3.0       3.0       3.0       3.0       3.0       3.0   \n",
       "50     3.0       3.0       3.0       3.0       3.0       3.0       3.0   \n",
       "51     3.0       3.0       3.0       3.0       3.0       3.0       3.0   \n",
       "52     3.0       3.0       3.0       3.0       3.0       3.0       3.0   \n",
       "53     3.0       3.0       3.0       3.0       3.0       3.0       3.0   \n",
       "54     3.0       3.0       3.0       3.0       3.0       3.0       3.0   \n",
       "55     3.0       3.0       3.0       3.0       3.0       3.0       3.0   \n",
       "\n",
       "    next_5_8  next_5_10  first4_ex1  uniq_tweets  all_tweets  insta_cnt  \\\n",
       "46       3.0        3.0         3.0         1861        5793        273   \n",
       "47       3.0        3.0         3.0          959        1891         86   \n",
       "48       3.0        3.0         3.0           98         360         26   \n",
       "49       3.0        3.0         3.0          141         353          6   \n",
       "50       1.0        1.0         3.0         2925       75336         96   \n",
       "51       3.0        3.0         3.0         1003        5196        355   \n",
       "52       3.0        3.0         3.0          285        7148         56   \n",
       "53       3.0        3.0         3.0         4988       21262       1004   \n",
       "54       3.0        3.0         3.0           58         323         40   \n",
       "55       3.0        3.0         3.0           65         141         12   \n",
       "\n",
       "    Likes  Comments  news_count  tumblr_count  blogs_count  forum_count  \n",
       "46   2535        57         NaN           NaN            6          NaN  \n",
       "47   1974        46         2.0           NaN            1          NaN  \n",
       "48   1073        75         1.0          33.0          655          8.0  \n",
       "49    625        22        23.0          13.0           29          2.0  \n",
       "50  11331        55        79.0          30.0           14         10.0  \n",
       "51  12000       266        78.0          48.0          393         73.0  \n",
       "52   6865       212        25.0           7.0           26          NaN  \n",
       "53  92382      1055        79.0         361.0          120         10.0  \n",
       "54    287        13         3.0           NaN           61          NaN  \n",
       "55   1338        18         9.0           6.0           42          NaN  "
      ]
     },
     "execution_count": 21,
     "metadata": {},
     "output_type": "execute_result"
    }
   ],
   "source": [
    "train_data.tail(10)"
   ]
  },
  {
   "cell_type": "code",
   "execution_count": 22,
   "metadata": {},
   "outputs": [],
   "source": [
    "train_data.dropna(subset=['uniq_tweets'],axis='index',inplace=True)\n",
    "train_data.fillna(0,inplace=True)\n",
    "train_data['retweets']=train_data.all_tweets/train_data.uniq_tweets"
   ]
  },
  {
   "cell_type": "code",
   "execution_count": 23,
   "metadata": {},
   "outputs": [],
   "source": [
    "train_data.to_csv('train_data.csv')"
   ]
  },
  {
   "cell_type": "code",
   "execution_count": 21,
   "metadata": {},
   "outputs": [],
   "source": [
    "features=['first','uniq_tweets', 'all_tweets','retweets','insta_cnt', 'Likes','Comments', 'news_count', 'tumblr_count', 'blogs_count', 'forum_count','retweets']\n",
    "features_rm_first=['uniq_tweets', 'all_tweets','retweets','insta_cnt', 'Likes','Comments', 'news_count', 'tumblr_count', 'blogs_count', 'forum_count','retweets']\n"
   ]
  },
  {
   "cell_type": "code",
   "execution_count": 22,
   "metadata": {},
   "outputs": [],
   "source": [
    "def classification_rslt(cls,train,feature_list,y,test_data=None):\n",
    "    cls.fit(train[feature_list],y)\n",
    "    print('-------------Model----------')\n",
    "    print(cls)\n",
    "    prediction=cls.predict(train[feature_list])\n",
    "    acc=accuracy_score(y,cls.predict(train[feature_list]))\n",
    "    print(\"Accuracy = {:2.3f}%\".format(acc*100))\n",
    "    print(\"-----------Confusion matrix-----------\")\n",
    "    print(pd.crosstab(y,prediction,rownames=[\"Actual\"],colnames=[\"Predicted\"],margins=True))\n",
    "    print()\n",
    "    print(\"-----------Classification report-----------\")\n",
    "    print(classification_report(y,prediction))\n",
    "    print()\n",
    "    \n",
    "    "
   ]
  },
  {
   "cell_type": "code",
   "execution_count": 23,
   "metadata": {},
   "outputs": [
    {
     "name": "stdout",
     "output_type": "stream",
     "text": [
      "-------------Model----------\n",
      "LogisticRegression(C=1.0, class_weight=None, dual=False, fit_intercept=True,\n",
      "          intercept_scaling=1, max_iter=100, multi_class='ovr', n_jobs=1,\n",
      "          penalty='l2', random_state=None, solver='liblinear', tol=0.0001,\n",
      "          verbose=0, warm_start=False)\n",
      "Accuracy = 78.571%\n",
      "-----------Confusion matrix-----------\n",
      "Predicted  1.0  2.0  3.0  All\n",
      "Actual                       \n",
      "1.0          5    0    0    5\n",
      "2.0          1   20    5   26\n",
      "3.0          0    6   19   25\n",
      "All          6   26   24   56\n",
      "\n",
      "-----------Classification report-----------\n",
      "             precision    recall  f1-score   support\n",
      "\n",
      "        1.0       0.83      1.00      0.91         5\n",
      "        2.0       0.77      0.77      0.77        26\n",
      "        3.0       0.79      0.76      0.78        25\n",
      "\n",
      "avg / total       0.78      0.79      0.78        56\n",
      "\n",
      "\n"
     ]
    }
   ],
   "source": [
    "lr=LogisticRegression()\n",
    "classification_rslt(lr,train_data,features,train_data.next_2_5)"
   ]
  },
  {
   "cell_type": "code",
   "execution_count": 24,
   "metadata": {},
   "outputs": [
    {
     "name": "stdout",
     "output_type": "stream",
     "text": [
      "-------------Model----------\n",
      "LogisticRegression(C=1.0, class_weight=None, dual=False, fit_intercept=True,\n",
      "          intercept_scaling=1, max_iter=100, multi_class='ovr', n_jobs=1,\n",
      "          penalty='l2', random_state=None, solver='liblinear', tol=0.0001,\n",
      "          verbose=0, warm_start=False)\n",
      "Accuracy = 58.929%\n",
      "-----------Confusion matrix-----------\n",
      "Predicted  1.0  2.0  3.0  All\n",
      "Actual                       \n",
      "1.0          5    0    0    5\n",
      "2.0          1   19    6   26\n",
      "3.0          0   16    9   25\n",
      "All          6   35   15   56\n",
      "\n",
      "-----------Classification report-----------\n",
      "             precision    recall  f1-score   support\n",
      "\n",
      "        1.0       0.83      1.00      0.91         5\n",
      "        2.0       0.54      0.73      0.62        26\n",
      "        3.0       0.60      0.36      0.45        25\n",
      "\n",
      "avg / total       0.59      0.59      0.57        56\n",
      "\n",
      "\n"
     ]
    }
   ],
   "source": [
    "lr2=LogisticRegression()\n",
    "classification_rslt(lr2,train_data,features_rm_first,train_data.next_2_5)"
   ]
  },
  {
   "cell_type": "markdown",
   "metadata": {},
   "source": [
    "# Create Word2Vec on whole twitter dataset"
   ]
  },
  {
   "cell_type": "code",
   "execution_count": 213,
   "metadata": {},
   "outputs": [],
   "source": [
    "def get_unique_tweets(show,shwnm=None):\n",
    "    if (shwnm is None):\n",
    "        df=show[(show.Source==\"TWITTER\")].copy()\n",
    "    else:\n",
    "        df=show[(show.Source==\"TWITTER\")& (show.nname==shwnm)].copy()\n",
    "    df.Contents=df.Contents.str.lower()\n",
    "    df['original']=~df.Contents.str.startswith((\"rt\",\"qt\"))\n",
    "    print(\"Total tweets for {2} {1:d} and unique tweets w/o processing {0:d}\".format(df.loc[df.original,'Unique ID'].nunique(),df['Unique ID'].nunique(),shwnm))\n",
    "    df['cleanContent']=df.Contents.str.replace(r\"http[^\\s]+\",\"\")\n",
    "    df.cleanContent=df.cleanContent.str.replace(r\"[#|@]\\w+\",\"\")\n",
    "    df.cleanContent=df.cleanContent.str.replace(r\"\\d\",\"\")\n",
    "    df.cleanContent=df.cleanContent.str.replace(r\"[^A-Za-z\\s]\",\" \")\n",
    "    df.cleanContent=df.cleanContent.str.replace(r\"[!\\\"#$%&\\'()*+,-\\./:;<=>?@\\[\\\\\\]^_`{|}~]\",\" \")\n",
    "    df.drop_duplicates('cleanContent',keep='first',inplace=True)\n",
    "    df['length']=df.cleanContent.apply(lambda x:len(x))\n",
    "    df=df.loc[(df.length>0) & (df.original),['Unique ID','Contents','nname','cleanContent']].copy()\n",
    "    print(\"unique tweets with processing\",df.shape[0])\n",
    "    return df\n",
    "def tokens(tokenizer,tweets):\n",
    "    tweets=tweets.lower()\n",
    "    tokens=tokenizer.tokenize(tweets)\n",
    "    tokens=filter(lambda x:not x.startswith('http'),tokens)\n",
    "    return list(tokens)\n",
    "\n",
    "def create_model(df_subset,model_name,size=100,epochs=10,overwrite=False):\n",
    "    ut_original=df_subset.cleanContent.values\n",
    "    df_subset=df_subset.sample(frac=1,random_state=1,replace=False)\n",
    "    unique_tweets=df_subset.cleanContent.values\n",
    "    del df_subset\n",
    "    tokenizer=TweetTokenizer()\n",
    "    tweets_tokens=[tokens(tokenizer,x) for x in unique_tweets ]\n",
    "    model=Word2Vec(tweets_tokens,size=size,min_count=1)\n",
    "    model.train(tweets_tokens,total_examples=len(tweets_tokens),epochs=epochs)\n",
    "    model.save(\"{}.model\".format(model_name))\n",
    "    del tweets_tokens\n",
    "    del model\n",
    "    gc.collect()\n"
   ]
  },
  {
   "cell_type": "code",
   "execution_count": 214,
   "metadata": {},
   "outputs": [
    {
     "name": "stdout",
     "output_type": "stream",
     "text": [
      "Total tweets for None 1213821 and unique tweets w/o processing 211713\n",
      "unique tweets with processing 181881\n"
     ]
    }
   ],
   "source": [
    "all_tweets=get_unique_tweets(twitter)"
   ]
  },
  {
   "cell_type": "code",
   "execution_count": 215,
   "metadata": {},
   "outputs": [],
   "source": [
    "create_model(all_tweets,\"search_data_all\")"
   ]
  },
  {
   "cell_type": "code",
   "execution_count": 25,
   "metadata": {},
   "outputs": [],
   "source": [
    "os.chdir(r\"F:\\ScoreData\\Zee TV\\cache\")\n",
    "model=Word2Vec.load(\"search_data_all.model\")"
   ]
  },
  {
   "cell_type": "code",
   "execution_count": 52,
   "metadata": {},
   "outputs": [
    {
     "data": {
      "text/plain": [
       "[('enjoy', 0.5230692625045776),\n",
       " ('catch', 0.47947266697883606),\n",
       " ('amaze', 0.47276753187179565),\n",
       " ('watch', 0.4657841622829437),\n",
       " ('check', 0.46439826488494873),\n",
       " ('unpredicted', 0.4620605409145355),\n",
       " ('folks', 0.44992518424987793),\n",
       " ('splendid', 0.4442703425884247),\n",
       " ('tweeps', 0.44218435883522034),\n",
       " ('wowsome', 0.42334872484207153),\n",
       " ('remarkable', 0.4204130172729492),\n",
       " ('recommendable', 0.41793107986450195),\n",
       " ('tremendous', 0.4141587018966675),\n",
       " ('astonishing', 0.41288673877716064),\n",
       " ('wonderful', 0.40887436270713806),\n",
       " ('marvelous', 0.4085730016231537),\n",
       " ('fantastic', 0.4039774537086487),\n",
       " ('wowkay', 0.4039011299610138),\n",
       " ('incredible', 0.40334808826446533),\n",
       " ('astounding', 0.4015294909477234)]"
      ]
     },
     "execution_count": 52,
     "metadata": {},
     "output_type": "execute_result"
    }
   ],
   "source": [
    "model.wv.similar_by_word('admire',20)"
   ]
  },
  {
   "cell_type": "code",
   "execution_count": 61,
   "metadata": {},
   "outputs": [
    {
     "data": {
      "text/plain": [
       "[('luv', 0.5693671703338623),\n",
       " ('adore', 0.5369060039520264),\n",
       " ('beauty', 0.5061217546463013),\n",
       " ('simplicity', 0.5038607120513916),\n",
       " ('loved', 0.49935078620910645),\n",
       " ('dizzying', 0.4800596535205841),\n",
       " ('friendship', 0.479587197303772),\n",
       " ('hate', 0.47513309121131897),\n",
       " ('loving', 0.4691314697265625),\n",
       " ('deoressed', 0.46060919761657715)]"
      ]
     },
     "execution_count": 61,
     "metadata": {},
     "output_type": "execute_result"
    }
   ],
   "source": [
    "model.wv.similar_by_word('love',10)"
   ]
  },
  {
   "cell_type": "code",
   "execution_count": 33,
   "metadata": {},
   "outputs": [],
   "source": [
    "os.chdir(r\"F:\\ScoreData\\Zee TV\\cache\")\n",
    "# Switching tokens with tokens_for_clusters, updated function to include removal of tokens of size<3\n",
    "def tokens_for_clusters(tokenizer,tweets):\n",
    "    tweets=tweets.lower()\n",
    "    tokens=tokenizer.tokenize(tweets)\n",
    "    tokens=filter(lambda x:not x.startswith('http'),tokens)\n",
    "    tokens=filter(lambda x:len(x)>2,tokens)\n",
    "    return list(tokens)\n",
    "\n",
    "def create_embeddings(unique_tweets,size,tweets_tokens,keyed):\n",
    "    embeddings=np.zeros(shape=(len(unique_tweets),size))+1e-6\n",
    "    for i,tweet in enumerate(tweets_tokens):\n",
    "        sm=0\n",
    "        for word in tweet:\n",
    "            try:\n",
    "                embeddings[i]+=keyed[word]\n",
    "            except KeyError as e:\n",
    "                print(\"KeyError occurred\")\n",
    "                print(tweet)\n",
    "                print(e)\n",
    "        embeddings[i]=embeddings[i]/(len(tweet)+1e-5)\n",
    "    return embeddings\n",
    "\n",
    "def create_show_embedding(ut_original,model_name,showname=None,size=100):\n",
    "    tokenizer=TweetTokenizer()\n",
    "    tweets_tokens=[tokens_for_clusters(tokenizer,x) for x in ut_original ]\n",
    "    model=Word2Vec.load(\"{}.model\".format(model_name))\n",
    "    embeddings=create_embeddings(ut_original,size,tweets_tokens,model.wv)\n",
    "    with open(\"{}.embed\".format(showname),\"wb\") as we:\n",
    "        pickle.dump(embeddings,we)\n",
    "    del model\n",
    "    print(\"The shape of embeddings \",embeddings.shape)\n",
    "    return embeddings\n",
    "\n",
    "def fit_clusters(clf,embeddings):\n",
    "    clus={}\n",
    "    clf.fit(embeddings)\n",
    "    clus['labels']=pd.Series(clf.labels_)\n",
    "    clus['score']=clf.inertia_\n",
    "#     clus['cls']=clf\n",
    "    clus['centroids']=clf.cluster_centers_\n",
    "    return clus\n",
    "\n",
    "def create_clusters(rng,embeddings,unique_tweets):\n",
    "    cluster_file=pd.DataFrame({'tweets':unique_tweets})\n",
    "    scores=[]\n",
    "    centers=[]\n",
    "    for i in rng:\n",
    "        km=KMeans(n_clusters=i,n_jobs=-1,random_state=101)\n",
    "        clus=fit_clusters(km,embeddings)\n",
    "        scores.append(clus['score'])\n",
    "        cluster_file['cluster_{}'.format(i)]=clus['labels']\n",
    "        centers.append(clus['centroids'])\n",
    "        del km\n",
    "        del clus\n",
    "        gc.collect()\n",
    "    return cluster_file,scores,centers\n",
    "\n",
    "def plot_homogeinity(scores,rng):\n",
    "    fig,ax=plt.subplots()\n",
    "    sns.scatterplot(x=rng,y=scores,ax=ax)\n",
    "    ax.set(title=\"Homogeneity\",xlabel=\"Clusters\",ylabel=\"total rss\")\n",
    "    plt.plot()\n",
    "\n",
    "def top5comments(centers,nbrs,cluster_tweet,embed,filename=None):\n",
    "    nn=NearestNeighbors(n_neighbors=nbrs,algorithm='auto')\n",
    "    with open(\"{}.embed\".format(embed),'rb') as rf:\n",
    "        embeddings=pickle.load(rf)\n",
    "    nn.fit(embeddings)\n",
    "    _,nearest=nn.kneighbors(centers)\n",
    "    cluster=centers.shape[0]\n",
    "    df=cluster_tweet[['Contents','tweets','cluster_{}'.format(int(cluster))]]\n",
    "    df=df.iloc[nearest.ravel(),:]\n",
    "    if filename is not None:\n",
    "        df.to_csv(\"{}.csv\".format(filename),index=False,encoding='utf-8')\n",
    "    return df,nearest\n",
    "\n",
    "''' Switching get_unique_tweets with get_unique_tweets_cleaned. The new function would include cleaner text by removing\n",
    "punctuations, @words, hashtags. \n",
    "'''\n",
    "def get_unique_tweets_cleaned(show,shwnm=None):\n",
    "    if (shwnm is None):\n",
    "        df=show[(show.Source==\"TWITTER\")].copy()\n",
    "    else:\n",
    "        df=show[(show.Source==\"TWITTER\")& (show.nname==shwnm)].copy()\n",
    "    df.Contents=df.Contents.str.lower()\n",
    "    df['original']=~df.Contents.str.startswith((\"rt\",\"qt\"))\n",
    "    print(\"Total tweets for {2} {1:d} and unique tweets w/o processing {0:d}\".format(df.loc[df.original,'Unique ID'].nunique(),df['Unique ID'].nunique(),shwnm))\n",
    "    df['cleanContent']=df.Contents.str.replace(r\"http[^\\s]+\",\"\")\n",
    "    df.cleanContent=df.cleanContent.str.replace(r\"[#|@]\\w+\",\"\")\n",
    "    df.cleanContent=df.cleanContent.str.replace(r\"\\d\",\"\")\n",
    "    df.cleanContent=df.cleanContent.str.replace(r\"[^A-Za-z\\s]\",\" \")\n",
    "    df.cleanContent=df.cleanContent.str.replace(r\"[!\\\"#$%&\\'()*+,-\\./:;<=>?@\\[\\\\\\]^_`{|}~]\",\" \")\n",
    "    df.drop_duplicates('cleanContent',keep='first',inplace=True)\n",
    "    df['length']=df.cleanContent.apply(lambda x:len(x))\n",
    "    df=df.loc[(df.length>0) & (df.original),['Unique ID','Contents','nname','cleanContent']].copy()\n",
    "    print(\"unique tweets with processing\",df.shape[0])\n",
    "    return df\n",
    "def show_cluster_combined_model(shows,shwnm,model_name,clstr=6,rng_cluster=np.arange(2,14)):\n",
    "    kalerein_mentions=get_unique_tweets_cleaned(shows.copy(),shwnm=shwnm)\n",
    "    embeddings=create_show_embedding(kalerein_mentions.cleanContent.values,model_name,shwnm)\n",
    "    cluster_file,scores,centers=create_clusters(rng_cluster,embeddings,kalerein_mentions.cleanContent.values)\n",
    "    cluster_file=pd.concat([kalerein_mentions.reset_index(drop=True),cluster_file.reset_index(drop=True)],axis=1)\n",
    "    cluster_file.to_csv(\"{}_clustered.csv\".format(shwnm),encoding='utf-8')\n",
    "    plot_homogeinity(scores,rng_cluster)\n",
    "    _,_=top5comments(centers[clstr-rng_cluster[0]],15,cluster_file,shwnm,\"{}_nearest\".format(shwnm))\n",
    "    print(Counter(cluster_file[\"cluster_{}\".format(clstr)]))\n",
    "    return cluster_file,scores,centers\n",
    "\n",
    "def create_subclusters(ut,model_name,subClusterFilename,clstr=6,rng_cluster=np.arange(2,14)):\n",
    "    embeddings=create_show_embedding(ut,model_name,subClusterFilename)\n",
    "    cluster_file,scores,centers=create_clusters(rng_cluster,embeddings,ut)\n",
    "    cluster_file.to_csv(\"{}_clustered.csv\".format(subClusterFilename))\n",
    "    plot_homogeinity(scores,rng_cluster)\n",
    "    _,_=top5comments(centers[clstr-rng_cluster[0]],15,cluster_file,subClusterFilename,\"{}_nearest\".format(subClusterFilename))\n",
    "    print(Counter(cluster_file[\"cluster_{}\".format(clstr)]))\n",
    "    return cluster_file,scores,centers\n"
   ]
  },
  {
   "cell_type": "code",
   "execution_count": 197,
   "metadata": {},
   "outputs": [
    {
     "name": "stdout",
     "output_type": "stream",
     "text": [
      "txt    यह मुझे 122 हैरान नहीं है क्योंकि हमने महिलाओं...\n",
      "dtype: object\n"
     ]
    }
   ],
   "source": [
    "\n",
    "a=pd.Series({'txt':\"यह मुझे 122 हैरान नहीं है क्योंकि हमने महिलाओं के साथ ऐसा व्यवहार देखा है 444\"})\n",
    "print(a.str.replace(r\"[^\\w\\s]]\",\" \"))\n"
   ]
  },
  {
   "cell_type": "code",
   "execution_count": 202,
   "metadata": {},
   "outputs": [
    {
     "data": {
      "text/plain": [
       "'               '"
      ]
     },
     "execution_count": 202,
     "metadata": {},
     "output_type": "execute_result"
    }
   ],
   "source": [
    "txt=\"यह मुझे 122 हैरान नहीं है क्योंकि हमने महिलाओं के साथ ऐसा व्यवहार देखा है 444\"\n",
    "patrn=re.compile(r\"[^A-Za-z\\s]\")\n",
    "patrn.sub(\"\",txt)"
   ]
  },
  {
   "cell_type": "code",
   "execution_count": 34,
   "metadata": {},
   "outputs": [
    {
     "name": "stdout",
     "output_type": "stream",
     "text": [
      "Total tweets for BEECHWALEBAPUDEKHRAHAHAI-Mentions 5793 and unique tweets w/o processing 1861\n",
      "unique tweets with processing 1579\n",
      "The shape of embeddings  (1579, 100)\n",
      "Counter({0: 606, 3: 334, 2: 283, 5: 199, 1: 144, 4: 13})\n"
     ]
    },
    {
     "data": {
      "image/png": "[encoded data removed]",
      "text/plain": [
       "<Figure size 432x288 with 1 Axes>"
      ]
     },
     "metadata": {},
     "output_type": "display_data"
    }
   ],
   "source": [
    "cluster_file,scores,centers=show_cluster_combined_model(twitter2.copy(),\"BEECHWALEBAPUDEKHRAHAHAI-Mentions\",\"search_data_all\",clstr=6)"
   ]
  },
  {
   "cell_type": "code",
   "execution_count": 35,
   "metadata": {},
   "outputs": [
    {
     "name": "stdout",
     "output_type": "stream",
     "text": [
      "Total tweets for zeetv---show---kaleerein-Mentions 24962 and unique tweets w/o processing 20324\n",
      "unique tweets with processing 18856\n",
      "The shape of embeddings  (18856, 100)\n",
      "Counter({4: 4584, 0: 3443, 1: 3220, 2: 2863, 5: 2827, 3: 1919})\n"
     ]
    },
    {
     "data": {
      "image/png": "[encoded data removed]",
      "text/plain": [
       "<Figure size 432x288 with 1 Axes>"
      ]
     },
     "metadata": {},
     "output_type": "display_data"
    }
   ],
   "source": [
    "cluster_file,scores,centers=show_cluster_combined_model(twitter2.copy(),\"zeetv---show---kaleerein-Mentions\",\"search_data_all\",clstr=6)"
   ]
  },
  {
   "cell_type": "code",
   "execution_count": 36,
   "metadata": {},
   "outputs": [
    {
     "name": "stdout",
     "output_type": "stream",
     "text": [
      "Total tweets for TEDTALKSINDIANAYISOCH-Mentions 75336 and unique tweets w/o processing 2925\n",
      "unique tweets with processing 2682\n",
      "The shape of embeddings  (2682, 100)\n",
      "Counter({0: 1049, 1: 646, 4: 388, 5: 346, 2: 240, 3: 13})\n"
     ]
    },
    {
     "data": {
      "image/png": "[encoded data removed]",
      "text/plain": [
       "<Figure size 432x288 with 1 Axes>"
      ]
     },
     "metadata": {},
     "output_type": "display_data"
    }
   ],
   "source": [
    "cluster_file,scores,centers=show_cluster_combined_model(twitter2.copy(),\"TEDTALKSINDIANAYISOCH-Mentions\",\"search_data_all\",clstr=6)"
   ]
  },
  {
   "cell_type": "code",
   "execution_count": 37,
   "metadata": {},
   "outputs": [
    {
     "name": "stdout",
     "output_type": "stream",
     "text": [
      "Total tweets for sonytv-shows-yeh-pyaar-nahi-tho-kya-hai-Mentions 164 and unique tweets w/o processing 107\n",
      "unique tweets with processing 38\n",
      "The shape of embeddings  (38, 100)\n",
      "Counter({3: 14, 5: 9, 0: 7, 1: 4, 4: 3, 2: 1})\n"
     ]
    },
    {
     "data": {
      "image/png": "[encoded data removed]",
      "text/plain": [
       "<Figure size 432x288 with 1 Axes>"
      ]
     },
     "metadata": {},
     "output_type": "display_data"
    }
   ],
   "source": [
    "cluster_file,scores,centers=show_cluster_combined_model(twitter2.copy(),\"sonytv-shows-yeh-pyaar-nahi-tho-kya-hai-Mentions\",\"search_data_all\",clstr=6)"
   ]
  },
  {
   "cell_type": "code",
   "execution_count": 38,
   "metadata": {},
   "outputs": [
    {
     "name": "stdout",
     "output_type": "stream",
     "text": [
      "Total tweets for andtvofficial-show-love-me-india-Mentions 15173 and unique tweets w/o processing 3227\n",
      "unique tweets with processing 2792\n",
      "The shape of embeddings  (2792, 100)\n",
      "Counter({4: 623, 0: 565, 5: 555, 1: 456, 3: 353, 2: 240})\n"
     ]
    },
    {
     "data": {
      "image/png": "[encoded data removed]",
      "text/plain": [
       "<Figure size 432x288 with 1 Axes>"
      ]
     },
     "metadata": {},
     "output_type": "display_data"
    }
   ],
   "source": [
    "cluster_file,scores,centers=show_cluster_combined_model(twitter2.copy(),\"andtvofficial-show-love-me-india-Mentions\",\"search_data_all\",clstr=6)"
   ]
  },
  {
   "cell_type": "code",
   "execution_count": 39,
   "metadata": {},
   "outputs": [
    {
     "name": "stdout",
     "output_type": "stream",
     "text": [
      "Total tweets for zee-tv---show---juzzbaaat-Mentions 21262 and unique tweets w/o processing 4988\n",
      "unique tweets with processing 4682\n",
      "The shape of embeddings  (4682, 100)\n",
      "Counter({3: 1413, 1: 1043, 2: 927, 4: 576, 5: 405, 0: 318})\n"
     ]
    },
    {
     "data": {
      "image/png": "[encoded data removed]",
      "text/plain": [
       "<Figure size 432x288 with 1 Axes>"
      ]
     },
     "metadata": {},
     "output_type": "display_data"
    }
   ],
   "source": [
    "cluster_file,scores,centers=show_cluster_combined_model(twitter2.copy(),\"zee-tv---show---juzzbaaat-Mentions\",\"search_data_all\",clstr=6)"
   ]
  },
  {
   "cell_type": "code",
   "execution_count": 40,
   "metadata": {},
   "outputs": [
    {
     "name": "stdout",
     "output_type": "stream",
     "text": [
      "Total tweets for zee-tv---show---ishq-subhan-allah-Mentions 5060 and unique tweets w/o processing 3035\n",
      "unique tweets with processing 2736\n",
      "The shape of embeddings  (2736, 100)\n",
      "Counter({1: 680, 0: 616, 4: 524, 2: 373, 5: 321, 3: 222})\n"
     ]
    },
    {
     "data": {
      "image/png": "[encoded data removed]",
      "text/plain": [
       "<Figure size 432x288 with 1 Axes>"
      ]
     },
     "metadata": {},
     "output_type": "display_data"
    }
   ],
   "source": [
    "cluster_file,scores,centers=show_cluster_combined_model(twitter2.copy(),\"zee-tv---show---ishq-subhan-allah-Mentions\",\"search_data_all\",clstr=6)"
   ]
  },
  {
   "cell_type": "code",
   "execution_count": 42,
   "metadata": {},
   "outputs": [
    {
     "name": "stdout",
     "output_type": "stream",
     "text": [
      "Total tweets for KARNSANGINI-Mentions 32023 and unique tweets w/o processing 4723\n",
      "unique tweets with processing 4165\n",
      "The shape of embeddings  (4165, 100)\n",
      "Counter({1: 1843, 0: 1014, 5: 460, 2: 413, 3: 399, 4: 36})\n",
      "Total tweets for KHICHDI-Mentions 5910 and unique tweets w/o processing 2425\n",
      "unique tweets with processing 2310\n",
      "The shape of embeddings  (2310, 100)\n",
      "Counter({3: 706, 0: 569, 5: 358, 1: 288, 4: 278, 2: 111})\n",
      "Total tweets for sonytv-show-prithvi-vallabh-Mentions 15456 and unique tweets w/o processing 2779\n",
      "unique tweets with processing 2560\n",
      "The shape of embeddings  (2560, 100)\n",
      "Counter({5: 865, 4: 750, 2: 434, 0: 224, 1: 167, 3: 120})\n",
      "Total tweets for DILHITOHAI-Mentions 5196 and unique tweets w/o processing 1003\n",
      "unique tweets with processing 855\n",
      "The shape of embeddings  (855, 100)\n",
      "Counter({1: 372, 2: 180, 5: 139, 3: 60, 0: 54, 4: 50})\n",
      "Total tweets for colorstv-show-kasam-Mentions 7288 and unique tweets w/o processing 1585\n",
      "unique tweets with processing 1089\n",
      "The shape of embeddings  (1089, 100)\n",
      "Counter({3: 369, 4: 244, 5: 177, 2: 153, 0: 114, 1: 32})\n"
     ]
    },
    {
     "data": {
      "image/png": "[encoded data removed]",
      "text/plain": [
       "<Figure size 432x288 with 1 Axes>"
      ]
     },
     "metadata": {},
     "output_type": "display_data"
    },
    {
     "data": {
      "image/png": "[encoded data removed]",
      "text/plain": [
       "<Figure size 432x288 with 1 Axes>"
      ]
     },
     "metadata": {},
     "output_type": "display_data"
    },
    {
     "data": {
      "image/png": "[encoded data removed]",
      "text/plain": [
       "<Figure size 432x288 with 1 Axes>"
      ]
     },
     "metadata": {},
     "output_type": "display_data"
    },
    {
     "data": {
      "image/png": "[encoded data removed]",
      "text/plain": [
       "<Figure size 432x288 with 1 Axes>"
      ]
     },
     "metadata": {},
     "output_type": "display_data"
    },
    {
     "data": {
      "image/png": "[encoded data removed]",
      "text/plain": [
       "<Figure size 432x288 with 1 Axes>"
      ]
     },
     "metadata": {},
     "output_type": "display_data"
    }
   ],
   "source": [
    "cluster_file,scores,centers=show_cluster_combined_model(twitter2.copy(),\"KARNSANGINI-Mentions\",\"search_data_all\",clstr=6)\n",
    "cluster_file,scores,centers=show_cluster_combined_model(twitter2.copy(),\"KHICHDI-Mentions\",\"search_data_all\",clstr=6)\n",
    "cluster_file,scores,centers=show_cluster_combined_model(twitter2.copy(),\"sonytv-show-prithvi-vallabh-Mentions\",\"search_data_all\",clstr=6)\n",
    "cluster_file,scores,centers=show_cluster_combined_model(twitter2.copy(),\"DILHITOHAI-Mentions\",\"search_data_all\",clstr=6)\n",
    "cluster_file,scores,centers=show_cluster_combined_model(twitter2.copy(),\"colorstv-show-kasam-Mentions\",\"search_data_all\",clstr=6)\n"
   ]
  },
  {
   "cell_type": "code",
   "execution_count": 121,
   "metadata": {},
   "outputs": [
    {
     "data": {
      "text/html": [
       "<div>\n",
       "<style scoped>\n",
       "    .dataframe tbody tr th:only-of-type {\n",
       "        vertical-align: middle;\n",
       "    }\n",
       "\n",
       "    .dataframe tbody tr th {\n",
       "        vertical-align: top;\n",
       "    }\n",
       "\n",
       "    .dataframe thead th {\n",
       "        text-align: right;\n",
       "    }\n",
       "</style>\n",
       "<table border=\"1\" class=\"dataframe\">\n",
       "  <thead>\n",
       "    <tr style=\"text-align: right;\">\n",
       "      <th></th>\n",
       "      <th>No</th>\n",
       "      <th>Source</th>\n",
       "      <th>Host</th>\n",
       "      <th>Link</th>\n",
       "      <th>Date(ET)</th>\n",
       "      <th>Time(ET)</th>\n",
       "      <th>LocalTime</th>\n",
       "      <th>Author ID</th>\n",
       "      <th>Author Name</th>\n",
       "      <th>Author URL</th>\n",
       "      <th>Authority</th>\n",
       "      <th>Followers</th>\n",
       "      <th>Following</th>\n",
       "      <th>Gender</th>\n",
       "      <th>Language</th>\n",
       "      <th>Country</th>\n",
       "      <th>Province/State</th>\n",
       "      <th>City</th>\n",
       "      <th>Location</th>\n",
       "      <th>Sentiment</th>\n",
       "      <th>Themes</th>\n",
       "      <th>Classifications</th>\n",
       "      <th>Entities</th>\n",
       "      <th>Snippet</th>\n",
       "      <th>Contents</th>\n",
       "      <th>Summary</th>\n",
       "      <th>Bio</th>\n",
       "      <th>Unique ID</th>\n",
       "      <th>Post Source</th>\n",
       "      <th>showname</th>\n",
       "      <th>nname</th>\n",
       "      <th>original</th>\n",
       "      <th>clean_content</th>\n",
       "      <th>0_7_date</th>\n",
       "      <th>7_14_date</th>\n",
       "      <th>14_21_date</th>\n",
       "      <th>max_dt</th>\n",
       "    </tr>\n",
       "  </thead>\n",
       "  <tbody>\n",
       "    <tr>\n",
       "      <th>827256</th>\n",
       "      <td>2593</td>\n",
       "      <td>TWITTER</td>\n",
       "      <td>http://www.twitter.com</td>\n",
       "      <td>http://twitter.com/Coolkiranj/statuses/1050623...</td>\n",
       "      <td>2018-10-12</td>\n",
       "      <td>01:45:38</td>\n",
       "      <td>2018-10-12 01:45:38</td>\n",
       "      <td>Coolkiranj</td>\n",
       "      <td>किरण...</td>\n",
       "      <td>http://twitter.com/coolkiranj</td>\n",
       "      <td>7</td>\n",
       "      <td>5178</td>\n",
       "      <td>612</td>\n",
       "      <td>FEMALE</td>\n",
       "      <td>Marathi</td>\n",
       "      <td>India</td>\n",
       "      <td>NaN</td>\n",
       "      <td>NaN</td>\n",
       "      <td>Maharashtra, India</td>\n",
       "      <td>NONE</td>\n",
       "      <td>NaN</td>\n",
       "      <td>NaN</td>\n",
       "      <td>NaN</td>\n",
       "      <td>कोल्हापूर जिल्ह्यातील गगनबावडा तालुक्यातील सम्...</td>\n",
       "      <td>कोल्हापूर जिल्ह्यातील गगनबावडा तालुक्यातील सम्...</td>\n",
       "      <td>NaN</td>\n",
       "      <td>सावलीची आस ना कोवळसे ऊन मी, सूर नाही संगती एक ...</td>\n",
       "      <td>1050623505933295619</td>\n",
       "      <td>Twitter for iPhone</td>\n",
       "      <td>andtvofficial-show-love-me-india-Mentions</td>\n",
       "      <td>andtvofficial-show-love-me-india-Mentions</td>\n",
       "      <td>True</td>\n",
       "      <td>कोल्हापूर जिल्ह्यातील गगनबावडा तालुक्यातील सम्...</td>\n",
       "      <td>2018-09-22 01:57:08</td>\n",
       "      <td>2018-09-29 01:57:08</td>\n",
       "      <td>2018-10-06 01:57:08</td>\n",
       "      <td>2018-10-15 01:57:08</td>\n",
       "    </tr>\n",
       "  </tbody>\n",
       "</table>\n",
       "</div>"
      ],
      "text/plain": [
       "          No   Source                    Host  \\\n",
       "827256  2593  TWITTER  http://www.twitter.com   \n",
       "\n",
       "                                                     Link    Date(ET)  \\\n",
       "827256  http://twitter.com/Coolkiranj/statuses/1050623...  2018-10-12   \n",
       "\n",
       "        Time(ET)           LocalTime   Author ID Author Name  \\\n",
       "827256  01:45:38 2018-10-12 01:45:38  Coolkiranj     किरण...   \n",
       "\n",
       "                           Author URL Authority Followers Following  Gender  \\\n",
       "827256  http://twitter.com/coolkiranj         7      5178       612  FEMALE   \n",
       "\n",
       "       Language Country Province/State City            Location Sentiment  \\\n",
       "827256  Marathi   India            NaN  NaN  Maharashtra, India      NONE   \n",
       "\n",
       "       Themes Classifications Entities  \\\n",
       "827256    NaN             NaN      NaN   \n",
       "\n",
       "                                                  Snippet  \\\n",
       "827256  कोल्हापूर जिल्ह्यातील गगनबावडा तालुक्यातील सम्...   \n",
       "\n",
       "                                                 Contents Summary  \\\n",
       "827256  कोल्हापूर जिल्ह्यातील गगनबावडा तालुक्यातील सम्...     NaN   \n",
       "\n",
       "                                                      Bio  \\\n",
       "827256  सावलीची आस ना कोवळसे ऊन मी, सूर नाही संगती एक ...   \n",
       "\n",
       "                  Unique ID         Post Source  \\\n",
       "827256  1050623505933295619  Twitter for iPhone   \n",
       "\n",
       "                                         showname  \\\n",
       "827256  andtvofficial-show-love-me-india-Mentions   \n",
       "\n",
       "                                            nname  original  \\\n",
       "827256  andtvofficial-show-love-me-india-Mentions      True   \n",
       "\n",
       "                                            clean_content            0_7_date  \\\n",
       "827256  कोल्हापूर जिल्ह्यातील गगनबावडा तालुक्यातील सम्... 2018-09-22 01:57:08   \n",
       "\n",
       "                 7_14_date          14_21_date              max_dt  \n",
       "827256 2018-09-29 01:57:08 2018-10-06 01:57:08 2018-10-15 01:57:08  "
      ]
     },
     "execution_count": 121,
     "metadata": {},
     "output_type": "execute_result"
    }
   ],
   "source": [
    "twitter2[twitter2['Unique ID']=='1050623505933295619']"
   ]
  },
  {
   "cell_type": "markdown",
   "metadata": {},
   "source": [
    "## Ratings vs features visualization"
   ]
  },
  {
   "cell_type": "code",
   "execution_count": 53,
   "metadata": {},
   "outputs": [
    {
     "data": {
      "text/html": [
       "<div>\n",
       "<style scoped>\n",
       "    .dataframe tbody tr th:only-of-type {\n",
       "        vertical-align: middle;\n",
       "    }\n",
       "\n",
       "    .dataframe tbody tr th {\n",
       "        vertical-align: top;\n",
       "    }\n",
       "\n",
       "    .dataframe thead th {\n",
       "        text-align: right;\n",
       "    }\n",
       "</style>\n",
       "<table border=\"1\" class=\"dataframe\">\n",
       "  <thead>\n",
       "    <tr style=\"text-align: right;\">\n",
       "      <th></th>\n",
       "      <th>nname</th>\n",
       "      <th>first</th>\n",
       "      <th>first2</th>\n",
       "      <th>first3</th>\n",
       "      <th>first4</th>\n",
       "      <th>next_2_5</th>\n",
       "      <th>next_2_7</th>\n",
       "      <th>next_3_6</th>\n",
       "      <th>next_3_8</th>\n",
       "      <th>next_4_7</th>\n",
       "      <th>next_4_9</th>\n",
       "      <th>next_5_8</th>\n",
       "      <th>next_5_10</th>\n",
       "      <th>first4_ex1</th>\n",
       "      <th>uniq_tweets</th>\n",
       "      <th>all_tweets</th>\n",
       "      <th>insta_cnt</th>\n",
       "      <th>Likes</th>\n",
       "      <th>Comments</th>\n",
       "      <th>news_count</th>\n",
       "      <th>tumblr_count</th>\n",
       "      <th>blogs_count</th>\n",
       "      <th>forum_count</th>\n",
       "    </tr>\n",
       "  </thead>\n",
       "  <tbody>\n",
       "    <tr>\n",
       "      <th>0</th>\n",
       "      <td>colors-tv---show--dance-deewane-Mentions</td>\n",
       "      <td>3.05</td>\n",
       "      <td>2.790</td>\n",
       "      <td>2.700000</td>\n",
       "      <td>2.7150</td>\n",
       "      <td>2.6375</td>\n",
       "      <td>2.578333</td>\n",
       "      <td>2.6125</td>\n",
       "      <td>2.623333</td>\n",
       "      <td>2.605000</td>\n",
       "      <td>2.703333</td>\n",
       "      <td>2.615</td>\n",
       "      <td>2.723333</td>\n",
       "      <td>2.603333</td>\n",
       "      <td>6361</td>\n",
       "      <td>32637</td>\n",
       "      <td>804</td>\n",
       "      <td>28161</td>\n",
       "      <td>636</td>\n",
       "      <td>31.0</td>\n",
       "      <td>12.0</td>\n",
       "      <td>396</td>\n",
       "      <td>3.0</td>\n",
       "    </tr>\n",
       "    <tr>\n",
       "      <th>1</th>\n",
       "      <td>RADHAKRISHN-Mentions</td>\n",
       "      <td>2.51</td>\n",
       "      <td>2.315</td>\n",
       "      <td>2.103333</td>\n",
       "      <td>2.0375</td>\n",
       "      <td>1.9150</td>\n",
       "      <td>1.892000</td>\n",
       "      <td>1.8350</td>\n",
       "      <td>1.835000</td>\n",
       "      <td>1.886667</td>\n",
       "      <td>1.886667</td>\n",
       "      <td>1.910</td>\n",
       "      <td>1.910000</td>\n",
       "      <td>1.880000</td>\n",
       "      <td>1610</td>\n",
       "      <td>6604</td>\n",
       "      <td>1742</td>\n",
       "      <td>16960</td>\n",
       "      <td>479</td>\n",
       "      <td>25.0</td>\n",
       "      <td>14.0</td>\n",
       "      <td>46</td>\n",
       "      <td>15.0</td>\n",
       "    </tr>\n",
       "  </tbody>\n",
       "</table>\n",
       "</div>"
      ],
      "text/plain": [
       "                                      nname  first  first2    first3  first4  \\\n",
       "0  colors-tv---show--dance-deewane-Mentions   3.05   2.790  2.700000  2.7150   \n",
       "1                      RADHAKRISHN-Mentions   2.51   2.315  2.103333  2.0375   \n",
       "\n",
       "   next_2_5  next_2_7  next_3_6  next_3_8  next_4_7  next_4_9  next_5_8  \\\n",
       "0    2.6375  2.578333    2.6125  2.623333  2.605000  2.703333     2.615   \n",
       "1    1.9150  1.892000    1.8350  1.835000  1.886667  1.886667     1.910   \n",
       "\n",
       "   next_5_10  first4_ex1  uniq_tweets  all_tweets  insta_cnt  Likes  Comments  \\\n",
       "0   2.723333    2.603333         6361       32637        804  28161       636   \n",
       "1   1.910000    1.880000         1610        6604       1742  16960       479   \n",
       "\n",
       "   news_count  tumblr_count  blogs_count  forum_count  \n",
       "0        31.0          12.0          396          3.0  \n",
       "1        25.0          14.0           46         15.0  "
      ]
     },
     "execution_count": 53,
     "metadata": {},
     "output_type": "execute_result"
    }
   ],
   "source": [
    "train_ratings_features=train_ratings.merge(ncnt_t2,on='nname',how='left').merge(cnt_t2,on='nname',how='left').merge(insta_cnt,on='nname',how='left').merge(news_cnt,on='nname',how='left').merge(tumblr_cnt,on='nname',how='left').merge(blogs_cnt,on='nname',how='left').merge(forum_cnt,on='nname',how='left')\n",
    "train_ratings_features.head(2)"
   ]
  },
  {
   "cell_type": "code",
   "execution_count": 57,
   "metadata": {},
   "outputs": [
    {
     "data": {
      "application/vnd.plotly.v1+json": {
       "config": {
        "linkText": "Export to plot.ly",
        "plotlyServerURL": "https://plot.ly",
        "showLink": true
       },
       "data": [
        {
         "mode": "markers",
         "name": "train",
         "text": [
          "colors-tv---show--dance-deewane-Mentions",
          "RADHAKRISHN-Mentions",
          "colorstv-show-bepannaah-Mentions",
          "KAUNBANEGACROREPATI-Mentions",
          "starplus-show-qayamat-ki-raat-Mentions",
          "zee-tv---show---ishq-subhan-allah-Mentions",
          "Guddan-Mentions",
          "ALADDINNAAMTOHSUNAHOGA-Mentions",
          "BIGGBOSS-Mentions",
          "IndiasGotTalent-Mentions",
          "zeetv-shows-tujhse-hai-rabta-Mentions",
          "starplus-show-kulfi-kumar-bajewala-Mentions",
          "zeetv-shows-india-best-dramebaaz-Mentions",
          "zeetv-show-did-lil-masters-Mentions",
          "NAZAR-Mentions",
          "colorstv-show-belan-wali-bahu-Mentions",
          "colorstv-show-kaun-hai-Mentions",
          "colors-tv-show-dastan-e-mohabbat-Mentions",
          "colorstv-show-roop-mard-ka-naya-swaroop-Mentions",
          "COMEDYCIRCUS-Mentions",
          "ENTERTAINMENTKIRAAT-Mentions",
          "zeetv-show-ye-teri-galiyan-Mentions",
          "zeetv-shows-sa-re-ga-ma-pa-Mentions",
          "sony-tv--show---cid-Mentions",
          "KRISHNACHALILONDON-Mentions",
          "colorstv-show-silsila-badalte-rishton-ka-Mentions",
          "zeetv-show-aap-ke-aa-jane-se-Mentions",
          "star-plus-show-dil-hai-hindustani--Mentions",
          "JIJAJICHHATPARHAIN-Mentions",
          "sony-tv-show-dus-ka-dum-Mentions",
          "sonytv-show-prithvi-vallabh-Mentions",
          "zeetv---show---kaleerein-Mentions",
          "KARNSANGINI-Mentions",
          "starplus-show-mariam-khan-reporting-live-Mentions",
          "zee-tv-shows-fear-files-Mentions",
          "SAVDHAANINDIA-INDIAFIGHTSBACK-Mentions",
          "starplus-show-sabse-smart-kaun-Mentions",
          "KHICHDI-Mentions",
          "PAPABYCHANCE-Mentions",
          "CHANDRASHEKAR-Mentions",
          "sonysab-show-saat-phero-ki-hera-pherie-Mentions",
          "DEVONKEDEVMAHADEV-Mentions",
          "andtvofficial-show-love-me-india-Mentions",
          "colorstv-show-kasam-Mentions",
          "THEVOICEINDIAKIDS-Mentions",
          "MUSKAAN-Mentions",
          "BEECHWALEBAPUDEKHRAHAHAI-Mentions",
          "sonysab-show-namune-Mentions",
          "sonytv-show-crime-patrol-Mentions",
          "sonysab-show-shriman-shrimati-phir-se-Mentions",
          "TEDTALKSINDIANAYISOCH-Mentions",
          "DILHITOHAI-Mentions",
          "JIODHANDHANADHANLIVE-Mentions",
          "zee-tv---show---juzzbaaat-Mentions",
          "andtvofficial-show-mitegi-lakshmanrekha-Mentions",
          "andtvofficial-show-bitti-businesswali-Mentions"
         ],
         "type": "scatter",
         "uid": "c05cd2cf-3b42-430b-a3ee-c59c00ed15b3",
         "x": [
          6361,
          1610,
          3305,
          11273,
          2114,
          3035,
          4,
          363,
          18597,
          973,
          1033,
          78,
          3124,
          5502,
          177,
          844,
          111,
          1332,
          182,
          682,
          1129,
          116,
          1027,
          512,
          1578,
          916,
          7880,
          270,
          4089,
          1808,
          2779,
          20324,
          4723,
          1392,
          86,
          13,
          2643,
          2425,
          141,
          77,
          178,
          24,
          3227,
          1585,
          109,
          35,
          1861,
          959,
          98,
          141,
          2925,
          1003,
          285,
          4988,
          58,
          65
         ],
         "y": [
          3.05,
          2.51,
          2.37,
          2.35,
          2.25,
          2.15,
          2.02,
          1.99,
          1.98,
          1.94,
          1.92,
          1.74,
          1.7,
          1.69,
          1.64,
          1.62,
          1.57,
          1.47,
          1.41,
          1.36,
          1.32,
          1.25,
          1.17,
          1.16,
          1.12,
          1.09,
          1.08,
          1.04,
          0.99,
          0.98,
          0.95,
          0.92,
          0.88,
          0.87,
          0.83,
          0.81,
          0.77,
          0.76,
          0.73,
          0.72,
          0.72,
          0.71,
          0.67,
          0.64,
          0.59,
          0.56,
          0.53,
          0.48,
          0.44,
          0.37,
          0.35,
          0.33,
          0.26,
          0.24,
          0.17,
          0.13
         ]
        }
       ],
       "layout": {
        "title": "Ratings vs Unique count of Tweets",
        "xaxis": {
         "title": "Unique Count of Tweets"
        },
        "yaxis": {
         "title": "First weeks rating"
        }
       }
      },
      "text/html": [
       "<div id=\"01f39957-4cee-4492-9b15-2f12adefcd3e\" style=\"height: 525px; width: 100%;\" class=\"plotly-graph-div\"></div><script type=\"text/javascript\">require([\"plotly\"], function(Plotly) { window.PLOTLYENV=window.PLOTLYENV || {};window.PLOTLYENV.BASE_URL=\"https://plot.ly\";Plotly.newPlot(\"01f39957-4cee-4492-9b15-2f12adefcd3e\", [{\"mode\": \"markers\", \"name\": \"train\", \"text\": [\"colors-tv---show--dance-deewane-Mentions\", \"RADHAKRISHN-Mentions\", \"colorstv-show-bepannaah-Mentions\", \"KAUNBANEGACROREPATI-Mentions\", \"starplus-show-qayamat-ki-raat-Mentions\", \"zee-tv---show---ishq-subhan-allah-Mentions\", \"Guddan-Mentions\", \"ALADDINNAAMTOHSUNAHOGA-Mentions\", \"BIGGBOSS-Mentions\", \"IndiasGotTalent-Mentions\", \"zeetv-shows-tujhse-hai-rabta-Mentions\", \"starplus-show-kulfi-kumar-bajewala-Mentions\", \"zeetv-shows-india-best-dramebaaz-Mentions\", \"zeetv-show-did-lil-masters-Mentions\", \"NAZAR-Mentions\", \"colorstv-show-belan-wali-bahu-Mentions\", \"colorstv-show-kaun-hai-Mentions\", \"colors-tv-show-dastan-e-mohabbat-Mentions\", \"colorstv-show-roop-mard-ka-naya-swaroop-Mentions\", \"COMEDYCIRCUS-Mentions\", \"ENTERTAINMENTKIRAAT-Mentions\", \"zeetv-show-ye-teri-galiyan-Mentions\", \"zeetv-shows-sa-re-ga-ma-pa-Mentions\", \"sony-tv--show---cid-Mentions\", \"KRISHNACHALILONDON-Mentions\", \"colorstv-show-silsila-badalte-rishton-ka-Mentions\", \"zeetv-show-aap-ke-aa-jane-se-Mentions\", \"star-plus-show-dil-hai-hindustani--Mentions\", \"JIJAJICHHATPARHAIN-Mentions\", \"sony-tv-show-dus-ka-dum-Mentions\", \"sonytv-show-prithvi-vallabh-Mentions\", \"zeetv---show---kaleerein-Mentions\", \"KARNSANGINI-Mentions\", \"starplus-show-mariam-khan-reporting-live-Mentions\", \"zee-tv-shows-fear-files-Mentions\", \"SAVDHAANINDIA-INDIAFIGHTSBACK-Mentions\", \"starplus-show-sabse-smart-kaun-Mentions\", \"KHICHDI-Mentions\", \"PAPABYCHANCE-Mentions\", \"CHANDRASHEKAR-Mentions\", \"sonysab-show-saat-phero-ki-hera-pherie-Mentions\", \"DEVONKEDEVMAHADEV-Mentions\", \"andtvofficial-show-love-me-india-Mentions\", \"colorstv-show-kasam-Mentions\", \"THEVOICEINDIAKIDS-Mentions\", \"MUSKAAN-Mentions\", \"BEECHWALEBAPUDEKHRAHAHAI-Mentions\", \"sonysab-show-namune-Mentions\", \"sonytv-show-crime-patrol-Mentions\", \"sonysab-show-shriman-shrimati-phir-se-Mentions\", \"TEDTALKSINDIANAYISOCH-Mentions\", \"DILHITOHAI-Mentions\", \"JIODHANDHANADHANLIVE-Mentions\", \"zee-tv---show---juzzbaaat-Mentions\", \"andtvofficial-show-mitegi-lakshmanrekha-Mentions\", \"andtvofficial-show-bitti-businesswali-Mentions\"], \"x\": [6361, 1610, 3305, 11273, 2114, 3035, 4, 363, 18597, 973, 1033, 78, 3124, 5502, 177, 844, 111, 1332, 182, 682, 1129, 116, 1027, 512, 1578, 916, 7880, 270, 4089, 1808, 2779, 20324, 4723, 1392, 86, 13, 2643, 2425, 141, 77, 178, 24, 3227, 1585, 109, 35, 1861, 959, 98, 141, 2925, 1003, 285, 4988, 58, 65], \"y\": [3.05, 2.51, 2.37, 2.35, 2.25, 2.15, 2.02, 1.99, 1.98, 1.94, 1.92, 1.74, 1.7, 1.69, 1.64, 1.62, 1.57, 1.47, 1.41, 1.36, 1.32, 1.25, 1.17, 1.16, 1.12, 1.09, 1.08, 1.04, 0.99, 0.98, 0.95, 0.92, 0.88, 0.87, 0.83, 0.81, 0.77, 0.76, 0.73, 0.72, 0.72, 0.71, 0.67, 0.64, 0.59, 0.56, 0.53, 0.48, 0.44, 0.37, 0.35, 0.33, 0.26, 0.24, 0.17, 0.13], \"type\": \"scatter\", \"uid\": \"0a697783-3f8f-4969-a065-a1f6ce85209b\"}], {\"title\": \"Ratings vs Unique count of Tweets\", \"xaxis\": {\"title\": \"Unique Count of Tweets\"}, \"yaxis\": {\"title\": \"First weeks rating\"}}, {\"showLink\": true, \"linkText\": \"Export to plot.ly\", \"plotlyServerURL\": \"https://plot.ly\"})});</script><script type=\"text/javascript\">window.addEventListener(\"resize\", function(){window._Plotly.Plots.resize(document.getElementById(\"01f39957-4cee-4492-9b15-2f12adefcd3e\"));});</script>"
      ],
      "text/vnd.plotly.v1+html": [
       "<div id=\"01f39957-4cee-4492-9b15-2f12adefcd3e\" style=\"height: 525px; width: 100%;\" class=\"plotly-graph-div\"></div><script type=\"text/javascript\">require([\"plotly\"], function(Plotly) { window.PLOTLYENV=window.PLOTLYENV || {};window.PLOTLYENV.BASE_URL=\"https://plot.ly\";Plotly.newPlot(\"01f39957-4cee-4492-9b15-2f12adefcd3e\", [{\"mode\": \"markers\", \"name\": \"train\", \"text\": [\"colors-tv---show--dance-deewane-Mentions\", \"RADHAKRISHN-Mentions\", \"colorstv-show-bepannaah-Mentions\", \"KAUNBANEGACROREPATI-Mentions\", \"starplus-show-qayamat-ki-raat-Mentions\", \"zee-tv---show---ishq-subhan-allah-Mentions\", \"Guddan-Mentions\", \"ALADDINNAAMTOHSUNAHOGA-Mentions\", \"BIGGBOSS-Mentions\", \"IndiasGotTalent-Mentions\", \"zeetv-shows-tujhse-hai-rabta-Mentions\", \"starplus-show-kulfi-kumar-bajewala-Mentions\", \"zeetv-shows-india-best-dramebaaz-Mentions\", \"zeetv-show-did-lil-masters-Mentions\", \"NAZAR-Mentions\", \"colorstv-show-belan-wali-bahu-Mentions\", \"colorstv-show-kaun-hai-Mentions\", \"colors-tv-show-dastan-e-mohabbat-Mentions\", \"colorstv-show-roop-mard-ka-naya-swaroop-Mentions\", \"COMEDYCIRCUS-Mentions\", \"ENTERTAINMENTKIRAAT-Mentions\", \"zeetv-show-ye-teri-galiyan-Mentions\", \"zeetv-shows-sa-re-ga-ma-pa-Mentions\", \"sony-tv--show---cid-Mentions\", \"KRISHNACHALILONDON-Mentions\", \"colorstv-show-silsila-badalte-rishton-ka-Mentions\", \"zeetv-show-aap-ke-aa-jane-se-Mentions\", \"star-plus-show-dil-hai-hindustani--Mentions\", \"JIJAJICHHATPARHAIN-Mentions\", \"sony-tv-show-dus-ka-dum-Mentions\", \"sonytv-show-prithvi-vallabh-Mentions\", \"zeetv---show---kaleerein-Mentions\", \"KARNSANGINI-Mentions\", \"starplus-show-mariam-khan-reporting-live-Mentions\", \"zee-tv-shows-fear-files-Mentions\", \"SAVDHAANINDIA-INDIAFIGHTSBACK-Mentions\", \"starplus-show-sabse-smart-kaun-Mentions\", \"KHICHDI-Mentions\", \"PAPABYCHANCE-Mentions\", \"CHANDRASHEKAR-Mentions\", \"sonysab-show-saat-phero-ki-hera-pherie-Mentions\", \"DEVONKEDEVMAHADEV-Mentions\", \"andtvofficial-show-love-me-india-Mentions\", \"colorstv-show-kasam-Mentions\", \"THEVOICEINDIAKIDS-Mentions\", \"MUSKAAN-Mentions\", \"BEECHWALEBAPUDEKHRAHAHAI-Mentions\", \"sonysab-show-namune-Mentions\", \"sonytv-show-crime-patrol-Mentions\", \"sonysab-show-shriman-shrimati-phir-se-Mentions\", \"TEDTALKSINDIANAYISOCH-Mentions\", \"DILHITOHAI-Mentions\", \"JIODHANDHANADHANLIVE-Mentions\", \"zee-tv---show---juzzbaaat-Mentions\", \"andtvofficial-show-mitegi-lakshmanrekha-Mentions\", \"andtvofficial-show-bitti-businesswali-Mentions\"], \"x\": [6361, 1610, 3305, 11273, 2114, 3035, 4, 363, 18597, 973, 1033, 78, 3124, 5502, 177, 844, 111, 1332, 182, 682, 1129, 116, 1027, 512, 1578, 916, 7880, 270, 4089, 1808, 2779, 20324, 4723, 1392, 86, 13, 2643, 2425, 141, 77, 178, 24, 3227, 1585, 109, 35, 1861, 959, 98, 141, 2925, 1003, 285, 4988, 58, 65], \"y\": [3.05, 2.51, 2.37, 2.35, 2.25, 2.15, 2.02, 1.99, 1.98, 1.94, 1.92, 1.74, 1.7, 1.69, 1.64, 1.62, 1.57, 1.47, 1.41, 1.36, 1.32, 1.25, 1.17, 1.16, 1.12, 1.09, 1.08, 1.04, 0.99, 0.98, 0.95, 0.92, 0.88, 0.87, 0.83, 0.81, 0.77, 0.76, 0.73, 0.72, 0.72, 0.71, 0.67, 0.64, 0.59, 0.56, 0.53, 0.48, 0.44, 0.37, 0.35, 0.33, 0.26, 0.24, 0.17, 0.13], \"type\": \"scatter\", \"uid\": \"0a697783-3f8f-4969-a065-a1f6ce85209b\"}], {\"title\": \"Ratings vs Unique count of Tweets\", \"xaxis\": {\"title\": \"Unique Count of Tweets\"}, \"yaxis\": {\"title\": \"First weeks rating\"}}, {\"showLink\": true, \"linkText\": \"Export to plot.ly\", \"plotlyServerURL\": \"https://plot.ly\"})});</script><script type=\"text/javascript\">window.addEventListener(\"resize\", function(){window._Plotly.Plots.resize(document.getElementById(\"01f39957-4cee-4492-9b15-2f12adefcd3e\"));});</script>"
      ]
     },
     "metadata": {},
     "output_type": "display_data"
    }
   ],
   "source": [
    "trace0=go.Scatter(\n",
    "    x=train_ratings_features['uniq_tweets'],\n",
    "    y=train_ratings_features['first'],\n",
    "    mode='markers',\n",
    "    name='train',\n",
    "    text=train_ratings_features.nname\n",
    "#     marker=dict(color='rbga(255, 128, 255, 0.8)')\n",
    "    )\n",
    "data=[trace0]\n",
    "layout=go.Layout(title=\"Ratings vs Unique count of Tweets\",xaxis={'title':'Unique Count of Tweets'},yaxis={'title':'First weeks rating'})\n",
    "fig=dict(data=data,layout=layout)\n",
    "iplot(fig)"
   ]
  },
  {
   "cell_type": "code",
   "execution_count": 59,
   "metadata": {},
   "outputs": [
    {
     "data": {
      "application/vnd.plotly.v1+json": {
       "config": {
        "linkText": "Export to plot.ly",
        "plotlyServerURL": "https://plot.ly",
        "showLink": true
       },
       "data": [
        {
         "mode": "markers",
         "name": "train",
         "text": [
          "colors-tv---show--dance-deewane-Mentions",
          "RADHAKRISHN-Mentions",
          "colorstv-show-bepannaah-Mentions",
          "KAUNBANEGACROREPATI-Mentions",
          "starplus-show-qayamat-ki-raat-Mentions",
          "zee-tv---show---ishq-subhan-allah-Mentions",
          "Guddan-Mentions",
          "ALADDINNAAMTOHSUNAHOGA-Mentions",
          "BIGGBOSS-Mentions",
          "IndiasGotTalent-Mentions",
          "zeetv-shows-tujhse-hai-rabta-Mentions",
          "starplus-show-kulfi-kumar-bajewala-Mentions",
          "zeetv-shows-india-best-dramebaaz-Mentions",
          "zeetv-show-did-lil-masters-Mentions",
          "NAZAR-Mentions",
          "colorstv-show-belan-wali-bahu-Mentions",
          "colorstv-show-kaun-hai-Mentions",
          "colors-tv-show-dastan-e-mohabbat-Mentions",
          "colorstv-show-roop-mard-ka-naya-swaroop-Mentions",
          "COMEDYCIRCUS-Mentions",
          "ENTERTAINMENTKIRAAT-Mentions",
          "zeetv-show-ye-teri-galiyan-Mentions",
          "zeetv-shows-sa-re-ga-ma-pa-Mentions",
          "sony-tv--show---cid-Mentions",
          "KRISHNACHALILONDON-Mentions",
          "colorstv-show-silsila-badalte-rishton-ka-Mentions",
          "zeetv-show-aap-ke-aa-jane-se-Mentions",
          "star-plus-show-dil-hai-hindustani--Mentions",
          "JIJAJICHHATPARHAIN-Mentions",
          "sony-tv-show-dus-ka-dum-Mentions",
          "sonytv-show-prithvi-vallabh-Mentions",
          "zeetv---show---kaleerein-Mentions",
          "KARNSANGINI-Mentions",
          "starplus-show-mariam-khan-reporting-live-Mentions",
          "zee-tv-shows-fear-files-Mentions",
          "SAVDHAANINDIA-INDIAFIGHTSBACK-Mentions",
          "starplus-show-sabse-smart-kaun-Mentions",
          "KHICHDI-Mentions",
          "PAPABYCHANCE-Mentions",
          "CHANDRASHEKAR-Mentions",
          "sonysab-show-saat-phero-ki-hera-pherie-Mentions",
          "DEVONKEDEVMAHADEV-Mentions",
          "andtvofficial-show-love-me-india-Mentions",
          "colorstv-show-kasam-Mentions",
          "THEVOICEINDIAKIDS-Mentions",
          "MUSKAAN-Mentions",
          "BEECHWALEBAPUDEKHRAHAHAI-Mentions",
          "sonysab-show-namune-Mentions",
          "sonytv-show-crime-patrol-Mentions",
          "sonysab-show-shriman-shrimati-phir-se-Mentions",
          "TEDTALKSINDIANAYISOCH-Mentions",
          "DILHITOHAI-Mentions",
          "JIODHANDHANADHANLIVE-Mentions",
          "zee-tv---show---juzzbaaat-Mentions",
          "andtvofficial-show-mitegi-lakshmanrekha-Mentions",
          "andtvofficial-show-bitti-businesswali-Mentions"
         ],
         "type": "scatter",
         "uid": "ee09c4e9-782d-42f0-be57-a5763a6f743f",
         "x": [
          804,
          1742,
          1602,
          530,
          148,
          1002,
          2,
          1860,
          16838,
          1660,
          348,
          22,
          297,
          233,
          40,
          158,
          40,
          2699,
          40,
          60,
          102,
          265,
          585,
          36,
          293,
          327,
          70,
          850,
          179,
          352,
          440,
          240,
          1690,
          635,
          11,
          1,
          214,
          60,
          239,
          23,
          6,
          10,
          2458,
          168,
          45,
          13,
          273,
          86,
          26,
          6,
          96,
          355,
          56,
          1004,
          40,
          12
         ],
         "y": [
          3.05,
          2.51,
          2.37,
          2.35,
          2.25,
          2.15,
          2.02,
          1.99,
          1.98,
          1.94,
          1.92,
          1.74,
          1.7,
          1.69,
          1.64,
          1.62,
          1.57,
          1.47,
          1.41,
          1.36,
          1.32,
          1.25,
          1.17,
          1.16,
          1.12,
          1.09,
          1.08,
          1.04,
          0.99,
          0.98,
          0.95,
          0.92,
          0.88,
          0.87,
          0.83,
          0.81,
          0.77,
          0.76,
          0.73,
          0.72,
          0.72,
          0.71,
          0.67,
          0.64,
          0.59,
          0.56,
          0.53,
          0.48,
          0.44,
          0.37,
          0.35,
          0.33,
          0.26,
          0.24,
          0.17,
          0.13
         ]
        }
       ],
       "layout": {
        "title": "Ratings vs Unique Instagram post",
        "xaxis": {
         "title": "Unique Instagram post"
        },
        "yaxis": {
         "title": "First weeks rating"
        }
       }
      },
      "text/html": [
       "<div id=\"bad14957-fadf-4738-b3ea-8546cf489d33\" style=\"height: 525px; width: 100%;\" class=\"plotly-graph-div\"></div><script type=\"text/javascript\">require([\"plotly\"], function(Plotly) { window.PLOTLYENV=window.PLOTLYENV || {};window.PLOTLYENV.BASE_URL=\"https://plot.ly\";Plotly.newPlot(\"bad14957-fadf-4738-b3ea-8546cf489d33\", [{\"mode\": \"markers\", \"name\": \"train\", \"text\": [\"colors-tv---show--dance-deewane-Mentions\", \"RADHAKRISHN-Mentions\", \"colorstv-show-bepannaah-Mentions\", \"KAUNBANEGACROREPATI-Mentions\", \"starplus-show-qayamat-ki-raat-Mentions\", \"zee-tv---show---ishq-subhan-allah-Mentions\", \"Guddan-Mentions\", \"ALADDINNAAMTOHSUNAHOGA-Mentions\", \"BIGGBOSS-Mentions\", \"IndiasGotTalent-Mentions\", \"zeetv-shows-tujhse-hai-rabta-Mentions\", \"starplus-show-kulfi-kumar-bajewala-Mentions\", \"zeetv-shows-india-best-dramebaaz-Mentions\", \"zeetv-show-did-lil-masters-Mentions\", \"NAZAR-Mentions\", \"colorstv-show-belan-wali-bahu-Mentions\", \"colorstv-show-kaun-hai-Mentions\", \"colors-tv-show-dastan-e-mohabbat-Mentions\", \"colorstv-show-roop-mard-ka-naya-swaroop-Mentions\", \"COMEDYCIRCUS-Mentions\", \"ENTERTAINMENTKIRAAT-Mentions\", \"zeetv-show-ye-teri-galiyan-Mentions\", \"zeetv-shows-sa-re-ga-ma-pa-Mentions\", \"sony-tv--show---cid-Mentions\", \"KRISHNACHALILONDON-Mentions\", \"colorstv-show-silsila-badalte-rishton-ka-Mentions\", \"zeetv-show-aap-ke-aa-jane-se-Mentions\", \"star-plus-show-dil-hai-hindustani--Mentions\", \"JIJAJICHHATPARHAIN-Mentions\", \"sony-tv-show-dus-ka-dum-Mentions\", \"sonytv-show-prithvi-vallabh-Mentions\", \"zeetv---show---kaleerein-Mentions\", \"KARNSANGINI-Mentions\", \"starplus-show-mariam-khan-reporting-live-Mentions\", \"zee-tv-shows-fear-files-Mentions\", \"SAVDHAANINDIA-INDIAFIGHTSBACK-Mentions\", \"starplus-show-sabse-smart-kaun-Mentions\", \"KHICHDI-Mentions\", \"PAPABYCHANCE-Mentions\", \"CHANDRASHEKAR-Mentions\", \"sonysab-show-saat-phero-ki-hera-pherie-Mentions\", \"DEVONKEDEVMAHADEV-Mentions\", \"andtvofficial-show-love-me-india-Mentions\", \"colorstv-show-kasam-Mentions\", \"THEVOICEINDIAKIDS-Mentions\", \"MUSKAAN-Mentions\", \"BEECHWALEBAPUDEKHRAHAHAI-Mentions\", \"sonysab-show-namune-Mentions\", \"sonytv-show-crime-patrol-Mentions\", \"sonysab-show-shriman-shrimati-phir-se-Mentions\", \"TEDTALKSINDIANAYISOCH-Mentions\", \"DILHITOHAI-Mentions\", \"JIODHANDHANADHANLIVE-Mentions\", \"zee-tv---show---juzzbaaat-Mentions\", \"andtvofficial-show-mitegi-lakshmanrekha-Mentions\", \"andtvofficial-show-bitti-businesswali-Mentions\"], \"x\": [804, 1742, 1602, 530, 148, 1002, 2, 1860, 16838, 1660, 348, 22, 297, 233, 40, 158, 40, 2699, 40, 60, 102, 265, 585, 36, 293, 327, 70, 850, 179, 352, 440, 240, 1690, 635, 11, 1, 214, 60, 239, 23, 6, 10, 2458, 168, 45, 13, 273, 86, 26, 6, 96, 355, 56, 1004, 40, 12], \"y\": [3.05, 2.51, 2.37, 2.35, 2.25, 2.15, 2.02, 1.99, 1.98, 1.94, 1.92, 1.74, 1.7, 1.69, 1.64, 1.62, 1.57, 1.47, 1.41, 1.36, 1.32, 1.25, 1.17, 1.16, 1.12, 1.09, 1.08, 1.04, 0.99, 0.98, 0.95, 0.92, 0.88, 0.87, 0.83, 0.81, 0.77, 0.76, 0.73, 0.72, 0.72, 0.71, 0.67, 0.64, 0.59, 0.56, 0.53, 0.48, 0.44, 0.37, 0.35, 0.33, 0.26, 0.24, 0.17, 0.13], \"type\": \"scatter\", \"uid\": \"e00bd378-741d-486f-8c4d-72dd6b67fe5f\"}], {\"title\": \"Ratings vs Unique Instagram post\", \"xaxis\": {\"title\": \"Unique Instagram post\"}, \"yaxis\": {\"title\": \"First weeks rating\"}}, {\"showLink\": true, \"linkText\": \"Export to plot.ly\", \"plotlyServerURL\": \"https://plot.ly\"})});</script><script type=\"text/javascript\">window.addEventListener(\"resize\", function(){window._Plotly.Plots.resize(document.getElementById(\"bad14957-fadf-4738-b3ea-8546cf489d33\"));});</script>"
      ],
      "text/vnd.plotly.v1+html": [
       "<div id=\"bad14957-fadf-4738-b3ea-8546cf489d33\" style=\"height: 525px; width: 100%;\" class=\"plotly-graph-div\"></div><script type=\"text/javascript\">require([\"plotly\"], function(Plotly) { window.PLOTLYENV=window.PLOTLYENV || {};window.PLOTLYENV.BASE_URL=\"https://plot.ly\";Plotly.newPlot(\"bad14957-fadf-4738-b3ea-8546cf489d33\", [{\"mode\": \"markers\", \"name\": \"train\", \"text\": [\"colors-tv---show--dance-deewane-Mentions\", \"RADHAKRISHN-Mentions\", \"colorstv-show-bepannaah-Mentions\", \"KAUNBANEGACROREPATI-Mentions\", \"starplus-show-qayamat-ki-raat-Mentions\", \"zee-tv---show---ishq-subhan-allah-Mentions\", \"Guddan-Mentions\", \"ALADDINNAAMTOHSUNAHOGA-Mentions\", \"BIGGBOSS-Mentions\", \"IndiasGotTalent-Mentions\", \"zeetv-shows-tujhse-hai-rabta-Mentions\", \"starplus-show-kulfi-kumar-bajewala-Mentions\", \"zeetv-shows-india-best-dramebaaz-Mentions\", \"zeetv-show-did-lil-masters-Mentions\", \"NAZAR-Mentions\", \"colorstv-show-belan-wali-bahu-Mentions\", \"colorstv-show-kaun-hai-Mentions\", \"colors-tv-show-dastan-e-mohabbat-Mentions\", \"colorstv-show-roop-mard-ka-naya-swaroop-Mentions\", \"COMEDYCIRCUS-Mentions\", \"ENTERTAINMENTKIRAAT-Mentions\", \"zeetv-show-ye-teri-galiyan-Mentions\", \"zeetv-shows-sa-re-ga-ma-pa-Mentions\", \"sony-tv--show---cid-Mentions\", \"KRISHNACHALILONDON-Mentions\", \"colorstv-show-silsila-badalte-rishton-ka-Mentions\", \"zeetv-show-aap-ke-aa-jane-se-Mentions\", \"star-plus-show-dil-hai-hindustani--Mentions\", \"JIJAJICHHATPARHAIN-Mentions\", \"sony-tv-show-dus-ka-dum-Mentions\", \"sonytv-show-prithvi-vallabh-Mentions\", \"zeetv---show---kaleerein-Mentions\", \"KARNSANGINI-Mentions\", \"starplus-show-mariam-khan-reporting-live-Mentions\", \"zee-tv-shows-fear-files-Mentions\", \"SAVDHAANINDIA-INDIAFIGHTSBACK-Mentions\", \"starplus-show-sabse-smart-kaun-Mentions\", \"KHICHDI-Mentions\", \"PAPABYCHANCE-Mentions\", \"CHANDRASHEKAR-Mentions\", \"sonysab-show-saat-phero-ki-hera-pherie-Mentions\", \"DEVONKEDEVMAHADEV-Mentions\", \"andtvofficial-show-love-me-india-Mentions\", \"colorstv-show-kasam-Mentions\", \"THEVOICEINDIAKIDS-Mentions\", \"MUSKAAN-Mentions\", \"BEECHWALEBAPUDEKHRAHAHAI-Mentions\", \"sonysab-show-namune-Mentions\", \"sonytv-show-crime-patrol-Mentions\", \"sonysab-show-shriman-shrimati-phir-se-Mentions\", \"TEDTALKSINDIANAYISOCH-Mentions\", \"DILHITOHAI-Mentions\", \"JIODHANDHANADHANLIVE-Mentions\", \"zee-tv---show---juzzbaaat-Mentions\", \"andtvofficial-show-mitegi-lakshmanrekha-Mentions\", \"andtvofficial-show-bitti-businesswali-Mentions\"], \"x\": [804, 1742, 1602, 530, 148, 1002, 2, 1860, 16838, 1660, 348, 22, 297, 233, 40, 158, 40, 2699, 40, 60, 102, 265, 585, 36, 293, 327, 70, 850, 179, 352, 440, 240, 1690, 635, 11, 1, 214, 60, 239, 23, 6, 10, 2458, 168, 45, 13, 273, 86, 26, 6, 96, 355, 56, 1004, 40, 12], \"y\": [3.05, 2.51, 2.37, 2.35, 2.25, 2.15, 2.02, 1.99, 1.98, 1.94, 1.92, 1.74, 1.7, 1.69, 1.64, 1.62, 1.57, 1.47, 1.41, 1.36, 1.32, 1.25, 1.17, 1.16, 1.12, 1.09, 1.08, 1.04, 0.99, 0.98, 0.95, 0.92, 0.88, 0.87, 0.83, 0.81, 0.77, 0.76, 0.73, 0.72, 0.72, 0.71, 0.67, 0.64, 0.59, 0.56, 0.53, 0.48, 0.44, 0.37, 0.35, 0.33, 0.26, 0.24, 0.17, 0.13], \"type\": \"scatter\", \"uid\": \"e00bd378-741d-486f-8c4d-72dd6b67fe5f\"}], {\"title\": \"Ratings vs Unique Instagram post\", \"xaxis\": {\"title\": \"Unique Instagram post\"}, \"yaxis\": {\"title\": \"First weeks rating\"}}, {\"showLink\": true, \"linkText\": \"Export to plot.ly\", \"plotlyServerURL\": \"https://plot.ly\"})});</script><script type=\"text/javascript\">window.addEventListener(\"resize\", function(){window._Plotly.Plots.resize(document.getElementById(\"bad14957-fadf-4738-b3ea-8546cf489d33\"));});</script>"
      ]
     },
     "metadata": {},
     "output_type": "display_data"
    }
   ],
   "source": [
    "trace0=go.Scatter(\n",
    "    x=train_ratings_features['insta_cnt'],\n",
    "    y=train_ratings_features['first'],\n",
    "    mode='markers',\n",
    "    name='train',\n",
    "    text=train_ratings_features.nname,\n",
    "#      marker=dict(color='rbga(255, 128, 255, 0.8)')\n",
    "    )\n",
    "data=[trace0]\n",
    "layout=go.Layout(title=\"Ratings vs Unique Instagram post\",xaxis={'title':'Unique Instagram post'},yaxis={'title':'First weeks rating'})\n",
    "fig=dict(data=data,layout=layout)\n",
    "iplot(fig)"
   ]
  },
  {
   "cell_type": "code",
   "execution_count": 47,
   "metadata": {},
   "outputs": [
    {
     "data": {
      "text/plain": [
       "array(['ALADDINNAAMTOHSUNAHOGA-Mentions',\n",
       "       'BEECHWALEBAPUDEKHRAHAHAI-Mentions', 'BIGGBOSS-Mentions',\n",
       "       'CHANDRASHEKAR-Mentions', 'COMEDYCIRCUS-Mentions',\n",
       "       'DEVONKEDEVMAHADEV-Mentions', 'DILHITOHAI-Mentions',\n",
       "       'ENTERTAINMENTKIRAAT-Mentions', 'Guddan-Mentions',\n",
       "       'IndiasGotTalent-Mentions', 'JIJAJICHHATPARHAIN-Mentions',\n",
       "       'JIODHANDHANADHANLIVE-Mentions', 'KARNSANGINI-Mentions',\n",
       "       'KAUNBANEGACROREPATI-Mentions', 'KHICHDI-Mentions',\n",
       "       'KRISHNACHALILONDON-Mentions', 'MUSKAAN-Mentions',\n",
       "       'NAZAR-Mentions', 'PAPABYCHANCE-Mentions', 'RADHAKRISHN-Mentions',\n",
       "       'SAVDHAANINDIA-INDIAFIGHTSBACK-Mentions',\n",
       "       'TEDTALKSINDIANAYISOCH-Mentions', 'THEVOICEINDIAKIDS-Mentions',\n",
       "       'andtvofficial-show-bitti-businesswali-Mentions',\n",
       "       'andtvofficial-show-love-me-india-Mentions',\n",
       "       'andtvofficial-show-mitegi-lakshmanrekha-Mentions',\n",
       "       'colors-tv---show--dance-deewane-Mentions',\n",
       "       'colors-tv-show-dastan-e-mohabbat-Mentions',\n",
       "       'colorstv-show-belan-wali-bahu-Mentions',\n",
       "       'colorstv-show-bepannaah-Mentions', 'colorstv-show-kasam-Mentions',\n",
       "       'colorstv-show-kaun-hai-Mentions',\n",
       "       'colorstv-show-roop-mard-ka-naya-swaroop-Mentions',\n",
       "       'colorstv-show-silsila-badalte-rishton-ka-Mentions',\n",
       "       'sony-tv--show---cid-Mentions', 'sony-tv-show-dus-ka-dum-Mentions',\n",
       "       'sonysab-show-namune-Mentions',\n",
       "       'sonysab-show-saat-phero-ki-hera-pherie-Mentions',\n",
       "       'sonysab-show-shriman-shrimati-phir-se-Mentions',\n",
       "       'sonytv-show-crime-patrol-Mentions',\n",
       "       'sonytv-show-prithvi-vallabh-Mentions',\n",
       "       'star-plus-show-dil-hai-hindustani--Mentions',\n",
       "       'starplus-show-kulfi-kumar-bajewala-Mentions',\n",
       "       'starplus-show-mariam-khan-reporting-live-Mentions',\n",
       "       'starplus-show-qayamat-ki-raat-Mentions',\n",
       "       'starplus-show-sabse-smart-kaun-Mentions',\n",
       "       'zee-tv---show---ishq-subhan-allah-Mentions',\n",
       "       'zee-tv---show---juzzbaaat-Mentions',\n",
       "       'zee-tv-shows-fear-files-Mentions',\n",
       "       'zeetv---show---kaleerein-Mentions',\n",
       "       'zeetv-show-aap-ke-aa-jane-se-Mentions',\n",
       "       'zeetv-show-did-lil-masters-Mentions',\n",
       "       'zeetv-show-ye-teri-galiyan-Mentions',\n",
       "       'zeetv-shows-india-best-dramebaaz-Mentions',\n",
       "       'zeetv-shows-sa-re-ga-ma-pa-Mentions',\n",
       "       'zeetv-shows-tujhse-hai-rabta-Mentions'], dtype=object)"
      ]
     },
     "execution_count": 47,
     "metadata": {},
     "output_type": "execute_result"
    }
   ],
   "source": [
    "train_ratings_features.nname.sort_values().values"
   ]
  },
  {
   "cell_type": "code",
   "execution_count": 93,
   "metadata": {},
   "outputs": [],
   "source": [
    "a=train_data[['nname','uniq_tweets','first']].sort_values(by=['uniq_tweets','first'],ascending=['True','False'])\n",
    "a=a[a.uniq_tweets<200]"
   ]
  },
  {
   "cell_type": "code",
   "execution_count": 96,
   "metadata": {},
   "outputs": [
    {
     "data": {
      "text/plain": [
       "Counter({1.0: 1, 2.0: 8, 3.0: 9})"
      ]
     },
     "execution_count": 96,
     "metadata": {},
     "output_type": "execute_result"
    }
   ],
   "source": [
    "Counter(a['first'])"
   ]
  },
  {
   "cell_type": "code",
   "execution_count": 92,
   "metadata": {},
   "outputs": [
    {
     "data": {
      "image/png": "[encoded data removed]",
      "text/plain": [
       "<Figure size 720x576 with 1 Axes>"
      ]
     },
     "metadata": {},
     "output_type": "display_data"
    }
   ],
   "source": [
    "a['first']=a['first'].astype(str)\n",
    "fig=plt.figure(figsize=(10,8))\n",
    "ax=fig.add_subplot(111)\n",
    "sns.scatterplot(data=a,y='uniq_tweets',x='first',ax=ax)\n",
    "ax.axhline(y=100,ls=\"--\")\n",
    "ax.axhline(y=200,ls=\"--\")\n",
    "ax.set(title=\"Ratins vs count of tweets<300\",xlabel=\"Class based on first rating\",ylabel='Total unique tweets')\n",
    "plt.savefig(\"tweets lt 300.png\")"
   ]
  },
  {
   "cell_type": "code",
   "execution_count": 48,
   "metadata": {},
   "outputs": [
    {
     "name": "stdout",
     "output_type": "stream",
     "text": [
      "Total tweets for zeetv-show-did-lil-masters-Mentions 9495 and unique tweets w/o processing 5502\n",
      "unique tweets with processing 5146\n",
      "The shape of embeddings  (5146, 100)\n",
      "Counter({2: 867, 9: 767, 1: 765, 0: 754, 6: 738, 7: 439, 3: 341, 8: 273, 4: 192, 5: 10})\n"
     ]
    },
    {
     "data": {
      "image/png": "[encoded data removed]",
      "text/plain": [
       "<Figure size 432x288 with 1 Axes>"
      ]
     },
     "metadata": {},
     "output_type": "display_data"
    }
   ],
   "source": [
    "cluster_file,scores,centers=show_cluster_combined_model(twitter2.copy(),\"zeetv-show-did-lil-masters-Mentions\",\"search_data_all\",clstr=10)"
   ]
  },
  {
   "cell_type": "code",
   "execution_count": 55,
   "metadata": {},
   "outputs": [
    {
     "name": "stdout",
     "output_type": "stream",
     "text": [
      "Total tweets for BEECHWALEBAPUDEKHRAHAHAI-Mentions 5793 and unique tweets w/o processing 1861\n",
      "unique tweets with processing 1621\n",
      "The shape of embeddings  (1621, 100)\n",
      "Counter({3: 334, 6: 303, 1: 185, 2: 175, 4: 146, 0: 145, 8: 145, 7: 93, 5: 59, 9: 36})\n"
     ]
    },
    {
     "data": {
      "image/png": "[encoded data removed]",
      "text/plain": [
       "<Figure size 432x288 with 1 Axes>"
      ]
     },
     "metadata": {},
     "output_type": "display_data"
    }
   ],
   "source": [
    "cluster_file,scores,centers=show_cluster_combined_model(twitter2.copy(),\"BEECHWALEBAPUDEKHRAHAHAI-Mentions\",\"search_data_all\",clstr=10)"
   ]
  },
  {
   "cell_type": "code",
   "execution_count": 56,
   "metadata": {},
   "outputs": [
    {
     "name": "stdout",
     "output_type": "stream",
     "text": [
      "Total tweets for TEDTALKSINDIANAYISOCH-Mentions 75336 and unique tweets w/o processing 2925\n",
      "unique tweets with processing 2736\n",
      "The shape of embeddings  (2736, 100)\n",
      "Counter({1: 513, 4: 512, 3: 402, 7: 319, 5: 295, 9: 264, 8: 202, 6: 96, 0: 69, 2: 64})\n"
     ]
    },
    {
     "data": {
      "image/png": "[encoded data removed]",
      "text/plain": [
       "<Figure size 432x288 with 1 Axes>"
      ]
     },
     "metadata": {},
     "output_type": "display_data"
    }
   ],
   "source": [
    "cluster_file,scores,centers=show_cluster_combined_model(twitter2.copy(),\"TEDTALKSINDIANAYISOCH-Mentions\",\"search_data_all\",clstr=10)"
   ]
  },
  {
   "cell_type": "markdown",
   "metadata": {},
   "source": [
    "Ted Talks hosted by Shahrukh? Does it inflate social chatter? Same thing happened with JuzzBatt. Dus k Dum is also affected. "
   ]
  },
  {
   "cell_type": "markdown",
   "metadata": {},
   "source": [
    "## Calculate sentiment of tweets "
   ]
  },
  {
   "cell_type": "code",
   "execution_count": 51,
   "metadata": {},
   "outputs": [
    {
     "name": "stdout",
     "output_type": "stream",
     "text": [
      "Sentiment(polarity=0.0, subjectivity=0.0)\n"
     ]
    }
   ],
   "source": [
    "sent=\"#dancekeblockbusters anxiously looking forward to watch the houseful blockbuster performances by did li’l masters, from tomorrow , sat-sun at 9 pm, on @zeetv\"\n",
    "# sent='simply awesome show and its treat to watch breathtaking dance moves! did lil masters #didlilmasters #dancekeblockbusters @zeetv '\n",
    "sent=\"eager awaiting for the show\"\n",
    "blob=textblob.TextBlob(sent)\n",
    "print(blob.sentiment)\n"
   ]
  },
  {
   "cell_type": "code",
   "execution_count": 46,
   "metadata": {},
   "outputs": [],
   "source": [
    "def get_sentiment(text):\n",
    "    blob=textblob.TextBlob(text)\n",
    "    return blob.sentiment.polarity"
   ]
  },
  {
   "cell_type": "code",
   "execution_count": 47,
   "metadata": {},
   "outputs": [],
   "source": [
    "os.chdir(r\"F:\\ScoreData\\Zee TV\\cache\")\n",
    "files=os.listdir()\n",
    "files=[ _  for _ in files if \"clustered\" in _]\n"
   ]
  },
  {
   "cell_type": "code",
   "execution_count": 49,
   "metadata": {},
   "outputs": [],
   "source": [
    "for file in files:\n",
    "    lil_masters=pd.read_csv(file)\n",
    "    lil_masters['sentiment']=lil_masters.tweets.apply(get_sentiment)\n",
    "    lil_masters.to_csv(\"{}_sentiment.csv\".format(file))"
   ]
  },
  {
   "cell_type": "code",
   "execution_count": 162,
   "metadata": {},
   "outputs": [],
   "source": [
    "original_tweets=twitter2[twitter2.original].copy()\n",
    "original_tweets['sentiment']=original_tweets.clean_content.apply(get_sentiment)\n",
    "original_tweets.to_csv('original_tweets.csv')"
   ]
  },
  {
   "cell_type": "code",
   "execution_count": 59,
   "metadata": {},
   "outputs": [],
   "source": [
    "twitter2['bins_sentiment']=pd.cut(twitter2.sentiment,bins=list(np.arange(-1,1,.2))+[1.1],right=False)"
   ]
  },
  {
   "cell_type": "code",
   "execution_count": 135,
   "metadata": {
    "scrolled": true
   },
   "outputs": [
    {
     "data": {
      "text/plain": [
       "'September ko raat 9 baje, in ‘Aladdin Naam Toh Suna Hoga’, sirf Sony SAB par #AladdinOnSAB https://t.co/kkpwGKswrS...RT @sabtv: Jiska tha sabko intezaar, aa gaya hai woh. Lekin kya...'"
      ]
     },
     "execution_count": 135,
     "metadata": {},
     "output_type": "execute_result"
    }
   ],
   "source": [
    "twitter2.iloc[2,:]['Snippet']"
   ]
  },
  {
   "cell_type": "code",
   "execution_count": 95,
   "metadata": {},
   "outputs": [
    {
     "ename": "KeyError",
     "evalue": "\"['bins_sentiment'] not in index\"",
     "output_type": "error",
     "traceback": [
      "\u001b[1;31m---------------------------------------------------------------------------\u001b[0m",
      "\u001b[1;31mKeyError\u001b[0m                                  Traceback (most recent call last)",
      "\u001b[1;32m<ipython-input-95-61fb999ca93c>\u001b[0m in \u001b[0;36m<module>\u001b[1;34m()\u001b[0m\n\u001b[1;32m----> 1\u001b[1;33m \u001b[0msentiment_dist\u001b[0m\u001b[1;33m=\u001b[0m\u001b[0mtwitter2\u001b[0m\u001b[1;33m[\u001b[0m\u001b[1;33m[\u001b[0m\u001b[1;34m'nname'\u001b[0m\u001b[1;33m,\u001b[0m\u001b[1;34m'bins_sentiment'\u001b[0m\u001b[1;33m,\u001b[0m\u001b[1;34m'original'\u001b[0m\u001b[1;33m]\u001b[0m\u001b[1;33m]\u001b[0m\u001b[1;33m.\u001b[0m\u001b[0mcopy\u001b[0m\u001b[1;33m(\u001b[0m\u001b[1;33m)\u001b[0m\u001b[1;33m\u001b[0m\u001b[0m\n\u001b[0m\u001b[0;32m      2\u001b[0m \u001b[0msentiment_dist\u001b[0m\u001b[1;33m[\u001b[0m\u001b[1;34m'cnt'\u001b[0m\u001b[1;33m]\u001b[0m\u001b[1;33m=\u001b[0m\u001b[1;36m1\u001b[0m\u001b[1;33m\u001b[0m\u001b[0m\n\u001b[0;32m      3\u001b[0m \u001b[0ma\u001b[0m\u001b[1;33m=\u001b[0m\u001b[0mpd\u001b[0m\u001b[1;33m.\u001b[0m\u001b[0mpivot_table\u001b[0m\u001b[1;33m(\u001b[0m\u001b[0msentiment_dist\u001b[0m\u001b[1;33m,\u001b[0m\u001b[0mindex\u001b[0m\u001b[1;33m=\u001b[0m\u001b[1;34m'nname'\u001b[0m\u001b[1;33m,\u001b[0m\u001b[0mcolumns\u001b[0m\u001b[1;33m=\u001b[0m\u001b[1;34m'bins_sentiment'\u001b[0m\u001b[1;33m,\u001b[0m\u001b[0mvalues\u001b[0m\u001b[1;33m=\u001b[0m\u001b[1;34m'cnt'\u001b[0m\u001b[1;33m,\u001b[0m\u001b[0maggfunc\u001b[0m\u001b[1;33m=\u001b[0m\u001b[1;34m'sum'\u001b[0m\u001b[1;33m,\u001b[0m\u001b[0mfill_value\u001b[0m\u001b[1;33m=\u001b[0m\u001b[1;36m0\u001b[0m\u001b[1;33m)\u001b[0m\u001b[1;33m\u001b[0m\u001b[0m\n",
      "\u001b[1;32mS:\\Anaconda\\envs\\py36\\lib\\site-packages\\pandas\\core\\frame.py\u001b[0m in \u001b[0;36m__getitem__\u001b[1;34m(self, key)\u001b[0m\n\u001b[0;32m   2131\u001b[0m         \u001b[1;32mif\u001b[0m \u001b[0misinstance\u001b[0m\u001b[1;33m(\u001b[0m\u001b[0mkey\u001b[0m\u001b[1;33m,\u001b[0m \u001b[1;33m(\u001b[0m\u001b[0mSeries\u001b[0m\u001b[1;33m,\u001b[0m \u001b[0mnp\u001b[0m\u001b[1;33m.\u001b[0m\u001b[0mndarray\u001b[0m\u001b[1;33m,\u001b[0m \u001b[0mIndex\u001b[0m\u001b[1;33m,\u001b[0m \u001b[0mlist\u001b[0m\u001b[1;33m)\u001b[0m\u001b[1;33m)\u001b[0m\u001b[1;33m:\u001b[0m\u001b[1;33m\u001b[0m\u001b[0m\n\u001b[0;32m   2132\u001b[0m             \u001b[1;31m# either boolean or fancy integer index\u001b[0m\u001b[1;33m\u001b[0m\u001b[1;33m\u001b[0m\u001b[0m\n\u001b[1;32m-> 2133\u001b[1;33m             \u001b[1;32mreturn\u001b[0m \u001b[0mself\u001b[0m\u001b[1;33m.\u001b[0m\u001b[0m_getitem_array\u001b[0m\u001b[1;33m(\u001b[0m\u001b[0mkey\u001b[0m\u001b[1;33m)\u001b[0m\u001b[1;33m\u001b[0m\u001b[0m\n\u001b[0m\u001b[0;32m   2134\u001b[0m         \u001b[1;32melif\u001b[0m \u001b[0misinstance\u001b[0m\u001b[1;33m(\u001b[0m\u001b[0mkey\u001b[0m\u001b[1;33m,\u001b[0m \u001b[0mDataFrame\u001b[0m\u001b[1;33m)\u001b[0m\u001b[1;33m:\u001b[0m\u001b[1;33m\u001b[0m\u001b[0m\n\u001b[0;32m   2135\u001b[0m             \u001b[1;32mreturn\u001b[0m \u001b[0mself\u001b[0m\u001b[1;33m.\u001b[0m\u001b[0m_getitem_frame\u001b[0m\u001b[1;33m(\u001b[0m\u001b[0mkey\u001b[0m\u001b[1;33m)\u001b[0m\u001b[1;33m\u001b[0m\u001b[0m\n",
      "\u001b[1;32mS:\\Anaconda\\envs\\py36\\lib\\site-packages\\pandas\\core\\frame.py\u001b[0m in \u001b[0;36m_getitem_array\u001b[1;34m(self, key)\u001b[0m\n\u001b[0;32m   2175\u001b[0m             \u001b[1;32mreturn\u001b[0m \u001b[0mself\u001b[0m\u001b[1;33m.\u001b[0m\u001b[0m_take\u001b[0m\u001b[1;33m(\u001b[0m\u001b[0mindexer\u001b[0m\u001b[1;33m,\u001b[0m \u001b[0maxis\u001b[0m\u001b[1;33m=\u001b[0m\u001b[1;36m0\u001b[0m\u001b[1;33m,\u001b[0m \u001b[0mconvert\u001b[0m\u001b[1;33m=\u001b[0m\u001b[1;32mFalse\u001b[0m\u001b[1;33m)\u001b[0m\u001b[1;33m\u001b[0m\u001b[0m\n\u001b[0;32m   2176\u001b[0m         \u001b[1;32melse\u001b[0m\u001b[1;33m:\u001b[0m\u001b[1;33m\u001b[0m\u001b[0m\n\u001b[1;32m-> 2177\u001b[1;33m             \u001b[0mindexer\u001b[0m \u001b[1;33m=\u001b[0m \u001b[0mself\u001b[0m\u001b[1;33m.\u001b[0m\u001b[0mloc\u001b[0m\u001b[1;33m.\u001b[0m\u001b[0m_convert_to_indexer\u001b[0m\u001b[1;33m(\u001b[0m\u001b[0mkey\u001b[0m\u001b[1;33m,\u001b[0m \u001b[0maxis\u001b[0m\u001b[1;33m=\u001b[0m\u001b[1;36m1\u001b[0m\u001b[1;33m)\u001b[0m\u001b[1;33m\u001b[0m\u001b[0m\n\u001b[0m\u001b[0;32m   2178\u001b[0m             \u001b[1;32mreturn\u001b[0m \u001b[0mself\u001b[0m\u001b[1;33m.\u001b[0m\u001b[0m_take\u001b[0m\u001b[1;33m(\u001b[0m\u001b[0mindexer\u001b[0m\u001b[1;33m,\u001b[0m \u001b[0maxis\u001b[0m\u001b[1;33m=\u001b[0m\u001b[1;36m1\u001b[0m\u001b[1;33m,\u001b[0m \u001b[0mconvert\u001b[0m\u001b[1;33m=\u001b[0m\u001b[1;32mTrue\u001b[0m\u001b[1;33m)\u001b[0m\u001b[1;33m\u001b[0m\u001b[0m\n\u001b[0;32m   2179\u001b[0m \u001b[1;33m\u001b[0m\u001b[0m\n",
      "\u001b[1;32mS:\\Anaconda\\envs\\py36\\lib\\site-packages\\pandas\\core\\indexing.py\u001b[0m in \u001b[0;36m_convert_to_indexer\u001b[1;34m(self, obj, axis, is_setter)\u001b[0m\n\u001b[0;32m   1267\u001b[0m                 \u001b[1;32mif\u001b[0m \u001b[0mmask\u001b[0m\u001b[1;33m.\u001b[0m\u001b[0many\u001b[0m\u001b[1;33m(\u001b[0m\u001b[1;33m)\u001b[0m\u001b[1;33m:\u001b[0m\u001b[1;33m\u001b[0m\u001b[0m\n\u001b[0;32m   1268\u001b[0m                     raise KeyError('{mask} not in index'\n\u001b[1;32m-> 1269\u001b[1;33m                                    .format(mask=objarr[mask]))\n\u001b[0m\u001b[0;32m   1270\u001b[0m \u001b[1;33m\u001b[0m\u001b[0m\n\u001b[0;32m   1271\u001b[0m                 \u001b[1;32mreturn\u001b[0m \u001b[0m_values_from_object\u001b[0m\u001b[1;33m(\u001b[0m\u001b[0mindexer\u001b[0m\u001b[1;33m)\u001b[0m\u001b[1;33m\u001b[0m\u001b[0m\n",
      "\u001b[1;31mKeyError\u001b[0m: \"['bins_sentiment'] not in index\""
     ]
    }
   ],
   "source": [
    "sentiment_dist=twitter2[['nname','bins_sentiment','original']].copy()\n",
    "sentiment_dist['cnt']=1\n",
    "a=pd.pivot_table(sentiment_dist,index='nname',columns='bins_sentiment',values='cnt',aggfunc='sum',fill_value=0)"
   ]
  },
  {
   "cell_type": "code",
   "execution_count": 107,
   "metadata": {},
   "outputs": [],
   "source": [
    "b=a.copy()"
   ]
  },
  {
   "cell_type": "code",
   "execution_count": 111,
   "metadata": {},
   "outputs": [],
   "source": [
    "b.columns=b.columns.get_level_values(0)"
   ]
  },
  {
   "cell_type": "code",
   "execution_count": 116,
   "metadata": {},
   "outputs": [],
   "source": [
    "b.columns=np.arange(0,10)"
   ]
  },
  {
   "cell_type": "code",
   "execution_count": 126,
   "metadata": {},
   "outputs": [
    {
     "data": {
      "text/html": [
       "<div>\n",
       "<style scoped>\n",
       "    .dataframe tbody tr th:only-of-type {\n",
       "        vertical-align: middle;\n",
       "    }\n",
       "\n",
       "    .dataframe tbody tr th {\n",
       "        vertical-align: top;\n",
       "    }\n",
       "\n",
       "    .dataframe thead th {\n",
       "        text-align: right;\n",
       "    }\n",
       "</style>\n",
       "<table border=\"1\" class=\"dataframe\">\n",
       "  <thead>\n",
       "    <tr style=\"text-align: right;\">\n",
       "      <th></th>\n",
       "      <th>uniq_tweets</th>\n",
       "      <th>all_tweets</th>\n",
       "      <th>retweets</th>\n",
       "      <th>insta_cnt</th>\n",
       "      <th>Likes</th>\n",
       "      <th>Comments</th>\n",
       "      <th>news_count</th>\n",
       "      <th>tumblr_count</th>\n",
       "      <th>blogs_count</th>\n",
       "      <th>forum_count</th>\n",
       "      <th>retweets</th>\n",
       "      <th>next_2_5</th>\n",
       "    </tr>\n",
       "    <tr>\n",
       "      <th>nname</th>\n",
       "      <th></th>\n",
       "      <th></th>\n",
       "      <th></th>\n",
       "      <th></th>\n",
       "      <th></th>\n",
       "      <th></th>\n",
       "      <th></th>\n",
       "      <th></th>\n",
       "      <th></th>\n",
       "      <th></th>\n",
       "      <th></th>\n",
       "      <th></th>\n",
       "    </tr>\n",
       "  </thead>\n",
       "  <tbody>\n",
       "    <tr>\n",
       "      <th>colors-tv---show--dance-deewane-Mentions</th>\n",
       "      <td>6361</td>\n",
       "      <td>32637</td>\n",
       "      <td>5.130797</td>\n",
       "      <td>804</td>\n",
       "      <td>28161</td>\n",
       "      <td>636</td>\n",
       "      <td>31.0</td>\n",
       "      <td>12.0</td>\n",
       "      <td>396</td>\n",
       "      <td>3.0</td>\n",
       "      <td>5.130797</td>\n",
       "      <td>1.0</td>\n",
       "    </tr>\n",
       "    <tr>\n",
       "      <th>RADHAKRISHN-Mentions</th>\n",
       "      <td>1610</td>\n",
       "      <td>6604</td>\n",
       "      <td>4.101863</td>\n",
       "      <td>1742</td>\n",
       "      <td>16960</td>\n",
       "      <td>479</td>\n",
       "      <td>25.0</td>\n",
       "      <td>14.0</td>\n",
       "      <td>46</td>\n",
       "      <td>15.0</td>\n",
       "      <td>4.101863</td>\n",
       "      <td>2.0</td>\n",
       "    </tr>\n",
       "  </tbody>\n",
       "</table>\n",
       "</div>"
      ],
      "text/plain": [
       "                                          uniq_tweets  all_tweets  retweets  \\\n",
       "nname                                                                         \n",
       "colors-tv---show--dance-deewane-Mentions         6361       32637  5.130797   \n",
       "RADHAKRISHN-Mentions                             1610        6604  4.101863   \n",
       "\n",
       "                                          insta_cnt  Likes  Comments  \\\n",
       "nname                                                                  \n",
       "colors-tv---show--dance-deewane-Mentions        804  28161       636   \n",
       "RADHAKRISHN-Mentions                           1742  16960       479   \n",
       "\n",
       "                                          news_count  tumblr_count  \\\n",
       "nname                                                                \n",
       "colors-tv---show--dance-deewane-Mentions        31.0          12.0   \n",
       "RADHAKRISHN-Mentions                            25.0          14.0   \n",
       "\n",
       "                                          blogs_count  forum_count  retweets  \\\n",
       "nname                                                                          \n",
       "colors-tv---show--dance-deewane-Mentions          396          3.0  5.130797   \n",
       "RADHAKRISHN-Mentions                               46         15.0  4.101863   \n",
       "\n",
       "                                          next_2_5  \n",
       "nname                                               \n",
       "colors-tv---show--dance-deewane-Mentions       1.0  \n",
       "RADHAKRISHN-Mentions                           2.0  "
      ]
     },
     "execution_count": 126,
     "metadata": {},
     "output_type": "execute_result"
    }
   ],
   "source": [
    "train_subset=train_data[features_rm_first+['nname','next_2_5']].set_index('nname')\n",
    "train_subset.head(2)"
   ]
  },
  {
   "cell_type": "code",
   "execution_count": 127,
   "metadata": {},
   "outputs": [],
   "source": [
    "trn_new_ftrs=train_subset.merge(b,left_index=True,right_index=True,how='inner')"
   ]
  },
  {
   "cell_type": "code",
   "execution_count": 128,
   "metadata": {},
   "outputs": [
    {
     "name": "stdout",
     "output_type": "stream",
     "text": [
      "-------------Model----------\n",
      "LogisticRegression(C=1.0, class_weight=None, dual=False, fit_intercept=True,\n",
      "          intercept_scaling=1, max_iter=100, multi_class='ovr', n_jobs=1,\n",
      "          penalty='l2', random_state=None, solver='liblinear', tol=0.0001,\n",
      "          verbose=0, warm_start=False)\n",
      "Accuracy = 57.143%\n",
      "-----------Confusion matrix-----------\n",
      "Predicted  1.0  2.0  3.0  All\n",
      "Actual                       \n",
      "1.0          5    0    0    5\n",
      "2.0          1   19    6   26\n",
      "3.0          0   17    8   25\n",
      "All          6   36   14   56\n",
      "\n",
      "-----------Classification report-----------\n",
      "             precision    recall  f1-score   support\n",
      "\n",
      "        1.0       0.83      1.00      0.91         5\n",
      "        2.0       0.53      0.73      0.61        26\n",
      "        3.0       0.57      0.32      0.41        25\n",
      "\n",
      "avg / total       0.57      0.57      0.55        56\n",
      "\n",
      "\n"
     ]
    }
   ],
   "source": [
    "lr=LogisticRegression()\n",
    "classification_rslt(lr,trn_new_ftrs,features_rm_first,trn_new_ftrs['next_2_5'],test_data=None)"
   ]
  },
  {
   "cell_type": "code",
   "execution_count": 139,
   "metadata": {},
   "outputs": [
    {
     "name": "stdout",
     "output_type": "stream",
     "text": [
      "-------------Model----------\n",
      "LogisticRegression(C=1.0, class_weight=None, dual=False, fit_intercept=True,\n",
      "          intercept_scaling=1, max_iter=100, multi_class='ovr', n_jobs=1,\n",
      "          penalty='l2', random_state=None, solver='liblinear', tol=0.0001,\n",
      "          verbose=0, warm_start=False)\n",
      "Accuracy = 62.500%\n",
      "-----------Confusion matrix-----------\n",
      "Predicted  1.0  2.0  3.0  All\n",
      "Actual                       \n",
      "1.0          8    3    0   11\n",
      "2.0          1   24    3   28\n",
      "3.0          2   12    3   17\n",
      "All         11   39    6   56\n",
      "\n",
      "-----------Classification report-----------\n",
      "             precision    recall  f1-score   support\n",
      "\n",
      "        1.0       0.73      0.73      0.73        11\n",
      "        2.0       0.62      0.86      0.72        28\n",
      "        3.0       0.50      0.18      0.26        17\n",
      "\n",
      "avg / total       0.60      0.62      0.58        56\n",
      "\n",
      "\n"
     ]
    }
   ],
   "source": [
    "lr=LogisticRegression()\n",
    "classification_rslt(lr,train_data,features_rm_first,train_data['first'],test_data=None)"
   ]
  },
  {
   "cell_type": "markdown",
   "metadata": {},
   "source": [
    "## Clean the text before clustering and sentiment"
   ]
  },
  {
   "cell_type": "markdown",
   "metadata": {},
   "source": [
    "Few things to clean: remove @words,punctuations,separate hashtags and give histogram of each hashtags"
   ]
  }
 ],
 "metadata": {
  "kernelspec": {
   "display_name": "Python 3",
   "language": "python",
   "name": "python3"
  },
  "language_info": {
   "codemirror_mode": {
    "name": "ipython",
    "version": 3
   },
   "file_extension": ".py",
   "mimetype": "text/x-python",
   "name": "python",
   "nbconvert_exporter": "python",
   "pygments_lexer": "ipython3",
   "version": "3.6.4"
  }
 },
 "nbformat": 4,
 "nbformat_minor": 2
}
