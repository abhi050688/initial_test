{
 "cells": [
  {
   "cell_type": "code",
   "execution_count": 134,
   "metadata": {},
   "outputs": [],
   "source": [
    "import pandas as pd\n",
    "import numpy as np\n",
    "import os\n",
    "import datetime as dt\n",
    "import pytz\n",
    "import gensim\n",
    "from nltk.tokenize import TweetTokenizer\n",
    "from keras.preprocessing.text import Tokenizer\n",
    "import gc\n",
    "import string\n",
    "from gensim.models import Word2Vec\n",
    "from sklearn.cluster import KMeans\n",
    "from collections import Counter\n",
    "import pickle\n",
    "pd.options.display.max_columns=None"
   ]
  },
  {
   "cell_type": "code",
   "execution_count": 2,
   "metadata": {},
   "outputs": [],
   "source": [
    "all_files=os.listdir()\n",
    "mentions=[_ for _ in all_files if _.__contains__(\"Mentions\")]"
   ]
  },
  {
   "cell_type": "code",
   "execution_count": 3,
   "metadata": {},
   "outputs": [
    {
     "data": {
      "text/plain": [
       "44"
      ]
     },
     "execution_count": 3,
     "metadata": {},
     "output_type": "execute_result"
    }
   ],
   "source": [
    "len(mentions)"
   ]
  },
  {
   "cell_type": "code",
   "execution_count": 16,
   "metadata": {},
   "outputs": [
    {
     "name": "stderr",
     "output_type": "stream",
     "text": [
      "S:\\Anaconda\\envs\\py36\\lib\\site-packages\\IPython\\core\\interactiveshell.py:2728: DtypeWarning: Columns (67) have mixed types. Specify dtype option on import or set low_memory=False.\n",
      "  interactivity=interactivity, compiler=compiler, result=result)\n"
     ]
    }
   ],
   "source": [
    "df=pd.DataFrame()\n",
    "for filename in mentions:\n",
    "    try:\n",
    "        data=pd.read_csv(filename,skiprows=5,parse_dates=[3],usecols=['Source','Link','Time(ET)','LocalTime','Authority','Gender','Country','Location','Assigned','Sentiment','Alexa Rank','Alexa Reach','Title','Snippet','Content','Unique ID','Language','Followers','Following','Summary','Viewed','Commented','Favourited','Rated'])\n",
    "        data['showname']=filename.split(\".\")[0]\n",
    "        df=pd.concat([df,data],axis=0)\n",
    "    except e:\n",
    "        print(\"filename {} with exception {}\".format(filename,e))\n",
    "        continue\n",
    " "
   ]
  },
  {
   "cell_type": "code",
   "execution_count": 5,
   "metadata": {},
   "outputs": [
    {
     "data": {
      "text/plain": [
       "(827641, 25)"
      ]
     },
     "execution_count": 5,
     "metadata": {},
     "output_type": "execute_result"
    }
   ],
   "source": [
    "df.shape"
   ]
  },
  {
   "cell_type": "code",
   "execution_count": 11,
   "metadata": {},
   "outputs": [
    {
     "data": {
      "text/html": [
       "<div>\n",
       "<style scoped>\n",
       "    .dataframe tbody tr th:only-of-type {\n",
       "        vertical-align: middle;\n",
       "    }\n",
       "\n",
       "    .dataframe tbody tr th {\n",
       "        vertical-align: top;\n",
       "    }\n",
       "\n",
       "    .dataframe thead th {\n",
       "        text-align: right;\n",
       "    }\n",
       "</style>\n",
       "<table border=\"1\" class=\"dataframe\">\n",
       "  <thead>\n",
       "    <tr style=\"text-align: right;\">\n",
       "      <th></th>\n",
       "      <th>Source</th>\n",
       "      <th>Link</th>\n",
       "      <th>Time(ET)</th>\n",
       "      <th>LocalTime</th>\n",
       "      <th>Authority</th>\n",
       "      <th>Gender</th>\n",
       "      <th>Country</th>\n",
       "      <th>Location</th>\n",
       "      <th>Assigned</th>\n",
       "      <th>Sentiment</th>\n",
       "      <th>Alexa Rank</th>\n",
       "      <th>Alexa Reach</th>\n",
       "      <th>Title</th>\n",
       "      <th>Snippet</th>\n",
       "      <th>Content</th>\n",
       "      <th>Unique ID</th>\n",
       "      <th>Language</th>\n",
       "      <th>Followers</th>\n",
       "      <th>Following</th>\n",
       "      <th>Summary</th>\n",
       "      <th>Viewed</th>\n",
       "      <th>Commented</th>\n",
       "      <th>Favourited</th>\n",
       "      <th>Rated</th>\n",
       "      <th>showname</th>\n",
       "    </tr>\n",
       "  </thead>\n",
       "  <tbody>\n",
       "    <tr>\n",
       "      <th>0</th>\n",
       "      <td>TWITTER</td>\n",
       "      <td>http://twitter.com/ASHWANI11345063/statuses/10...</td>\n",
       "      <td>Oct 25 2018 23:29:56 EDT</td>\n",
       "      <td>2018-10-25 23:29:56</td>\n",
       "      <td>0</td>\n",
       "      <td>Male</td>\n",
       "      <td>NaN</td>\n",
       "      <td>NaN</td>\n",
       "      <td>none+</td>\n",
       "      <td>None</td>\n",
       "      <td>0</td>\n",
       "      <td>0</td>\n",
       "      <td>@ASHWANI11345063</td>\n",
       "      <td>@AndTVOfficial YE JO PERFECT PATI KA SHOW HAI ...</td>\n",
       "      <td>@AndTVOfficial YE JO PERFECT PATI KA SHOW HAI ...</td>\n",
       "      <td>23723083</td>\n",
       "      <td>TL</td>\n",
       "      <td>1</td>\n",
       "      <td>8</td>\n",
       "      <td>NaN</td>\n",
       "      <td>0</td>\n",
       "      <td>0</td>\n",
       "      <td>0</td>\n",
       "      <td>0</td>\n",
       "      <td>andtv-show-perfect-pati-Mentions</td>\n",
       "    </tr>\n",
       "    <tr>\n",
       "      <th>1</th>\n",
       "      <td>INSTAGRAM</td>\n",
       "      <td>https://www.instagram.com/p/BpXjXNVC03A/</td>\n",
       "      <td>Oct 25 2018 15:34:56 EDT</td>\n",
       "      <td>2018-10-25 15:34:56</td>\n",
       "      <td>0</td>\n",
       "      <td>NaN</td>\n",
       "      <td>BG</td>\n",
       "      <td>Sofia;-42;-Bulgaria</td>\n",
       "      <td>none+</td>\n",
       "      <td>Positive</td>\n",
       "      <td>0</td>\n",
       "      <td>0</td>\n",
       "      <td>dabh_big_fan_bulgaria</td>\n",
       "      <td>Ayush Anand in ,,Perfect Pati\" 25/10/18 Episod...</td>\n",
       "      <td>Ayush Anand in ,,Perfect Pati\" 25/10/18 Episod...</td>\n",
       "      <td>23709925</td>\n",
       "      <td>EN</td>\n",
       "      <td>0</td>\n",
       "      <td>0</td>\n",
       "      <td>NaN</td>\n",
       "      <td>0</td>\n",
       "      <td>0</td>\n",
       "      <td>0</td>\n",
       "      <td>0</td>\n",
       "      <td>andtv-show-perfect-pati-Mentions</td>\n",
       "    </tr>\n",
       "    <tr>\n",
       "      <th>2</th>\n",
       "      <td>INSTAGRAM</td>\n",
       "      <td>https://www.instagram.com/p/BpXjSZsiXa5/</td>\n",
       "      <td>Oct 25 2018 15:34:17 EDT</td>\n",
       "      <td>2018-10-25 15:34:17</td>\n",
       "      <td>0</td>\n",
       "      <td>NaN</td>\n",
       "      <td>BG</td>\n",
       "      <td>Sofia;-42;-Bulgaria</td>\n",
       "      <td>none+</td>\n",
       "      <td>Positive</td>\n",
       "      <td>0</td>\n",
       "      <td>0</td>\n",
       "      <td>dabh_big_fan_bulgaria</td>\n",
       "      <td>Ayush Anand in ,,Perfect Pati\" 25/10/18 Episod...</td>\n",
       "      <td>Ayush Anand in ,,Perfect Pati\" 25/10/18 Episod...</td>\n",
       "      <td>23709924</td>\n",
       "      <td>EN</td>\n",
       "      <td>0</td>\n",
       "      <td>0</td>\n",
       "      <td>NaN</td>\n",
       "      <td>0</td>\n",
       "      <td>0</td>\n",
       "      <td>0</td>\n",
       "      <td>0</td>\n",
       "      <td>andtv-show-perfect-pati-Mentions</td>\n",
       "    </tr>\n",
       "    <tr>\n",
       "      <th>3</th>\n",
       "      <td>INSTAGRAM</td>\n",
       "      <td>https://www.instagram.com/p/BpXJdcBFcCf/</td>\n",
       "      <td>Oct 25 2018 11:53:50 EDT</td>\n",
       "      <td>2018-10-25 11:53:50</td>\n",
       "      <td>0</td>\n",
       "      <td>NaN</td>\n",
       "      <td>ZZ</td>\n",
       "      <td>NaN</td>\n",
       "      <td>none+</td>\n",
       "      <td>None</td>\n",
       "      <td>0</td>\n",
       "      <td>0</td>\n",
       "      <td>perfectpati__</td>\n",
       "      <td>#perfectpati #episode 3 When #pushkar #comes #...</td>\n",
       "      <td>#perfectpati #episode 3 When #pushkar #comes #...</td>\n",
       "      <td>23693611</td>\n",
       "      <td>English</td>\n",
       "      <td>0</td>\n",
       "      <td>0</td>\n",
       "      <td>NaN</td>\n",
       "      <td>0</td>\n",
       "      <td>0</td>\n",
       "      <td>0</td>\n",
       "      <td>0</td>\n",
       "      <td>andtv-show-perfect-pati-Mentions</td>\n",
       "    </tr>\n",
       "    <tr>\n",
       "      <th>4</th>\n",
       "      <td>INSTAGRAM</td>\n",
       "      <td>https://www.instagram.com/p/BpWlo3JBniN/</td>\n",
       "      <td>Oct 25 2018 06:38:08 EDT</td>\n",
       "      <td>2018-10-25 06:38:08</td>\n",
       "      <td>0</td>\n",
       "      <td>NaN</td>\n",
       "      <td>ZZ</td>\n",
       "      <td>NaN</td>\n",
       "      <td>none+</td>\n",
       "      <td>Positive</td>\n",
       "      <td>0</td>\n",
       "      <td>0</td>\n",
       "      <td>jayaprada_unofficial</td>\n",
       "      <td>Everyone looking amazing #onlocation #shooting...</td>\n",
       "      <td>Everyone looking amazing #onlocation #shooting...</td>\n",
       "      <td>23667295</td>\n",
       "      <td>EN</td>\n",
       "      <td>0</td>\n",
       "      <td>0</td>\n",
       "      <td>NaN</td>\n",
       "      <td>0</td>\n",
       "      <td>0</td>\n",
       "      <td>0</td>\n",
       "      <td>0</td>\n",
       "      <td>andtv-show-perfect-pati-Mentions</td>\n",
       "    </tr>\n",
       "  </tbody>\n",
       "</table>\n",
       "</div>"
      ],
      "text/plain": [
       "      Source                                               Link  \\\n",
       "0    TWITTER  http://twitter.com/ASHWANI11345063/statuses/10...   \n",
       "1  INSTAGRAM           https://www.instagram.com/p/BpXjXNVC03A/   \n",
       "2  INSTAGRAM           https://www.instagram.com/p/BpXjSZsiXa5/   \n",
       "3  INSTAGRAM           https://www.instagram.com/p/BpXJdcBFcCf/   \n",
       "4  INSTAGRAM           https://www.instagram.com/p/BpWlo3JBniN/   \n",
       "\n",
       "                   Time(ET)           LocalTime  Authority Gender Country  \\\n",
       "0  Oct 25 2018 23:29:56 EDT 2018-10-25 23:29:56          0   Male     NaN   \n",
       "1  Oct 25 2018 15:34:56 EDT 2018-10-25 15:34:56          0    NaN      BG   \n",
       "2  Oct 25 2018 15:34:17 EDT 2018-10-25 15:34:17          0    NaN      BG   \n",
       "3  Oct 25 2018 11:53:50 EDT 2018-10-25 11:53:50          0    NaN      ZZ   \n",
       "4  Oct 25 2018 06:38:08 EDT 2018-10-25 06:38:08          0    NaN      ZZ   \n",
       "\n",
       "              Location Assigned Sentiment  Alexa Rank  Alexa Reach  \\\n",
       "0                  NaN    none+      None           0            0   \n",
       "1  Sofia;-42;-Bulgaria    none+  Positive           0            0   \n",
       "2  Sofia;-42;-Bulgaria    none+  Positive           0            0   \n",
       "3                  NaN    none+      None           0            0   \n",
       "4                  NaN    none+  Positive           0            0   \n",
       "\n",
       "                   Title                                            Snippet  \\\n",
       "0       @ASHWANI11345063  @AndTVOfficial YE JO PERFECT PATI KA SHOW HAI ...   \n",
       "1  dabh_big_fan_bulgaria  Ayush Anand in ,,Perfect Pati\" 25/10/18 Episod...   \n",
       "2  dabh_big_fan_bulgaria  Ayush Anand in ,,Perfect Pati\" 25/10/18 Episod...   \n",
       "3          perfectpati__  #perfectpati #episode 3 When #pushkar #comes #...   \n",
       "4   jayaprada_unofficial  Everyone looking amazing #onlocation #shooting...   \n",
       "\n",
       "                                             Content  Unique ID Language  \\\n",
       "0  @AndTVOfficial YE JO PERFECT PATI KA SHOW HAI ...   23723083       TL   \n",
       "1  Ayush Anand in ,,Perfect Pati\" 25/10/18 Episod...   23709925       EN   \n",
       "2  Ayush Anand in ,,Perfect Pati\" 25/10/18 Episod...   23709924       EN   \n",
       "3  #perfectpati #episode 3 When #pushkar #comes #...   23693611  English   \n",
       "4  Everyone looking amazing #onlocation #shooting...   23667295       EN   \n",
       "\n",
       "   Followers  Following Summary  Viewed  Commented  Favourited  Rated  \\\n",
       "0          1          8     NaN       0          0           0      0   \n",
       "1          0          0     NaN       0          0           0      0   \n",
       "2          0          0     NaN       0          0           0      0   \n",
       "3          0          0     NaN       0          0           0      0   \n",
       "4          0          0     NaN       0          0           0      0   \n",
       "\n",
       "                           showname  \n",
       "0  andtv-show-perfect-pati-Mentions  \n",
       "1  andtv-show-perfect-pati-Mentions  \n",
       "2  andtv-show-perfect-pati-Mentions  \n",
       "3  andtv-show-perfect-pati-Mentions  \n",
       "4  andtv-show-perfect-pati-Mentions  "
      ]
     },
     "execution_count": 11,
     "metadata": {},
     "output_type": "execute_result"
    }
   ],
   "source": [
    "df.head()"
   ]
  },
  {
   "cell_type": "code",
   "execution_count": 27,
   "metadata": {},
   "outputs": [
    {
     "data": {
      "text/plain": [
       "'zeetv-shows-tujhse-hai-rabta -Mentions'"
      ]
     },
     "execution_count": 27,
     "metadata": {},
     "output_type": "execute_result"
    }
   ],
   "source": [
    "# a=\"zeetv-shows-tujhse-hai-rabta -Mentions.csv\"\n",
    "# a.split(\".\")[0]"
   ]
  },
  {
   "cell_type": "code",
   "execution_count": 4,
   "metadata": {},
   "outputs": [],
   "source": [
    "# data=pd.read_csv(\"zeetv-shows-tujhse-hai-rabta -Mentions.csv\",parse_dates=[3],skiprows=5,usecols=['Source','Link','Time(ET)','LocalTime','Authority','Gender','Country','Location','Assigned','Sentiment','Alexa Rank','Alexa Reach','Title','Snippet','Content','Unique ID','Language','Followers','Following','Summary','Viewed','Commented','Favourited','Rated'])\n"
   ]
  },
  {
   "cell_type": "code",
   "execution_count": null,
   "metadata": {},
   "outputs": [],
   "source": [
    "# ,date_parser=lambda x:dt.datetime.strptime(x,\"%b %d %Y %H:%M:%S %z\")"
   ]
  },
  {
   "cell_type": "code",
   "execution_count": 13,
   "metadata": {},
   "outputs": [],
   "source": [
    "showrename={\n",
    "    'zeetv---show---kaleerein 2-Mentions':'zeetv---show---kaleerein -Mentions',\n",
    "    'zee-tv---show---juzzbaaat 2-Mentions':'zee-tv---show---juzzbaaat-Mentions',\n",
    "    'sony-tv-show-indian-idol 1-Mentions':'sony-tv-show-indian-idol -Mentions',\n",
    "    'sony-tv-show-indian-idol 2-Mentions':'sony-tv-show-indian-idol -Mentions',\n",
    "    'sony-tv-show-indian-idol 3-Mentions':'sony-tv-show-indian-idol -Mentions',\n",
    "    'sony-tv-show-dus-ka-dum 1-Mentions':'sony-tv-show-dus-ka-dum -Mentions',\n",
    "    'sony-tv-show-dus-ka-dum 2-Mentions':'sony-tv-show-dus-ka-dum -Mentions',\n",
    "    'sony-tv-show-dus-ka-dum 3-Mentions':'sony-tv-show-dus-ka-dum -Mentions',\n",
    "    'colors-tv-show-naagin3 1-Mentions':'colors-tv-show-naagin3 -Mentions',\n",
    "    'colors-tv-show-naagin3 2-Mentions':'colors-tv-show-naagin3 -Mentions',\n",
    "    'colors-tv-show-naagin3 3-Mentions':'colors-tv-show-naagin3 -Mentions'\n",
    "}"
   ]
  },
  {
   "cell_type": "code",
   "execution_count": 17,
   "metadata": {},
   "outputs": [],
   "source": [
    "df['new_name']=df['showname']\n",
    "for x,y in showrename.items():\n",
    "    df.loc[df.showname==x,'new_name']=y"
   ]
  },
  {
   "cell_type": "code",
   "execution_count": 21,
   "metadata": {},
   "outputs": [
    {
     "data": {
      "text/plain": [
       "new_name\n",
       "andtv-show-perfect-pati-Mentions                               282\n",
       "andtvofficial-show-bitti-businesswali-Mentions               43447\n",
       "andtvofficial-show-high-fever-Mentions                        1693\n",
       "andtvofficial-show-laal-ishq-Mentions                          115\n",
       "andtvofficial-show-love-me-india-Mentions                    18649\n",
       "andtvofficial-show-mitegi-lakshmanrekha-Mentions               672\n",
       "andtvofficial-show-vikram-betaal-Mentions                     2444\n",
       "colors-tv---show--dance-deewane-Mentions                     44154\n",
       "colors-tv-show-dastan-e-mohabbat-Mentions                     2247\n",
       "colors-tv-show-naagin3 -Mentions                             66098\n",
       "colors-tv-show-rising-star-Mentions                           4343\n",
       "colorstv-show-dev2-Mentions                                   4724\n",
       "colorstv-show-internet-wala-love-Mentions                     3802\n",
       "colorstv-show-kasam-Mentions                                 24201\n",
       "colorstv-show-kaun-hai-Mentions                               2282\n",
       "colorstv-show-roop-mard-ka-naya-swaroop-Mentions              2992\n",
       "colorstv-show-savitri-devi-college-and-hospital-Mentions      5447\n",
       "colorstv-show-silsila-badalte-rishton-ka-Mentions            27815\n",
       "sony-tv--show---cid-Mentions                                  3786\n",
       "sony-tv-show-dus-ka-dum -Mentions                           103080\n",
       "sony-tv-show-indian-idol -Mentions                          111789\n",
       "sonytv-show-crime-patrol-Mentions                             3494\n",
       "sonytv-show-prithvi-vallabh-Mentions                         24420\n",
       "sonytv-show-zindagikecrossroads -Mentions                     7084\n",
       "sonytv-shows-yeh-pyaar-nahi-tho-kya-hai -Mentions             1435\n",
       "zee-tv---show---ishq-subhan-allah-Mentions                   12459\n",
       "zee-tv---show---juzzbaaat-Mentions                           63379\n",
       "zee-tv-shows-fear-files-Mentions                              1272\n",
       "zeetv---show---kaleerein -Mentions                           78027\n",
       "zeetv-show-aap-ke-aa-jane-se-Mentions                        26019\n",
       "zeetv-show-did-lil-masters-Mentions                           3413\n",
       "zeetv-show-ye-teri-galiyan-Mentions                            493\n",
       "zeetv-shows-india-best-dramebaaz-Mentions                    11525\n",
       "zeetv-shows-maggie-kitchen-journeys-Mentions                    15\n",
       "zeetv-shows-sa-re-ga-ma-pa-Mentions                          12794\n",
       "zeetv-shows-tujhse-hai-rabta -Mentions                          22\n",
       "Name: showname, dtype: int64"
      ]
     },
     "execution_count": 21,
     "metadata": {},
     "output_type": "execute_result"
    }
   ],
   "source": [
    "df[df.Source=='TWITTER'].groupby(['new_name'])['showname'].count()"
   ]
  },
  {
   "cell_type": "code",
   "execution_count": 22,
   "metadata": {},
   "outputs": [],
   "source": [
    "twitter=df[df.Source=='TWITTER']"
   ]
  },
  {
   "cell_type": "code",
   "execution_count": 31,
   "metadata": {},
   "outputs": [
    {
     "name": "stderr",
     "output_type": "stream",
     "text": [
      "S:\\Anaconda\\envs\\py36\\lib\\site-packages\\ipykernel_launcher.py:1: SettingWithCopyWarning: \n",
      "A value is trying to be set on a copy of a slice from a DataFrame.\n",
      "Try using .loc[row_indexer,col_indexer] = value instead\n",
      "\n",
      "See the caveats in the documentation: http://pandas.pydata.org/pandas-docs/stable/indexing.html#indexing-view-versus-copy\n",
      "  \"\"\"Entry point for launching an IPython kernel.\n"
     ]
    }
   ],
   "source": [
    "twitter['original_tweet']=~twitter.Content.str.startswith(('RT','QT'))"
   ]
  },
  {
   "cell_type": "code",
   "execution_count": 32,
   "metadata": {},
   "outputs": [
    {
     "data": {
      "text/html": [
       "<div>\n",
       "<style scoped>\n",
       "    .dataframe tbody tr th:only-of-type {\n",
       "        vertical-align: middle;\n",
       "    }\n",
       "\n",
       "    .dataframe tbody tr th {\n",
       "        vertical-align: top;\n",
       "    }\n",
       "\n",
       "    .dataframe thead th {\n",
       "        text-align: right;\n",
       "    }\n",
       "</style>\n",
       "<table border=\"1\" class=\"dataframe\">\n",
       "  <thead>\n",
       "    <tr style=\"text-align: right;\">\n",
       "      <th></th>\n",
       "      <th>Source</th>\n",
       "      <th>Link</th>\n",
       "      <th>Time(ET)</th>\n",
       "      <th>LocalTime</th>\n",
       "      <th>Authority</th>\n",
       "      <th>Gender</th>\n",
       "      <th>Country</th>\n",
       "      <th>Location</th>\n",
       "      <th>Assigned</th>\n",
       "      <th>Sentiment</th>\n",
       "      <th>Alexa Rank</th>\n",
       "      <th>Alexa Reach</th>\n",
       "      <th>Title</th>\n",
       "      <th>Snippet</th>\n",
       "      <th>Content</th>\n",
       "      <th>Unique ID</th>\n",
       "      <th>Language</th>\n",
       "      <th>Followers</th>\n",
       "      <th>Following</th>\n",
       "      <th>Summary</th>\n",
       "      <th>Viewed</th>\n",
       "      <th>Commented</th>\n",
       "      <th>Favourited</th>\n",
       "      <th>Rated</th>\n",
       "      <th>showname</th>\n",
       "      <th>new_name</th>\n",
       "      <th>original_tweet</th>\n",
       "    </tr>\n",
       "  </thead>\n",
       "  <tbody>\n",
       "    <tr>\n",
       "      <th>0</th>\n",
       "      <td>TWITTER</td>\n",
       "      <td>http://twitter.com/ASHWANI11345063/statuses/10...</td>\n",
       "      <td>Oct 25 2018 23:29:56 EDT</td>\n",
       "      <td>2018-10-25 23:29:56</td>\n",
       "      <td>0</td>\n",
       "      <td>Male</td>\n",
       "      <td>NaN</td>\n",
       "      <td>NaN</td>\n",
       "      <td>none+</td>\n",
       "      <td>None</td>\n",
       "      <td>0</td>\n",
       "      <td>0</td>\n",
       "      <td>@ASHWANI11345063</td>\n",
       "      <td>@AndTVOfficial YE JO PERFECT PATI KA SHOW HAI ...</td>\n",
       "      <td>@AndTVOfficial YE JO PERFECT PATI KA SHOW HAI ...</td>\n",
       "      <td>23723083</td>\n",
       "      <td>TL</td>\n",
       "      <td>1</td>\n",
       "      <td>8</td>\n",
       "      <td>NaN</td>\n",
       "      <td>0</td>\n",
       "      <td>0</td>\n",
       "      <td>0</td>\n",
       "      <td>0</td>\n",
       "      <td>andtv-show-perfect-pati-Mentions</td>\n",
       "      <td>andtv-show-perfect-pati-Mentions</td>\n",
       "      <td>True</td>\n",
       "    </tr>\n",
       "    <tr>\n",
       "      <th>5</th>\n",
       "      <td>TWITTER</td>\n",
       "      <td>http://twitter.com/P_Madhumita/statuses/105540...</td>\n",
       "      <td>Oct 25 2018 06:22:06 EDT</td>\n",
       "      <td>2018-10-25 06:22:06</td>\n",
       "      <td>5</td>\n",
       "      <td>Male</td>\n",
       "      <td>NaN</td>\n",
       "      <td>NaN</td>\n",
       "      <td>none+</td>\n",
       "      <td>None</td>\n",
       "      <td>0</td>\n",
       "      <td>0</td>\n",
       "      <td>@P_Madhumita</td>\n",
       "      <td>RT @isalilsand: #AndTV: #Agnifera 0.2, #Vikram...</td>\n",
       "      <td>RT @isalilsand: #AndTV: #Agnifera 0.2, #Vikram...</td>\n",
       "      <td>23665380</td>\n",
       "      <td>ID</td>\n",
       "      <td>264</td>\n",
       "      <td>82</td>\n",
       "      <td>NaN</td>\n",
       "      <td>0</td>\n",
       "      <td>0</td>\n",
       "      <td>0</td>\n",
       "      <td>0</td>\n",
       "      <td>andtv-show-perfect-pati-Mentions</td>\n",
       "      <td>andtv-show-perfect-pati-Mentions</td>\n",
       "      <td>False</td>\n",
       "    </tr>\n",
       "    <tr>\n",
       "      <th>7</th>\n",
       "      <td>TWITTER</td>\n",
       "      <td>http://twitter.com/Rohiths2001/statuses/105538...</td>\n",
       "      <td>Oct 25 2018 05:13:10 EDT</td>\n",
       "      <td>2018-10-25 05:13:10</td>\n",
       "      <td>1</td>\n",
       "      <td>NaN</td>\n",
       "      <td>IN</td>\n",
       "      <td>;-;-India</td>\n",
       "      <td>none+</td>\n",
       "      <td>None</td>\n",
       "      <td>0</td>\n",
       "      <td>0</td>\n",
       "      <td>@Rohiths2001</td>\n",
       "      <td>RT @isalilsand: #AndTV: #Agnifera 0.2, #Vikram...</td>\n",
       "      <td>RT @isalilsand: #AndTV: #Agnifera 0.2, #Vikram...</td>\n",
       "      <td>23660437</td>\n",
       "      <td>ID</td>\n",
       "      <td>16</td>\n",
       "      <td>98</td>\n",
       "      <td>NaN</td>\n",
       "      <td>0</td>\n",
       "      <td>0</td>\n",
       "      <td>0</td>\n",
       "      <td>0</td>\n",
       "      <td>andtv-show-perfect-pati-Mentions</td>\n",
       "      <td>andtv-show-perfect-pati-Mentions</td>\n",
       "      <td>False</td>\n",
       "    </tr>\n",
       "    <tr>\n",
       "      <th>8</th>\n",
       "      <td>TWITTER</td>\n",
       "      <td>http://twitter.com/veekay_ness/statuses/105538...</td>\n",
       "      <td>Oct 25 2018 05:02:06 EDT</td>\n",
       "      <td>2018-10-25 05:02:06</td>\n",
       "      <td>3</td>\n",
       "      <td>Male</td>\n",
       "      <td>IN</td>\n",
       "      <td>mumbai;-maharashtra;-India</td>\n",
       "      <td>none+</td>\n",
       "      <td>Positive</td>\n",
       "      <td>0</td>\n",
       "      <td>0</td>\n",
       "      <td>@veekay_ness</td>\n",
       "      <td>RT @GossipsTv: #SuperExclusive #TRP #TRPDay @A...</td>\n",
       "      <td>RT @GossipsTv: #SuperExclusive #TRP #TRPDay @A...</td>\n",
       "      <td>23659646</td>\n",
       "      <td>EN</td>\n",
       "      <td>67</td>\n",
       "      <td>659</td>\n",
       "      <td>NaN</td>\n",
       "      <td>0</td>\n",
       "      <td>0</td>\n",
       "      <td>0</td>\n",
       "      <td>0</td>\n",
       "      <td>andtv-show-perfect-pati-Mentions</td>\n",
       "      <td>andtv-show-perfect-pati-Mentions</td>\n",
       "      <td>False</td>\n",
       "    </tr>\n",
       "    <tr>\n",
       "      <th>9</th>\n",
       "      <td>TWITTER</td>\n",
       "      <td>http://twitter.com/GossipsTv/statuses/10553797...</td>\n",
       "      <td>Oct 25 2018 04:45:25 EDT</td>\n",
       "      <td>2018-10-25 04:45:25</td>\n",
       "      <td>7</td>\n",
       "      <td>NaN</td>\n",
       "      <td>IN</td>\n",
       "      <td>mumbai;-maharashtra;-India</td>\n",
       "      <td>none+</td>\n",
       "      <td>Positive</td>\n",
       "      <td>0</td>\n",
       "      <td>0</td>\n",
       "      <td>@GossipsTv</td>\n",
       "      <td>#SuperExclusive #TRP #TRPDay @AndTVOfficial Al...</td>\n",
       "      <td>#SuperExclusive #TRP #TRPDay @AndTVOfficial Al...</td>\n",
       "      <td>23658245</td>\n",
       "      <td>EN</td>\n",
       "      <td>3596</td>\n",
       "      <td>44</td>\n",
       "      <td>NaN</td>\n",
       "      <td>0</td>\n",
       "      <td>0</td>\n",
       "      <td>0</td>\n",
       "      <td>0</td>\n",
       "      <td>andtv-show-perfect-pati-Mentions</td>\n",
       "      <td>andtv-show-perfect-pati-Mentions</td>\n",
       "      <td>True</td>\n",
       "    </tr>\n",
       "  </tbody>\n",
       "</table>\n",
       "</div>"
      ],
      "text/plain": [
       "    Source                                               Link  \\\n",
       "0  TWITTER  http://twitter.com/ASHWANI11345063/statuses/10...   \n",
       "5  TWITTER  http://twitter.com/P_Madhumita/statuses/105540...   \n",
       "7  TWITTER  http://twitter.com/Rohiths2001/statuses/105538...   \n",
       "8  TWITTER  http://twitter.com/veekay_ness/statuses/105538...   \n",
       "9  TWITTER  http://twitter.com/GossipsTv/statuses/10553797...   \n",
       "\n",
       "                   Time(ET)           LocalTime  Authority Gender Country  \\\n",
       "0  Oct 25 2018 23:29:56 EDT 2018-10-25 23:29:56          0   Male     NaN   \n",
       "5  Oct 25 2018 06:22:06 EDT 2018-10-25 06:22:06          5   Male     NaN   \n",
       "7  Oct 25 2018 05:13:10 EDT 2018-10-25 05:13:10          1    NaN      IN   \n",
       "8  Oct 25 2018 05:02:06 EDT 2018-10-25 05:02:06          3   Male      IN   \n",
       "9  Oct 25 2018 04:45:25 EDT 2018-10-25 04:45:25          7    NaN      IN   \n",
       "\n",
       "                     Location Assigned Sentiment  Alexa Rank  Alexa Reach  \\\n",
       "0                         NaN    none+      None           0            0   \n",
       "5                         NaN    none+      None           0            0   \n",
       "7                   ;-;-India    none+      None           0            0   \n",
       "8  mumbai;-maharashtra;-India    none+  Positive           0            0   \n",
       "9  mumbai;-maharashtra;-India    none+  Positive           0            0   \n",
       "\n",
       "              Title                                            Snippet  \\\n",
       "0  @ASHWANI11345063  @AndTVOfficial YE JO PERFECT PATI KA SHOW HAI ...   \n",
       "5      @P_Madhumita  RT @isalilsand: #AndTV: #Agnifera 0.2, #Vikram...   \n",
       "7      @Rohiths2001  RT @isalilsand: #AndTV: #Agnifera 0.2, #Vikram...   \n",
       "8      @veekay_ness  RT @GossipsTv: #SuperExclusive #TRP #TRPDay @A...   \n",
       "9        @GossipsTv  #SuperExclusive #TRP #TRPDay @AndTVOfficial Al...   \n",
       "\n",
       "                                             Content  Unique ID Language  \\\n",
       "0  @AndTVOfficial YE JO PERFECT PATI KA SHOW HAI ...   23723083       TL   \n",
       "5  RT @isalilsand: #AndTV: #Agnifera 0.2, #Vikram...   23665380       ID   \n",
       "7  RT @isalilsand: #AndTV: #Agnifera 0.2, #Vikram...   23660437       ID   \n",
       "8  RT @GossipsTv: #SuperExclusive #TRP #TRPDay @A...   23659646       EN   \n",
       "9  #SuperExclusive #TRP #TRPDay @AndTVOfficial Al...   23658245       EN   \n",
       "\n",
       "   Followers  Following Summary  Viewed  Commented  Favourited  Rated  \\\n",
       "0          1          8     NaN       0          0           0      0   \n",
       "5        264         82     NaN       0          0           0      0   \n",
       "7         16         98     NaN       0          0           0      0   \n",
       "8         67        659     NaN       0          0           0      0   \n",
       "9       3596         44     NaN       0          0           0      0   \n",
       "\n",
       "                           showname                          new_name  \\\n",
       "0  andtv-show-perfect-pati-Mentions  andtv-show-perfect-pati-Mentions   \n",
       "5  andtv-show-perfect-pati-Mentions  andtv-show-perfect-pati-Mentions   \n",
       "7  andtv-show-perfect-pati-Mentions  andtv-show-perfect-pati-Mentions   \n",
       "8  andtv-show-perfect-pati-Mentions  andtv-show-perfect-pati-Mentions   \n",
       "9  andtv-show-perfect-pati-Mentions  andtv-show-perfect-pati-Mentions   \n",
       "\n",
       "   original_tweet  \n",
       "0            True  \n",
       "5           False  \n",
       "7           False  \n",
       "8           False  \n",
       "9            True  "
      ]
     },
     "execution_count": 32,
     "metadata": {},
     "output_type": "execute_result"
    }
   ],
   "source": [
    "twitter.head()"
   ]
  },
  {
   "cell_type": "code",
   "execution_count": 33,
   "metadata": {},
   "outputs": [
    {
     "data": {
      "text/plain": [
       "new_name\n",
       "andtv-show-perfect-pati-Mentions                              132\n",
       "andtvofficial-show-bitti-businesswali-Mentions              17773\n",
       "andtvofficial-show-high-fever-Mentions                        339\n",
       "andtvofficial-show-laal-ishq-Mentions                          12\n",
       "andtvofficial-show-love-me-india-Mentions                    4096\n",
       "andtvofficial-show-mitegi-lakshmanrekha-Mentions              156\n",
       "andtvofficial-show-vikram-betaal-Mentions                     517\n",
       "colors-tv---show--dance-deewane-Mentions                     9194\n",
       "colors-tv-show-dastan-e-mohabbat-Mentions                     312\n",
       "colors-tv-show-naagin3 -Mentions                            15729\n",
       "colors-tv-show-rising-star-Mentions                           406\n",
       "colorstv-show-dev2-Mentions                                   609\n",
       "colorstv-show-internet-wala-love-Mentions                    1352\n",
       "colorstv-show-kasam-Mentions                                 5162\n",
       "colorstv-show-kaun-hai-Mentions                               201\n",
       "colorstv-show-roop-mard-ka-naya-swaroop-Mentions              462\n",
       "colorstv-show-savitri-devi-college-and-hospital-Mentions      210\n",
       "colorstv-show-silsila-badalte-rishton-ka-Mentions            4735\n",
       "sony-tv--show---cid-Mentions                                  904\n",
       "sony-tv-show-dus-ka-dum -Mentions                           10385\n",
       "sony-tv-show-indian-idol -Mentions                          28269\n",
       "sonytv-show-crime-patrol-Mentions                            1665\n",
       "sonytv-show-prithvi-vallabh-Mentions                         5239\n",
       "sonytv-show-zindagikecrossroads -Mentions                    1654\n",
       "sonytv-shows-yeh-pyaar-nahi-tho-kya-hai -Mentions              79\n",
       "zee-tv---show---ishq-subhan-allah-Mentions                   7507\n",
       "zee-tv---show---juzzbaaat-Mentions                          11470\n",
       "zee-tv-shows-fear-files-Mentions                              473\n",
       "zeetv---show---kaleerein -Mentions                          35695\n",
       "zeetv-show-aap-ke-aa-jane-se-Mentions                       15800\n",
       "zeetv-show-did-lil-masters-Mentions                           992\n",
       "zeetv-show-ye-teri-galiyan-Mentions                           398\n",
       "zeetv-shows-india-best-dramebaaz-Mentions                    4447\n",
       "zeetv-shows-maggie-kitchen-journeys-Mentions                   15\n",
       "zeetv-shows-sa-re-ga-ma-pa-Mentions                          4734\n",
       "zeetv-shows-tujhse-hai-rabta -Mentions                         14\n",
       "Name: new_name, dtype: int64"
      ]
     },
     "execution_count": 33,
     "metadata": {},
     "output_type": "execute_result"
    }
   ],
   "source": [
    "twitter[twitter.original_tweet].groupby('new_name')['new_name'].count()"
   ]
  },
  {
   "cell_type": "code",
   "execution_count": 34,
   "metadata": {},
   "outputs": [],
   "source": [
    "kaliren=twitter[twitter.new_name=='zeetv---show---kaleerein -Mentions']"
   ]
  },
  {
   "cell_type": "code",
   "execution_count": 48,
   "metadata": {},
   "outputs": [],
   "source": [
    "kaliren_unique=kaliren[kaliren.original_tweet][['Snippet','Unique ID']].reset_index(drop=True)"
   ]
  },
  {
   "cell_type": "code",
   "execution_count": 77,
   "metadata": {},
   "outputs": [],
   "source": [
    "unique_tweets=kaliren_unique.Snippet.unique()"
   ]
  },
  {
   "cell_type": "code",
   "execution_count": 78,
   "metadata": {},
   "outputs": [
    {
     "data": {
      "text/plain": [
       "34109"
      ]
     },
     "execution_count": 78,
     "metadata": {},
     "output_type": "execute_result"
    }
   ],
   "source": [
    "len(unique_tweets)\n",
    "string.l"
   ]
  },
  {
   "cell_type": "code",
   "execution_count": 83,
   "metadata": {},
   "outputs": [],
   "source": [
    "def tokens(tweets):\n",
    "    tweets=tweets.lower()\n",
    "    tokens=tokenizer.tokenize(tweets)\n",
    "    tokens=filter(lambda x:not x.startswith('http'),tokens)\n",
    "    return list(tokens)"
   ]
  },
  {
   "cell_type": "code",
   "execution_count": 84,
   "metadata": {},
   "outputs": [],
   "source": [
    "tokenizer=TweetTokenizer()\n",
    "# tweets_tokens=kaliren_unique.Snippet.str.lower().map(tokens)\n",
    "tweets_tokens=[tokens(x) for x in unique_tweets ]"
   ]
  },
  {
   "cell_type": "code",
   "execution_count": 126,
   "metadata": {},
   "outputs": [
    {
     "data": {
      "text/plain": [
       "21693"
      ]
     },
     "execution_count": 126,
     "metadata": {},
     "output_type": "execute_result"
    }
   ],
   "source": [
    "gc.collect()"
   ]
  },
  {
   "cell_type": "code",
   "execution_count": 105,
   "metadata": {},
   "outputs": [],
   "source": [
    "?model.train"
   ]
  },
  {
   "cell_type": "code",
   "execution_count": 102,
   "metadata": {},
   "outputs": [
    {
     "data": {
      "text/plain": [
       "['zee',\n",
       " \"tv's\",\n",
       " 'kaleerein',\n",
       " 'attempts',\n",
       " 'at',\n",
       " 'breaking',\n",
       " 'wedding',\n",
       " 'conventions',\n",
       " '!',\n",
       " '-',\n",
       " 'click',\n",
       " 'link',\n",
       " 'for',\n",
       " 'more',\n",
       " 'details',\n",
       " ':',\n",
       " '#desiserials']"
      ]
     },
     "execution_count": 102,
     "metadata": {},
     "output_type": "execute_result"
    }
   ],
   "source": [
    "tweets_tokens[11]"
   ]
  },
  {
   "cell_type": "code",
   "execution_count": 106,
   "metadata": {},
   "outputs": [
    {
     "data": {
      "text/plain": [
       "(5132100, 7271540)"
      ]
     },
     "execution_count": 106,
     "metadata": {},
     "output_type": "execute_result"
    }
   ],
   "source": [
    "model=Word2Vec(tweets_tokens,size=100,min_count=1)\n",
    "model.train(tweets_tokens,total_examples=len(tweets_tokens),epochs=10)"
   ]
  },
  {
   "cell_type": "code",
   "execution_count": 99,
   "metadata": {},
   "outputs": [
    {
     "data": {
      "text/plain": [
       "array([ 2.048611  ,  0.72333616,  0.48724484, -0.4500024 ,  0.16357833,\n",
       "       -0.52212197, -0.12490384,  0.9180243 ,  0.5167163 , -0.5326188 ,\n",
       "        0.33422235, -0.30013397,  0.69269574,  0.53496855, -0.49670246,\n",
       "       -1.9816524 , -0.42951277, -0.31081122, -1.4872102 ,  0.92140067,\n",
       "        0.43821844,  0.40226784, -0.41806713, -0.33117673, -1.7038857 ,\n",
       "       -1.3324441 , -0.47213537, -0.50765216,  0.4834022 ,  0.47384185,\n",
       "        0.06393668, -0.19112277, -0.07786715, -0.05377731,  0.3818289 ,\n",
       "        0.5372364 , -0.263294  , -0.7916144 ,  0.00329095,  1.1029572 ,\n",
       "        1.1255887 , -0.1141318 ,  0.2280727 , -0.02793447, -0.13944098,\n",
       "       -0.6023528 , -0.7301585 , -0.26395828,  0.32110256, -0.09615557,\n",
       "        0.02769934, -0.6816367 ,  0.165897  , -0.21050382, -0.3308086 ,\n",
       "        0.42708635, -0.81411725,  0.71814483,  1.4309062 ,  1.1524026 ,\n",
       "        0.09825108,  0.4357484 ,  1.0902952 ,  0.3902689 ,  0.09506059,\n",
       "        1.1099333 , -0.64247173,  0.46295503,  0.44847092,  0.25307468,\n",
       "        0.28371757, -0.53108025, -1.2667164 ,  0.4815313 , -0.3561516 ,\n",
       "       -0.8282778 , -0.8389201 ,  0.5161808 ,  0.9039762 ,  0.12345399,\n",
       "       -0.02821919,  0.4879876 , -0.23109289,  0.11688638,  0.6223521 ,\n",
       "       -0.648928  , -0.71720797,  0.09909585,  0.3333896 , -0.2715135 ,\n",
       "       -0.10155111,  0.90053046, -0.08277873,  0.83665586,  0.9487168 ,\n",
       "       -0.5386401 ,  0.09133067, -0.074311  ,  0.6425879 , -0.1862905 ],\n",
       "      dtype=float32)"
      ]
     },
     "execution_count": 99,
     "metadata": {},
     "output_type": "execute_result"
    }
   ],
   "source": [
    "model.wv['समय']"
   ]
  },
  {
   "cell_type": "code",
   "execution_count": 107,
   "metadata": {},
   "outputs": [
    {
     "name": "stderr",
     "output_type": "stream",
     "text": [
      "S:\\Anaconda\\envs\\py36\\lib\\site-packages\\ipykernel_launcher.py:1: DeprecationWarning: Call to deprecated `most_similar` (Method will be removed in 4.0.0, use self.wv.most_similar() instead).\n",
      "  \"\"\"Entry point for launching an IPython kernel.\n"
     ]
    },
    {
     "data": {
      "text/plain": [
       "[('#kaleereinonzeetv', 0.53196781873703),\n",
       " ('exciting', 0.495624303817749),\n",
       " ('new', 0.4914831221103668),\n",
       " ('amazing', 0.45753681659698486),\n",
       " ('fun', 0.4441685676574707),\n",
       " ('awesome', 0.4202868640422821),\n",
       " ('story', 0.40998464822769165),\n",
       " ('tomorrow', 0.4075630307197571),\n",
       " ('air', 0.40713128447532654),\n",
       " ('here', 0.4048286974430084)]"
      ]
     },
     "execution_count": 107,
     "metadata": {},
     "output_type": "execute_result"
    }
   ],
   "source": [
    "model.most_similar('kaleerein')"
   ]
  },
  {
   "cell_type": "code",
   "execution_count": 110,
   "metadata": {},
   "outputs": [
    {
     "name": "stderr",
     "output_type": "stream",
     "text": [
      "S:\\Anaconda\\envs\\py36\\lib\\site-packages\\ipykernel_launcher.py:1: DeprecationWarning: Call to deprecated `most_similar` (Method will be removed in 4.0.0, use self.wv.most_similar() instead).\n",
      "  \"\"\"Entry point for launching an IPython kernel.\n"
     ]
    },
    {
     "data": {
      "text/plain": [
       "[('includes', 0.6195054054260254),\n",
       " ('shopping', 0.5377169847488403),\n",
       " ('destinations', 0.4993015229701996),\n",
       " ('handbell', 0.4979173541069031),\n",
       " ('hour', 0.4794900119304657),\n",
       " ('groom', 0.47148397564888),\n",
       " ('mall', 0.44611525535583496),\n",
       " ('bridal', 0.44585755467414856),\n",
       " ('tiring', 0.4450395107269287),\n",
       " ('bride', 0.4449368715286255)]"
      ]
     },
     "execution_count": 110,
     "metadata": {},
     "output_type": "execute_result"
    }
   ],
   "source": [
    "model.most_similar('wedding')"
   ]
  },
  {
   "cell_type": "code",
   "execution_count": 112,
   "metadata": {},
   "outputs": [],
   "source": [
    "keyed=model.wv\n",
    "del model"
   ]
  },
  {
   "cell_type": "code",
   "execution_count": 118,
   "metadata": {},
   "outputs": [],
   "source": [
    "embeddings=np.zeros(shape=(len(unique_tweets),100))\n",
    "for i,tweet in enumerate(tweets_tokens):\n",
    "    sm=0\n",
    "    for word in tweet:\n",
    "        try:\n",
    "            embeddings[i]+=keyed[word]\n",
    "        except KeyError:\n",
    "            print(tweet)\n",
    "    embeddings[i]=embeddings[i]/len(tweet)"
   ]
  },
  {
   "cell_type": "code",
   "execution_count": 120,
   "metadata": {},
   "outputs": [
    {
     "data": {
      "text/plain": [
       "array([ 0.08311675,  0.00180947,  0.11284693,  0.26363971, -0.20051023,\n",
       "       -0.06370926, -0.24295395, -0.25054403, -0.32422774, -0.29224951,\n",
       "        0.27901908, -0.02849683,  0.17164341,  0.03295574,  0.02017123,\n",
       "       -0.20996328, -0.26678178,  0.12376142, -0.13043866,  0.13306908,\n",
       "       -0.0465849 ,  0.2439157 , -0.04600697, -0.17936138,  0.02079167,\n",
       "       -0.26478318,  0.05012254, -0.11957114, -0.03049924, -0.16799068,\n",
       "       -0.05896449, -0.08186254, -0.01065982, -0.11900656, -0.04999774,\n",
       "       -0.32816371,  0.12494754, -0.0991888 ,  0.13281398,  0.15308093,\n",
       "       -0.2709503 ,  0.05591038, -0.02954648, -0.01190412,  0.05372787,\n",
       "        0.20159995, -0.16913732,  0.02146907,  0.0643775 , -0.03394542,\n",
       "       -0.1378218 , -0.29003948,  0.23668791,  0.04646603,  0.03406822,\n",
       "        0.21337168, -0.04866543, -0.15255411,  0.06339086,  0.02689708,\n",
       "        0.26362369,  0.06767513,  0.20080405, -0.08234051, -0.31500502,\n",
       "       -0.20921972,  0.03241968, -0.02142066, -0.04093158,  0.02061845,\n",
       "        0.01692265,  0.25655678, -0.09971427,  0.01611724, -0.21827059,\n",
       "        0.12836595,  0.00352268, -0.07086888, -0.00213783,  0.22455004,\n",
       "        0.01122457,  0.21024174,  0.28450281, -0.12829134, -0.27419852,\n",
       "       -0.13334154,  0.24082238,  0.12778901,  0.16526286, -0.16794114,\n",
       "        0.48034192,  0.04171636,  0.01213323,  0.07819853, -0.00052254,\n",
       "       -0.06194769, -0.23760769, -0.01727086,  0.23687119, -0.0369473 ])"
      ]
     },
     "execution_count": 120,
     "metadata": {},
     "output_type": "execute_result"
    }
   ],
   "source": [
    "embeddings[0]"
   ]
  },
  {
   "cell_type": "code",
   "execution_count": 129,
   "metadata": {},
   "outputs": [
    {
     "data": {
      "text/plain": [
       "KMeans(algorithm='auto', copy_x=True, init='k-means++', max_iter=300,\n",
       "    n_clusters=8, n_init=10, n_jobs=-1, precompute_distances='auto',\n",
       "    random_state=None, tol=0.0001, verbose=0)"
      ]
     },
     "execution_count": 129,
     "metadata": {},
     "output_type": "execute_result"
    }
   ],
   "source": [
    "km=KMeans(n_clusters=8,n_jobs=-1)\n",
    "km.fit(embeddings)"
   ]
  },
  {
   "cell_type": "code",
   "execution_count": 131,
   "metadata": {},
   "outputs": [
    {
     "data": {
      "text/plain": [
       "Counter({0: 6944,\n",
       "         1: 1264,\n",
       "         2: 6700,\n",
       "         3: 4489,\n",
       "         4: 1822,\n",
       "         5: 5239,\n",
       "         6: 6419,\n",
       "         7: 1232})"
      ]
     },
     "execution_count": 131,
     "metadata": {},
     "output_type": "execute_result"
    }
   ],
   "source": [
    "Counter(km.labels_)"
   ]
  },
  {
   "cell_type": "code",
   "execution_count": null,
   "metadata": {},
   "outputs": [],
   "source": [
    "km."
   ]
  },
  {
   "cell_type": "code",
   "execution_count": 132,
   "metadata": {},
   "outputs": [],
   "source": [
    "def fit_clusters(clf,filename):\n",
    "    clf.fit(embeddings)\n",
    "    df_tweets=pd.DataFrame({'tweets':unique_tweets,'clusters':clf.labels_})\n",
    "    df_tweets.to_csv(filename)"
   ]
  },
  {
   "cell_type": "code",
   "execution_count": 133,
   "metadata": {},
   "outputs": [],
   "source": [
    "fit_clusters(KMeans(n_clusters=8,n_jobs=-1),\"cluster_8.csv\")"
   ]
  },
  {
   "cell_type": "code",
   "execution_count": 137,
   "metadata": {},
   "outputs": [],
   "source": [
    "with open(\"embeddings\",'wb') as fw:\n",
    "    pickle.dump(embeddings,fw)"
   ]
  },
  {
   "cell_type": "code",
   "execution_count": null,
   "metadata": {},
   "outputs": [],
   "source": []
  }
 ],
 "metadata": {
  "kernelspec": {
   "display_name": "Python 3",
   "language": "python",
   "name": "python3"
  },
  "language_info": {
   "codemirror_mode": {
    "name": "ipython",
    "version": 3
   },
   "file_extension": ".py",
   "mimetype": "text/x-python",
   "name": "python",
   "nbconvert_exporter": "python",
   "pygments_lexer": "ipython3",
   "version": "3.6.4"
  }
 },
 "nbformat": 4,
 "nbformat_minor": 2
}
