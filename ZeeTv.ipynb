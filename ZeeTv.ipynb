{
 "cells": [
  {
   "cell_type": "code",
   "execution_count": 70,
   "metadata": {},
   "outputs": [],
   "source": [
    "import pandas as pd\n",
    "import numpy as np\n",
    "import os\n",
    "import datetime as dt\n",
    "import pytz\n",
    "import gensim\n",
    "from nltk.tokenize import TweetTokenizer\n",
    "from keras.preprocessing.text import Tokenizer\n",
    "import gc\n",
    "import string\n",
    "from gensim.models import Word2Vec\n",
    "from sklearn.cluster import KMeans\n",
    "from collections import Counter\n",
    "import pickle\n",
    "import seaborn as sns\n",
    "from sklearn.neighbors import NearestNeighbors\n",
    "sns.set_style(style='darkgrid')\n",
    "import matplotlib.pyplot as plt\n",
    "%matplotlib inline\n",
    "pd.options.display.max_columns=None"
   ]
  },
  {
   "cell_type": "code",
   "execution_count": 2,
   "metadata": {},
   "outputs": [],
   "source": [
    "all_files=os.listdir()\n",
    "mentions=[_ for _ in all_files if _.__contains__(\"Mentions\")]"
   ]
  },
  {
   "cell_type": "code",
   "execution_count": 3,
   "metadata": {},
   "outputs": [
    {
     "data": {
      "text/plain": [
       "44"
      ]
     },
     "execution_count": 3,
     "metadata": {},
     "output_type": "execute_result"
    }
   ],
   "source": [
    "len(mentions)"
   ]
  },
  {
   "cell_type": "code",
   "execution_count": 4,
   "metadata": {},
   "outputs": [
    {
     "name": "stderr",
     "output_type": "stream",
     "text": [
      "S:\\Anaconda\\envs\\py36\\lib\\site-packages\\IPython\\core\\interactiveshell.py:2728: DtypeWarning: Columns (67) have mixed types. Specify dtype option on import or set low_memory=False.\n",
      "  interactivity=interactivity, compiler=compiler, result=result)\n"
     ]
    }
   ],
   "source": [
    "shows=pd.DataFrame()\n",
    "for filename in mentions:\n",
    "    try:\n",
    "        data=pd.read_csv(filename,skiprows=5,parse_dates=[3],usecols=['Source','Link','Time(ET)','LocalTime','Authority','Gender','Country','Location','Assigned','Sentiment','Alexa Rank','Alexa Reach','Title','Snippet','Content','Unique ID','Language','Followers','Following','Summary','Viewed','Commented','Favourited','Rated'])\n",
    "        data['showname']=filename.split(\".\")[0]\n",
    "        shows=pd.concat([shows,data],axis=0)\n",
    "    except e:\n",
    "        print(\"filename {} with exception {}\".format(filename,e))\n",
    "        continue\n",
    " "
   ]
  },
  {
   "cell_type": "code",
   "execution_count": 5,
   "metadata": {},
   "outputs": [
    {
     "data": {
      "text/plain": [
       "(827641, 25)"
      ]
     },
     "execution_count": 5,
     "metadata": {},
     "output_type": "execute_result"
    }
   ],
   "source": [
    "shows.shape"
   ]
  },
  {
   "cell_type": "code",
   "execution_count": 6,
   "metadata": {},
   "outputs": [
    {
     "data": {
      "text/html": [
       "<div>\n",
       "<style scoped>\n",
       "    .dataframe tbody tr th:only-of-type {\n",
       "        vertical-align: middle;\n",
       "    }\n",
       "\n",
       "    .dataframe tbody tr th {\n",
       "        vertical-align: top;\n",
       "    }\n",
       "\n",
       "    .dataframe thead th {\n",
       "        text-align: right;\n",
       "    }\n",
       "</style>\n",
       "<table border=\"1\" class=\"dataframe\">\n",
       "  <thead>\n",
       "    <tr style=\"text-align: right;\">\n",
       "      <th></th>\n",
       "      <th>Source</th>\n",
       "      <th>Link</th>\n",
       "      <th>Time(ET)</th>\n",
       "      <th>LocalTime</th>\n",
       "      <th>Authority</th>\n",
       "      <th>Gender</th>\n",
       "      <th>Country</th>\n",
       "      <th>Location</th>\n",
       "      <th>Assigned</th>\n",
       "      <th>Sentiment</th>\n",
       "      <th>Alexa Rank</th>\n",
       "      <th>Alexa Reach</th>\n",
       "      <th>Title</th>\n",
       "      <th>Snippet</th>\n",
       "      <th>Content</th>\n",
       "      <th>Unique ID</th>\n",
       "      <th>Language</th>\n",
       "      <th>Followers</th>\n",
       "      <th>Following</th>\n",
       "      <th>Summary</th>\n",
       "      <th>Viewed</th>\n",
       "      <th>Commented</th>\n",
       "      <th>Favourited</th>\n",
       "      <th>Rated</th>\n",
       "      <th>showname</th>\n",
       "    </tr>\n",
       "  </thead>\n",
       "  <tbody>\n",
       "    <tr>\n",
       "      <th>0</th>\n",
       "      <td>TWITTER</td>\n",
       "      <td>http://twitter.com/ASHWANI11345063/statuses/10...</td>\n",
       "      <td>Oct 25 2018 23:29:56 EDT</td>\n",
       "      <td>2018-10-25 23:29:56</td>\n",
       "      <td>0</td>\n",
       "      <td>Male</td>\n",
       "      <td>NaN</td>\n",
       "      <td>NaN</td>\n",
       "      <td>none+</td>\n",
       "      <td>None</td>\n",
       "      <td>0</td>\n",
       "      <td>0</td>\n",
       "      <td>@ASHWANI11345063</td>\n",
       "      <td>@AndTVOfficial YE JO PERFECT PATI KA SHOW HAI ...</td>\n",
       "      <td>@AndTVOfficial YE JO PERFECT PATI KA SHOW HAI ...</td>\n",
       "      <td>23723083</td>\n",
       "      <td>TL</td>\n",
       "      <td>1</td>\n",
       "      <td>8</td>\n",
       "      <td>NaN</td>\n",
       "      <td>0</td>\n",
       "      <td>0</td>\n",
       "      <td>0</td>\n",
       "      <td>0</td>\n",
       "      <td>andtv-show-perfect-pati-Mentions</td>\n",
       "    </tr>\n",
       "    <tr>\n",
       "      <th>1</th>\n",
       "      <td>INSTAGRAM</td>\n",
       "      <td>https://www.instagram.com/p/BpXjXNVC03A/</td>\n",
       "      <td>Oct 25 2018 15:34:56 EDT</td>\n",
       "      <td>2018-10-25 15:34:56</td>\n",
       "      <td>0</td>\n",
       "      <td>NaN</td>\n",
       "      <td>BG</td>\n",
       "      <td>Sofia;-42;-Bulgaria</td>\n",
       "      <td>none+</td>\n",
       "      <td>Positive</td>\n",
       "      <td>0</td>\n",
       "      <td>0</td>\n",
       "      <td>dabh_big_fan_bulgaria</td>\n",
       "      <td>Ayush Anand in ,,Perfect Pati\" 25/10/18 Episod...</td>\n",
       "      <td>Ayush Anand in ,,Perfect Pati\" 25/10/18 Episod...</td>\n",
       "      <td>23709925</td>\n",
       "      <td>EN</td>\n",
       "      <td>0</td>\n",
       "      <td>0</td>\n",
       "      <td>NaN</td>\n",
       "      <td>0</td>\n",
       "      <td>0</td>\n",
       "      <td>0</td>\n",
       "      <td>0</td>\n",
       "      <td>andtv-show-perfect-pati-Mentions</td>\n",
       "    </tr>\n",
       "    <tr>\n",
       "      <th>2</th>\n",
       "      <td>INSTAGRAM</td>\n",
       "      <td>https://www.instagram.com/p/BpXjSZsiXa5/</td>\n",
       "      <td>Oct 25 2018 15:34:17 EDT</td>\n",
       "      <td>2018-10-25 15:34:17</td>\n",
       "      <td>0</td>\n",
       "      <td>NaN</td>\n",
       "      <td>BG</td>\n",
       "      <td>Sofia;-42;-Bulgaria</td>\n",
       "      <td>none+</td>\n",
       "      <td>Positive</td>\n",
       "      <td>0</td>\n",
       "      <td>0</td>\n",
       "      <td>dabh_big_fan_bulgaria</td>\n",
       "      <td>Ayush Anand in ,,Perfect Pati\" 25/10/18 Episod...</td>\n",
       "      <td>Ayush Anand in ,,Perfect Pati\" 25/10/18 Episod...</td>\n",
       "      <td>23709924</td>\n",
       "      <td>EN</td>\n",
       "      <td>0</td>\n",
       "      <td>0</td>\n",
       "      <td>NaN</td>\n",
       "      <td>0</td>\n",
       "      <td>0</td>\n",
       "      <td>0</td>\n",
       "      <td>0</td>\n",
       "      <td>andtv-show-perfect-pati-Mentions</td>\n",
       "    </tr>\n",
       "    <tr>\n",
       "      <th>3</th>\n",
       "      <td>INSTAGRAM</td>\n",
       "      <td>https://www.instagram.com/p/BpXJdcBFcCf/</td>\n",
       "      <td>Oct 25 2018 11:53:50 EDT</td>\n",
       "      <td>2018-10-25 11:53:50</td>\n",
       "      <td>0</td>\n",
       "      <td>NaN</td>\n",
       "      <td>ZZ</td>\n",
       "      <td>NaN</td>\n",
       "      <td>none+</td>\n",
       "      <td>None</td>\n",
       "      <td>0</td>\n",
       "      <td>0</td>\n",
       "      <td>perfectpati__</td>\n",
       "      <td>#perfectpati #episode 3 When #pushkar #comes #...</td>\n",
       "      <td>#perfectpati #episode 3 When #pushkar #comes #...</td>\n",
       "      <td>23693611</td>\n",
       "      <td>English</td>\n",
       "      <td>0</td>\n",
       "      <td>0</td>\n",
       "      <td>NaN</td>\n",
       "      <td>0</td>\n",
       "      <td>0</td>\n",
       "      <td>0</td>\n",
       "      <td>0</td>\n",
       "      <td>andtv-show-perfect-pati-Mentions</td>\n",
       "    </tr>\n",
       "    <tr>\n",
       "      <th>4</th>\n",
       "      <td>INSTAGRAM</td>\n",
       "      <td>https://www.instagram.com/p/BpWlo3JBniN/</td>\n",
       "      <td>Oct 25 2018 06:38:08 EDT</td>\n",
       "      <td>2018-10-25 06:38:08</td>\n",
       "      <td>0</td>\n",
       "      <td>NaN</td>\n",
       "      <td>ZZ</td>\n",
       "      <td>NaN</td>\n",
       "      <td>none+</td>\n",
       "      <td>Positive</td>\n",
       "      <td>0</td>\n",
       "      <td>0</td>\n",
       "      <td>jayaprada_unofficial</td>\n",
       "      <td>Everyone looking amazing #onlocation #shooting...</td>\n",
       "      <td>Everyone looking amazing #onlocation #shooting...</td>\n",
       "      <td>23667295</td>\n",
       "      <td>EN</td>\n",
       "      <td>0</td>\n",
       "      <td>0</td>\n",
       "      <td>NaN</td>\n",
       "      <td>0</td>\n",
       "      <td>0</td>\n",
       "      <td>0</td>\n",
       "      <td>0</td>\n",
       "      <td>andtv-show-perfect-pati-Mentions</td>\n",
       "    </tr>\n",
       "  </tbody>\n",
       "</table>\n",
       "</div>"
      ],
      "text/plain": [
       "      Source                                               Link  \\\n",
       "0    TWITTER  http://twitter.com/ASHWANI11345063/statuses/10...   \n",
       "1  INSTAGRAM           https://www.instagram.com/p/BpXjXNVC03A/   \n",
       "2  INSTAGRAM           https://www.instagram.com/p/BpXjSZsiXa5/   \n",
       "3  INSTAGRAM           https://www.instagram.com/p/BpXJdcBFcCf/   \n",
       "4  INSTAGRAM           https://www.instagram.com/p/BpWlo3JBniN/   \n",
       "\n",
       "                   Time(ET)           LocalTime  Authority Gender Country  \\\n",
       "0  Oct 25 2018 23:29:56 EDT 2018-10-25 23:29:56          0   Male     NaN   \n",
       "1  Oct 25 2018 15:34:56 EDT 2018-10-25 15:34:56          0    NaN      BG   \n",
       "2  Oct 25 2018 15:34:17 EDT 2018-10-25 15:34:17          0    NaN      BG   \n",
       "3  Oct 25 2018 11:53:50 EDT 2018-10-25 11:53:50          0    NaN      ZZ   \n",
       "4  Oct 25 2018 06:38:08 EDT 2018-10-25 06:38:08          0    NaN      ZZ   \n",
       "\n",
       "              Location Assigned Sentiment  Alexa Rank  Alexa Reach  \\\n",
       "0                  NaN    none+      None           0            0   \n",
       "1  Sofia;-42;-Bulgaria    none+  Positive           0            0   \n",
       "2  Sofia;-42;-Bulgaria    none+  Positive           0            0   \n",
       "3                  NaN    none+      None           0            0   \n",
       "4                  NaN    none+  Positive           0            0   \n",
       "\n",
       "                   Title                                            Snippet  \\\n",
       "0       @ASHWANI11345063  @AndTVOfficial YE JO PERFECT PATI KA SHOW HAI ...   \n",
       "1  dabh_big_fan_bulgaria  Ayush Anand in ,,Perfect Pati\" 25/10/18 Episod...   \n",
       "2  dabh_big_fan_bulgaria  Ayush Anand in ,,Perfect Pati\" 25/10/18 Episod...   \n",
       "3          perfectpati__  #perfectpati #episode 3 When #pushkar #comes #...   \n",
       "4   jayaprada_unofficial  Everyone looking amazing #onlocation #shooting...   \n",
       "\n",
       "                                             Content  Unique ID Language  \\\n",
       "0  @AndTVOfficial YE JO PERFECT PATI KA SHOW HAI ...   23723083       TL   \n",
       "1  Ayush Anand in ,,Perfect Pati\" 25/10/18 Episod...   23709925       EN   \n",
       "2  Ayush Anand in ,,Perfect Pati\" 25/10/18 Episod...   23709924       EN   \n",
       "3  #perfectpati #episode 3 When #pushkar #comes #...   23693611  English   \n",
       "4  Everyone looking amazing #onlocation #shooting...   23667295       EN   \n",
       "\n",
       "   Followers  Following Summary  Viewed  Commented  Favourited  Rated  \\\n",
       "0          1          8     NaN       0          0           0      0   \n",
       "1          0          0     NaN       0          0           0      0   \n",
       "2          0          0     NaN       0          0           0      0   \n",
       "3          0          0     NaN       0          0           0      0   \n",
       "4          0          0     NaN       0          0           0      0   \n",
       "\n",
       "                           showname  \n",
       "0  andtv-show-perfect-pati-Mentions  \n",
       "1  andtv-show-perfect-pati-Mentions  \n",
       "2  andtv-show-perfect-pati-Mentions  \n",
       "3  andtv-show-perfect-pati-Mentions  \n",
       "4  andtv-show-perfect-pati-Mentions  "
      ]
     },
     "execution_count": 6,
     "metadata": {},
     "output_type": "execute_result"
    }
   ],
   "source": [
    "shows.head()"
   ]
  },
  {
   "cell_type": "code",
   "execution_count": 7,
   "metadata": {},
   "outputs": [],
   "source": [
    "# a=\"zeetv-shows-tujhse-hai-rabta -Mentions.csv\"\n",
    "# a.split(\".\")[0]"
   ]
  },
  {
   "cell_type": "code",
   "execution_count": 8,
   "metadata": {},
   "outputs": [],
   "source": [
    "# data=pd.read_csv(\"zeetv-shows-tujhse-hai-rabta -Mentions.csv\",parse_dates=[3],skiprows=5,usecols=['Source','Link','Time(ET)','LocalTime','Authority','Gender','Country','Location','Assigned','Sentiment','Alexa Rank','Alexa Reach','Title','Snippet','Content','Unique ID','Language','Followers','Following','Summary','Viewed','Commented','Favourited','Rated'])\n"
   ]
  },
  {
   "cell_type": "code",
   "execution_count": 9,
   "metadata": {},
   "outputs": [],
   "source": [
    "# ,date_parser=lambda x:dt.datetime.strptime(x,\"%b %d %Y %H:%M:%S %z\")"
   ]
  },
  {
   "cell_type": "code",
   "execution_count": 10,
   "metadata": {},
   "outputs": [],
   "source": [
    "showrename={\n",
    "    'zeetv---show---kaleerein 2-Mentions':'zeetv---show---kaleerein -Mentions',\n",
    "    'zee-tv---show---juzzbaaat 2-Mentions':'zee-tv---show---juzzbaaat-Mentions',\n",
    "    'sony-tv-show-indian-idol 1-Mentions':'sony-tv-show-indian-idol -Mentions',\n",
    "    'sony-tv-show-indian-idol 2-Mentions':'sony-tv-show-indian-idol -Mentions',\n",
    "    'sony-tv-show-indian-idol 3-Mentions':'sony-tv-show-indian-idol -Mentions',\n",
    "    'sony-tv-show-dus-ka-dum 1-Mentions':'sony-tv-show-dus-ka-dum -Mentions',\n",
    "    'sony-tv-show-dus-ka-dum 2-Mentions':'sony-tv-show-dus-ka-dum -Mentions',\n",
    "    'sony-tv-show-dus-ka-dum 3-Mentions':'sony-tv-show-dus-ka-dum -Mentions',\n",
    "    'colors-tv-show-naagin3 1-Mentions':'colors-tv-show-naagin3 -Mentions',\n",
    "    'colors-tv-show-naagin3 2-Mentions':'colors-tv-show-naagin3 -Mentions',\n",
    "    'colors-tv-show-naagin3 3-Mentions':'colors-tv-show-naagin3 -Mentions'\n",
    "}"
   ]
  },
  {
   "cell_type": "code",
   "execution_count": 11,
   "metadata": {},
   "outputs": [],
   "source": [
    "shows['new_name']=shows['showname']\n",
    "for x,y in showrename.items():\n",
    "    shows.loc[shows.showname==x,'new_name']=y"
   ]
  },
  {
   "cell_type": "code",
   "execution_count": 12,
   "metadata": {},
   "outputs": [
    {
     "data": {
      "text/plain": [
       "new_name\n",
       "andtv-show-perfect-pati-Mentions                               282\n",
       "andtvofficial-show-bitti-businesswali-Mentions               43447\n",
       "andtvofficial-show-high-fever-Mentions                        1693\n",
       "andtvofficial-show-laal-ishq-Mentions                          115\n",
       "andtvofficial-show-love-me-india-Mentions                    18649\n",
       "andtvofficial-show-mitegi-lakshmanrekha-Mentions               672\n",
       "andtvofficial-show-vikram-betaal-Mentions                     2444\n",
       "colors-tv---show--dance-deewane-Mentions                     44154\n",
       "colors-tv-show-dastan-e-mohabbat-Mentions                     2247\n",
       "colors-tv-show-naagin3 -Mentions                             66098\n",
       "colors-tv-show-rising-star-Mentions                           4343\n",
       "colorstv-show-dev2-Mentions                                   4724\n",
       "colorstv-show-internet-wala-love-Mentions                     3802\n",
       "colorstv-show-kasam-Mentions                                 24201\n",
       "colorstv-show-kaun-hai-Mentions                               2282\n",
       "colorstv-show-roop-mard-ka-naya-swaroop-Mentions              2992\n",
       "colorstv-show-savitri-devi-college-and-hospital-Mentions      5447\n",
       "colorstv-show-silsila-badalte-rishton-ka-Mentions            27815\n",
       "sony-tv--show---cid-Mentions                                  3786\n",
       "sony-tv-show-dus-ka-dum -Mentions                           103080\n",
       "sony-tv-show-indian-idol -Mentions                          111789\n",
       "sonytv-show-crime-patrol-Mentions                             3494\n",
       "sonytv-show-prithvi-vallabh-Mentions                         24420\n",
       "sonytv-show-zindagikecrossroads -Mentions                     7084\n",
       "sonytv-shows-yeh-pyaar-nahi-tho-kya-hai -Mentions             1435\n",
       "zee-tv---show---ishq-subhan-allah-Mentions                   12459\n",
       "zee-tv---show---juzzbaaat-Mentions                           63379\n",
       "zee-tv-shows-fear-files-Mentions                              1272\n",
       "zeetv---show---kaleerein -Mentions                           78027\n",
       "zeetv-show-aap-ke-aa-jane-se-Mentions                        26019\n",
       "zeetv-show-did-lil-masters-Mentions                           3413\n",
       "zeetv-show-ye-teri-galiyan-Mentions                            493\n",
       "zeetv-shows-india-best-dramebaaz-Mentions                    11525\n",
       "zeetv-shows-maggie-kitchen-journeys-Mentions                    15\n",
       "zeetv-shows-sa-re-ga-ma-pa-Mentions                          12794\n",
       "zeetv-shows-tujhse-hai-rabta -Mentions                          22\n",
       "Name: showname, dtype: int64"
      ]
     },
     "execution_count": 12,
     "metadata": {},
     "output_type": "execute_result"
    }
   ],
   "source": [
    "shows[shows.Source=='TWITTER'].groupby(['new_name'])['showname'].count()"
   ]
  },
  {
   "cell_type": "code",
   "execution_count": 13,
   "metadata": {},
   "outputs": [],
   "source": [
    "twitter=shows[shows.Source=='TWITTER']"
   ]
  },
  {
   "cell_type": "code",
   "execution_count": 14,
   "metadata": {},
   "outputs": [
    {
     "name": "stderr",
     "output_type": "stream",
     "text": [
      "S:\\Anaconda\\envs\\py36\\lib\\site-packages\\ipykernel_launcher.py:1: SettingWithCopyWarning: \n",
      "A value is trying to be set on a copy of a slice from a DataFrame.\n",
      "Try using .loc[row_indexer,col_indexer] = value instead\n",
      "\n",
      "See the caveats in the documentation: http://pandas.pydata.org/pandas-docs/stable/indexing.html#indexing-view-versus-copy\n",
      "  \"\"\"Entry point for launching an IPython kernel.\n"
     ]
    }
   ],
   "source": [
    "twitter['original_tweet']=~twitter.Content.str.startswith(('RT','QT'))"
   ]
  },
  {
   "cell_type": "code",
   "execution_count": 15,
   "metadata": {},
   "outputs": [
    {
     "data": {
      "text/html": [
       "<div>\n",
       "<style scoped>\n",
       "    .dataframe tbody tr th:only-of-type {\n",
       "        vertical-align: middle;\n",
       "    }\n",
       "\n",
       "    .dataframe tbody tr th {\n",
       "        vertical-align: top;\n",
       "    }\n",
       "\n",
       "    .dataframe thead th {\n",
       "        text-align: right;\n",
       "    }\n",
       "</style>\n",
       "<table border=\"1\" class=\"dataframe\">\n",
       "  <thead>\n",
       "    <tr style=\"text-align: right;\">\n",
       "      <th></th>\n",
       "      <th>Source</th>\n",
       "      <th>Link</th>\n",
       "      <th>Time(ET)</th>\n",
       "      <th>LocalTime</th>\n",
       "      <th>Authority</th>\n",
       "      <th>Gender</th>\n",
       "      <th>Country</th>\n",
       "      <th>Location</th>\n",
       "      <th>Assigned</th>\n",
       "      <th>Sentiment</th>\n",
       "      <th>Alexa Rank</th>\n",
       "      <th>Alexa Reach</th>\n",
       "      <th>Title</th>\n",
       "      <th>Snippet</th>\n",
       "      <th>Content</th>\n",
       "      <th>Unique ID</th>\n",
       "      <th>Language</th>\n",
       "      <th>Followers</th>\n",
       "      <th>Following</th>\n",
       "      <th>Summary</th>\n",
       "      <th>Viewed</th>\n",
       "      <th>Commented</th>\n",
       "      <th>Favourited</th>\n",
       "      <th>Rated</th>\n",
       "      <th>showname</th>\n",
       "      <th>new_name</th>\n",
       "      <th>original_tweet</th>\n",
       "    </tr>\n",
       "  </thead>\n",
       "  <tbody>\n",
       "    <tr>\n",
       "      <th>0</th>\n",
       "      <td>TWITTER</td>\n",
       "      <td>http://twitter.com/ASHWANI11345063/statuses/10...</td>\n",
       "      <td>Oct 25 2018 23:29:56 EDT</td>\n",
       "      <td>2018-10-25 23:29:56</td>\n",
       "      <td>0</td>\n",
       "      <td>Male</td>\n",
       "      <td>NaN</td>\n",
       "      <td>NaN</td>\n",
       "      <td>none+</td>\n",
       "      <td>None</td>\n",
       "      <td>0</td>\n",
       "      <td>0</td>\n",
       "      <td>@ASHWANI11345063</td>\n",
       "      <td>@AndTVOfficial YE JO PERFECT PATI KA SHOW HAI ...</td>\n",
       "      <td>@AndTVOfficial YE JO PERFECT PATI KA SHOW HAI ...</td>\n",
       "      <td>23723083</td>\n",
       "      <td>TL</td>\n",
       "      <td>1</td>\n",
       "      <td>8</td>\n",
       "      <td>NaN</td>\n",
       "      <td>0</td>\n",
       "      <td>0</td>\n",
       "      <td>0</td>\n",
       "      <td>0</td>\n",
       "      <td>andtv-show-perfect-pati-Mentions</td>\n",
       "      <td>andtv-show-perfect-pati-Mentions</td>\n",
       "      <td>True</td>\n",
       "    </tr>\n",
       "    <tr>\n",
       "      <th>5</th>\n",
       "      <td>TWITTER</td>\n",
       "      <td>http://twitter.com/P_Madhumita/statuses/105540...</td>\n",
       "      <td>Oct 25 2018 06:22:06 EDT</td>\n",
       "      <td>2018-10-25 06:22:06</td>\n",
       "      <td>5</td>\n",
       "      <td>Male</td>\n",
       "      <td>NaN</td>\n",
       "      <td>NaN</td>\n",
       "      <td>none+</td>\n",
       "      <td>None</td>\n",
       "      <td>0</td>\n",
       "      <td>0</td>\n",
       "      <td>@P_Madhumita</td>\n",
       "      <td>RT @isalilsand: #AndTV: #Agnifera 0.2, #Vikram...</td>\n",
       "      <td>RT @isalilsand: #AndTV: #Agnifera 0.2, #Vikram...</td>\n",
       "      <td>23665380</td>\n",
       "      <td>ID</td>\n",
       "      <td>264</td>\n",
       "      <td>82</td>\n",
       "      <td>NaN</td>\n",
       "      <td>0</td>\n",
       "      <td>0</td>\n",
       "      <td>0</td>\n",
       "      <td>0</td>\n",
       "      <td>andtv-show-perfect-pati-Mentions</td>\n",
       "      <td>andtv-show-perfect-pati-Mentions</td>\n",
       "      <td>False</td>\n",
       "    </tr>\n",
       "    <tr>\n",
       "      <th>7</th>\n",
       "      <td>TWITTER</td>\n",
       "      <td>http://twitter.com/Rohiths2001/statuses/105538...</td>\n",
       "      <td>Oct 25 2018 05:13:10 EDT</td>\n",
       "      <td>2018-10-25 05:13:10</td>\n",
       "      <td>1</td>\n",
       "      <td>NaN</td>\n",
       "      <td>IN</td>\n",
       "      <td>;-;-India</td>\n",
       "      <td>none+</td>\n",
       "      <td>None</td>\n",
       "      <td>0</td>\n",
       "      <td>0</td>\n",
       "      <td>@Rohiths2001</td>\n",
       "      <td>RT @isalilsand: #AndTV: #Agnifera 0.2, #Vikram...</td>\n",
       "      <td>RT @isalilsand: #AndTV: #Agnifera 0.2, #Vikram...</td>\n",
       "      <td>23660437</td>\n",
       "      <td>ID</td>\n",
       "      <td>16</td>\n",
       "      <td>98</td>\n",
       "      <td>NaN</td>\n",
       "      <td>0</td>\n",
       "      <td>0</td>\n",
       "      <td>0</td>\n",
       "      <td>0</td>\n",
       "      <td>andtv-show-perfect-pati-Mentions</td>\n",
       "      <td>andtv-show-perfect-pati-Mentions</td>\n",
       "      <td>False</td>\n",
       "    </tr>\n",
       "    <tr>\n",
       "      <th>8</th>\n",
       "      <td>TWITTER</td>\n",
       "      <td>http://twitter.com/veekay_ness/statuses/105538...</td>\n",
       "      <td>Oct 25 2018 05:02:06 EDT</td>\n",
       "      <td>2018-10-25 05:02:06</td>\n",
       "      <td>3</td>\n",
       "      <td>Male</td>\n",
       "      <td>IN</td>\n",
       "      <td>mumbai;-maharashtra;-India</td>\n",
       "      <td>none+</td>\n",
       "      <td>Positive</td>\n",
       "      <td>0</td>\n",
       "      <td>0</td>\n",
       "      <td>@veekay_ness</td>\n",
       "      <td>RT @GossipsTv: #SuperExclusive #TRP #TRPDay @A...</td>\n",
       "      <td>RT @GossipsTv: #SuperExclusive #TRP #TRPDay @A...</td>\n",
       "      <td>23659646</td>\n",
       "      <td>EN</td>\n",
       "      <td>67</td>\n",
       "      <td>659</td>\n",
       "      <td>NaN</td>\n",
       "      <td>0</td>\n",
       "      <td>0</td>\n",
       "      <td>0</td>\n",
       "      <td>0</td>\n",
       "      <td>andtv-show-perfect-pati-Mentions</td>\n",
       "      <td>andtv-show-perfect-pati-Mentions</td>\n",
       "      <td>False</td>\n",
       "    </tr>\n",
       "    <tr>\n",
       "      <th>9</th>\n",
       "      <td>TWITTER</td>\n",
       "      <td>http://twitter.com/GossipsTv/statuses/10553797...</td>\n",
       "      <td>Oct 25 2018 04:45:25 EDT</td>\n",
       "      <td>2018-10-25 04:45:25</td>\n",
       "      <td>7</td>\n",
       "      <td>NaN</td>\n",
       "      <td>IN</td>\n",
       "      <td>mumbai;-maharashtra;-India</td>\n",
       "      <td>none+</td>\n",
       "      <td>Positive</td>\n",
       "      <td>0</td>\n",
       "      <td>0</td>\n",
       "      <td>@GossipsTv</td>\n",
       "      <td>#SuperExclusive #TRP #TRPDay @AndTVOfficial Al...</td>\n",
       "      <td>#SuperExclusive #TRP #TRPDay @AndTVOfficial Al...</td>\n",
       "      <td>23658245</td>\n",
       "      <td>EN</td>\n",
       "      <td>3596</td>\n",
       "      <td>44</td>\n",
       "      <td>NaN</td>\n",
       "      <td>0</td>\n",
       "      <td>0</td>\n",
       "      <td>0</td>\n",
       "      <td>0</td>\n",
       "      <td>andtv-show-perfect-pati-Mentions</td>\n",
       "      <td>andtv-show-perfect-pati-Mentions</td>\n",
       "      <td>True</td>\n",
       "    </tr>\n",
       "  </tbody>\n",
       "</table>\n",
       "</div>"
      ],
      "text/plain": [
       "    Source                                               Link  \\\n",
       "0  TWITTER  http://twitter.com/ASHWANI11345063/statuses/10...   \n",
       "5  TWITTER  http://twitter.com/P_Madhumita/statuses/105540...   \n",
       "7  TWITTER  http://twitter.com/Rohiths2001/statuses/105538...   \n",
       "8  TWITTER  http://twitter.com/veekay_ness/statuses/105538...   \n",
       "9  TWITTER  http://twitter.com/GossipsTv/statuses/10553797...   \n",
       "\n",
       "                   Time(ET)           LocalTime  Authority Gender Country  \\\n",
       "0  Oct 25 2018 23:29:56 EDT 2018-10-25 23:29:56          0   Male     NaN   \n",
       "5  Oct 25 2018 06:22:06 EDT 2018-10-25 06:22:06          5   Male     NaN   \n",
       "7  Oct 25 2018 05:13:10 EDT 2018-10-25 05:13:10          1    NaN      IN   \n",
       "8  Oct 25 2018 05:02:06 EDT 2018-10-25 05:02:06          3   Male      IN   \n",
       "9  Oct 25 2018 04:45:25 EDT 2018-10-25 04:45:25          7    NaN      IN   \n",
       "\n",
       "                     Location Assigned Sentiment  Alexa Rank  Alexa Reach  \\\n",
       "0                         NaN    none+      None           0            0   \n",
       "5                         NaN    none+      None           0            0   \n",
       "7                   ;-;-India    none+      None           0            0   \n",
       "8  mumbai;-maharashtra;-India    none+  Positive           0            0   \n",
       "9  mumbai;-maharashtra;-India    none+  Positive           0            0   \n",
       "\n",
       "              Title                                            Snippet  \\\n",
       "0  @ASHWANI11345063  @AndTVOfficial YE JO PERFECT PATI KA SHOW HAI ...   \n",
       "5      @P_Madhumita  RT @isalilsand: #AndTV: #Agnifera 0.2, #Vikram...   \n",
       "7      @Rohiths2001  RT @isalilsand: #AndTV: #Agnifera 0.2, #Vikram...   \n",
       "8      @veekay_ness  RT @GossipsTv: #SuperExclusive #TRP #TRPDay @A...   \n",
       "9        @GossipsTv  #SuperExclusive #TRP #TRPDay @AndTVOfficial Al...   \n",
       "\n",
       "                                             Content  Unique ID Language  \\\n",
       "0  @AndTVOfficial YE JO PERFECT PATI KA SHOW HAI ...   23723083       TL   \n",
       "5  RT @isalilsand: #AndTV: #Agnifera 0.2, #Vikram...   23665380       ID   \n",
       "7  RT @isalilsand: #AndTV: #Agnifera 0.2, #Vikram...   23660437       ID   \n",
       "8  RT @GossipsTv: #SuperExclusive #TRP #TRPDay @A...   23659646       EN   \n",
       "9  #SuperExclusive #TRP #TRPDay @AndTVOfficial Al...   23658245       EN   \n",
       "\n",
       "   Followers  Following Summary  Viewed  Commented  Favourited  Rated  \\\n",
       "0          1          8     NaN       0          0           0      0   \n",
       "5        264         82     NaN       0          0           0      0   \n",
       "7         16         98     NaN       0          0           0      0   \n",
       "8         67        659     NaN       0          0           0      0   \n",
       "9       3596         44     NaN       0          0           0      0   \n",
       "\n",
       "                           showname                          new_name  \\\n",
       "0  andtv-show-perfect-pati-Mentions  andtv-show-perfect-pati-Mentions   \n",
       "5  andtv-show-perfect-pati-Mentions  andtv-show-perfect-pati-Mentions   \n",
       "7  andtv-show-perfect-pati-Mentions  andtv-show-perfect-pati-Mentions   \n",
       "8  andtv-show-perfect-pati-Mentions  andtv-show-perfect-pati-Mentions   \n",
       "9  andtv-show-perfect-pati-Mentions  andtv-show-perfect-pati-Mentions   \n",
       "\n",
       "   original_tweet  \n",
       "0            True  \n",
       "5           False  \n",
       "7           False  \n",
       "8           False  \n",
       "9            True  "
      ]
     },
     "execution_count": 15,
     "metadata": {},
     "output_type": "execute_result"
    }
   ],
   "source": [
    "twitter.head()"
   ]
  },
  {
   "cell_type": "code",
   "execution_count": 16,
   "metadata": {},
   "outputs": [
    {
     "data": {
      "text/plain": [
       "new_name\n",
       "andtv-show-perfect-pati-Mentions                              132\n",
       "andtvofficial-show-bitti-businesswali-Mentions              17773\n",
       "andtvofficial-show-high-fever-Mentions                        339\n",
       "andtvofficial-show-laal-ishq-Mentions                          12\n",
       "andtvofficial-show-love-me-india-Mentions                    4096\n",
       "andtvofficial-show-mitegi-lakshmanrekha-Mentions              156\n",
       "andtvofficial-show-vikram-betaal-Mentions                     517\n",
       "colors-tv---show--dance-deewane-Mentions                     9194\n",
       "colors-tv-show-dastan-e-mohabbat-Mentions                     312\n",
       "colors-tv-show-naagin3 -Mentions                            15729\n",
       "colors-tv-show-rising-star-Mentions                           406\n",
       "colorstv-show-dev2-Mentions                                   609\n",
       "colorstv-show-internet-wala-love-Mentions                    1352\n",
       "colorstv-show-kasam-Mentions                                 5162\n",
       "colorstv-show-kaun-hai-Mentions                               201\n",
       "colorstv-show-roop-mard-ka-naya-swaroop-Mentions              462\n",
       "colorstv-show-savitri-devi-college-and-hospital-Mentions      210\n",
       "colorstv-show-silsila-badalte-rishton-ka-Mentions            4735\n",
       "sony-tv--show---cid-Mentions                                  904\n",
       "sony-tv-show-dus-ka-dum -Mentions                           10385\n",
       "sony-tv-show-indian-idol -Mentions                          28269\n",
       "sonytv-show-crime-patrol-Mentions                            1665\n",
       "sonytv-show-prithvi-vallabh-Mentions                         5239\n",
       "sonytv-show-zindagikecrossroads -Mentions                    1654\n",
       "sonytv-shows-yeh-pyaar-nahi-tho-kya-hai -Mentions              79\n",
       "zee-tv---show---ishq-subhan-allah-Mentions                   7507\n",
       "zee-tv---show---juzzbaaat-Mentions                          11470\n",
       "zee-tv-shows-fear-files-Mentions                              473\n",
       "zeetv---show---kaleerein -Mentions                          35695\n",
       "zeetv-show-aap-ke-aa-jane-se-Mentions                       15800\n",
       "zeetv-show-did-lil-masters-Mentions                           992\n",
       "zeetv-show-ye-teri-galiyan-Mentions                           398\n",
       "zeetv-shows-india-best-dramebaaz-Mentions                    4447\n",
       "zeetv-shows-maggie-kitchen-journeys-Mentions                   15\n",
       "zeetv-shows-sa-re-ga-ma-pa-Mentions                          4734\n",
       "zeetv-shows-tujhse-hai-rabta -Mentions                         14\n",
       "Name: new_name, dtype: int64"
      ]
     },
     "execution_count": 16,
     "metadata": {},
     "output_type": "execute_result"
    }
   ],
   "source": [
    "twitter[twitter.original_tweet].groupby('new_name')['new_name'].count()"
   ]
  },
  {
   "cell_type": "code",
   "execution_count": 17,
   "metadata": {},
   "outputs": [],
   "source": [
    "kaliren=twitter[twitter.new_name=='zeetv---show---kaleerein -Mentions']"
   ]
  },
  {
   "cell_type": "code",
   "execution_count": 18,
   "metadata": {},
   "outputs": [],
   "source": [
    "kaliren_unique=kaliren[kaliren.original_tweet][['Snippet','Unique ID']].reset_index(drop=True)"
   ]
  },
  {
   "cell_type": "code",
   "execution_count": 19,
   "metadata": {},
   "outputs": [],
   "source": [
    "unique_tweets=kaliren_unique.Snippet.unique()"
   ]
  },
  {
   "cell_type": "code",
   "execution_count": 20,
   "metadata": {},
   "outputs": [
    {
     "data": {
      "text/plain": [
       "34109"
      ]
     },
     "execution_count": 20,
     "metadata": {},
     "output_type": "execute_result"
    }
   ],
   "source": [
    "len(unique_tweets)"
   ]
  },
  {
   "cell_type": "code",
   "execution_count": 21,
   "metadata": {},
   "outputs": [],
   "source": [
    "def tokens(tweets):\n",
    "    tweets=tweets.lower()\n",
    "    tokens=tokenizer.tokenize(tweets)\n",
    "    tokens=filter(lambda x:not x.startswith('http'),tokens)\n",
    "    return list(tokens)"
   ]
  },
  {
   "cell_type": "code",
   "execution_count": 22,
   "metadata": {},
   "outputs": [],
   "source": [
    "tokenizer=TweetTokenizer()\n",
    "# tweets_tokens=kaliren_unique.Snippet.str.lower().map(tokens)\n",
    "tweets_tokens=[tokens(x) for x in unique_tweets ]"
   ]
  },
  {
   "cell_type": "code",
   "execution_count": 23,
   "metadata": {},
   "outputs": [
    {
     "data": {
      "text/plain": [
       "0"
      ]
     },
     "execution_count": 23,
     "metadata": {},
     "output_type": "execute_result"
    }
   ],
   "source": [
    "gc.collect()"
   ]
  },
  {
   "cell_type": "code",
   "execution_count": 24,
   "metadata": {},
   "outputs": [
    {
     "data": {
      "text/plain": [
       "(5133053, 7271540)"
      ]
     },
     "execution_count": 24,
     "metadata": {},
     "output_type": "execute_result"
    }
   ],
   "source": [
    "model=Word2Vec(tweets_tokens,size=100,min_count=1)\n",
    "model.train(tweets_tokens,total_examples=len(tweets_tokens),epochs=10)"
   ]
  },
  {
   "cell_type": "code",
   "execution_count": 27,
   "metadata": {},
   "outputs": [],
   "source": [
    "model.save(\"w2vKalee.model\")"
   ]
  },
  {
   "cell_type": "code",
   "execution_count": 21,
   "metadata": {},
   "outputs": [],
   "source": [
    "model=Word2Vec.load('w2vKalee.model')"
   ]
  },
  {
   "cell_type": "code",
   "execution_count": 22,
   "metadata": {},
   "outputs": [
    {
     "data": {
      "text/plain": [
       "array([ 0.17022827,  0.41265997,  0.39156753, -0.17419119,  0.03105946,\n",
       "       -0.07425688, -0.16045585,  0.37290037, -0.13066058, -0.4376429 ,\n",
       "       -0.25304618, -0.08648647, -0.13498624, -0.08296011, -0.14072314,\n",
       "        0.1853159 ,  0.08783796, -0.00763556, -0.11367326, -0.07053746,\n",
       "        0.3567094 , -0.15683697,  0.22342476,  0.17541909, -0.3484576 ,\n",
       "        0.45780668, -0.18103787,  0.06658547, -0.16353628,  0.27699643,\n",
       "       -0.24163666, -0.18503667, -0.07007273, -0.07297344, -0.15405002,\n",
       "       -0.13793245,  0.17372137, -0.51701814,  0.3379973 ,  0.2563368 ,\n",
       "        0.39088097,  0.07031162,  0.12068453, -0.07248947, -0.18601675,\n",
       "       -0.1533174 ,  0.26222235,  0.17038557,  0.21163014, -0.09909291,\n",
       "        0.18865402, -0.04213833,  0.36807108, -0.17675424,  0.03129102,\n",
       "       -0.26566675, -0.11754677,  0.21891542, -0.46015903, -0.24915163,\n",
       "       -0.03227029,  0.01575656,  0.3485169 , -0.00347194,  0.04755858,\n",
       "       -0.15233818, -0.28443915, -0.31261158, -0.00374656,  0.13503687,\n",
       "        0.00750177, -0.36368573,  0.07750588, -0.31690767,  0.01191409,\n",
       "       -0.3766379 ,  0.09170257, -0.01777124, -0.23296027, -0.36938977,\n",
       "        0.3048443 ,  0.14373855, -0.11536624,  0.21416268, -0.17132905,\n",
       "       -0.19699736,  0.03514829, -0.31677735,  0.03826163,  0.1454179 ,\n",
       "       -0.01821015, -0.05356254, -0.01236035, -0.29206297, -0.33451867,\n",
       "       -0.0832066 ,  0.31961697,  0.4617914 , -0.07637304,  0.31350568],\n",
       "      dtype=float32)"
      ]
     },
     "execution_count": 22,
     "metadata": {},
     "output_type": "execute_result"
    }
   ],
   "source": [
    "model.wv['star']"
   ]
  },
  {
   "cell_type": "code",
   "execution_count": 23,
   "metadata": {},
   "outputs": [
    {
     "data": {
      "text/plain": [
       "[('tale', 0.5867917537689209),\n",
       " ('concept', 0.5642212629318237),\n",
       " ('journey', 0.556221604347229),\n",
       " ('show', 0.5202246308326721),\n",
       " ('idea', 0.4810567796230316),\n",
       " ('rage', 0.4729345440864563),\n",
       " ('part', 0.4451940059661865),\n",
       " ('character', 0.44275423884391785),\n",
       " ('serial', 0.43233758211135864),\n",
       " ('initiative', 0.432299941778183),\n",
       " ('narrative', 0.42512255907058716),\n",
       " ('fierce', 0.419236958026886),\n",
       " ('symbol', 0.40781569480895996),\n",
       " ('inspiring', 0.4060932695865631),\n",
       " ('one', 0.40598568320274353)]"
      ]
     },
     "execution_count": 23,
     "metadata": {},
     "output_type": "execute_result"
    }
   ],
   "source": [
    "model.wv.most_similar('story',topn=15)"
   ]
  },
  {
   "cell_type": "code",
   "execution_count": 31,
   "metadata": {},
   "outputs": [],
   "source": [
    "keyed=model.wv\n",
    "del model"
   ]
  },
  {
   "cell_type": "code",
   "execution_count": 32,
   "metadata": {},
   "outputs": [
    {
     "data": {
      "text/plain": [
       "[('includes', 0.6104772090911865),\n",
       " ('shopping', 0.5652444958686829),\n",
       " ('destinations', 0.5061044692993164),\n",
       " ('handbell', 0.5004119873046875),\n",
       " ('foods', 0.4753000736236572),\n",
       " ('left', 0.4654073417186737),\n",
       " ('deleting', 0.463539719581604),\n",
       " ('marrige', 0.4615934491157532),\n",
       " ('hour', 0.4596536457538605),\n",
       " ('hectic', 0.4560714662075043)]"
      ]
     },
     "execution_count": 32,
     "metadata": {},
     "output_type": "execute_result"
    }
   ],
   "source": [
    "keyed.most_similar('wedding')"
   ]
  },
  {
   "cell_type": "code",
   "execution_count": null,
   "metadata": {},
   "outputs": [],
   "source": [
    "keyed.most_similar('')"
   ]
  },
  {
   "cell_type": "code",
   "execution_count": 33,
   "metadata": {},
   "outputs": [],
   "source": [
    "embeddings=np.zeros(shape=(len(unique_tweets),100))\n",
    "for i,tweet in enumerate(tweets_tokens):\n",
    "    sm=0\n",
    "    for word in tweet:\n",
    "        try:\n",
    "            embeddings[i]+=keyed[word]\n",
    "        except KeyError:\n",
    "            print(tweet)\n",
    "    embeddings[i]=embeddings[i]/len(tweet)"
   ]
  },
  {
   "cell_type": "code",
   "execution_count": 23,
   "metadata": {},
   "outputs": [],
   "source": [
    "with open(\"embeddings\",'rb') as fr:\n",
    "    embeddings=pickle.load(fr)"
   ]
  },
  {
   "cell_type": "code",
   "execution_count": 129,
   "metadata": {},
   "outputs": [
    {
     "data": {
      "text/plain": [
       "KMeans(algorithm='auto', copy_x=True, init='k-means++', max_iter=300,\n",
       "    n_clusters=8, n_init=10, n_jobs=-1, precompute_distances='auto',\n",
       "    random_state=None, tol=0.0001, verbose=0)"
      ]
     },
     "execution_count": 129,
     "metadata": {},
     "output_type": "execute_result"
    }
   ],
   "source": [
    "# km=KMeans(n_clusters=8,n_jobs=-1)\n",
    "# km.fit(embeddings)"
   ]
  },
  {
   "cell_type": "code",
   "execution_count": 131,
   "metadata": {},
   "outputs": [
    {
     "data": {
      "text/plain": [
       "Counter({0: 6944,\n",
       "         1: 1264,\n",
       "         2: 6700,\n",
       "         3: 4489,\n",
       "         4: 1822,\n",
       "         5: 5239,\n",
       "         6: 6419,\n",
       "         7: 1232})"
      ]
     },
     "execution_count": 131,
     "metadata": {},
     "output_type": "execute_result"
    }
   ],
   "source": [
    "# Counter(km.labels_)"
   ]
  },
  {
   "cell_type": "code",
   "execution_count": 24,
   "metadata": {},
   "outputs": [],
   "source": [
    "def fit_clusters(clf):\n",
    "    clus={}\n",
    "    clf.fit(embeddings)\n",
    "    clus['labels']=pd.Series(clf.labels_)\n",
    "    clus['score']=clf.inertia_\n",
    "#     clus['cls']=clf\n",
    "    clus['centroids']=clf.cluster_centers_\n",
    "    return clus"
   ]
  },
  {
   "cell_type": "code",
   "execution_count": 25,
   "metadata": {},
   "outputs": [],
   "source": [
    "def create_clusters(rng):\n",
    "    cluster_file=pd.DataFrame({'tweets':unique_tweets})\n",
    "    scores=[]\n",
    "    centers=[]\n",
    "    for i in rng:\n",
    "        km=KMeans(n_clusters=i,n_jobs=-1)\n",
    "        clus=fit_clusters(km)\n",
    "        scores.append(clus['score'])\n",
    "        cluster_file['cluster_{}'.format(i)]=clus['labels']\n",
    "        centers.append(clus['centroids'])\n",
    "        del km\n",
    "        del clus\n",
    "        gc.collect()\n",
    "    return cluster_file,scores,centers\n",
    "        "
   ]
  },
  {
   "cell_type": "code",
   "execution_count": 26,
   "metadata": {},
   "outputs": [],
   "source": [
    "cluster_tweet,scores,centers=create_clusters(np.arange(2,14))"
   ]
  },
  {
   "cell_type": "code",
   "execution_count": 27,
   "metadata": {},
   "outputs": [
    {
     "data": {
      "text/plain": [
       "[550980.0852779204,\n",
       " 463842.8886799092,\n",
       " 406921.13761485287,\n",
       " 374873.77223104605,\n",
       " 352201.7904743624,\n",
       " 340622.3635189696,\n",
       " 330277.0439817236,\n",
       " 322365.24481563154,\n",
       " 315624.2301520593,\n",
       " 308802.74567448883,\n",
       " 303500.5465277474,\n",
       " 298214.26851262525]"
      ]
     },
     "execution_count": 27,
     "metadata": {},
     "output_type": "execute_result"
    }
   ],
   "source": [
    "scores"
   ]
  },
  {
   "cell_type": "code",
   "execution_count": 31,
   "metadata": {},
   "outputs": [
    {
     "data": {
      "text/plain": [
       "<matplotlib.axes._subplots.AxesSubplot at 0x1feb108d7f0>"
      ]
     },
     "execution_count": 31,
     "metadata": {},
     "output_type": "execute_result"
    },
    {
     "data": {
      "image/png": "[encoded data removed]",
      "text/plain": [
       "<matplotlib.figure.Figure at 0x1feb108d160>"
      ]
     },
     "metadata": {},
     "output_type": "display_data"
    }
   ],
   "source": [
    "sns.scatterplot(x=np.arange(2,14),y=scores)"
   ]
  },
  {
   "cell_type": "code",
   "execution_count": 137,
   "metadata": {},
   "outputs": [],
   "source": [
    "# with open(\"embeddings\",'wb') as fw:\n",
    "#     pickle.dump(embeddings,fw)"
   ]
  },
  {
   "cell_type": "code",
   "execution_count": 32,
   "metadata": {},
   "outputs": [
    {
     "data": {
      "text/html": [
       "<div>\n",
       "<style scoped>\n",
       "    .dataframe tbody tr th:only-of-type {\n",
       "        vertical-align: middle;\n",
       "    }\n",
       "\n",
       "    .dataframe tbody tr th {\n",
       "        vertical-align: top;\n",
       "    }\n",
       "\n",
       "    .dataframe thead th {\n",
       "        text-align: right;\n",
       "    }\n",
       "</style>\n",
       "<table border=\"1\" class=\"dataframe\">\n",
       "  <thead>\n",
       "    <tr style=\"text-align: right;\">\n",
       "      <th></th>\n",
       "      <th>tweets</th>\n",
       "      <th>cluster_2</th>\n",
       "      <th>cluster_3</th>\n",
       "      <th>cluster_4</th>\n",
       "      <th>cluster_5</th>\n",
       "      <th>cluster_6</th>\n",
       "      <th>cluster_7</th>\n",
       "      <th>cluster_8</th>\n",
       "      <th>cluster_9</th>\n",
       "      <th>cluster_10</th>\n",
       "      <th>cluster_11</th>\n",
       "      <th>cluster_12</th>\n",
       "      <th>cluster_13</th>\n",
       "    </tr>\n",
       "  </thead>\n",
       "  <tbody>\n",
       "    <tr>\n",
       "      <th>0</th>\n",
       "      <td>#TelanganaSamethalu #TeluguSamethalu Introduct...</td>\n",
       "      <td>0</td>\n",
       "      <td>0</td>\n",
       "      <td>2</td>\n",
       "      <td>2</td>\n",
       "      <td>1</td>\n",
       "      <td>5</td>\n",
       "      <td>7</td>\n",
       "      <td>6</td>\n",
       "      <td>6</td>\n",
       "      <td>8</td>\n",
       "      <td>9</td>\n",
       "      <td>11</td>\n",
       "    </tr>\n",
       "    <tr>\n",
       "      <th>1</th>\n",
       "      <td>#TelanganaSamethalu #TeluguSamethalu ఉసురు ఉంట...</td>\n",
       "      <td>0</td>\n",
       "      <td>0</td>\n",
       "      <td>2</td>\n",
       "      <td>2</td>\n",
       "      <td>1</td>\n",
       "      <td>5</td>\n",
       "      <td>1</td>\n",
       "      <td>6</td>\n",
       "      <td>7</td>\n",
       "      <td>5</td>\n",
       "      <td>11</td>\n",
       "      <td>12</td>\n",
       "    </tr>\n",
       "    <tr>\n",
       "      <th>2</th>\n",
       "      <td>Dekhiye Meera aur Vivaan in Series Naya, First...</td>\n",
       "      <td>0</td>\n",
       "      <td>0</td>\n",
       "      <td>2</td>\n",
       "      <td>2</td>\n",
       "      <td>1</td>\n",
       "      <td>5</td>\n",
       "      <td>1</td>\n",
       "      <td>4</td>\n",
       "      <td>3</td>\n",
       "      <td>4</td>\n",
       "      <td>3</td>\n",
       "      <td>4</td>\n",
       "    </tr>\n",
       "    <tr>\n",
       "      <th>3</th>\n",
       "      <td>Dekhiye Meera aur Vivaan in Series Naya, First...</td>\n",
       "      <td>0</td>\n",
       "      <td>0</td>\n",
       "      <td>2</td>\n",
       "      <td>2</td>\n",
       "      <td>1</td>\n",
       "      <td>5</td>\n",
       "      <td>1</td>\n",
       "      <td>4</td>\n",
       "      <td>3</td>\n",
       "      <td>4</td>\n",
       "      <td>3</td>\n",
       "      <td>4</td>\n",
       "    </tr>\n",
       "    <tr>\n",
       "      <th>4</th>\n",
       "      <td>I refuse to allow myself to be dictated to by ...</td>\n",
       "      <td>0</td>\n",
       "      <td>2</td>\n",
       "      <td>0</td>\n",
       "      <td>1</td>\n",
       "      <td>5</td>\n",
       "      <td>4</td>\n",
       "      <td>0</td>\n",
       "      <td>3</td>\n",
       "      <td>9</td>\n",
       "      <td>7</td>\n",
       "      <td>7</td>\n",
       "      <td>5</td>\n",
       "    </tr>\n",
       "  </tbody>\n",
       "</table>\n",
       "</div>"
      ],
      "text/plain": [
       "                                              tweets  cluster_2  cluster_3  \\\n",
       "0  #TelanganaSamethalu #TeluguSamethalu Introduct...          0          0   \n",
       "1  #TelanganaSamethalu #TeluguSamethalu ఉసురు ఉంట...          0          0   \n",
       "2  Dekhiye Meera aur Vivaan in Series Naya, First...          0          0   \n",
       "3  Dekhiye Meera aur Vivaan in Series Naya, First...          0          0   \n",
       "4  I refuse to allow myself to be dictated to by ...          0          2   \n",
       "\n",
       "   cluster_4  cluster_5  cluster_6  cluster_7  cluster_8  cluster_9  \\\n",
       "0          2          2          1          5          7          6   \n",
       "1          2          2          1          5          1          6   \n",
       "2          2          2          1          5          1          4   \n",
       "3          2          2          1          5          1          4   \n",
       "4          0          1          5          4          0          3   \n",
       "\n",
       "   cluster_10  cluster_11  cluster_12  cluster_13  \n",
       "0           6           8           9          11  \n",
       "1           7           5          11          12  \n",
       "2           3           4           3           4  \n",
       "3           3           4           3           4  \n",
       "4           9           7           7           5  "
      ]
     },
     "execution_count": 32,
     "metadata": {},
     "output_type": "execute_result"
    }
   ],
   "source": [
    "cluster_tweet.head()"
   ]
  },
  {
   "cell_type": "code",
   "execution_count": 33,
   "metadata": {},
   "outputs": [
    {
     "data": {
      "text/plain": [
       "(6, 100)"
      ]
     },
     "execution_count": 33,
     "metadata": {},
     "output_type": "execute_result"
    }
   ],
   "source": [
    "centers[4].shape"
   ]
  },
  {
   "cell_type": "code",
   "execution_count": 60,
   "metadata": {},
   "outputs": [
    {
     "data": {
      "text/plain": [
       "56"
      ]
     },
     "execution_count": 60,
     "metadata": {},
     "output_type": "execute_result"
    }
   ],
   "source": [
    "def top5comments(centers,nbrs,filename=None):\n",
    "    nn=NearestNeighbors(n_neighbors=nbrs,algorithm='auto')\n",
    "    nn.fit(embeddings)\n",
    "    _,nearest=nn.kneighbors(centers)\n",
    "    cluster=centers.shape[0]\n",
    "    df=cluster_tweet[['tweets','cluster_{}'.format(int(cluster))]]\n",
    "    df=df.iloc[nearest.ravel(),:]\n",
    "    if filename is not None:\n",
    "        df.to_csv(\"{}.csv\".format(filename),index=False,encoding='utf-8')\n",
    "    return df,nearest\n",
    "gc.collect()"
   ]
  },
  {
   "cell_type": "code",
   "execution_count": 61,
   "metadata": {},
   "outputs": [],
   "source": [
    "df,nearest=top5comments(centers[4],15,\"cluster_6\")"
   ]
  },
  {
   "cell_type": "code",
   "execution_count": 62,
   "metadata": {},
   "outputs": [
    {
     "data": {
      "text/plain": [
       "Counter({0: 9135, 1: 2365, 2: 5021, 3: 8603, 4: 1264, 5: 7721})"
      ]
     },
     "execution_count": 62,
     "metadata": {},
     "output_type": "execute_result"
    }
   ],
   "source": [
    "Counter(cluster_tweet.cluster_6)"
   ]
  },
  {
   "cell_type": "code",
   "execution_count": null,
   "metadata": {},
   "outputs": [],
   "source": []
  },
  {
   "cell_type": "markdown",
   "metadata": {},
   "source": [
    "### Count vs ratings plot"
   ]
  },
  {
   "cell_type": "code",
   "execution_count": 90,
   "metadata": {},
   "outputs": [],
   "source": [
    "initial_time=twitter.groupby('new_name')['LocalTime'].min().to_frame()"
   ]
  },
  {
   "cell_type": "code",
   "execution_count": 91,
   "metadata": {},
   "outputs": [],
   "source": [
    "initial_time['max_date']=initial_time.LocalTime + dt.timedelta(days=28)"
   ]
  },
  {
   "cell_type": "code",
   "execution_count": 92,
   "metadata": {},
   "outputs": [],
   "source": [
    "initial_time.reset_index(drop=False,inplace=True)"
   ]
  },
  {
   "cell_type": "code",
   "execution_count": 93,
   "metadata": {},
   "outputs": [],
   "source": [
    "shows_max=twitter.merge(initial_time[['new_name','max_date']],on='new_name',how='left')"
   ]
  },
  {
   "cell_type": "code",
   "execution_count": 137,
   "metadata": {},
   "outputs": [
    {
     "data": {
      "text/plain": [
       "new_name\n",
       "andtv-show-perfect-pati-Mentions                              140\n",
       "andtvofficial-show-bitti-businesswali-Mentions                242\n",
       "andtvofficial-show-high-fever-Mentions                        992\n",
       "andtvofficial-show-laal-ishq-Mentions                         107\n",
       "andtvofficial-show-love-me-india-Mentions                   15174\n",
       "andtvofficial-show-mitegi-lakshmanrekha-Mentions              672\n",
       "andtvofficial-show-vikram-betaal-Mentions                    1910\n",
       "colors-tv---show--dance-deewane-Mentions                    42522\n",
       "colors-tv-show-dastan-e-mohabbat-Mentions                    1436\n",
       "colors-tv-show-naagin3 -Mentions                            35756\n",
       "colors-tv-show-rising-star-Mentions                          3730\n",
       "colorstv-show-dev2-Mentions                                  3130\n",
       "colorstv-show-internet-wala-love-Mentions                    2592\n",
       "colorstv-show-kasam-Mentions                                14330\n",
       "colorstv-show-kaun-hai-Mentions                              1145\n",
       "colorstv-show-roop-mard-ka-naya-swaroop-Mentions             1179\n",
       "colorstv-show-savitri-devi-college-and-hospital-Mentions     3131\n",
       "colorstv-show-silsila-badalte-rishton-ka-Mentions           17719\n",
       "sony-tv--show---cid-Mentions                                 1900\n",
       "sony-tv-show-dus-ka-dum -Mentions                           69836\n",
       "sony-tv-show-indian-idol -Mentions                             98\n",
       "sonytv-show-crime-patrol-Mentions                               5\n",
       "sonytv-show-prithvi-vallabh-Mentions                        16391\n",
       "sonytv-show-zindagikecrossroads -Mentions                    6089\n",
       "sonytv-shows-yeh-pyaar-nahi-tho-kya-hai -Mentions             761\n",
       "zee-tv---show---ishq-subhan-allah-Mentions                   7416\n",
       "zee-tv---show---juzzbaaat-Mentions                          38304\n",
       "zee-tv-shows-fear-files-Mentions                              857\n",
       "zeetv---show---kaleerein -Mentions                          75377\n",
       "zeetv-show-aap-ke-aa-jane-se-Mentions                       24928\n",
       "zeetv-show-did-lil-masters-Mentions                          2774\n",
       "zeetv-show-ye-teri-galiyan-Mentions                           200\n",
       "zeetv-shows-india-best-dramebaaz-Mentions                    8638\n",
       "zeetv-shows-maggie-kitchen-journeys-Mentions                   15\n",
       "zeetv-shows-sa-re-ga-ma-pa-Mentions                          5966\n",
       "zeetv-shows-tujhse-hai-rabta -Mentions                         10\n",
       "Name: Unique ID, dtype: int64"
      ]
     },
     "execution_count": 137,
     "metadata": {},
     "output_type": "execute_result"
    }
   ],
   "source": [
    "shows_max[shows_max.LocalTime<=shows_max.max_date].groupby('new_name')['Unique ID'].nunique()"
   ]
  },
  {
   "cell_type": "code",
   "execution_count": 98,
   "metadata": {},
   "outputs": [],
   "source": [
    "weeks4=shows_max[shows_max.LocalTime<=shows_max.max_date]\n",
    "weeks4=weeks4[weeks4.original_tweet]"
   ]
  },
  {
   "cell_type": "code",
   "execution_count": 99,
   "metadata": {},
   "outputs": [],
   "source": [
    "showcnt=weeks4.groupby('new_name')['Content'].nunique().to_frame()"
   ]
  },
  {
   "cell_type": "code",
   "execution_count": 96,
   "metadata": {},
   "outputs": [
    {
     "data": {
      "text/html": [
       "<div>\n",
       "<style scoped>\n",
       "    .dataframe tbody tr th:only-of-type {\n",
       "        vertical-align: middle;\n",
       "    }\n",
       "\n",
       "    .dataframe tbody tr th {\n",
       "        vertical-align: top;\n",
       "    }\n",
       "\n",
       "    .dataframe thead th {\n",
       "        text-align: right;\n",
       "    }\n",
       "</style>\n",
       "<table border=\"1\" class=\"dataframe\">\n",
       "  <thead>\n",
       "    <tr style=\"text-align: right;\">\n",
       "      <th></th>\n",
       "      <th>new_name</th>\n",
       "      <th>LocalTime</th>\n",
       "      <th>max_date</th>\n",
       "    </tr>\n",
       "  </thead>\n",
       "  <tbody>\n",
       "    <tr>\n",
       "      <th>0</th>\n",
       "      <td>andtv-show-perfect-pati-Mentions</td>\n",
       "      <td>2018-08-25 03:29:36</td>\n",
       "      <td>2018-09-22 03:29:36</td>\n",
       "    </tr>\n",
       "    <tr>\n",
       "      <th>1</th>\n",
       "      <td>andtvofficial-show-bitti-businesswali-Mentions</td>\n",
       "      <td>2018-05-06 09:57:34</td>\n",
       "      <td>2018-06-03 09:57:34</td>\n",
       "    </tr>\n",
       "    <tr>\n",
       "      <th>2</th>\n",
       "      <td>andtvofficial-show-high-fever-Mentions</td>\n",
       "      <td>2018-03-11 00:23:24</td>\n",
       "      <td>2018-04-08 00:23:24</td>\n",
       "    </tr>\n",
       "    <tr>\n",
       "      <th>3</th>\n",
       "      <td>andtvofficial-show-laal-ishq-Mentions</td>\n",
       "      <td>2018-06-18 02:55:26</td>\n",
       "      <td>2018-07-16 02:55:26</td>\n",
       "    </tr>\n",
       "    <tr>\n",
       "      <th>4</th>\n",
       "      <td>andtvofficial-show-love-me-india-Mentions</td>\n",
       "      <td>2018-09-16 00:10:07</td>\n",
       "      <td>2018-10-14 00:10:07</td>\n",
       "    </tr>\n",
       "  </tbody>\n",
       "</table>\n",
       "</div>"
      ],
      "text/plain": [
       "                                         new_name           LocalTime  \\\n",
       "0                andtv-show-perfect-pati-Mentions 2018-08-25 03:29:36   \n",
       "1  andtvofficial-show-bitti-businesswali-Mentions 2018-05-06 09:57:34   \n",
       "2          andtvofficial-show-high-fever-Mentions 2018-03-11 00:23:24   \n",
       "3           andtvofficial-show-laal-ishq-Mentions 2018-06-18 02:55:26   \n",
       "4       andtvofficial-show-love-me-india-Mentions 2018-09-16 00:10:07   \n",
       "\n",
       "             max_date  \n",
       "0 2018-09-22 03:29:36  \n",
       "1 2018-06-03 09:57:34  \n",
       "2 2018-04-08 00:23:24  \n",
       "3 2018-07-16 02:55:26  \n",
       "4 2018-10-14 00:10:07  "
      ]
     },
     "execution_count": 96,
     "metadata": {},
     "output_type": "execute_result"
    }
   ],
   "source": [
    "initial_time.head()"
   ]
  },
  {
   "cell_type": "code",
   "execution_count": 100,
   "metadata": {},
   "outputs": [
    {
     "data": {
      "text/plain": [
       "new_name\n",
       "andtv-show-perfect-pati-Mentions                           2018-09-21 10:25:03\n",
       "andtvofficial-show-bitti-businesswali-Mentions             2018-06-02 14:11:11\n",
       "andtvofficial-show-high-fever-Mentions                     2018-04-08 00:16:31\n",
       "andtvofficial-show-laal-ishq-Mentions                      2018-07-08 04:10:03\n",
       "andtvofficial-show-love-me-india-Mentions                  2018-10-13 23:51:40\n",
       "andtvofficial-show-mitegi-lakshmanrekha-Mentions           2018-07-20 18:39:06\n",
       "andtvofficial-show-vikram-betaal-Mentions                  2018-11-06 08:06:19\n",
       "colors-tv---show--dance-deewane-Mentions                   2018-06-24 01:16:48\n",
       "colors-tv-show-dastan-e-mohabbat-Mentions                  2018-10-21 00:47:25\n",
       "colors-tv-show-naagin3 -Mentions                           2018-07-14 23:50:44\n",
       "colors-tv-show-rising-star-Mentions                        2018-02-11 00:15:13\n",
       "colorstv-show-dev2-Mentions                                2018-07-14 09:46:04\n",
       "colorstv-show-internet-wala-love-Mentions                  2018-09-16 08:28:41\n",
       "colorstv-show-kasam-Mentions                               2018-04-08 00:05:03\n",
       "colorstv-show-kaun-hai-Mentions                            2018-07-15 13:05:25\n",
       "colorstv-show-roop-mard-ka-naya-swaroop-Mentions           2018-06-16 14:53:08\n",
       "colorstv-show-savitri-devi-college-and-hospital-Mentions   2018-04-08 03:34:24\n",
       "colorstv-show-silsila-badalte-rishton-ka-Mentions          2018-06-24 01:05:57\n",
       "sony-tv--show---cid-Mentions                               2018-01-27 23:55:32\n",
       "sony-tv-show-dus-ka-dum -Mentions                          2018-06-23 23:47:25\n",
       "sony-tv-show-indian-idol -Mentions                         2017-09-23 23:44:27\n",
       "sonytv-show-crime-patrol-Mentions                          2017-09-16 12:34:33\n",
       "sonytv-show-prithvi-vallabh-Mentions                       2018-02-10 23:56:21\n",
       "sonytv-show-zindagikecrossroads -Mentions                  2018-06-23 15:26:43\n",
       "sonytv-shows-yeh-pyaar-nahi-tho-kya-hai -Mentions          2018-06-23 13:53:35\n",
       "zee-tv---show---ishq-subhan-allah-Mentions                 2018-04-01 02:32:13\n",
       "zee-tv---show---juzzbaaat-Mentions                         2018-05-26 23:39:15\n",
       "zee-tv-shows-fear-files-Mentions                           2018-01-27 18:41:49\n",
       "zeetv---show---kaleerein -Mentions                         2018-02-25 04:45:47\n",
       "zeetv-show-aap-ke-aa-jane-se-Mentions                      2018-02-03 20:22:18\n",
       "zeetv-show-did-lil-masters-Mentions                        2018-05-19 19:30:00\n",
       "zeetv-show-ye-teri-galiyan-Mentions                        2018-08-11 12:07:13\n",
       "zeetv-shows-india-best-dramebaaz-Mentions                  2018-07-20 23:30:54\n",
       "zeetv-shows-maggie-kitchen-journeys-Mentions               2018-07-15 13:17:51\n",
       "zeetv-shows-sa-re-ga-ma-pa-Mentions                        2018-10-28 00:52:26\n",
       "zeetv-shows-tujhse-hai-rabta -Mentions                     2018-09-25 00:28:30\n",
       "Name: LocalTime, dtype: datetime64[ns]"
      ]
     },
     "execution_count": 100,
     "metadata": {},
     "output_type": "execute_result"
    }
   ],
   "source": [
    "weeks4.groupby('new_name')['LocalTime'].max()"
   ]
  },
  {
   "cell_type": "code",
   "execution_count": 101,
   "metadata": {},
   "outputs": [
    {
     "data": {
      "text/plain": [
       "((112905, 28), (827641, 26))"
      ]
     },
     "execution_count": 101,
     "metadata": {},
     "output_type": "execute_result"
    }
   ],
   "source": [
    "weeks4.shape,shows.shape"
   ]
  },
  {
   "cell_type": "code",
   "execution_count": 32,
   "metadata": {},
   "outputs": [],
   "source": [
    "ratings=pd.read_csv(\"subset_rating.csv\")"
   ]
  },
  {
   "cell_type": "code",
   "execution_count": 38,
   "metadata": {},
   "outputs": [],
   "source": [
    "ratings.groupby('new_name').max().to_csv('groupedrating.csv')"
   ]
  },
  {
   "cell_type": "code",
   "execution_count": 102,
   "metadata": {},
   "outputs": [],
   "source": [
    "fratings=pd.read_csv(\"first_6_rating.csv\")"
   ]
  },
  {
   "cell_type": "code",
   "execution_count": 103,
   "metadata": {},
   "outputs": [
    {
     "data": {
      "text/html": [
       "<div>\n",
       "<style scoped>\n",
       "    .dataframe tbody tr th:only-of-type {\n",
       "        vertical-align: middle;\n",
       "    }\n",
       "\n",
       "    .dataframe tbody tr th {\n",
       "        vertical-align: top;\n",
       "    }\n",
       "\n",
       "    .dataframe thead th {\n",
       "        text-align: right;\n",
       "    }\n",
       "</style>\n",
       "<table border=\"1\" class=\"dataframe\">\n",
       "  <thead>\n",
       "    <tr style=\"text-align: right;\">\n",
       "      <th></th>\n",
       "      <th>new_name</th>\n",
       "      <th>w1</th>\n",
       "      <th>w2</th>\n",
       "      <th>w3</th>\n",
       "      <th>w4</th>\n",
       "      <th>w5</th>\n",
       "      <th>w6</th>\n",
       "      <th>w7</th>\n",
       "      <th>w8</th>\n",
       "      <th>w9</th>\n",
       "      <th>w10</th>\n",
       "      <th>w11</th>\n",
       "      <th>w12</th>\n",
       "      <th>w13</th>\n",
       "      <th>w14</th>\n",
       "      <th>w15</th>\n",
       "      <th>w16</th>\n",
       "      <th>w17</th>\n",
       "      <th>w18</th>\n",
       "      <th>w19</th>\n",
       "      <th>w20</th>\n",
       "      <th>w21</th>\n",
       "      <th>w22</th>\n",
       "      <th>w23</th>\n",
       "      <th>w24</th>\n",
       "      <th>w25</th>\n",
       "      <th>w26</th>\n",
       "      <th>w27</th>\n",
       "      <th>w28</th>\n",
       "      <th>w29</th>\n",
       "      <th>w30</th>\n",
       "      <th>w31</th>\n",
       "      <th>w32</th>\n",
       "      <th>w33</th>\n",
       "      <th>w34</th>\n",
       "      <th>w35</th>\n",
       "      <th>w36</th>\n",
       "      <th>w37</th>\n",
       "      <th>w38</th>\n",
       "      <th>w39</th>\n",
       "      <th>w40</th>\n",
       "      <th>w41</th>\n",
       "      <th>w42</th>\n",
       "    </tr>\n",
       "  </thead>\n",
       "  <tbody>\n",
       "    <tr>\n",
       "      <th>0</th>\n",
       "      <td>andtv-show-perfect-pati-Mentions</td>\n",
       "      <td>0.29</td>\n",
       "      <td>0.24</td>\n",
       "      <td>0.20</td>\n",
       "      <td>0.26</td>\n",
       "      <td>0.23</td>\n",
       "      <td>0.27</td>\n",
       "      <td>0.24</td>\n",
       "      <td>0.25</td>\n",
       "      <td>0.30</td>\n",
       "      <td>0.22</td>\n",
       "      <td>NaN</td>\n",
       "      <td>NaN</td>\n",
       "      <td>NaN</td>\n",
       "      <td>NaN</td>\n",
       "      <td>NaN</td>\n",
       "      <td>NaN</td>\n",
       "      <td>NaN</td>\n",
       "      <td>NaN</td>\n",
       "      <td>NaN</td>\n",
       "      <td>NaN</td>\n",
       "      <td>NaN</td>\n",
       "      <td>NaN</td>\n",
       "      <td>NaN</td>\n",
       "      <td>NaN</td>\n",
       "      <td>NaN</td>\n",
       "      <td>NaN</td>\n",
       "      <td>NaN</td>\n",
       "      <td>NaN</td>\n",
       "      <td>NaN</td>\n",
       "      <td>NaN</td>\n",
       "      <td>NaN</td>\n",
       "      <td>NaN</td>\n",
       "      <td>NaN</td>\n",
       "      <td>NaN</td>\n",
       "      <td>NaN</td>\n",
       "      <td>NaN</td>\n",
       "      <td>NaN</td>\n",
       "      <td>NaN</td>\n",
       "      <td>NaN</td>\n",
       "      <td>NaN</td>\n",
       "      <td>NaN</td>\n",
       "      <td>NaN</td>\n",
       "    </tr>\n",
       "    <tr>\n",
       "      <th>1</th>\n",
       "      <td>andtvofficial-show-bitti-businesswali-Mentions</td>\n",
       "      <td>0.13</td>\n",
       "      <td>0.10</td>\n",
       "      <td>0.09</td>\n",
       "      <td>0.10</td>\n",
       "      <td>0.11</td>\n",
       "      <td>0.09</td>\n",
       "      <td>0.08</td>\n",
       "      <td>0.09</td>\n",
       "      <td>0.08</td>\n",
       "      <td>0.10</td>\n",
       "      <td>0.11</td>\n",
       "      <td>0.13</td>\n",
       "      <td>0.11</td>\n",
       "      <td>0.10</td>\n",
       "      <td>0.12</td>\n",
       "      <td>0.09</td>\n",
       "      <td>0.12</td>\n",
       "      <td>0.12</td>\n",
       "      <td>NaN</td>\n",
       "      <td>NaN</td>\n",
       "      <td>NaN</td>\n",
       "      <td>NaN</td>\n",
       "      <td>NaN</td>\n",
       "      <td>NaN</td>\n",
       "      <td>NaN</td>\n",
       "      <td>NaN</td>\n",
       "      <td>NaN</td>\n",
       "      <td>NaN</td>\n",
       "      <td>NaN</td>\n",
       "      <td>NaN</td>\n",
       "      <td>NaN</td>\n",
       "      <td>NaN</td>\n",
       "      <td>NaN</td>\n",
       "      <td>NaN</td>\n",
       "      <td>NaN</td>\n",
       "      <td>NaN</td>\n",
       "      <td>NaN</td>\n",
       "      <td>NaN</td>\n",
       "      <td>NaN</td>\n",
       "      <td>NaN</td>\n",
       "      <td>NaN</td>\n",
       "      <td>NaN</td>\n",
       "    </tr>\n",
       "    <tr>\n",
       "      <th>2</th>\n",
       "      <td>andtvofficial-show-high-fever-Mentions</td>\n",
       "      <td>0.57</td>\n",
       "      <td>0.29</td>\n",
       "      <td>0.46</td>\n",
       "      <td>0.34</td>\n",
       "      <td>0.32</td>\n",
       "      <td>0.34</td>\n",
       "      <td>0.32</td>\n",
       "      <td>0.34</td>\n",
       "      <td>0.28</td>\n",
       "      <td>0.40</td>\n",
       "      <td>0.24</td>\n",
       "      <td>0.20</td>\n",
       "      <td>0.22</td>\n",
       "      <td>0.21</td>\n",
       "      <td>0.37</td>\n",
       "      <td>0.24</td>\n",
       "      <td>0.22</td>\n",
       "      <td>0.27</td>\n",
       "      <td>0.27</td>\n",
       "      <td>0.31</td>\n",
       "      <td>NaN</td>\n",
       "      <td>NaN</td>\n",
       "      <td>NaN</td>\n",
       "      <td>NaN</td>\n",
       "      <td>NaN</td>\n",
       "      <td>NaN</td>\n",
       "      <td>NaN</td>\n",
       "      <td>NaN</td>\n",
       "      <td>NaN</td>\n",
       "      <td>NaN</td>\n",
       "      <td>NaN</td>\n",
       "      <td>NaN</td>\n",
       "      <td>NaN</td>\n",
       "      <td>NaN</td>\n",
       "      <td>NaN</td>\n",
       "      <td>NaN</td>\n",
       "      <td>NaN</td>\n",
       "      <td>NaN</td>\n",
       "      <td>NaN</td>\n",
       "      <td>NaN</td>\n",
       "      <td>NaN</td>\n",
       "      <td>NaN</td>\n",
       "    </tr>\n",
       "    <tr>\n",
       "      <th>3</th>\n",
       "      <td>andtvofficial-show-laal-ishq-Mentions</td>\n",
       "      <td>0.31</td>\n",
       "      <td>0.23</td>\n",
       "      <td>0.18</td>\n",
       "      <td>0.20</td>\n",
       "      <td>0.22</td>\n",
       "      <td>0.21</td>\n",
       "      <td>0.28</td>\n",
       "      <td>0.32</td>\n",
       "      <td>0.23</td>\n",
       "      <td>0.21</td>\n",
       "      <td>0.25</td>\n",
       "      <td>0.26</td>\n",
       "      <td>0.23</td>\n",
       "      <td>0.25</td>\n",
       "      <td>0.21</td>\n",
       "      <td>NaN</td>\n",
       "      <td>NaN</td>\n",
       "      <td>NaN</td>\n",
       "      <td>NaN</td>\n",
       "      <td>NaN</td>\n",
       "      <td>NaN</td>\n",
       "      <td>NaN</td>\n",
       "      <td>NaN</td>\n",
       "      <td>NaN</td>\n",
       "      <td>NaN</td>\n",
       "      <td>NaN</td>\n",
       "      <td>NaN</td>\n",
       "      <td>NaN</td>\n",
       "      <td>NaN</td>\n",
       "      <td>NaN</td>\n",
       "      <td>NaN</td>\n",
       "      <td>NaN</td>\n",
       "      <td>NaN</td>\n",
       "      <td>NaN</td>\n",
       "      <td>NaN</td>\n",
       "      <td>NaN</td>\n",
       "      <td>NaN</td>\n",
       "      <td>NaN</td>\n",
       "      <td>NaN</td>\n",
       "      <td>NaN</td>\n",
       "      <td>NaN</td>\n",
       "      <td>NaN</td>\n",
       "    </tr>\n",
       "    <tr>\n",
       "      <th>4</th>\n",
       "      <td>andtvofficial-show-love-me-india-Mentions</td>\n",
       "      <td>0.67</td>\n",
       "      <td>0.50</td>\n",
       "      <td>0.47</td>\n",
       "      <td>0.52</td>\n",
       "      <td>0.49</td>\n",
       "      <td>0.41</td>\n",
       "      <td>0.35</td>\n",
       "      <td>NaN</td>\n",
       "      <td>NaN</td>\n",
       "      <td>NaN</td>\n",
       "      <td>NaN</td>\n",
       "      <td>NaN</td>\n",
       "      <td>NaN</td>\n",
       "      <td>NaN</td>\n",
       "      <td>NaN</td>\n",
       "      <td>NaN</td>\n",
       "      <td>NaN</td>\n",
       "      <td>NaN</td>\n",
       "      <td>NaN</td>\n",
       "      <td>NaN</td>\n",
       "      <td>NaN</td>\n",
       "      <td>NaN</td>\n",
       "      <td>NaN</td>\n",
       "      <td>NaN</td>\n",
       "      <td>NaN</td>\n",
       "      <td>NaN</td>\n",
       "      <td>NaN</td>\n",
       "      <td>NaN</td>\n",
       "      <td>NaN</td>\n",
       "      <td>NaN</td>\n",
       "      <td>NaN</td>\n",
       "      <td>NaN</td>\n",
       "      <td>NaN</td>\n",
       "      <td>NaN</td>\n",
       "      <td>NaN</td>\n",
       "      <td>NaN</td>\n",
       "      <td>NaN</td>\n",
       "      <td>NaN</td>\n",
       "      <td>NaN</td>\n",
       "      <td>NaN</td>\n",
       "      <td>NaN</td>\n",
       "      <td>NaN</td>\n",
       "    </tr>\n",
       "  </tbody>\n",
       "</table>\n",
       "</div>"
      ],
      "text/plain": [
       "                                         new_name    w1    w2    w3    w4  \\\n",
       "0                andtv-show-perfect-pati-Mentions  0.29  0.24  0.20  0.26   \n",
       "1  andtvofficial-show-bitti-businesswali-Mentions  0.13  0.10  0.09  0.10   \n",
       "2          andtvofficial-show-high-fever-Mentions  0.57  0.29  0.46  0.34   \n",
       "3           andtvofficial-show-laal-ishq-Mentions  0.31  0.23  0.18  0.20   \n",
       "4       andtvofficial-show-love-me-india-Mentions  0.67  0.50  0.47  0.52   \n",
       "\n",
       "     w5    w6    w7    w8    w9   w10   w11   w12   w13   w14   w15   w16  \\\n",
       "0  0.23  0.27  0.24  0.25  0.30  0.22   NaN   NaN   NaN   NaN   NaN   NaN   \n",
       "1  0.11  0.09  0.08  0.09  0.08  0.10  0.11  0.13  0.11  0.10  0.12  0.09   \n",
       "2  0.32  0.34  0.32  0.34  0.28  0.40  0.24  0.20  0.22  0.21  0.37  0.24   \n",
       "3  0.22  0.21  0.28  0.32  0.23  0.21  0.25  0.26  0.23  0.25  0.21   NaN   \n",
       "4  0.49  0.41  0.35   NaN   NaN   NaN   NaN   NaN   NaN   NaN   NaN   NaN   \n",
       "\n",
       "    w17   w18   w19   w20  w21  w22  w23  w24  w25  w26  w27  w28  w29  w30  \\\n",
       "0   NaN   NaN   NaN   NaN  NaN  NaN  NaN  NaN  NaN  NaN  NaN  NaN  NaN  NaN   \n",
       "1  0.12  0.12   NaN   NaN  NaN  NaN  NaN  NaN  NaN  NaN  NaN  NaN  NaN  NaN   \n",
       "2  0.22  0.27  0.27  0.31  NaN  NaN  NaN  NaN  NaN  NaN  NaN  NaN  NaN  NaN   \n",
       "3   NaN   NaN   NaN   NaN  NaN  NaN  NaN  NaN  NaN  NaN  NaN  NaN  NaN  NaN   \n",
       "4   NaN   NaN   NaN   NaN  NaN  NaN  NaN  NaN  NaN  NaN  NaN  NaN  NaN  NaN   \n",
       "\n",
       "   w31  w32  w33  w34  w35  w36  w37  w38  w39  w40  w41  w42  \n",
       "0  NaN  NaN  NaN  NaN  NaN  NaN  NaN  NaN  NaN  NaN  NaN  NaN  \n",
       "1  NaN  NaN  NaN  NaN  NaN  NaN  NaN  NaN  NaN  NaN  NaN  NaN  \n",
       "2  NaN  NaN  NaN  NaN  NaN  NaN  NaN  NaN  NaN  NaN  NaN  NaN  \n",
       "3  NaN  NaN  NaN  NaN  NaN  NaN  NaN  NaN  NaN  NaN  NaN  NaN  \n",
       "4  NaN  NaN  NaN  NaN  NaN  NaN  NaN  NaN  NaN  NaN  NaN  NaN  "
      ]
     },
     "execution_count": 103,
     "metadata": {},
     "output_type": "execute_result"
    }
   ],
   "source": [
    "fratings.head()"
   ]
  },
  {
   "cell_type": "code",
   "execution_count": 104,
   "metadata": {},
   "outputs": [],
   "source": [
    "first4=fratings.set_index('new_name')[['w1','w2','w3','w4']]"
   ]
  },
  {
   "cell_type": "code",
   "execution_count": 105,
   "metadata": {},
   "outputs": [
    {
     "data": {
      "text/html": [
       "<div>\n",
       "<style scoped>\n",
       "    .dataframe tbody tr th:only-of-type {\n",
       "        vertical-align: middle;\n",
       "    }\n",
       "\n",
       "    .dataframe tbody tr th {\n",
       "        vertical-align: top;\n",
       "    }\n",
       "\n",
       "    .dataframe thead th {\n",
       "        text-align: right;\n",
       "    }\n",
       "</style>\n",
       "<table border=\"1\" class=\"dataframe\">\n",
       "  <thead>\n",
       "    <tr style=\"text-align: right;\">\n",
       "      <th></th>\n",
       "      <th>Content</th>\n",
       "    </tr>\n",
       "    <tr>\n",
       "      <th>new_name</th>\n",
       "      <th></th>\n",
       "    </tr>\n",
       "  </thead>\n",
       "  <tbody>\n",
       "    <tr>\n",
       "      <th>andtv-show-perfect-pati-Mentions</th>\n",
       "      <td>74</td>\n",
       "    </tr>\n",
       "    <tr>\n",
       "      <th>andtvofficial-show-bitti-businesswali-Mentions</th>\n",
       "      <td>113</td>\n",
       "    </tr>\n",
       "    <tr>\n",
       "      <th>andtvofficial-show-high-fever-Mentions</th>\n",
       "      <td>194</td>\n",
       "    </tr>\n",
       "    <tr>\n",
       "      <th>andtvofficial-show-laal-ishq-Mentions</th>\n",
       "      <td>8</td>\n",
       "    </tr>\n",
       "    <tr>\n",
       "      <th>andtvofficial-show-love-me-india-Mentions</th>\n",
       "      <td>3029</td>\n",
       "    </tr>\n",
       "  </tbody>\n",
       "</table>\n",
       "</div>"
      ],
      "text/plain": [
       "                                                Content\n",
       "new_name                                               \n",
       "andtv-show-perfect-pati-Mentions                     74\n",
       "andtvofficial-show-bitti-businesswali-Mentions      113\n",
       "andtvofficial-show-high-fever-Mentions              194\n",
       "andtvofficial-show-laal-ishq-Mentions                 8\n",
       "andtvofficial-show-love-me-india-Mentions          3029"
      ]
     },
     "execution_count": 105,
     "metadata": {},
     "output_type": "execute_result"
    }
   ],
   "source": [
    "showcnt.head()"
   ]
  },
  {
   "cell_type": "code",
   "execution_count": 106,
   "metadata": {},
   "outputs": [],
   "source": [
    "avg4ratings=first4.mean(axis='columns')"
   ]
  },
  {
   "cell_type": "code",
   "execution_count": 107,
   "metadata": {},
   "outputs": [],
   "source": [
    "showcnt_mrgd=showcnt.merge(avg4ratings.to_frame(),how='left',left_index=True,right_index=True)"
   ]
  },
  {
   "cell_type": "code",
   "execution_count": 108,
   "metadata": {},
   "outputs": [],
   "source": [
    "showcnt_mrgd.columns=['count','rating']"
   ]
  },
  {
   "cell_type": "code",
   "execution_count": 109,
   "metadata": {},
   "outputs": [],
   "source": [
    "showcnt_subset=showcnt_mrgd[showcnt_mrgd.index.str.startswith(('zee','and'))]"
   ]
  },
  {
   "cell_type": "code",
   "execution_count": 114,
   "metadata": {},
   "outputs": [
    {
     "data": {
      "text/html": [
       "<div>\n",
       "<style scoped>\n",
       "    .dataframe tbody tr th:only-of-type {\n",
       "        vertical-align: middle;\n",
       "    }\n",
       "\n",
       "    .dataframe tbody tr th {\n",
       "        vertical-align: top;\n",
       "    }\n",
       "\n",
       "    .dataframe thead th {\n",
       "        text-align: right;\n",
       "    }\n",
       "</style>\n",
       "<table border=\"1\" class=\"dataframe\">\n",
       "  <thead>\n",
       "    <tr style=\"text-align: right;\">\n",
       "      <th></th>\n",
       "      <th>count</th>\n",
       "      <th>rating</th>\n",
       "    </tr>\n",
       "    <tr>\n",
       "      <th>new_name</th>\n",
       "      <th></th>\n",
       "      <th></th>\n",
       "    </tr>\n",
       "  </thead>\n",
       "  <tbody>\n",
       "    <tr>\n",
       "      <th>andtv-show-perfect-pati-Mentions</th>\n",
       "      <td>74</td>\n",
       "      <td>0.2475</td>\n",
       "    </tr>\n",
       "    <tr>\n",
       "      <th>andtvofficial-show-bitti-businesswali-Mentions</th>\n",
       "      <td>113</td>\n",
       "      <td>0.1050</td>\n",
       "    </tr>\n",
       "    <tr>\n",
       "      <th>andtvofficial-show-high-fever-Mentions</th>\n",
       "      <td>194</td>\n",
       "      <td>0.4150</td>\n",
       "    </tr>\n",
       "    <tr>\n",
       "      <th>andtvofficial-show-laal-ishq-Mentions</th>\n",
       "      <td>8</td>\n",
       "      <td>0.2300</td>\n",
       "    </tr>\n",
       "    <tr>\n",
       "      <th>andtvofficial-show-love-me-india-Mentions</th>\n",
       "      <td>3029</td>\n",
       "      <td>0.5400</td>\n",
       "    </tr>\n",
       "    <tr>\n",
       "      <th>andtvofficial-show-mitegi-lakshmanrekha-Mentions</th>\n",
       "      <td>154</td>\n",
       "      <td>0.1600</td>\n",
       "    </tr>\n",
       "    <tr>\n",
       "      <th>andtvofficial-show-vikram-betaal-Mentions</th>\n",
       "      <td>374</td>\n",
       "      <td>0.3475</td>\n",
       "    </tr>\n",
       "    <tr>\n",
       "      <th>zee-tv---show---ishq-subhan-allah-Mentions</th>\n",
       "      <td>4610</td>\n",
       "      <td>1.9550</td>\n",
       "    </tr>\n",
       "    <tr>\n",
       "      <th>zee-tv---show---juzzbaaat-Mentions</th>\n",
       "      <td>7419</td>\n",
       "      <td>0.2500</td>\n",
       "    </tr>\n",
       "    <tr>\n",
       "      <th>zee-tv-shows-fear-files-Mentions</th>\n",
       "      <td>296</td>\n",
       "      <td>0.7100</td>\n",
       "    </tr>\n",
       "    <tr>\n",
       "      <th>zeetv---show---kaleerein -Mentions</th>\n",
       "      <td>33053</td>\n",
       "      <td>0.8950</td>\n",
       "    </tr>\n",
       "    <tr>\n",
       "      <th>zeetv-show-aap-ke-aa-jane-se-Mentions</th>\n",
       "      <td>14026</td>\n",
       "      <td>0.9900</td>\n",
       "    </tr>\n",
       "    <tr>\n",
       "      <th>zeetv-show-did-lil-masters-Mentions</th>\n",
       "      <td>868</td>\n",
       "      <td>1.3050</td>\n",
       "    </tr>\n",
       "    <tr>\n",
       "      <th>zeetv-show-ye-teri-galiyan-Mentions</th>\n",
       "      <td>110</td>\n",
       "      <td>0.2550</td>\n",
       "    </tr>\n",
       "    <tr>\n",
       "      <th>zeetv-shows-india-best-dramebaaz-Mentions</th>\n",
       "      <td>3758</td>\n",
       "      <td>1.2525</td>\n",
       "    </tr>\n",
       "    <tr>\n",
       "      <th>zeetv-shows-maggie-kitchen-journeys-Mentions</th>\n",
       "      <td>15</td>\n",
       "      <td>0.2000</td>\n",
       "    </tr>\n",
       "    <tr>\n",
       "      <th>zeetv-shows-sa-re-ga-ma-pa-Mentions</th>\n",
       "      <td>2181</td>\n",
       "      <td>1.0025</td>\n",
       "    </tr>\n",
       "    <tr>\n",
       "      <th>zeetv-shows-tujhse-hai-rabta -Mentions</th>\n",
       "      <td>6</td>\n",
       "      <td>1.4500</td>\n",
       "    </tr>\n",
       "  </tbody>\n",
       "</table>\n",
       "</div>"
      ],
      "text/plain": [
       "                                                  count  rating\n",
       "new_name                                                       \n",
       "andtv-show-perfect-pati-Mentions                     74  0.2475\n",
       "andtvofficial-show-bitti-businesswali-Mentions      113  0.1050\n",
       "andtvofficial-show-high-fever-Mentions              194  0.4150\n",
       "andtvofficial-show-laal-ishq-Mentions                 8  0.2300\n",
       "andtvofficial-show-love-me-india-Mentions          3029  0.5400\n",
       "andtvofficial-show-mitegi-lakshmanrekha-Mentions    154  0.1600\n",
       "andtvofficial-show-vikram-betaal-Mentions           374  0.3475\n",
       "zee-tv---show---ishq-subhan-allah-Mentions         4610  1.9550\n",
       "zee-tv---show---juzzbaaat-Mentions                 7419  0.2500\n",
       "zee-tv-shows-fear-files-Mentions                    296  0.7100\n",
       "zeetv---show---kaleerein -Mentions                33053  0.8950\n",
       "zeetv-show-aap-ke-aa-jane-se-Mentions             14026  0.9900\n",
       "zeetv-show-did-lil-masters-Mentions                 868  1.3050\n",
       "zeetv-show-ye-teri-galiyan-Mentions                 110  0.2550\n",
       "zeetv-shows-india-best-dramebaaz-Mentions          3758  1.2525\n",
       "zeetv-shows-maggie-kitchen-journeys-Mentions         15  0.2000\n",
       "zeetv-shows-sa-re-ga-ma-pa-Mentions                2181  1.0025\n",
       "zeetv-shows-tujhse-hai-rabta -Mentions                6  1.4500"
      ]
     },
     "execution_count": 114,
     "metadata": {},
     "output_type": "execute_result"
    }
   ],
   "source": [
    "showcnt_subset.head(20)"
   ]
  },
  {
   "cell_type": "code",
   "execution_count": 122,
   "metadata": {},
   "outputs": [
    {
     "data": {
      "text/plain": [
       "<matplotlib.axes._subplots.AxesSubplot at 0x23900776b70>"
      ]
     },
     "execution_count": 122,
     "metadata": {},
     "output_type": "execute_result"
    },
    {
     "data": {
      "image/png": "[encoded data removed]",
      "text/plain": [
       "<matplotlib.figure.Figure at 0x23900778358>"
      ]
     },
     "metadata": {},
     "output_type": "display_data"
    }
   ],
   "source": [
    "fig,ax=plt.subplots(figsize=(10,10))\n",
    "sns.scatterplot(y='count',x='rating',data=showcnt_subset,ax=ax)\n",
    "fig.savefig('')"
   ]
  },
  {
   "cell_type": "code",
   "execution_count": 135,
   "metadata": {},
   "outputs": [
    {
     "data": {
      "text/html": [
       "<div>\n",
       "<style scoped>\n",
       "    .dataframe tbody tr th:only-of-type {\n",
       "        vertical-align: middle;\n",
       "    }\n",
       "\n",
       "    .dataframe tbody tr th {\n",
       "        vertical-align: top;\n",
       "    }\n",
       "\n",
       "    .dataframe thead th {\n",
       "        text-align: right;\n",
       "    }\n",
       "</style>\n",
       "<table border=\"1\" class=\"dataframe\">\n",
       "  <thead>\n",
       "    <tr style=\"text-align: right;\">\n",
       "      <th></th>\n",
       "      <th>count</th>\n",
       "      <th>rating</th>\n",
       "    </tr>\n",
       "    <tr>\n",
       "      <th>new_name</th>\n",
       "      <th></th>\n",
       "      <th></th>\n",
       "    </tr>\n",
       "  </thead>\n",
       "  <tbody>\n",
       "    <tr>\n",
       "      <th>andtv-show-perfect-pati-Mentions</th>\n",
       "      <td>74</td>\n",
       "      <td>0.2475</td>\n",
       "    </tr>\n",
       "    <tr>\n",
       "      <th>andtvofficial-show-bitti-businesswali-Mentions</th>\n",
       "      <td>113</td>\n",
       "      <td>0.1050</td>\n",
       "    </tr>\n",
       "    <tr>\n",
       "      <th>andtvofficial-show-high-fever-Mentions</th>\n",
       "      <td>194</td>\n",
       "      <td>0.4150</td>\n",
       "    </tr>\n",
       "    <tr>\n",
       "      <th>andtvofficial-show-laal-ishq-Mentions</th>\n",
       "      <td>8</td>\n",
       "      <td>0.2300</td>\n",
       "    </tr>\n",
       "    <tr>\n",
       "      <th>andtvofficial-show-love-me-india-Mentions</th>\n",
       "      <td>3029</td>\n",
       "      <td>0.5400</td>\n",
       "    </tr>\n",
       "    <tr>\n",
       "      <th>andtvofficial-show-mitegi-lakshmanrekha-Mentions</th>\n",
       "      <td>154</td>\n",
       "      <td>0.1600</td>\n",
       "    </tr>\n",
       "    <tr>\n",
       "      <th>andtvofficial-show-vikram-betaal-Mentions</th>\n",
       "      <td>374</td>\n",
       "      <td>0.3475</td>\n",
       "    </tr>\n",
       "    <tr>\n",
       "      <th>zee-tv---show---ishq-subhan-allah-Mentions</th>\n",
       "      <td>4610</td>\n",
       "      <td>1.9550</td>\n",
       "    </tr>\n",
       "    <tr>\n",
       "      <th>zee-tv-shows-fear-files-Mentions</th>\n",
       "      <td>296</td>\n",
       "      <td>0.7100</td>\n",
       "    </tr>\n",
       "    <tr>\n",
       "      <th>zeetv-show-did-lil-masters-Mentions</th>\n",
       "      <td>868</td>\n",
       "      <td>1.3050</td>\n",
       "    </tr>\n",
       "    <tr>\n",
       "      <th>zeetv-show-ye-teri-galiyan-Mentions</th>\n",
       "      <td>110</td>\n",
       "      <td>0.2550</td>\n",
       "    </tr>\n",
       "    <tr>\n",
       "      <th>zeetv-shows-india-best-dramebaaz-Mentions</th>\n",
       "      <td>3758</td>\n",
       "      <td>1.2525</td>\n",
       "    </tr>\n",
       "    <tr>\n",
       "      <th>zeetv-shows-maggie-kitchen-journeys-Mentions</th>\n",
       "      <td>15</td>\n",
       "      <td>0.2000</td>\n",
       "    </tr>\n",
       "    <tr>\n",
       "      <th>zeetv-shows-sa-re-ga-ma-pa-Mentions</th>\n",
       "      <td>2181</td>\n",
       "      <td>1.0025</td>\n",
       "    </tr>\n",
       "    <tr>\n",
       "      <th>zeetv-shows-tujhse-hai-rabta -Mentions</th>\n",
       "      <td>6</td>\n",
       "      <td>1.4500</td>\n",
       "    </tr>\n",
       "  </tbody>\n",
       "</table>\n",
       "</div>"
      ],
      "text/plain": [
       "                                                  count  rating\n",
       "new_name                                                       \n",
       "andtv-show-perfect-pati-Mentions                     74  0.2475\n",
       "andtvofficial-show-bitti-businesswali-Mentions      113  0.1050\n",
       "andtvofficial-show-high-fever-Mentions              194  0.4150\n",
       "andtvofficial-show-laal-ishq-Mentions                 8  0.2300\n",
       "andtvofficial-show-love-me-india-Mentions          3029  0.5400\n",
       "andtvofficial-show-mitegi-lakshmanrekha-Mentions    154  0.1600\n",
       "andtvofficial-show-vikram-betaal-Mentions           374  0.3475\n",
       "zee-tv---show---ishq-subhan-allah-Mentions         4610  1.9550\n",
       "zee-tv-shows-fear-files-Mentions                    296  0.7100\n",
       "zeetv-show-did-lil-masters-Mentions                 868  1.3050\n",
       "zeetv-show-ye-teri-galiyan-Mentions                 110  0.2550\n",
       "zeetv-shows-india-best-dramebaaz-Mentions          3758  1.2525\n",
       "zeetv-shows-maggie-kitchen-journeys-Mentions         15  0.2000\n",
       "zeetv-shows-sa-re-ga-ma-pa-Mentions                2181  1.0025\n",
       "zeetv-shows-tujhse-hai-rabta -Mentions                6  1.4500"
      ]
     },
     "execution_count": 135,
     "metadata": {},
     "output_type": "execute_result"
    }
   ],
   "source": [
    "showcnt_subset.loc[~showcnt_subset.index.isin(['zeetv---show---kaleerein -Mentions','zeetv-show-aap-ke-aa-jane-se-Mentions','zee-tv---show---juzzbaaat-Mentions']),:]"
   ]
  },
  {
   "cell_type": "code",
   "execution_count": 132,
   "metadata": {},
   "outputs": [
    {
     "data": {
      "text/plain": [
       "Index(['andtv-show-perfect-pati-Mentions',\n",
       "       'andtvofficial-show-bitti-businesswali-Mentions',\n",
       "       'andtvofficial-show-high-fever-Mentions',\n",
       "       'andtvofficial-show-laal-ishq-Mentions',\n",
       "       'andtvofficial-show-love-me-india-Mentions',\n",
       "       'andtvofficial-show-mitegi-lakshmanrekha-Mentions',\n",
       "       'andtvofficial-show-vikram-betaal-Mentions',\n",
       "       'zee-tv---show---ishq-subhan-allah-Mentions',\n",
       "       'zee-tv---show---juzzbaaat-Mentions',\n",
       "       'zee-tv-shows-fear-files-Mentions',\n",
       "       'zeetv---show---kaleerein -Mentions',\n",
       "       'zeetv-show-aap-ke-aa-jane-se-Mentions',\n",
       "       'zeetv-show-did-lil-masters-Mentions',\n",
       "       'zeetv-show-ye-teri-galiyan-Mentions',\n",
       "       'zeetv-shows-india-best-dramebaaz-Mentions',\n",
       "       'zeetv-shows-maggie-kitchen-journeys-Mentions',\n",
       "       'zeetv-shows-sa-re-ga-ma-pa-Mentions',\n",
       "       'zeetv-shows-tujhse-hai-rabta -Mentions'],\n",
       "      dtype='object', name='new_name')"
      ]
     },
     "execution_count": 132,
     "metadata": {},
     "output_type": "execute_result"
    }
   ],
   "source": [
    "showcnt_subset.index"
   ]
  },
  {
   "cell_type": "code",
   "execution_count": 136,
   "metadata": {},
   "outputs": [
    {
     "data": {
      "image/png": "[encoded data removed]",
      "text/plain": [
       "<matplotlib.figure.Figure at 0x239055f5320>"
      ]
     },
     "metadata": {},
     "output_type": "display_data"
    }
   ],
   "source": [
    "sns.set(font_scale=1.2)\n",
    "fig,ax=plt.subplots(figsize=(10,8))\n",
    "sns.regplot(y='count',x='rating',data=showcnt_subset.loc[~showcnt_subset.index.isin(['zeetv---show---kaleerein -Mentions','zeetv-show-aap-ke-aa-jane-se-Mentions','zee-tv---show---juzzbaaat-Mentions']),:],ax=ax)\n",
    "ax.set(xlabel='Barc ratings',ylabel='Count of Unique tweets')\n",
    "fig.savefig(\"reg_excluding_Kalirn_App.png\")"
   ]
  },
  {
   "cell_type": "code",
   "execution_count": null,
   "metadata": {},
   "outputs": [],
   "source": [
    "sns.set(font_scale=1.2)\n",
    "fig,ax=plt.subplots(figsize=(10,8))\n",
    "regplot=sns.regplot(y='count',x='rating',data=showcnt_subset[],ax=ax)\n",
    "ax.set(xlabel='Barc ratings',ylabel='Count of Unique tweets')\n",
    "fig.savefig(\"reg.png\")"
   ]
  }
 ],
 "metadata": {
  "kernelspec": {
   "display_name": "Python 3",
   "language": "python",
   "name": "python3"
  },
  "language_info": {
   "codemirror_mode": {
    "name": "ipython",
    "version": 3
   },
   "file_extension": ".py",
   "mimetype": "text/x-python",
   "name": "python",
   "nbconvert_exporter": "python",
   "pygments_lexer": "ipython3",
   "version": "3.6.4"
  }
 },
 "nbformat": 4,
 "nbformat_minor": 2
}
